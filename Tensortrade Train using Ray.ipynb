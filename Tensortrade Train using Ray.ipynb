{
 "cells": [
  {
   "cell_type": "markdown",
   "metadata": {},
   "source": [
    "# 0. Clone Repo & Install Dependencies"
   ]
  },
  {
   "cell_type": "code",
   "execution_count": 1,
   "metadata": {},
   "outputs": [
    {
     "name": "stdout",
     "output_type": "stream",
     "text": [
      "Working directory: /home/localadmin/tensortrade-train\n"
     ]
    }
   ],
   "source": [
    "import os\n",
    "\n",
    "if os.path.exists('/content'):\n",
    "    from google.colab import drive\n",
    "    drive.mount('/content/drive')\n",
    "\n",
    "    # Change the current working directory\n",
    "    os.chdir('/content/drive/MyDrive/git/tensortrade-train')\n",
    "\n",
    "# Print the current working directory\n",
    "print(\"Working directory: {0}\".format(os.getcwd()))"
   ]
  },
  {
   "cell_type": "markdown",
   "metadata": {},
   "source": [
    "## 0.1 Clone/update repo"
   ]
  },
  {
   "cell_type": "code",
   "execution_count": 2,
   "metadata": {},
   "outputs": [],
   "source": [
    "# if not os.path.isdir(os.getcwd()+'/.git'):\n",
    "#   !git init && git remote add origin https://github.com/dennislwy/tensortrade-train.git && git pull origin master\n",
    "# else:  # repo already exists, update it\n",
    "#   !git pull origin master"
   ]
  },
  {
   "cell_type": "markdown",
   "metadata": {},
   "source": [
    "## 0.2 Install dependencies\n",
    "Check GPU availability"
   ]
  },
  {
   "cell_type": "code",
   "execution_count": 3,
   "metadata": {
    "scrolled": true
   },
   "outputs": [
    {
     "name": "stdout",
     "output_type": "stream",
     "text": [
      "GPU NOT available\n",
      "Select the Runtime > \"Change runtime type\" menu to enable a GPU accelerator, \n",
      "and then re-execute this cell.\n"
     ]
    }
   ],
   "source": [
    "gpu_info = !nvidia-smi\n",
    "gpu_info = '\\n'.join(gpu_info)\n",
    "gpu_available = not (gpu_info.find('failed')>=0 or gpu_info.find('not recognized')>=0 or gpu_info.find('not found')>=0)\n",
    "if gpu_available:\n",
    "  print('GPU available')\n",
    "  print(gpu_info)\n",
    "else:\n",
    "  print('GPU NOT available')\n",
    "  print('Select the Runtime > \"Change runtime type\" menu to enable a GPU accelerator, ')\n",
    "  print('and then re-execute this cell.')"
   ]
  },
  {
   "cell_type": "code",
   "execution_count": 4,
   "metadata": {},
   "outputs": [
    {
     "name": "stderr",
     "output_type": "stream",
     "text": [
      "2021-07-16 11:56:40.728153: W tensorflow/stream_executor/platform/default/dso_loader.cc:64] Could not load dynamic library 'libcudart.so.11.0'; dlerror: libcudart.so.11.0: cannot open shared object file: No such file or directory\n",
      "2021-07-16 11:56:40.728169: I tensorflow/stream_executor/cuda/cudart_stub.cc:29] Ignore above cudart dlerror if you do not have a GPU set up on your machine.\n"
     ]
    },
    {
     "name": "stdout",
     "output_type": "stream",
     "text": [
      "GPU count: 0\n"
     ]
    },
    {
     "name": "stderr",
     "output_type": "stream",
     "text": [
      "2021-07-16 11:56:41.468195: I tensorflow/core/platform/cpu_feature_guard.cc:142] This TensorFlow binary is optimized with oneAPI Deep Neural Network Library (oneDNN) to use the following CPU instructions in performance-critical operations:  AVX2 FMA\n",
      "To enable them in other operations, rebuild TensorFlow with the appropriate compiler flags.\n",
      "2021-07-16 11:56:41.468608: W tensorflow/stream_executor/platform/default/dso_loader.cc:64] Could not load dynamic library 'libcuda.so.1'; dlerror: libcuda.so.1: cannot open shared object file: No such file or directory\n",
      "2021-07-16 11:56:41.468618: W tensorflow/stream_executor/cuda/cuda_driver.cc:326] failed call to cuInit: UNKNOWN ERROR (303)\n",
      "2021-07-16 11:56:41.468629: I tensorflow/stream_executor/cuda/cuda_diagnostics.cc:156] kernel driver does not appear to be running on this host (localadmin-ECA-FX44E4C): /proc/driver/nvidia/version does not exist\n"
     ]
    }
   ],
   "source": [
    "from tensorflow.python.client import device_lib\n",
    "\n",
    "def get_available_gpus():\n",
    "    local_device_protos = device_lib.list_local_devices()\n",
    "    return [x.name for x in local_device_protos if x.device_type == 'GPU']\n",
    "\n",
    "def get_gpu_count():\n",
    "    return len(get_available_gpus())\n",
    "\n",
    "gpu_count = get_gpu_count()\n",
    "print(f'GPU count: {gpu_count}')"
   ]
  },
  {
   "cell_type": "markdown",
   "metadata": {},
   "source": [
    "Install requirements"
   ]
  },
  {
   "cell_type": "code",
   "execution_count": 5,
   "metadata": {},
   "outputs": [],
   "source": [
    "# ipywidgets is required to run Plotly in Jupyter Notebook.\n",
    "# Uncomment and run the following line to install it if required.\n",
    "\n",
    "#!pip install ipywidgets"
   ]
  },
  {
   "cell_type": "code",
   "execution_count": 6,
   "metadata": {},
   "outputs": [],
   "source": [
    "# gpu_available=False\n",
    "# if gpu_available:\n",
    "#   print(\"Installing GPU requirement packages\")\n",
    "#   !pip install -r requirements.ray.txt\n",
    "# else:\n",
    "#   print(\"Installing non-GPU requirement packages\")\n",
    "#   !pip install -r requirements.ray.no-gpu.txt"
   ]
  },
  {
   "cell_type": "markdown",
   "metadata": {},
   "source": [
    "## Imports"
   ]
  },
  {
   "cell_type": "code",
   "execution_count": 7,
   "metadata": {},
   "outputs": [],
   "source": [
    "import ta\n",
    "\n",
    "import pandas as pd\n",
    "import numpy as np\n",
    "from tensortrade.feed.core import Stream, DataFeed, NameSpace\n",
    "from tensortrade.oms.exchanges import Exchange\n",
    "from tensortrade.oms.services.execution.simulated import execute_order\n",
    "from tensortrade.oms.instruments import USD, BTC\n",
    "from tensortrade.oms.wallets import Wallet, Portfolio\n",
    "import tensortrade.env.default as default\n",
    "\n",
    "%matplotlib inline"
   ]
  },
  {
   "cell_type": "markdown",
   "metadata": {},
   "source": [
    "## Load Instruments"
   ]
  },
  {
   "cell_type": "code",
   "execution_count": 8,
   "metadata": {},
   "outputs": [],
   "source": [
    "from tensortrade.oms.instruments import Instrument\n",
    "\n",
    "TTC = Instrument(\"TTC\", 8, \"TensorTrade Coin\")"
   ]
  },
  {
   "cell_type": "markdown",
   "metadata": {},
   "source": [
    "## Data Preparation\n",
    "### Load data"
   ]
  },
  {
   "cell_type": "code",
   "execution_count": 9,
   "metadata": {},
   "outputs": [],
   "source": [
    "training_data_path = 'data/sine-fixed-15m-btc-usdt.csv'\n",
    "testing_data_path = 'data/sine-fixed-15m-btc-usdt.csv'"
   ]
  },
  {
   "cell_type": "code",
   "execution_count": 10,
   "metadata": {},
   "outputs": [],
   "source": [
    "# df = pd.read_csv(training_data_path)\n",
    "# df.columns = ['date', 'open', 'high', 'low', 'close', 'volume']\n",
    "# df['date'] = pd.to_datetime(df['date'])\n",
    "# df.head()"
   ]
  },
  {
   "cell_type": "code",
   "execution_count": 11,
   "metadata": {},
   "outputs": [],
   "source": [
    "amp = 50\n",
    "offset = 100\n",
    "\n",
    "# amp = 50\n",
    "offset = 30000\n",
    "\n",
    "x = np.arange(0, 2 * np.pi, 2 * np.pi / 1001)\n",
    "y = amp * np.sin(3 * x) + offset\n",
    "\n",
    "df = pd.DataFrame()\n",
    "df['close'] = y"
   ]
  },
  {
   "cell_type": "markdown",
   "metadata": {},
   "source": [
    "### Create the dataset features"
   ]
  },
  {
   "cell_type": "code",
   "execution_count": 12,
   "metadata": {},
   "outputs": [],
   "source": [
    "from ta.trend import *\n",
    "from transform import difference, log_and_difference, max_min_normalize, mean_normalize\n",
    "\n",
    "def add_indicators(df, fillna=False):    \n",
    "    df['close_diff'] = difference(df['close'], inplace=False)\n",
    "    df['close_log_diff'] = log_and_difference(df['close'], inplace=False)\n",
    "    df['close_mean'] = mean_normalize(df['close'], inplace=False)\n",
    "    \n",
    "    df['macd_diff'] = macd_diff(df['close'], fillna=fillna)\n",
    "    \n",
    "    df['ema10'] = ema_indicator(df['close'], 10, fillna=fillna)\n",
    "    df['ema25'] = ema_indicator(df['close'], 25, fillna=fillna)\n",
    "    df['ema50'] = ema_indicator(df['close'], 50, fillna=fillna)\n",
    "\n",
    "    df['ema25_50_diff'] = df['ema25']-df['ema50']\n",
    "    df['ema25_50_diff_norm'] = 1-df['ema50']/df['ema25']\n",
    "    df['trend_ema25_50'] = np.where(df['ema25_50_diff']>0, 1, -1)\n",
    "\n",
    "    df['ema10_25_diff'] = df['ema10']-df['ema25']\n",
    "    df['ema10_25_diff_norm'] = 1-df['ema25']/df['ema10']\n",
    "    df['trend_ema10_25'] = np.where(df['ema10_25_diff']>0, 1, -1)\n",
    "\n",
    "    df.dropna(axis=0, inplace=True)\n",
    "\n",
    "    df.reset_index(drop=True, inplace=True)"
   ]
  },
  {
   "cell_type": "code",
   "execution_count": 13,
   "metadata": {},
   "outputs": [],
   "source": [
    "add_indicators(df, fillna=False)"
   ]
  },
  {
   "cell_type": "code",
   "execution_count": 14,
   "metadata": {},
   "outputs": [
    {
     "name": "stdout",
     "output_type": "stream",
     "text": [
      "952\n"
     ]
    }
   ],
   "source": [
    "total_data_steps = len(df)\n",
    "print(total_data_steps)"
   ]
  },
  {
   "cell_type": "code",
   "execution_count": 15,
   "metadata": {
    "scrolled": false
   },
   "outputs": [],
   "source": [
    "# import ta\n",
    "# dataset = ta.add_all_ta_features(df, 'open', 'high', 'low', 'close', 'volume', fillna=True)\n",
    "# dataset.head(3)"
   ]
  },
  {
   "cell_type": "markdown",
   "metadata": {},
   "source": [
    "### Create Chart Price History Data\n",
    "Note: It is recommended to create the chart data *after* creating and cleaning the dataset to ensure one-to-one mapping between the historical prices data and the dataset."
   ]
  },
  {
   "cell_type": "code",
   "execution_count": 16,
   "metadata": {},
   "outputs": [
    {
     "data": {
      "text/html": [
       "<div>\n",
       "<style scoped>\n",
       "    .dataframe tbody tr th:only-of-type {\n",
       "        vertical-align: middle;\n",
       "    }\n",
       "\n",
       "    .dataframe tbody tr th {\n",
       "        vertical-align: top;\n",
       "    }\n",
       "\n",
       "    .dataframe thead th {\n",
       "        text-align: right;\n",
       "    }\n",
       "</style>\n",
       "<table border=\"1\" class=\"dataframe\">\n",
       "  <thead>\n",
       "    <tr style=\"text-align: right;\">\n",
       "      <th></th>\n",
       "      <th>close</th>\n",
       "    </tr>\n",
       "  </thead>\n",
       "  <tbody>\n",
       "    <tr>\n",
       "      <th>0</th>\n",
       "      <td>30039.861889</td>\n",
       "    </tr>\n",
       "    <tr>\n",
       "      <th>1</th>\n",
       "      <td>30040.423161</td>\n",
       "    </tr>\n",
       "    <tr>\n",
       "      <th>2</th>\n",
       "      <td>30040.970099</td>\n",
       "    </tr>\n",
       "  </tbody>\n",
       "</table>\n",
       "</div>"
      ],
      "text/plain": [
       "          close\n",
       "0  30039.861889\n",
       "1  30040.423161\n",
       "2  30040.970099"
      ]
     },
     "metadata": {},
     "output_type": "display_data"
    }
   ],
   "source": [
    "price_history = df[['close']]\n",
    "display(price_history.head(3))"
   ]
  },
  {
   "cell_type": "code",
   "execution_count": 17,
   "metadata": {},
   "outputs": [],
   "source": [
    "# price_history = df[['date', 'open', 'high', 'low', 'close', 'volume']]\n",
    "# display(price_history.head(3))"
   ]
  },
  {
   "cell_type": "code",
   "execution_count": 18,
   "metadata": {
    "scrolled": true
   },
   "outputs": [],
   "source": [
    "# price_history = dataset[['date', 'open', 'high', 'low', 'close', 'volume']] \n",
    "# display(price_history.head(3))\n",
    "\n",
    "# dataset.drop(columns=['date', 'open', 'high', 'low', 'close', 'volume'], inplace=True)"
   ]
  },
  {
   "cell_type": "code",
   "execution_count": 19,
   "metadata": {},
   "outputs": [
    {
     "data": {
      "text/plain": [
       "<AxesSubplot:>"
      ]
     },
     "execution_count": 19,
     "metadata": {},
     "output_type": "execute_result"
    },
    {
     "data": {
      "image/png": "[encoded data removed]",
      "text/plain": [
       "<Figure size 432x288 with 1 Axes>"
      ]
     },
     "metadata": {
      "needs_background": "light"
     },
     "output_type": "display_data"
    }
   ],
   "source": [
    "price_history['close'].plot(grid=True)"
   ]
  },
  {
   "cell_type": "code",
   "execution_count": 20,
   "metadata": {},
   "outputs": [
    {
     "data": {
      "text/plain": [
       "<AxesSubplot:>"
      ]
     },
     "execution_count": 20,
     "metadata": {},
     "output_type": "execute_result"
    },
    {
     "data": {
      "image/png": "[encoded data removed]",
      "text/plain": [
       "<Figure size 432x288 with 2 Axes>"
      ]
     },
     "metadata": {
      "needs_background": "light"
     },
     "output_type": "display_data"
    }
   ],
   "source": [
    "df['close'].plot(grid=True)\n",
    "df['ema10_25_diff'].plot(grid=True, secondary_y=True, legend=True)\n",
    "df['ema25_50_diff'].plot(grid=True, secondary_y=True, legend=True)"
   ]
  },
  {
   "cell_type": "markdown",
   "metadata": {},
   "source": [
    "## Display & Inspect Price History"
   ]
  },
  {
   "cell_type": "code",
   "execution_count": 21,
   "metadata": {},
   "outputs": [],
   "source": [
    "# !pip install mplfinance"
   ]
  },
  {
   "cell_type": "code",
   "execution_count": 22,
   "metadata": {
    "scrolled": true
   },
   "outputs": [],
   "source": [
    "# import mplfinance as mpf\n",
    "# cd = df.copy()  \n",
    "\n",
    "# # total data length in dataset\n",
    "# data_length = len(cd)\n",
    "# print(f\"Total data length: {data_length}\")"
   ]
  },
  {
   "cell_type": "markdown",
   "metadata": {},
   "source": [
    "# Calculate Indicators"
   ]
  },
  {
   "cell_type": "code",
   "execution_count": 23,
   "metadata": {},
   "outputs": [],
   "source": [
    "# cd.set_index('date', inplace=True)\n",
    "# cd"
   ]
  },
  {
   "cell_type": "markdown",
   "metadata": {},
   "source": [
    "# Plot Price History Chart"
   ]
  },
  {
   "cell_type": "code",
   "execution_count": 24,
   "metadata": {},
   "outputs": [],
   "source": [
    "# #overlays = df[['ema25', 'ema50']]\n",
    "# apds = [ \n",
    "#          #mpf.make_addplot(overlays, width=0.5), \n",
    "#          mpf.make_addplot(cd['emaNormDiff'], panel=2, width=0.5, ylabel='EMA\\nNormalized\\nDiff'),\n",
    "#          mpf.make_addplot(cd['macd_diff'], panel=3, width=0.5, ylabel='MACD Diff'),\n",
    "#        ]\n",
    "# mpf.plot(cd, type='candle', \n",
    "#          style='charles', volume=True,\n",
    "#          title='BTC/USD Full Data (%d steps)\\n%s -> %s' % (data_length, cd.index[0], cd.index[data_length-1]), \n",
    "#          addplot=apds, figscale=1.2)"
   ]
  },
  {
   "cell_type": "code",
   "execution_count": 25,
   "metadata": {},
   "outputs": [],
   "source": [
    "import matplotlib.pyplot as plt\n",
    "\n",
    "def show_chart(df, columns1, columns2, columns3, title):\n",
    "    fig, axs = plt.subplots(1, 3, figsize=(16, 5))\n",
    "    fig.suptitle(title)\n",
    "\n",
    "    df[columns1].plot(ax=axs[0], grid=True)\n",
    "    df[columns2].plot(ax=axs[1], grid=True)\n",
    "    df[columns3].plot(ax=axs[2], grid=True)"
   ]
  },
  {
   "cell_type": "code",
   "execution_count": 26,
   "metadata": {},
   "outputs": [],
   "source": [
    "columns1 = ['close']\n",
    "columns2 = ['ema10_25_diff', 'ema25_50_diff']\n",
    "columns3 = ['close_diff', 'trend_ema10_25', 'trend_ema25_50', 'macd_diff']"
   ]
  },
  {
   "cell_type": "code",
   "execution_count": 27,
   "metadata": {},
   "outputs": [
    {
     "data": {
      "image/png": "[encoded data removed]",
      "text/plain": [
       "<Figure size 1152x360 with 3 Axes>"
      ]
     },
     "metadata": {
      "needs_background": "light"
     },
     "output_type": "display_data"
    }
   ],
   "source": [
    "show_chart(df, columns1, columns2, columns3, 'df')"
   ]
  },
  {
   "cell_type": "markdown",
   "metadata": {},
   "source": [
    "### Create Streams"
   ]
  },
  {
   "cell_type": "code",
   "execution_count": 28,
   "metadata": {},
   "outputs": [],
   "source": [
    "# Setup stream based on 'Close'\n",
    "close = Stream.source(price_history['close'].tolist(), dtype=\"float\").rename(\"USD-TTC\")"
   ]
  },
  {
   "cell_type": "markdown",
   "metadata": {},
   "source": [
    "### Create Data Feeds"
   ]
  },
  {
   "cell_type": "code",
   "execution_count": 29,
   "metadata": {},
   "outputs": [],
   "source": [
    "# feed with all indicators\n",
    "# with NameSpace(\"bitfinex\"):\n",
    "#     streams = [Stream.source(dataset[c].tolist(), dtype=\"float\").rename(c) for c in dataset.columns]\n",
    "\n",
    "# feed = DataFeed(streams)"
   ]
  },
  {
   "cell_type": "code",
   "execution_count": 30,
   "metadata": {},
   "outputs": [],
   "source": [
    "# feed with custom indicators\n",
    "# feed = DataFeed([\n",
    "#     close,\n",
    "#     close.rolling(window=10).mean().rename(\"fast\"),\n",
    "#     close.rolling(window=50).mean().rename(\"medium\"),\n",
    "#     close.rolling(window=100).mean().rename(\"slow\"),\n",
    "#     close.log().diff().fillna(0).rename(\"lr\")\n",
    "# ])"
   ]
  },
  {
   "cell_type": "code",
   "execution_count": 31,
   "metadata": {},
   "outputs": [],
   "source": [
    "feed = DataFeed([\n",
    "    Stream.source(df['close'].tolist(), dtype=\"float\").rename(\"USD-TTC\"),\n",
    "    #Stream.source(df['close'].tolist(), dtype=\"float\").diff().fillna(0).rename(\"price_diff\"),\n",
    "    Stream.source(df['close'].tolist(), dtype=\"float\").log().diff().fillna(0).rename(\"price_log_diff\"),\n",
    "    #Stream.source(df['ema25_50_diff_norm'].tolist(), dtype=\"float\").rename(\"ema25_50_diff_norm\"),\n",
    "    Stream.source(df['close_diff'].tolist(), dtype=\"float\").rename(\"close_diff\"),\n",
    "\n",
    "    #Stream.source(df['ema10_25_diff'].tolist(), dtype=\"float\").rename(\"ema10_25_diff\"),\n",
    "    #Stream.source(df['trend_ema10_25'].tolist(), dtype=\"float\").rename(\"trend_ema10_25\"),\n",
    "\n",
    "    #Stream.source(df['ema25_50_diff'].tolist(), dtype=\"float\").rename(\"ema25_50_diff\"),\n",
    "    Stream.source(df['trend_ema25_50'].tolist(), dtype=\"float\").rename(\"trend_ema25_50\"),\n",
    "\n",
    "    #Stream.source(df['macd_diff'].tolist(), dtype=\"float\").rename(\"macd_diff\"),\n",
    "])"
   ]
  },
  {
   "cell_type": "code",
   "execution_count": 32,
   "metadata": {},
   "outputs": [],
   "source": [
    "# feed = DataFeed([\n",
    "#     close,\n",
    "#     close.rolling(window=10).mean().rename(\"fast\"),\n",
    "#     close.rolling(window=50).mean().rename(\"medium\"),\n",
    "#     close.rolling(window=100).mean().rename(\"slow\"),\n",
    "#     close.log().diff().fillna(0).rename(\"lr\")\n",
    "# ])"
   ]
  },
  {
   "cell_type": "code",
   "execution_count": 33,
   "metadata": {},
   "outputs": [
    {
     "data": {
      "text/plain": [
       "{'USD-TTC': 30039.861888678857,\n",
       " 'price_log_diff': 0,\n",
       " 'close_diff': 0.575406514963106,\n",
       " 'trend_ema25_50': 1}"
      ]
     },
     "execution_count": 33,
     "metadata": {},
     "output_type": "execute_result"
    }
   ],
   "source": [
    "feed.next()"
   ]
  },
  {
   "cell_type": "markdown",
   "metadata": {},
   "source": [
    "### Trading Environment Renderers\n",
    "A renderer is a channel for the trading environment to output its current state. One or more renderers can be attached to the environment at the same time. For example, you can let the environment draw a chart and log to a file at the same time.\n",
    "\n",
    "Notice that while all renderers can technically be used together, you need to select the best combination to avoid undesired results. For example, PlotlyTradingChart can work well with FileLogger but may not display well with ScreenLogger.\n",
    "\n",
    "Renderer can be set by name (string) or class, single or list. Available renderers are:\n",
    "* `'screenlog'` or `ScreenLogger`: Shows results on the screen.\n",
    "* `'filelog'` or `FileLogger`: Logs results to a file.\n",
    "* `'plotly'` or `PlotlyTradingChart`: A trading chart based on Plotly.\n",
    "\n",
    "#### Examples:\n",
    "\n",
    "* renderers = 'screenlog' (default)\n",
    "* renderers = ['screenlog', 'filelog']\n",
    "* renderers = ScreenLogger()\n",
    "* renderers = ['screenlog', `FileLogger()`]\n",
    "* renderers = [`FileLogger(filename='example.log')`]\n",
    "\n",
    "Renderers can also be created and configured first then attached to the environment as seen in a following example."
   ]
  },
  {
   "cell_type": "markdown",
   "metadata": {},
   "source": [
    "### Environment with Multiple Renderers\n",
    "Create PlotlyTradingChart and FileLogger renderers. Configuring renderers is optional as they can be used with their default settings.\n",
    "\n",
    "With the plotly renderer you must provide an parameter called `renderer_feed`. This is a `DataFeed` instance that provides all the information that is required by a renderer to function."
   ]
  },
  {
   "cell_type": "code",
   "execution_count": 34,
   "metadata": {},
   "outputs": [],
   "source": [
    "# from tensortrade.env.default.renderers import PlotlyTradingChart, FileLogger\n",
    "\n",
    "# chart_renderer = PlotlyTradingChart(\n",
    "#     display=True,  # show the chart on screen (default)\n",
    "#     height=800,  # affects both displayed and saved file height. None for 100% height.\n",
    "#     save_format=\"html\",  # save the chart to an HTML file\n",
    "#     auto_open_html=True,  # open the saved HTML chart in a new browser tab\n",
    "# )\n",
    "\n",
    "# file_logger = FileLogger(\n",
    "#     filename=\"example.log\",  # omit or None for automatic file name\n",
    "#     path=\"training_logs\"  # create a new directory if doesn't exist, None for no directory\n",
    "# )"
   ]
  },
  {
   "cell_type": "markdown",
   "metadata": {},
   "source": [
    "### Create Exchange & Portfolio"
   ]
  },
  {
   "cell_type": "code",
   "execution_count": 35,
   "metadata": {},
   "outputs": [],
   "source": [
    "bitfinex = Exchange(\"bitfinex\", service=execute_order)(\n",
    "    close\n",
    ")\n",
    "\n",
    "initial_capital = 1000\n",
    "\n",
    "cash = Wallet(bitfinex, initial_capital * USD)\n",
    "asset = Wallet(bitfinex, 0 * TTC)\n",
    "\n",
    "portfolio = Portfolio(USD, [\n",
    "    cash,\n",
    "    asset\n",
    "])"
   ]
  },
  {
   "cell_type": "markdown",
   "metadata": {},
   "source": [
    "### Reward & Action Scheme"
   ]
  },
  {
   "cell_type": "code",
   "execution_count": 36,
   "metadata": {},
   "outputs": [],
   "source": [
    "# reward_scheme=\"risk-adjusted\"\n",
    "# action_scheme=\"managed-risk\"\n",
    "\n",
    "reward_scheme = default.rewards.PBR(price=close)\n",
    "action_scheme = default.actions.BSH(cash=cash, asset=asset).attach(reward_scheme)"
   ]
  },
  {
   "cell_type": "markdown",
   "metadata": {},
   "source": [
    "### Renderer Feed"
   ]
  },
  {
   "cell_type": "code",
   "execution_count": 37,
   "metadata": {},
   "outputs": [],
   "source": [
    "# renderer_feed = DataFeed([\n",
    "#     Stream.source(price_history[c].tolist(), dtype=\"float\").rename(c) for c in price_history]\n",
    "# )"
   ]
  },
  {
   "cell_type": "code",
   "execution_count": 38,
   "metadata": {},
   "outputs": [],
   "source": [
    "renderer_feed = DataFeed([\n",
    "    Stream.source(price_history['close'].tolist(), dtype=\"float\").rename(\"price\"),\n",
    "    Stream.sensor(action_scheme, lambda s: s.action, dtype=\"float\").rename(\"action\")\n",
    "])"
   ]
  },
  {
   "cell_type": "code",
   "execution_count": 39,
   "metadata": {},
   "outputs": [],
   "source": [
    "# renderer_feed = DataFeed([\n",
    "#     Stream.source(y, dtype=\"float\").rename(\"price\"),\n",
    "#     Stream.sensor(action_scheme, lambda s: s.action, dtype=\"float\").rename(\"action\")\n",
    "# ])"
   ]
  },
  {
   "cell_type": "code",
   "execution_count": 40,
   "metadata": {},
   "outputs": [],
   "source": [
    "# renderer_feed = DataFeed([\n",
    "#     price,\n",
    "#     Stream.sensor(action_scheme, lambda s: s.action, dtype=\"float\").rename(\"action\")\n",
    "# ])"
   ]
  },
  {
   "cell_type": "code",
   "execution_count": 41,
   "metadata": {},
   "outputs": [],
   "source": [
    "# renderer_feed = DataFeed([\n",
    "#     close\n",
    "# ])"
   ]
  },
  {
   "cell_type": "markdown",
   "metadata": {},
   "source": [
    "### Setup Environment"
   ]
  },
  {
   "cell_type": "code",
   "execution_count": 42,
   "metadata": {},
   "outputs": [],
   "source": [
    "# from PositionChangeChart import PositionChangeChart\n",
    "\n",
    "# def create_env(config):\n",
    "#     env = default.create(\n",
    "#         feed=feed,\n",
    "#         portfolio=portfolio,\n",
    "#         action_scheme=action_scheme,\n",
    "#         reward_scheme=reward_scheme,\n",
    "#         renderer_feed=renderer_feed,\n",
    "#         renderer=PositionChangeChart(),\n",
    "#         window_size=config[\"window_size\"],\n",
    "#         max_allowed_loss=0.6\n",
    "#     )\n",
    "#     return env"
   ]
  },
  {
   "cell_type": "code",
   "execution_count": 43,
   "metadata": {},
   "outputs": [],
   "source": [
    "from PositionChangeChart import PositionChangeChart\n",
    "  \n",
    "def get_price_series():\n",
    "    x = np.arange(0, 2*np.pi, 2*np.pi / 1001)\n",
    "    y = 50*np.sin(3*x) + 1000\n",
    "    return y\n",
    "\n",
    "def get_exchange(stream):\n",
    "    return Exchange(\"bitfinex\", service=execute_order)(\n",
    "        stream\n",
    "    )\n",
    "\n",
    "def get_cash_asset(exchange):\n",
    "    return [\n",
    "        Wallet(exchange, 1000 * USD), \n",
    "        Wallet(exchange, 0 * TTC)\n",
    "    ]"
   ]
  },
  {
   "cell_type": "code",
   "execution_count": 44,
   "metadata": {},
   "outputs": [],
   "source": [
    "def create_env(config):  \n",
    "#     close = get_price_series()\n",
    "    df = config['df']\n",
    "    \n",
    "    p = Stream.source(df['close'].tolist(), dtype=\"float\").rename(\"USD-TTC\")\n",
    "  \n",
    "    bitfinex = get_exchange(p)\n",
    "#     bitfinex = Exchange(\"bitfinex\", service=execute_order)(p)\n",
    "    \n",
    "    [cash, asset] = get_cash_asset(bitfinex)\n",
    "\n",
    "    portfolio = Portfolio(USD, [cash, asset])\n",
    "    \n",
    "    reward_scheme = default.rewards.PBR(price=p)\n",
    "    action_scheme = default.actions.BSH(cash=cash, asset=asset).attach(reward_scheme)\n",
    "\n",
    "    renderer_feed = DataFeed([\n",
    "        Stream.source(df['close'].tolist(), dtype=\"float\").rename(\"price\"),\n",
    "        Stream.sensor(action_scheme, lambda s: s.action, dtype=\"float\").rename(\"action\")\n",
    "    ])\n",
    "    \n",
    "#     feed = DataFeed([\n",
    "#         p,\n",
    "#         p.rolling(window=10).mean().rename(\"fast\"),\n",
    "#         p.rolling(window=50).mean().rename(\"medium\"),\n",
    "#         p.rolling(window=100).mean().rename(\"slow\"),\n",
    "#         p.log().diff().fillna(0).rename(\"lr\")\n",
    "#     ])\n",
    "    \n",
    "    feed = DataFeed([\n",
    "        #p,\n",
    "        #Stream.source(df['close'].tolist(), dtype=\"float\").diff().fillna(0).rename(\"price_diff\"),\n",
    "        #Stream.source(df['close'].tolist(), dtype=\"float\").log().diff().fillna(0).rename(\"price_log_diff\"),\n",
    "        #Stream.source(df['ema25_50_diff_norm'].tolist(), dtype=\"float\").rename(\"ema25_50_diff_norm\"),\n",
    "        Stream.source(df['close_diff'].tolist(), dtype=\"float\").rename(\"close_diff\"),\n",
    "\n",
    "        #Stream.source(df['ema10_25_diff'].tolist(), dtype=\"float\").rename(\"ema10_25_diff\"),\n",
    "        #Stream.source(df['trend_ema10_25'].tolist(), dtype=\"float\").rename(\"trend_ema10_25\"),\n",
    "\n",
    "        Stream.source(df['ema25_50_diff'].tolist(), dtype=\"float\").rename(\"ema25_50_diff\"),\n",
    "        #Stream.source(df['trend_ema25_50'].tolist(), dtype=\"float\").rename(\"trend_ema25_50\"),\n",
    "\n",
    "        #Stream.source(df['macd_diff'].tolist(), dtype=\"float\").rename(\"macd_diff\"),\n",
    "    ])\n",
    "\n",
    "    environment = default.create(\n",
    "        feed=feed,\n",
    "        portfolio=portfolio,\n",
    "        action_scheme=action_scheme,\n",
    "        reward_scheme=reward_scheme,\n",
    "        renderer_feed=renderer_feed,\n",
    "        renderer=PositionChangeChart(),\n",
    "        window_size=config[\"window_size\"],\n",
    "        max_allowed_loss=0.6\n",
    "    )\n",
    "    return environment"
   ]
  },
  {
   "cell_type": "markdown",
   "metadata": {},
   "source": [
    "## Setup and Train Agent"
   ]
  },
  {
   "cell_type": "code",
   "execution_count": 47,
   "metadata": {},
   "outputs": [
    {
     "name": "stderr",
     "output_type": "stream",
     "text": [
      "2021-07-16 11:56:42,837\tINFO resource_spec.py:223 -- Starting Ray with 6.74 GiB memory available for workers and up to 3.39 GiB for objects. You can adjust these settings with ray.init(memory=<bytes>, object_store_memory=<bytes>).\n",
      "2021-07-16 11:56:43,341\tINFO services.py:1191 -- View the Ray dashboard at \u001b[1m\u001b[32mlocalhost:8267\u001b[39m\u001b[22m\n"
     ]
    },
    {
     "data": {
      "text/html": [
       "== Status ==<br>Memory usage on this node: 4.5/14.5 GiB<br>Using FIFO scheduling algorithm.<br>Resources requested: 8/8 CPUs, 0/0 GPUs, 0.0/6.74 GiB heap, 0.0/2.29 GiB objects<br>Result logdir: /home/localadmin/ray_results/PPO<br>Number of trials: 1 (1 RUNNING)<br><table>\n",
       "<thead>\n",
       "<tr><th>Trial name                </th><th>status  </th><th>loc  </th></tr>\n",
       "</thead>\n",
       "<tbody>\n",
       "<tr><td>PPO_TradingEnv_d625d_00000</td><td>RUNNING </td><td>     </td></tr>\n",
       "</tbody>\n",
       "</table><br><br>"
      ],
      "text/plain": [
       "<IPython.core.display.HTML object>"
      ]
     },
     "metadata": {},
     "output_type": "display_data"
    },
    {
     "name": "stderr",
     "output_type": "stream",
     "text": [
      "\u001b[2m\u001b[36m(pid=21034)\u001b[0m WARNING:tensorflow:From /home/localadmin/tensortrade-train/venv/lib/python3.8/site-packages/tensorflow/python/compat/v2_compat.py:96: disable_resource_variables (from tensorflow.python.ops.variable_scope) is deprecated and will be removed in a future version.\n",
      "\u001b[2m\u001b[36m(pid=21034)\u001b[0m Instructions for updating:\n",
      "\u001b[2m\u001b[36m(pid=21034)\u001b[0m non-resource variables are not supported in the long term\n",
      "\u001b[2m\u001b[36m(pid=21034)\u001b[0m 2021-07-16 11:56:46,638\tDEBUG rollout_worker.py:957 -- Creating policy for default_policy\n",
      "\u001b[2m\u001b[36m(pid=21034)\u001b[0m 2021-07-16 11:56:46,639\tDEBUG catalog.py:470 -- Created preprocessor <ray.rllib.models.preprocessors.NoPreprocessor object at 0x7f31af6ff880>: Box(-inf, inf, (25, 2), float32) -> (25, 2)\n",
      "\u001b[2m\u001b[36m(pid=21034)\u001b[0m 2021-07-16 11:56:46,644\tINFO rollout_worker.py:990 -- Built policy map: {'default_policy': <ray.rllib.policy.torch_policy_template.PPOTorchPolicy object at 0x7f31af6ff0a0>}\n",
      "\u001b[2m\u001b[36m(pid=21034)\u001b[0m 2021-07-16 11:56:46,644\tINFO rollout_worker.py:991 -- Built preprocessor map: {'default_policy': <ray.rllib.models.preprocessors.NoPreprocessor object at 0x7f31af6ff880>}\n",
      "\u001b[2m\u001b[36m(pid=21034)\u001b[0m 2021-07-16 11:56:46,644\tDEBUG rollout_worker.py:412 -- Creating policy evaluation worker 0 on CPU (please ignore any CUDA init errors)\n",
      "\u001b[2m\u001b[36m(pid=21034)\u001b[0m 2021-07-16 11:56:46,644\tINFO rollout_worker.py:446 -- Built filter map: {'default_policy': MeanStdFilter((25, 2), True, True, None, (n=0, mean_mean=0.0, mean_std=0.0), (n=0, mean_mean=0.0, mean_std=0.0))}\n",
      "\u001b[2m\u001b[36m(pid=21034)\u001b[0m 2021-07-16 11:56:46,645\tDEBUG rollout_worker.py:538 -- Created rollout worker with env <ray.rllib.env.base_env._VectorEnvToBaseEnv object at 0x7f31af6ff070> (<TradingEnv instance>), policies {'default_policy': <ray.rllib.policy.torch_policy_template.PPOTorchPolicy object at 0x7f31af6ff0a0>}\n",
      "\u001b[2m\u001b[36m(pid=21034)\u001b[0m 2021-07-16 11:56:46,766\tWARNING util.py:37 -- Install gputil for GPU system monitoring.\n",
      "\u001b[2m\u001b[36m(pid=21045)\u001b[0m WARNING:tensorflow:From /home/localadmin/tensortrade-train/venv/lib/python3.8/site-packages/tensorflow/python/compat/v2_compat.py:96: disable_resource_variables (from tensorflow.python.ops.variable_scope) is deprecated and will be removed in a future version.\n",
      "\u001b[2m\u001b[36m(pid=21045)\u001b[0m Instructions for updating:\n",
      "\u001b[2m\u001b[36m(pid=21045)\u001b[0m non-resource variables are not supported in the long term\n",
      "\u001b[2m\u001b[36m(pid=21047)\u001b[0m WARNING:tensorflow:From /home/localadmin/tensortrade-train/venv/lib/python3.8/site-packages/tensorflow/python/compat/v2_compat.py:96: disable_resource_variables (from tensorflow.python.ops.variable_scope) is deprecated and will be removed in a future version.\n",
      "\u001b[2m\u001b[36m(pid=21047)\u001b[0m Instructions for updating:\n",
      "\u001b[2m\u001b[36m(pid=21047)\u001b[0m non-resource variables are not supported in the long term\n",
      "\u001b[2m\u001b[36m(pid=21044)\u001b[0m WARNING:tensorflow:From /home/localadmin/tensortrade-train/venv/lib/python3.8/site-packages/tensorflow/python/compat/v2_compat.py:96: disable_resource_variables (from tensorflow.python.ops.variable_scope) is deprecated and will be removed in a future version.\n",
      "\u001b[2m\u001b[36m(pid=21044)\u001b[0m Instructions for updating:\n",
      "\u001b[2m\u001b[36m(pid=21044)\u001b[0m non-resource variables are not supported in the long term\n",
      "\u001b[2m\u001b[36m(pid=21043)\u001b[0m WARNING:tensorflow:From /home/localadmin/tensortrade-train/venv/lib/python3.8/site-packages/tensorflow/python/compat/v2_compat.py:96: disable_resource_variables (from tensorflow.python.ops.variable_scope) is deprecated and will be removed in a future version.\n",
      "\u001b[2m\u001b[36m(pid=21043)\u001b[0m Instructions for updating:\n",
      "\u001b[2m\u001b[36m(pid=21043)\u001b[0m non-resource variables are not supported in the long term\n",
      "\u001b[2m\u001b[36m(pid=21035)\u001b[0m WARNING:tensorflow:From /home/localadmin/tensortrade-train/venv/lib/python3.8/site-packages/tensorflow/python/compat/v2_compat.py:96: disable_resource_variables (from tensorflow.python.ops.variable_scope) is deprecated and will be removed in a future version.\n",
      "\u001b[2m\u001b[36m(pid=21035)\u001b[0m Instructions for updating:\n",
      "\u001b[2m\u001b[36m(pid=21035)\u001b[0m non-resource variables are not supported in the long term\n",
      "\u001b[2m\u001b[36m(pid=21038)\u001b[0m WARNING:tensorflow:From /home/localadmin/tensortrade-train/venv/lib/python3.8/site-packages/tensorflow/python/compat/v2_compat.py:96: disable_resource_variables (from tensorflow.python.ops.variable_scope) is deprecated and will be removed in a future version.\n",
      "\u001b[2m\u001b[36m(pid=21038)\u001b[0m Instructions for updating:\n",
      "\u001b[2m\u001b[36m(pid=21038)\u001b[0m non-resource variables are not supported in the long term\n",
      "\u001b[2m\u001b[36m(pid=21036)\u001b[0m WARNING:tensorflow:From /home/localadmin/tensortrade-train/venv/lib/python3.8/site-packages/tensorflow/python/compat/v2_compat.py:96: disable_resource_variables (from tensorflow.python.ops.variable_scope) is deprecated and will be removed in a future version.\n",
      "\u001b[2m\u001b[36m(pid=21036)\u001b[0m Instructions for updating:\n",
      "\u001b[2m\u001b[36m(pid=21036)\u001b[0m non-resource variables are not supported in the long term\n",
      "\u001b[2m\u001b[36m(pid=21045)\u001b[0m 2021-07-16 11:56:49,718\tDEBUG rollout_worker.py:957 -- Creating policy for default_policy\n",
      "\u001b[2m\u001b[36m(pid=21045)\u001b[0m 2021-07-16 11:56:49,718\tDEBUG catalog.py:470 -- Created preprocessor <ray.rllib.models.preprocessors.NoPreprocessor object at 0x7fc7df8197f0>: Box(-inf, inf, (25, 2), float32) -> (25, 2)\n",
      "\u001b[2m\u001b[36m(pid=21045)\u001b[0m 2021-07-16 11:56:49,729\tDEBUG rollout_worker.py:412 -- Creating policy evaluation worker 2 on CPU (please ignore any CUDA init errors)\n",
      "\u001b[2m\u001b[36m(pid=21045)\u001b[0m 2021-07-16 11:56:49,730\tDEBUG rollout_worker.py:538 -- Created rollout worker with env <ray.rllib.env.base_env._VectorEnvToBaseEnv object at 0x7fc7df7d5610> (<TradingEnv instance>), policies {'default_policy': <ray.rllib.policy.torch_policy_template.PPOTorchPolicy object at 0x7fc7df7d5640>}\n",
      "\u001b[2m\u001b[36m(pid=21045)\u001b[0m /home/localadmin/tensortrade-train/venv/lib/python3.8/site-packages/ray/rllib/utils/torch_ops.py:149: UserWarning: The given NumPy array is not writeable, and PyTorch does not support non-writeable tensors. This means you can write to the underlying (supposedly non-writeable) NumPy array using the tensor. You may want to copy the array to protect its data or make it writeable before converting it to a tensor. This type of warning will be suppressed for the rest of this program. (Triggered internally at  /pytorch/torch/csrc/utils/tensor_numpy.cpp:141.)\n",
      "\u001b[2m\u001b[36m(pid=21045)\u001b[0m   tensor = torch.from_numpy(np.asarray(item))\n",
      "\u001b[2m\u001b[36m(pid=21047)\u001b[0m 2021-07-16 11:56:49,773\tDEBUG rollout_worker.py:957 -- Creating policy for default_policy\n",
      "\u001b[2m\u001b[36m(pid=21047)\u001b[0m 2021-07-16 11:56:49,773\tDEBUG catalog.py:470 -- Created preprocessor <ray.rllib.models.preprocessors.NoPreprocessor object at 0x7ff6dc72e7c0>: Box(-inf, inf, (25, 2), float32) -> (25, 2)\n",
      "\u001b[2m\u001b[36m(pid=21047)\u001b[0m 2021-07-16 11:56:49,783\tDEBUG rollout_worker.py:412 -- Creating policy evaluation worker 1 on CPU (please ignore any CUDA init errors)\n",
      "\u001b[2m\u001b[36m(pid=21047)\u001b[0m 2021-07-16 11:56:49,785\tDEBUG rollout_worker.py:538 -- Created rollout worker with env <ray.rllib.env.base_env._VectorEnvToBaseEnv object at 0x7ff6dc6e95e0> (<TradingEnv instance>), policies {'default_policy': <ray.rllib.policy.torch_policy_template.PPOTorchPolicy object at 0x7ff6dc6e9610>}\n",
      "\u001b[2m\u001b[36m(pid=21047)\u001b[0m /home/localadmin/tensortrade-train/venv/lib/python3.8/site-packages/ray/rllib/utils/torch_ops.py:149: UserWarning: The given NumPy array is not writeable, and PyTorch does not support non-writeable tensors. This means you can write to the underlying (supposedly non-writeable) NumPy array using the tensor. You may want to copy the array to protect its data or make it writeable before converting it to a tensor. This type of warning will be suppressed for the rest of this program. (Triggered internally at  /pytorch/torch/csrc/utils/tensor_numpy.cpp:141.)\n",
      "\u001b[2m\u001b[36m(pid=21047)\u001b[0m   tensor = torch.from_numpy(np.asarray(item))\n",
      "\u001b[2m\u001b[36m(pid=21044)\u001b[0m 2021-07-16 11:56:49,850\tDEBUG rollout_worker.py:957 -- Creating policy for default_policy\n",
      "\u001b[2m\u001b[36m(pid=21044)\u001b[0m 2021-07-16 11:56:49,851\tDEBUG catalog.py:470 -- Created preprocessor <ray.rllib.models.preprocessors.NoPreprocessor object at 0x7efd854c0790>: Box(-inf, inf, (25, 2), float32) -> (25, 2)\n",
      "\u001b[2m\u001b[36m(pid=21044)\u001b[0m 2021-07-16 11:56:49,862\tDEBUG rollout_worker.py:412 -- Creating policy evaluation worker 4 on CPU (please ignore any CUDA init errors)\n",
      "\u001b[2m\u001b[36m(pid=21044)\u001b[0m 2021-07-16 11:56:49,863\tDEBUG rollout_worker.py:538 -- Created rollout worker with env <ray.rllib.env.base_env._VectorEnvToBaseEnv object at 0x7efd8547c5b0> (<TradingEnv instance>), policies {'default_policy': <ray.rllib.policy.torch_policy_template.PPOTorchPolicy object at 0x7efd8547c5e0>}\n",
      "\u001b[2m\u001b[36m(pid=21044)\u001b[0m /home/localadmin/tensortrade-train/venv/lib/python3.8/site-packages/ray/rllib/utils/torch_ops.py:149: UserWarning: The given NumPy array is not writeable, and PyTorch does not support non-writeable tensors. This means you can write to the underlying (supposedly non-writeable) NumPy array using the tensor. You may want to copy the array to protect its data or make it writeable before converting it to a tensor. This type of warning will be suppressed for the rest of this program. (Triggered internally at  /pytorch/torch/csrc/utils/tensor_numpy.cpp:141.)\n",
      "\u001b[2m\u001b[36m(pid=21044)\u001b[0m   tensor = torch.from_numpy(np.asarray(item))\n"
     ]
    },
    {
     "name": "stderr",
     "output_type": "stream",
     "text": [
      "\u001b[2m\u001b[36m(pid=21038)\u001b[0m 2021-07-16 11:56:49,919\tDEBUG rollout_worker.py:957 -- Creating policy for default_policy\n",
      "\u001b[2m\u001b[36m(pid=21038)\u001b[0m 2021-07-16 11:56:49,920\tDEBUG catalog.py:470 -- Created preprocessor <ray.rllib.models.preprocessors.NoPreprocessor object at 0x7f103adcc8e0>: Box(-inf, inf, (25, 2), float32) -> (25, 2)\n",
      "\u001b[2m\u001b[36m(pid=21038)\u001b[0m 2021-07-16 11:56:49,928\tDEBUG rollout_worker.py:412 -- Creating policy evaluation worker 5 on CPU (please ignore any CUDA init errors)\n",
      "\u001b[2m\u001b[36m(pid=21038)\u001b[0m 2021-07-16 11:56:49,929\tDEBUG rollout_worker.py:538 -- Created rollout worker with env <ray.rllib.env.base_env._VectorEnvToBaseEnv object at 0x7f103ad7e6a0> (<TradingEnv instance>), policies {'default_policy': <ray.rllib.policy.torch_policy_template.PPOTorchPolicy object at 0x7f103ad7e6d0>}\n",
      "\u001b[2m\u001b[36m(pid=21038)\u001b[0m /home/localadmin/tensortrade-train/venv/lib/python3.8/site-packages/ray/rllib/utils/torch_ops.py:149: UserWarning: The given NumPy array is not writeable, and PyTorch does not support non-writeable tensors. This means you can write to the underlying (supposedly non-writeable) NumPy array using the tensor. You may want to copy the array to protect its data or make it writeable before converting it to a tensor. This type of warning will be suppressed for the rest of this program. (Triggered internally at  /pytorch/torch/csrc/utils/tensor_numpy.cpp:141.)\n",
      "\u001b[2m\u001b[36m(pid=21038)\u001b[0m   tensor = torch.from_numpy(np.asarray(item))\n",
      "\u001b[2m\u001b[36m(pid=21043)\u001b[0m 2021-07-16 11:56:49,932\tDEBUG rollout_worker.py:957 -- Creating policy for default_policy\n",
      "\u001b[2m\u001b[36m(pid=21043)\u001b[0m 2021-07-16 11:56:49,933\tDEBUG catalog.py:470 -- Created preprocessor <ray.rllib.models.preprocessors.NoPreprocessor object at 0x7f660b14a8e0>: Box(-inf, inf, (25, 2), float32) -> (25, 2)\n",
      "\u001b[2m\u001b[36m(pid=21043)\u001b[0m 2021-07-16 11:56:49,942\tDEBUG rollout_worker.py:412 -- Creating policy evaluation worker 3 on CPU (please ignore any CUDA init errors)\n",
      "\u001b[2m\u001b[36m(pid=21043)\u001b[0m 2021-07-16 11:56:49,943\tDEBUG rollout_worker.py:538 -- Created rollout worker with env <ray.rllib.env.base_env._VectorEnvToBaseEnv object at 0x7f660b0f96a0> (<TradingEnv instance>), policies {'default_policy': <ray.rllib.policy.torch_policy_template.PPOTorchPolicy object at 0x7f660b0f96d0>}\n",
      "\u001b[2m\u001b[36m(pid=21043)\u001b[0m /home/localadmin/tensortrade-train/venv/lib/python3.8/site-packages/ray/rllib/utils/torch_ops.py:149: UserWarning: The given NumPy array is not writeable, and PyTorch does not support non-writeable tensors. This means you can write to the underlying (supposedly non-writeable) NumPy array using the tensor. You may want to copy the array to protect its data or make it writeable before converting it to a tensor. This type of warning will be suppressed for the rest of this program. (Triggered internally at  /pytorch/torch/csrc/utils/tensor_numpy.cpp:141.)\n",
      "\u001b[2m\u001b[36m(pid=21043)\u001b[0m   tensor = torch.from_numpy(np.asarray(item))\n",
      "\u001b[2m\u001b[36m(pid=21036)\u001b[0m 2021-07-16 11:56:50,004\tDEBUG rollout_worker.py:957 -- Creating policy for default_policy\n",
      "\u001b[2m\u001b[36m(pid=21036)\u001b[0m 2021-07-16 11:56:50,004\tDEBUG catalog.py:470 -- Created preprocessor <ray.rllib.models.preprocessors.NoPreprocessor object at 0x7f8204348790>: Box(-inf, inf, (25, 2), float32) -> (25, 2)\n",
      "\u001b[2m\u001b[36m(pid=21035)\u001b[0m 2021-07-16 11:56:50,004\tDEBUG rollout_worker.py:957 -- Creating policy for default_policy\n",
      "\u001b[2m\u001b[36m(pid=21035)\u001b[0m 2021-07-16 11:56:50,004\tDEBUG catalog.py:470 -- Created preprocessor <ray.rllib.models.preprocessors.NoPreprocessor object at 0x7f91f46897f0>: Box(-inf, inf, (25, 2), float32) -> (25, 2)\n",
      "\u001b[2m\u001b[36m(pid=21045)\u001b[0m 2021-07-16 11:56:50,020\tDEBUG sampler.py:465 -- No episode horizon specified, assuming inf.\n",
      "\u001b[2m\u001b[36m(pid=21047)\u001b[0m 2021-07-16 11:56:50,020\tINFO rollout_worker.py:560 -- Generating sample batch of size 200\n",
      "\u001b[2m\u001b[36m(pid=21047)\u001b[0m 2021-07-16 11:56:50,020\tDEBUG sampler.py:465 -- No episode horizon specified, assuming inf.\n",
      "\u001b[2m\u001b[36m(pid=21047)\u001b[0m 2021-07-16 11:56:50,021\tINFO sampler.py:509 -- Raw obs from env: { 0: { 'agent0': np.ndarray((25, 2), dtype=float32, min=0.0, max=7.568, mean=0.163)}}\n",
      "\u001b[2m\u001b[36m(pid=21047)\u001b[0m 2021-07-16 11:56:50,021\tINFO sampler.py:511 -- Info return from env: {0: {'agent0': None}}\n",
      "\u001b[2m\u001b[36m(pid=21047)\u001b[0m 2021-07-16 11:56:50,022\tINFO sampler.py:714 -- Preprocessed obs: np.ndarray((25, 2), dtype=float32, min=0.0, max=7.568, mean=0.163)\n",
      "\u001b[2m\u001b[36m(pid=21047)\u001b[0m 2021-07-16 11:56:50,022\tINFO sampler.py:719 -- Filtered obs: np.ndarray((25, 2), dtype=float64, min=0.0, max=0.0, mean=0.0)\n",
      "\u001b[2m\u001b[36m(pid=21047)\u001b[0m 2021-07-16 11:56:50,026\tINFO sampler.py:881 -- Inputs to compute_actions():\n",
      "\u001b[2m\u001b[36m(pid=21047)\u001b[0m \n",
      "\u001b[2m\u001b[36m(pid=21047)\u001b[0m { 'default_policy': [ { 'data': { 'agent_id': 'agent0',\n",
      "\u001b[2m\u001b[36m(pid=21047)\u001b[0m                                   'env_id': 0,\n",
      "\u001b[2m\u001b[36m(pid=21047)\u001b[0m                                   'info': None,\n",
      "\u001b[2m\u001b[36m(pid=21047)\u001b[0m                                   'obs': np.ndarray((25, 2), dtype=float64, min=0.0, max=0.0, mean=0.0),\n",
      "\u001b[2m\u001b[36m(pid=21047)\u001b[0m                                   'prev_action': np.ndarray((), dtype=int64, min=0.0, max=0.0, mean=0.0),\n",
      "\u001b[2m\u001b[36m(pid=21047)\u001b[0m                                   'prev_reward': 0.0,\n",
      "\u001b[2m\u001b[36m(pid=21047)\u001b[0m                                   'rnn_state': []},\n",
      "\u001b[2m\u001b[36m(pid=21047)\u001b[0m                         'type': 'PolicyEvalData'}]}\n",
      "\u001b[2m\u001b[36m(pid=21047)\u001b[0m \n",
      "\u001b[2m\u001b[36m(pid=21047)\u001b[0m 2021-07-16 11:56:50,028\tINFO sampler.py:925 -- Outputs of compute_actions():\n",
      "\u001b[2m\u001b[36m(pid=21047)\u001b[0m \n",
      "\u001b[2m\u001b[36m(pid=21047)\u001b[0m { 'default_policy': ( np.ndarray((1,), dtype=int64, min=1.0, max=1.0, mean=1.0),\n",
      "\u001b[2m\u001b[36m(pid=21047)\u001b[0m                       [],\n",
      "\u001b[2m\u001b[36m(pid=21047)\u001b[0m                       { 'action_dist_inputs': np.ndarray((1, 2), dtype=float32, min=0.0, max=0.0, mean=0.0),\n",
      "\u001b[2m\u001b[36m(pid=21047)\u001b[0m                         'action_logp': np.ndarray((1,), dtype=float32, min=-0.693, max=-0.693, mean=-0.693),\n",
      "\u001b[2m\u001b[36m(pid=21047)\u001b[0m                         'action_prob': np.ndarray((1,), dtype=float32, min=0.5, max=0.5, mean=0.5),\n",
      "\u001b[2m\u001b[36m(pid=21047)\u001b[0m                         'vf_preds': np.ndarray((1,), dtype=float32, min=0.0, max=0.0, mean=0.0)})}\n",
      "\u001b[2m\u001b[36m(pid=21047)\u001b[0m \n",
      "\u001b[2m\u001b[36m(pid=21044)\u001b[0m 2021-07-16 11:56:50,020\tDEBUG sampler.py:465 -- No episode horizon specified, assuming inf.\n",
      "\u001b[2m\u001b[36m(pid=21038)\u001b[0m 2021-07-16 11:56:50,020\tDEBUG sampler.py:465 -- No episode horizon specified, assuming inf.\n",
      "\u001b[2m\u001b[36m(pid=21043)\u001b[0m 2021-07-16 11:56:50,020\tDEBUG sampler.py:465 -- No episode horizon specified, assuming inf.\n",
      "\u001b[2m\u001b[36m(pid=21036)\u001b[0m 2021-07-16 11:56:50,014\tDEBUG rollout_worker.py:412 -- Creating policy evaluation worker 7 on CPU (please ignore any CUDA init errors)\n",
      "\u001b[2m\u001b[36m(pid=21036)\u001b[0m 2021-07-16 11:56:50,015\tDEBUG rollout_worker.py:538 -- Created rollout worker with env <ray.rllib.env.base_env._VectorEnvToBaseEnv object at 0x7f82043055b0> (<TradingEnv instance>), policies {'default_policy': <ray.rllib.policy.torch_policy_template.PPOTorchPolicy object at 0x7f82043055e0>}\n",
      "\u001b[2m\u001b[36m(pid=21036)\u001b[0m /home/localadmin/tensortrade-train/venv/lib/python3.8/site-packages/ray/rllib/utils/torch_ops.py:149: UserWarning: The given NumPy array is not writeable, and PyTorch does not support non-writeable tensors. This means you can write to the underlying (supposedly non-writeable) NumPy array using the tensor. You may want to copy the array to protect its data or make it writeable before converting it to a tensor. This type of warning will be suppressed for the rest of this program. (Triggered internally at  /pytorch/torch/csrc/utils/tensor_numpy.cpp:141.)\n",
      "\u001b[2m\u001b[36m(pid=21036)\u001b[0m   tensor = torch.from_numpy(np.asarray(item))\n",
      "\u001b[2m\u001b[36m(pid=21036)\u001b[0m 2021-07-16 11:56:50,021\tDEBUG sampler.py:465 -- No episode horizon specified, assuming inf.\n",
      "\u001b[2m\u001b[36m(pid=21035)\u001b[0m 2021-07-16 11:56:50,012\tDEBUG rollout_worker.py:412 -- Creating policy evaluation worker 6 on CPU (please ignore any CUDA init errors)\n",
      "\u001b[2m\u001b[36m(pid=21035)\u001b[0m 2021-07-16 11:56:50,013\tDEBUG rollout_worker.py:538 -- Created rollout worker with env <ray.rllib.env.base_env._VectorEnvToBaseEnv object at 0x7f91f4645610> (<TradingEnv instance>), policies {'default_policy': <ray.rllib.policy.torch_policy_template.PPOTorchPolicy object at 0x7f91f4645640>}\n",
      "\u001b[2m\u001b[36m(pid=21035)\u001b[0m /home/localadmin/tensortrade-train/venv/lib/python3.8/site-packages/ray/rllib/utils/torch_ops.py:149: UserWarning: The given NumPy array is not writeable, and PyTorch does not support non-writeable tensors. This means you can write to the underlying (supposedly non-writeable) NumPy array using the tensor. You may want to copy the array to protect its data or make it writeable before converting it to a tensor. This type of warning will be suppressed for the rest of this program. (Triggered internally at  /pytorch/torch/csrc/utils/tensor_numpy.cpp:141.)\n",
      "\u001b[2m\u001b[36m(pid=21035)\u001b[0m   tensor = torch.from_numpy(np.asarray(item))\n",
      "\u001b[2m\u001b[36m(pid=21035)\u001b[0m 2021-07-16 11:56:50,019\tDEBUG sampler.py:465 -- No episode horizon specified, assuming inf.\n"
     ]
    },
    {
     "name": "stderr",
     "output_type": "stream",
     "text": [
      "\u001b[2m\u001b[36m(pid=21047)\u001b[0m 2021-07-16 11:56:50,712\tINFO sample_batch_builder.py:202 -- Trajectory fragment after postprocess_trajectory():\n",
      "\u001b[2m\u001b[36m(pid=21047)\u001b[0m \n",
      "\u001b[2m\u001b[36m(pid=21047)\u001b[0m { 'agent0': { 'data': { 'action_dist_inputs': np.ndarray((200, 2), dtype=float32, min=-0.014, max=0.012, mean=-0.0),\n",
      "\u001b[2m\u001b[36m(pid=21047)\u001b[0m                         'action_logp': np.ndarray((200,), dtype=float32, min=-0.701, max=-0.685, mean=-0.693),\n",
      "\u001b[2m\u001b[36m(pid=21047)\u001b[0m                         'action_prob': np.ndarray((200,), dtype=float32, min=0.496, max=0.504, mean=0.5),\n",
      "\u001b[2m\u001b[36m(pid=21047)\u001b[0m                         'actions': np.ndarray((200,), dtype=int64, min=0.0, max=1.0, mean=0.465),\n",
      "\u001b[2m\u001b[36m(pid=21047)\u001b[0m                         'advantages': np.ndarray((200,), dtype=float32, min=-2.329, max=2.662, mean=-0.333),\n",
      "\u001b[2m\u001b[36m(pid=21047)\u001b[0m                         'agent_index': np.ndarray((200,), dtype=int64, min=0.0, max=0.0, mean=0.0),\n",
      "\u001b[2m\u001b[36m(pid=21047)\u001b[0m                         'dones': np.ndarray((200,), dtype=bool, min=0.0, max=0.0, mean=0.0),\n",
      "\u001b[2m\u001b[36m(pid=21047)\u001b[0m                         'eps_id': np.ndarray((200,), dtype=int64, min=1840518560.0, max=1840518560.0, mean=1840518560.0),\n",
      "\u001b[2m\u001b[36m(pid=21047)\u001b[0m                         'infos': np.ndarray((200,), dtype=object, head={'step': 1, 'net_worth': 997.0188139832519}),\n",
      "\u001b[2m\u001b[36m(pid=21047)\u001b[0m                         'new_obs': np.ndarray((200, 25, 2), dtype=float32, min=-2.403, max=4.8, mean=-0.9),\n",
      "\u001b[2m\u001b[36m(pid=21047)\u001b[0m                         'obs': np.ndarray((200, 25, 2), dtype=float32, min=-2.403, max=4.8, mean=-0.899),\n",
      "\u001b[2m\u001b[36m(pid=21047)\u001b[0m                         'prev_actions': np.ndarray((200,), dtype=int64, min=0.0, max=1.0, mean=0.465),\n",
      "\u001b[2m\u001b[36m(pid=21047)\u001b[0m                         'prev_rewards': np.ndarray((200,), dtype=float32, min=-0.942, max=0.941, mean=0.069),\n",
      "\u001b[2m\u001b[36m(pid=21047)\u001b[0m                         'rewards': np.ndarray((200,), dtype=float32, min=-1.0, max=1.0, mean=0.125),\n",
      "\u001b[2m\u001b[36m(pid=21047)\u001b[0m                         't': np.ndarray((200,), dtype=int64, min=0.0, max=199.0, mean=99.5),\n",
      "\u001b[2m\u001b[36m(pid=21047)\u001b[0m                         'unroll_id': np.ndarray((200,), dtype=int64, min=0.0, max=0.0, mean=0.0),\n",
      "\u001b[2m\u001b[36m(pid=21047)\u001b[0m                         'value_targets': np.ndarray((200,), dtype=float32, min=-1.0, max=1.0, mean=0.125),\n",
      "\u001b[2m\u001b[36m(pid=21047)\u001b[0m                         'vf_preds': np.ndarray((200,), dtype=float32, min=-1.662, max=1.33, mean=0.458)},\n",
      "\u001b[2m\u001b[36m(pid=21047)\u001b[0m               'type': 'SampleBatch'}}\n",
      "\u001b[2m\u001b[36m(pid=21047)\u001b[0m \n",
      "\u001b[2m\u001b[36m(pid=21047)\u001b[0m 2021-07-16 11:56:50,714\tINFO rollout_worker.py:594 -- Completed sample batch:\n",
      "\u001b[2m\u001b[36m(pid=21047)\u001b[0m \n",
      "\u001b[2m\u001b[36m(pid=21047)\u001b[0m { 'data': { 'action_dist_inputs': np.ndarray((200, 2), dtype=float32, min=-0.014, max=0.012, mean=-0.0),\n",
      "\u001b[2m\u001b[36m(pid=21047)\u001b[0m             'action_logp': np.ndarray((200,), dtype=float32, min=-0.701, max=-0.685, mean=-0.693),\n",
      "\u001b[2m\u001b[36m(pid=21047)\u001b[0m             'action_prob': np.ndarray((200,), dtype=float32, min=0.496, max=0.504, mean=0.5),\n",
      "\u001b[2m\u001b[36m(pid=21047)\u001b[0m             'actions': np.ndarray((200,), dtype=int64, min=0.0, max=1.0, mean=0.465),\n",
      "\u001b[2m\u001b[36m(pid=21047)\u001b[0m             'advantages': np.ndarray((200,), dtype=float32, min=-2.329, max=2.662, mean=-0.333),\n",
      "\u001b[2m\u001b[36m(pid=21047)\u001b[0m             'agent_index': np.ndarray((200,), dtype=int64, min=0.0, max=0.0, mean=0.0),\n",
      "\u001b[2m\u001b[36m(pid=21047)\u001b[0m             'dones': np.ndarray((200,), dtype=bool, min=0.0, max=0.0, mean=0.0),\n",
      "\u001b[2m\u001b[36m(pid=21047)\u001b[0m             'eps_id': np.ndarray((200,), dtype=int64, min=1840518560.0, max=1840518560.0, mean=1840518560.0),\n",
      "\u001b[2m\u001b[36m(pid=21047)\u001b[0m             'infos': np.ndarray((200,), dtype=object, head={'step': 1, 'net_worth': 997.0188139832519}),\n",
      "\u001b[2m\u001b[36m(pid=21047)\u001b[0m             'new_obs': np.ndarray((200, 25, 2), dtype=float32, min=-2.403, max=4.8, mean=-0.9),\n",
      "\u001b[2m\u001b[36m(pid=21047)\u001b[0m             'obs': np.ndarray((200, 25, 2), dtype=float32, min=-2.403, max=4.8, mean=-0.899),\n",
      "\u001b[2m\u001b[36m(pid=21047)\u001b[0m             'prev_actions': np.ndarray((200,), dtype=int64, min=0.0, max=1.0, mean=0.465),\n",
      "\u001b[2m\u001b[36m(pid=21047)\u001b[0m             'prev_rewards': np.ndarray((200,), dtype=float32, min=-0.942, max=0.941, mean=0.069),\n",
      "\u001b[2m\u001b[36m(pid=21047)\u001b[0m             'rewards': np.ndarray((200,), dtype=float32, min=-1.0, max=1.0, mean=0.125),\n",
      "\u001b[2m\u001b[36m(pid=21047)\u001b[0m             't': np.ndarray((200,), dtype=int64, min=0.0, max=199.0, mean=99.5),\n",
      "\u001b[2m\u001b[36m(pid=21047)\u001b[0m             'unroll_id': np.ndarray((200,), dtype=int64, min=0.0, max=0.0, mean=0.0),\n",
      "\u001b[2m\u001b[36m(pid=21047)\u001b[0m             'value_targets': np.ndarray((200,), dtype=float32, min=-1.0, max=1.0, mean=0.125),\n",
      "\u001b[2m\u001b[36m(pid=21047)\u001b[0m             'vf_preds': np.ndarray((200,), dtype=float32, min=-1.662, max=1.33, mean=0.458)},\n",
      "\u001b[2m\u001b[36m(pid=21047)\u001b[0m   'type': 'SampleBatch'}\n",
      "\u001b[2m\u001b[36m(pid=21047)\u001b[0m \n",
      "\u001b[2m\u001b[36m(pid=21034)\u001b[0m 2021-07-16 11:56:51,724\tINFO rollout_worker.py:734 -- Training on concatenated sample batches:\n",
      "\u001b[2m\u001b[36m(pid=21034)\u001b[0m \n",
      "\u001b[2m\u001b[36m(pid=21034)\u001b[0m { 'count': 128,\n",
      "\u001b[2m\u001b[36m(pid=21034)\u001b[0m   'policy_batches': { 'default_policy': { 'data': { 'action_dist_inputs': np.ndarray((128, 2), dtype=float32, min=-0.015, max=0.011, mean=-0.0),\n",
      "\u001b[2m\u001b[36m(pid=21034)\u001b[0m                                                     'action_logp': np.ndarray((128,), dtype=float32, min=-0.701, max=-0.685, mean=-0.693),\n",
      "\u001b[2m\u001b[36m(pid=21034)\u001b[0m                                                     'action_prob': np.ndarray((128,), dtype=float32, min=0.496, max=0.504, mean=0.5),\n",
      "\u001b[2m\u001b[36m(pid=21034)\u001b[0m                                                     'actions': np.ndarray((128,), dtype=int64, min=0.0, max=1.0, mean=0.508),\n",
      "\u001b[2m\u001b[36m(pid=21034)\u001b[0m                                                     'advantages': np.ndarray((128,), dtype=float32, min=-1.583, max=1.892, mean=0.122),\n",
      "\u001b[2m\u001b[36m(pid=21034)\u001b[0m                                                     'agent_index': np.ndarray((128,), dtype=int64, min=0.0, max=0.0, mean=0.0),\n",
      "\u001b[2m\u001b[36m(pid=21034)\u001b[0m                                                     'dones': np.ndarray((128,), dtype=bool, min=0.0, max=0.0, mean=0.0),\n",
      "\u001b[2m\u001b[36m(pid=21034)\u001b[0m                                                     'eps_id': np.ndarray((128,), dtype=int64, min=310601316.0, max=1840518560.0, mean=1409398818.781),\n",
      "\u001b[2m\u001b[36m(pid=21034)\u001b[0m                                                     'infos': np.ndarray((128,), dtype=object, head={'step': 278, 'net_worth': 673.9527294204677}),\n",
      "\u001b[2m\u001b[36m(pid=21034)\u001b[0m                                                     'new_obs': np.ndarray((128, 25, 2), dtype=float32, min=-2.403, max=4.129, mean=-0.162),\n",
      "\u001b[2m\u001b[36m(pid=21034)\u001b[0m                                                     'obs': np.ndarray((128, 25, 2), dtype=float32, min=-2.397, max=4.8, mean=-0.162),\n",
      "\u001b[2m\u001b[36m(pid=21034)\u001b[0m                                                     'prev_actions': np.ndarray((128,), dtype=int64, min=0.0, max=1.0, mean=0.438),\n",
      "\u001b[2m\u001b[36m(pid=21034)\u001b[0m                                                     'prev_rewards': np.ndarray((128,), dtype=float32, min=-0.941, max=0.941, mean=0.063),\n",
      "\u001b[2m\u001b[36m(pid=21034)\u001b[0m                                                     'rewards': np.ndarray((128,), dtype=float32, min=-1.0, max=1.0, mean=0.102),\n",
      "\u001b[2m\u001b[36m(pid=21034)\u001b[0m                                                     't': np.ndarray((128,), dtype=int64, min=0.0, max=586.0, mean=293.023),\n",
      "\u001b[2m\u001b[36m(pid=21034)\u001b[0m                                                     'unroll_id': np.ndarray((128,), dtype=int64, min=0.0, max=3.0, mean=0.992),\n",
      "\u001b[2m\u001b[36m(pid=21034)\u001b[0m                                                     'value_targets': np.ndarray((128,), dtype=float32, min=-1.0, max=1.0, mean=0.102),\n",
      "\u001b[2m\u001b[36m(pid=21034)\u001b[0m                                                     'vf_preds': np.ndarray((128,), dtype=float32, min=-1.382, max=1.33, mean=0.11)},\n",
      "\u001b[2m\u001b[36m(pid=21034)\u001b[0m                                           'type': 'SampleBatch'}},\n",
      "\u001b[2m\u001b[36m(pid=21034)\u001b[0m   'type': 'MultiAgentBatch'}\n",
      "\u001b[2m\u001b[36m(pid=21034)\u001b[0m \n",
      "\u001b[2m\u001b[36m(pid=21034)\u001b[0m 2021-07-16 11:56:51,731\tDEBUG rollout_worker.py:760 -- Training out:\n",
      "\u001b[2m\u001b[36m(pid=21034)\u001b[0m \n",
      "\u001b[2m\u001b[36m(pid=21034)\u001b[0m { 'default_policy': { 'learner_stats': { 'allreduce_latency': 0.0,\n",
      "\u001b[2m\u001b[36m(pid=21034)\u001b[0m                                          'cur_kl_coeff': 0.2,\n",
      "\u001b[2m\u001b[36m(pid=21034)\u001b[0m                                          'cur_lr': 8e-06,\n",
      "\u001b[2m\u001b[36m(pid=21034)\u001b[0m                                          'entropy': 0.6931400895118713,\n",
      "\u001b[2m\u001b[36m(pid=21034)\u001b[0m                                          'entropy_coeff': 0.01,\n",
      "\u001b[2m\u001b[36m(pid=21034)\u001b[0m                                          'kl': 9.317304705547258e-10,\n",
      "\u001b[2m\u001b[36m(pid=21034)\u001b[0m                                          'policy_loss': -0.12197797000408173,\n",
      "\u001b[2m\u001b[36m(pid=21034)\u001b[0m                                          'total_loss': 0.8254619836807251,\n",
      "\u001b[2m\u001b[36m(pid=21034)\u001b[0m                                          'vf_explained_var': np.ndarray((1,), dtype=float32, min=-0.923, max=-0.923, mean=-0.923),\n",
      "\u001b[2m\u001b[36m(pid=21034)\u001b[0m                                          'vf_loss': 1.9087425470352173}}}\n",
      "\u001b[2m\u001b[36m(pid=21034)\u001b[0m \n",
      "\u001b[2m\u001b[36m(pid=21034)\u001b[0m 2021-07-16 11:56:51,898\tDEBUG sgd.py:120 -- 0 {'allreduce_latency': 0.0, 'cur_kl_coeff': 0.2, 'cur_lr': 8e-06, 'total_loss': 0.7885794892455592, 'policy_loss': -0.008092167138150244, 'vf_loss': 1.6071591268886218, 'vf_explained_var': -0.5789319, 'kl': 0.00011173956159302251, 'entropy': 0.6930263060511965, 'entropy_coeff': 0.01}\n"
     ]
    },
    {
     "name": "stderr",
     "output_type": "stream",
     "text": [
      "\u001b[2m\u001b[36m(pid=21034)\u001b[0m 2021-07-16 11:56:52,091\tDEBUG sgd.py:120 -- 1 {'allreduce_latency': 0.0, 'cur_kl_coeff': 0.2, 'cur_lr': 8e-06, 'total_loss': 0.6068569737853426, 'policy_loss': -0.026543603222252743, 'vf_loss': 1.280300169280081, 'vf_explained_var': -0.27262497, 'kl': 0.0008660618782001125, 'entropy': 0.6922712488607927, 'entropy_coeff': 0.01}\n",
      "\u001b[2m\u001b[36m(pid=21034)\u001b[0m 2021-07-16 11:56:52,278\tDEBUG sgd.py:120 -- 2 {'allreduce_latency': 0.0, 'cur_kl_coeff': 0.2, 'cur_lr': 8e-06, 'total_loss': 0.5132038855191433, 'policy_loss': -0.04701371725197091, 'vf_loss': 1.1331717390002627, 'vf_explained_var': -0.13390483, 'kl': 0.00268162601754408, 'entropy': 0.6904596198688854, 'entropy_coeff': 0.01}\n",
      "\u001b[2m\u001b[36m(pid=21034)\u001b[0m 2021-07-16 11:56:52,458\tDEBUG sgd.py:120 -- 3 {'allreduce_latency': 0.0, 'cur_kl_coeff': 0.2, 'cur_lr': 8e-06, 'total_loss': 0.45415622447476245, 'policy_loss': -0.07117710691509825, 'vf_loss': 1.0619501634077593, 'vf_explained_var': -0.06306782, 'kl': 0.006142479847326424, 'entropy': 0.6870238293300975, 'entropy_coeff': 0.01}\n",
      "\u001b[2m\u001b[36m(pid=21034)\u001b[0m 2021-07-16 11:56:52,640\tDEBUG sgd.py:120 -- 4 {'allreduce_latency': 0.0, 'cur_kl_coeff': 0.2, 'cur_lr': 8e-06, 'total_loss': 0.41011935562798474, 'policy_loss': -0.09944577763477962, 'vf_loss': 1.028001637169809, 'vf_explained_var': -0.029542817, 'kl': 0.011889940833277775, 'entropy': 0.6813669511766145, 'entropy_coeff': 0.01}\n",
      "\u001b[2m\u001b[36m(pid=21034)\u001b[0m 2021-07-16 11:56:52,795\tDEBUG sgd.py:120 -- 5 {'allreduce_latency': 0.0, 'cur_kl_coeff': 0.2, 'cur_lr': 8e-06, 'total_loss': 0.3744499683380127, 'policy_loss': -0.12932393158024008, 'vf_loss': 1.012751301129659, 'vf_explained_var': -0.014065575, 'kl': 0.020634786366964832, 'entropy': 0.6728706486297377, 'entropy_coeff': 0.01}\n",
      "\u001b[2m\u001b[36m(pid=21034)\u001b[0m 2021-07-16 11:56:52,965\tDEBUG sgd.py:120 -- 6 {'allreduce_latency': 0.0, 'cur_kl_coeff': 0.2, 'cur_lr': 8e-06, 'total_loss': 0.3459434328657208, 'policy_loss': -0.15717175738378006, 'vf_loss': 1.0067629001357339, 'vf_explained_var': -0.007846148, 'kl': 0.03177986130344145, 'entropy': 0.6622228423754374, 'entropy_coeff': 0.01}\n",
      "\u001b[2m\u001b[36m(pid=21034)\u001b[0m 2021-07-16 11:56:53,129\tDEBUG sgd.py:120 -- 7 {'allreduce_latency': 0.0, 'cur_kl_coeff': 0.2, 'cur_lr': 8e-06, 'total_loss': 0.3375983436902364, 'policy_loss': -0.1658012130382386, 'vf_loss': 1.0043108734217556, 'vf_explained_var': -0.006190502, 'kl': 0.038991257322557045, 'entropy': 0.6554138335314664, 'entropy_coeff': 0.01}\n",
      "\u001b[2m\u001b[36m(pid=21034)\u001b[0m 2021-07-16 11:56:53,319\tDEBUG sgd.py:120 -- 8 {'allreduce_latency': 0.0, 'cur_kl_coeff': 0.2, 'cur_lr': 8e-06, 'total_loss': 0.3324616379810102, 'policy_loss': -0.17130038607865572, 'vf_loss': 1.0032601230072253, 'vf_explained_var': -0.004525878, 'kl': 0.04323150172378078, 'entropy': 0.6514341758959221, 'entropy_coeff': 0.01}\n",
      "\u001b[2m\u001b[36m(pid=21034)\u001b[0m 2021-07-16 11:56:53,478\tDEBUG sgd.py:120 -- 9 {'allreduce_latency': 0.0, 'cur_kl_coeff': 0.2, 'cur_lr': 8e-06, 'total_loss': 0.3311511571660186, 'policy_loss': -0.17298242557003643, 'vf_loss': 1.0027058865084792, 'vf_explained_var': -0.0040029665, 'kl': 0.04632986777208068, 'entropy': 0.6485334399974707, 'entropy_coeff': 0.01}\n",
      "\u001b[2m\u001b[36m(pid=21034)\u001b[0m 2021-07-16 11:56:53,655\tDEBUG sgd.py:120 -- 10 {'allreduce_latency': 0.0, 'cur_kl_coeff': 0.2, 'cur_lr': 8e-06, 'total_loss': 0.3295839126362945, 'policy_loss': -0.17486871626566758, 'vf_loss': 1.002361434878725, 'vf_explained_var': -0.0033116015, 'kl': 0.04867656404773394, 'entropy': 0.6463404803565054, 'entropy_coeff': 0.01}\n",
      "\u001b[2m\u001b[36m(pid=21034)\u001b[0m 2021-07-16 11:56:53,813\tDEBUG sgd.py:120 -- 11 {'allreduce_latency': 0.0, 'cur_kl_coeff': 0.2, 'cur_lr': 8e-06, 'total_loss': 0.3281185324444915, 'policy_loss': -0.17645341981992577, 'vf_loss': 1.001804687760093, 'vf_explained_var': -0.003437232, 'kl': 0.05057645972931024, 'entropy': 0.6445675907712994, 'entropy_coeff': 0.01}\n",
      "\u001b[2m\u001b[36m(pid=21034)\u001b[0m 2021-07-16 11:56:53,992\tDEBUG sgd.py:120 -- 12 {'allreduce_latency': 0.0, 'cur_kl_coeff': 0.2, 'cur_lr': 8e-06, 'total_loss': 0.32644352316856384, 'policy_loss': -0.17849442035411345, 'vf_loss': 1.0018606980641682, 'vf_explained_var': -0.00327564, 'kl': 0.05219103158874945, 'entropy': 0.6430602272351583, 'entropy_coeff': 0.01}\n",
      "\u001b[2m\u001b[36m(pid=21034)\u001b[0m 2021-07-16 11:56:54,178\tDEBUG sgd.py:120 -- 13 {'allreduce_latency': 0.0, 'cur_kl_coeff': 0.2, 'cur_lr': 8e-06, 'total_loss': 0.32501961155371234, 'policy_loss': -0.17983492452538374, 'vf_loss': 1.0011060147574453, 'vf_explained_var': -0.002616904, 'kl': 0.053595206841374886, 'entropy': 0.6417510310808817, 'entropy_coeff': 0.01}\n",
      "\u001b[2m\u001b[36m(pid=21034)\u001b[0m 2021-07-16 11:56:54,368\tDEBUG sgd.py:120 -- 14 {'allreduce_latency': 0.0, 'cur_kl_coeff': 0.2, 'cur_lr': 8e-06, 'total_loss': 0.32370853198297095, 'policy_loss': -0.18115322280562285, 'vf_loss': 1.000694468165889, 'vf_explained_var': -0.002436152, 'kl': 0.05461249794020797, 'entropy': 0.6407981063380386, 'entropy_coeff': 0.01}\n",
      "\u001b[2m\u001b[36m(pid=21034)\u001b[0m 2021-07-16 11:56:54,526\tDEBUG sgd.py:120 -- 15 {'allreduce_latency': 0.0, 'cur_kl_coeff': 0.2, 'cur_lr': 8e-06, 'total_loss': 0.3236355325489333, 'policy_loss': -0.18146522467335066, 'vf_loss': 1.0007958484418464, 'vf_explained_var': -0.0022022922, 'kl': 0.05551196544459372, 'entropy': 0.6399564146995544, 'entropy_coeff': 0.01}\n",
      "\u001b[2m\u001b[36m(pid=21034)\u001b[0m 2021-07-16 11:56:54,688\tDEBUG sgd.py:120 -- 16 {'allreduce_latency': 0.0, 'cur_kl_coeff': 0.2, 'cur_lr': 8e-06, 'total_loss': 0.3232504264874892, 'policy_loss': -0.18186337354056764, 'vf_loss': 1.000570985403928, 'vf_explained_var': -0.00263601, 'kl': 0.056111050939018074, 'entropy': 0.6393898888067766, 'entropy_coeff': 0.01}\n",
      "\u001b[2m\u001b[36m(pid=21034)\u001b[0m 2021-07-16 11:56:54,845\tDEBUG sgd.py:120 -- 17 {'allreduce_latency': 0.0, 'cur_kl_coeff': 0.2, 'cur_lr': 8e-06, 'total_loss': 0.32165718936558924, 'policy_loss': -0.18350604797403017, 'vf_loss': 1.0002655748165015, 'vf_explained_var': -0.001860353, 'kl': 0.05707697220372431, 'entropy': 0.6384942603833748, 'entropy_coeff': 0.01}\n",
      "\u001b[2m\u001b[36m(pid=21034)\u001b[0m 2021-07-16 11:56:55,021\tDEBUG sgd.py:120 -- 18 {'allreduce_latency': 0.0, 'cur_kl_coeff': 0.2, 'cur_lr': 8e-06, 'total_loss': 0.321084334543257, 'policy_loss': -0.18404021644682594, 'vf_loss': 0.999909247412826, 'vf_explained_var': -0.0018971959, 'kl': 0.05774313922632824, 'entropy': 0.6378701347293276, 'entropy_coeff': 0.01}\n",
      "\u001b[2m\u001b[36m(pid=21034)\u001b[0m 2021-07-16 11:56:55,196\tDEBUG sgd.py:120 -- 19 {'allreduce_latency': 0.0, 'cur_kl_coeff': 0.2, 'cur_lr': 8e-06, 'total_loss': 0.3208516971631484, 'policy_loss': -0.18438024096416705, 'vf_loss': 0.9998825932994033, 'vf_explained_var': -0.0014899806, 'kl': 0.058319658041000366, 'entropy': 0.6373296217484907, 'entropy_coeff': 0.01}\n",
      "\u001b[2m\u001b[36m(pid=21034)\u001b[0m 2021-07-16 11:56:55,351\tDEBUG sgd.py:120 -- 20 {'allreduce_latency': 0.0, 'cur_kl_coeff': 0.2, 'cur_lr': 8e-06, 'total_loss': 0.32084125235225214, 'policy_loss': -0.18440383988799472, 'vf_loss': 0.9998539035970514, 'vf_explained_var': -0.0019471158, 'kl': 0.05845036493106322, 'entropy': 0.6371918826392202, 'entropy_coeff': 0.01}\n",
      "\u001b[2m\u001b[36m(pid=21034)\u001b[0m 2021-07-16 11:56:55,531\tDEBUG sgd.py:120 -- 21 {'allreduce_latency': 0.0, 'cur_kl_coeff': 0.2, 'cur_lr': 8e-06, 'total_loss': 0.3205293132500215, 'policy_loss': -0.18458263564741972, 'vf_loss': 0.9993674845406504, 'vf_explained_var': -0.0015329358, 'kl': 0.05897616922403827, 'entropy': 0.6367026495211052, 'entropy_coeff': 0.01}\n",
      "\u001b[2m\u001b[36m(pid=21034)\u001b[0m 2021-07-16 11:56:55,738\tDEBUG sgd.py:120 -- 22 {'allreduce_latency': 0.0, 'cur_kl_coeff': 0.2, 'cur_lr': 8e-06, 'total_loss': 0.31957362727685407, 'policy_loss': -0.18559955709585638, 'vf_loss': 0.9994210998217264, 'vf_explained_var': -0.0016178616, 'kl': 0.059140164969545425, 'entropy': 0.6365401871276625, 'entropy_coeff': 0.01}\n",
      "\u001b[2m\u001b[36m(pid=21034)\u001b[0m 2021-07-16 11:56:55,928\tDEBUG sgd.py:120 -- 23 {'allreduce_latency': 0.0, 'cur_kl_coeff': 0.2, 'cur_lr': 8e-06, 'total_loss': 0.3197999461130662, 'policy_loss': -0.18525617693861327, 'vf_loss': 0.9991349921082006, 'vf_explained_var': -0.001306765, 'kl': 0.05926389416510409, 'entropy': 0.6364152864976362, 'entropy_coeff': 0.01}\n",
      "\u001b[2m\u001b[36m(pid=21034)\u001b[0m 2021-07-16 11:56:56,103\tDEBUG sgd.py:120 -- 24 {'allreduce_latency': 0.0, 'cur_kl_coeff': 0.2, 'cur_lr': 8e-06, 'total_loss': 0.3186645686174884, 'policy_loss': -0.18633971013354533, 'vf_loss': 0.9990048841996626, 'vf_explained_var': -0.0010701653, 'kl': 0.059326386925849045, 'entropy': 0.6363441438385935, 'entropy_coeff': 0.01}\n"
     ]
    },
    {
     "name": "stderr",
     "output_type": "stream",
     "text": [
      "\u001b[2m\u001b[36m(pid=21034)\u001b[0m 2021-07-16 11:56:56,259\tDEBUG sgd.py:120 -- 25 {'allreduce_latency': 0.0, 'cur_kl_coeff': 0.2, 'cur_lr': 8e-06, 'total_loss': 0.3193395733833313, 'policy_loss': -0.18572976620811404, 'vf_loss': 0.9990752140680949, 'vf_explained_var': -0.0017201792, 'kl': 0.05946867596922499, 'entropy': 0.6362002762881193, 'entropy_coeff': 0.01}\n",
      "\u001b[2m\u001b[36m(pid=21034)\u001b[0m 2021-07-16 11:56:56,412\tDEBUG sgd.py:120 -- 26 {'allreduce_latency': 0.0, 'cur_kl_coeff': 0.2, 'cur_lr': 8e-06, 'total_loss': 0.3177371273438136, 'policy_loss': -0.1874501019942038, 'vf_loss': 0.9992563020099293, 'vf_explained_var': -0.0014141257, 'kl': 0.05959905683994293, 'entropy': 0.6360730655265577, 'entropy_coeff': 0.01}\n",
      "\u001b[2m\u001b[36m(pid=21034)\u001b[0m 2021-07-16 11:56:56,572\tDEBUG sgd.py:120 -- 27 {'allreduce_latency': 0.0, 'cur_kl_coeff': 0.2, 'cur_lr': 8e-06, 'total_loss': 0.3175960575992411, 'policy_loss': -0.18735373099193428, 'vf_loss': 0.9988158363284487, 'vf_explained_var': -0.0009668867, 'kl': 0.059516206948143066, 'entropy': 0.636136820822051, 'entropy_coeff': 0.01}\n",
      "\u001b[2m\u001b[36m(pid=21034)\u001b[0m 2021-07-16 11:56:56,726\tDEBUG sgd.py:120 -- 28 {'allreduce_latency': 0.0, 'cur_kl_coeff': 0.2, 'cur_lr': 8e-06, 'total_loss': 0.3173212079387723, 'policy_loss': -0.18753739965684485, 'vf_loss': 0.9987250313614354, 'vf_explained_var': -0.00072250946, 'kl': 0.05929672571294235, 'entropy': 0.6363257260033579, 'entropy_coeff': 0.01}\n"
     ]
    },
    {
     "name": "stdout",
     "output_type": "stream",
     "text": [
      "Result for PPO_TradingEnv_d625d_00000:\n",
      "  custom_metrics: {}\n",
      "  date: 2021-07-16_11-56-56\n",
      "  done: false\n",
      "  episode_len_mean: 588.3333333333334\n",
      "  episode_reward_max: -2.7349737785225443\n",
      "  episode_reward_mean: -10.418797723144962\n",
      "  episode_reward_min: -23.913504331878357\n",
      "  episodes_this_iter: 3\n",
      "  episodes_total: 3\n",
      "  experiment_id: e6369b7d95d74c47a2c2141b4142c2c5\n",
      "  experiment_tag: '0'\n",
      "  hostname: localadmin-ECA-FX44E4C\n",
      "  info:\n",
      "    learner:\n",
      "      default_policy:\n",
      "        allreduce_latency: 0.0\n",
      "        cur_kl_coeff: 0.2\n",
      "        cur_lr: 8.0e-06\n",
      "        entropy: 0.6366743716326627\n",
      "        entropy_coeff: 0.01\n",
      "        kl: 0.058896892788735306\n",
      "        policy_loss: -0.18821148495330955\n",
      "        total_loss: 0.31684848711346136\n",
      "        vf_explained_var: -0.0013237090315669775\n",
      "        vf_loss: 0.9992946729515538\n",
      "    num_steps_sampled: 4200\n",
      "    num_steps_trained: 4200\n",
      "  iterations_since_restore: 1\n",
      "  node_ip: 192.168.0.202\n",
      "  num_healthy_workers: 7\n",
      "  off_policy_estimator: {}\n",
      "  perf:\n",
      "    cpu_util_percent: 53.446666666666665\n",
      "    ram_util_percent: 42.07333333333333\n",
      "  pid: 21034\n",
      "  policy_reward_max: {}\n",
      "  policy_reward_mean: {}\n",
      "  policy_reward_min: {}\n",
      "  sampler_perf:\n",
      "    mean_env_wait_ms: 0.9700112123325408\n",
      "    mean_inference_ms: 1.4626014516939405\n",
      "    mean_processing_ms: 0.23426351055329334\n",
      "  time_since_restore: 10.135539293289185\n",
      "  time_this_iter_s: 10.135539293289185\n",
      "  time_total_s: 10.135539293289185\n",
      "  timers:\n",
      "    learn_throughput: 813.325\n",
      "    learn_time_ms: 5163.986\n",
      "    sample_throughput: 848.035\n",
      "    sample_time_ms: 4952.624\n",
      "    update_time_ms: 1.426\n",
      "  timestamp: 1626407816\n",
      "  timesteps_since_restore: 0\n",
      "  timesteps_total: 4200\n",
      "  training_iteration: 1\n",
      "  trial_id: d625d_00000\n",
      "  \n"
     ]
    },
    {
     "name": "stderr",
     "output_type": "stream",
     "text": [
      "\u001b[2m\u001b[36m(pid=21034)\u001b[0m 2021-07-16 11:56:56,886\tDEBUG sgd.py:120 -- 29 {'allreduce_latency': 0.0, 'cur_kl_coeff': 0.2, 'cur_lr': 8e-06, 'total_loss': 0.31684848711346136, 'policy_loss': -0.18821148495330955, 'vf_loss': 0.9992946729515538, 'vf_explained_var': -0.001323709, 'kl': 0.058896892788735306, 'entropy': 0.6366743716326627, 'entropy_coeff': 0.01}\n",
      "\u001b[2m\u001b[36m(pid=21034)\u001b[0m 2021-07-16 11:56:56,908\tDEBUG trainer.py:547 -- synchronized filters: {'default_policy': MeanStdFilter((25, 2), True, True, None, (n=4210, mean_mean=-0.6509717523611203, mean_std=3.746864283430924), (n=0, mean_mean=0.0, mean_std=0.0))}\n"
     ]
    },
    {
     "data": {
      "text/html": [
       "== Status ==<br>Memory usage on this node: 6.4/14.5 GiB<br>Using FIFO scheduling algorithm.<br>Resources requested: 8/8 CPUs, 0/0 GPUs, 0.0/6.74 GiB heap, 0.0/2.29 GiB objects<br>Result logdir: /home/localadmin/ray_results/PPO<br>Number of trials: 1 (1 RUNNING)<br><table>\n",
       "<thead>\n",
       "<tr><th>Trial name                </th><th>status  </th><th>loc                </th><th style=\"text-align: right;\">  iter</th><th style=\"text-align: right;\">  total time (s)</th><th style=\"text-align: right;\">  ts</th><th style=\"text-align: right;\">  reward</th></tr>\n",
       "</thead>\n",
       "<tbody>\n",
       "<tr><td>PPO_TradingEnv_d625d_00000</td><td>RUNNING </td><td>192.168.0.202:21034</td><td style=\"text-align: right;\">     1</td><td style=\"text-align: right;\">         10.1355</td><td style=\"text-align: right;\">4200</td><td style=\"text-align: right;\">-10.4188</td></tr>\n",
       "</tbody>\n",
       "</table><br><br>"
      ],
      "text/plain": [
       "<IPython.core.display.HTML object>"
      ]
     },
     "metadata": {},
     "output_type": "display_data"
    },
    {
     "name": "stderr",
     "output_type": "stream",
     "text": [
      "\u001b[2m\u001b[36m(pid=21034)\u001b[0m 2021-07-16 11:56:58,382\tDEBUG sgd.py:120 -- 0 {'allreduce_latency': 0.0, 'cur_kl_coeff': 0.30000000000000004, 'cur_lr': 0.00068, 'total_loss': 0.4475069885904139, 'policy_loss': -0.04128544272459818, 'vf_loss': 0.9887756018927603, 'vf_explained_var': -0.00078543206, 'kl': 0.002011583909506348, 'entropy': 0.6198837179126162, 'entropy_coeff': 0.01}\n",
      "\u001b[2m\u001b[36m(pid=21034)\u001b[0m 2021-07-16 11:56:58,536\tDEBUG sgd.py:120 -- 1 {'allreduce_latency': 0.0, 'cur_kl_coeff': 0.30000000000000004, 'cur_lr': 0.00068, 'total_loss': 0.35519561577926984, 'policy_loss': -0.13566749226866345, 'vf_loss': 0.9827776876362887, 'vf_explained_var': -0.0005351305, 'kl': 0.017151948375006516, 'entropy': 0.5671328035267916, 'entropy_coeff': 0.01}\n",
      "\u001b[2m\u001b[36m(pid=21034)\u001b[0m 2021-07-16 11:56:58,692\tDEBUG sgd.py:120 -- 2 {'allreduce_latency': 0.0, 'cur_kl_coeff': 0.30000000000000004, 'cur_lr': 0.00068, 'total_loss': 0.3216180182767637, 'policy_loss': -0.17108606885779987, 'vf_loss': 0.9774592518806458, 'vf_explained_var': 0.00037035617, 'kl': 0.031134732857798084, 'entropy': 0.5365959604581197, 'entropy_coeff': 0.01}\n",
      "\u001b[2m\u001b[36m(pid=21034)\u001b[0m 2021-07-16 11:56:58,846\tDEBUG sgd.py:120 -- 3 {'allreduce_latency': 0.0, 'cur_kl_coeff': 0.30000000000000004, 'cur_lr': 0.00068, 'total_loss': 0.3050376068462025, 'policy_loss': -0.18785841977505974, 'vf_loss': 0.9728456446618745, 'vf_explained_var': -1.4393619e-05, 'kl': 0.039003855351245766, 'entropy': 0.5227960763555585, 'entropy_coeff': 0.01}\n",
      "\u001b[2m\u001b[36m(pid=21034)\u001b[0m 2021-07-16 11:56:59,004\tDEBUG sgd.py:120 -- 4 {'allreduce_latency': 0.0, 'cur_kl_coeff': 0.30000000000000004, 'cur_lr': 0.00068, 'total_loss': 0.2935733822259036, 'policy_loss': -0.19970033605667678, 'vf_loss': 0.968947379878073, 'vf_explained_var': 0.0008289146, 'kl': 0.046375794392643555, 'entropy': 0.511270905082876, 'entropy_coeff': 0.01}\n",
      "\u001b[2m\u001b[36m(pid=21034)\u001b[0m 2021-07-16 11:56:59,187\tDEBUG sgd.py:120 -- 5 {'allreduce_latency': 0.0, 'cur_kl_coeff': 0.30000000000000004, 'cur_lr': 0.00068, 'total_loss': 0.2835146432573145, 'policy_loss': -0.2102518847042864, 'vf_loss': 0.9650587078296777, 'vf_explained_var': 0.001291909, 'kl': 0.054128472777930176, 'entropy': 0.5001368504582029, 'entropy_coeff': 0.01}\n",
      "\u001b[2m\u001b[36m(pid=21034)\u001b[0m 2021-07-16 11:56:59,355\tDEBUG sgd.py:120 -- 6 {'allreduce_latency': 0.0, 'cur_kl_coeff': 0.30000000000000004, 'cur_lr': 0.00068, 'total_loss': 0.27522575494014856, 'policy_loss': -0.2194716879589991, 'vf_loss': 0.9619655717502941, 'vf_explained_var': 0.00060033076, 'kl': 0.06203407004024043, 'entropy': 0.48955705671599414, 'entropy_coeff': 0.01}\n",
      "\u001b[2m\u001b[36m(pid=21034)\u001b[0m 2021-07-16 11:56:59,513\tDEBUG sgd.py:120 -- 7 {'allreduce_latency': 0.0, 'cur_kl_coeff': 0.30000000000000004, 'cur_lr': 0.00068, 'total_loss': 0.2691801881248301, 'policy_loss': -0.22646668034069467, 'vf_loss': 0.9590478828459075, 'vf_explained_var': 0.0010350292, 'kl': 0.06973935223438522, 'entropy': 0.47988775914365595, 'entropy_coeff': 0.01}\n",
      "\u001b[2m\u001b[36m(pid=21034)\u001b[0m 2021-07-16 11:56:59,673\tDEBUG sgd.py:120 -- 8 {'allreduce_latency': 0.0, 'cur_kl_coeff': 0.30000000000000004, 'cur_lr': 0.00068, 'total_loss': 0.26498313361045084, 'policy_loss': -0.23155894243355954, 'vf_loss': 0.9562399730537877, 'vf_explained_var': 0.0018425981, 'kl': 0.07709647647359154, 'entropy': 0.4706864068002412, 'entropy_coeff': 0.01}\n",
      "\u001b[2m\u001b[36m(pid=21034)\u001b[0m 2021-07-16 11:56:59,828\tDEBUG sgd.py:120 -- 9 {'allreduce_latency': 0.0, 'cur_kl_coeff': 0.30000000000000004, 'cur_lr': 0.00068, 'total_loss': 0.26155510341579263, 'policy_loss': -0.2360335590712952, 'vf_loss': 0.9545400792902167, 'vf_explained_var': 0.00061215233, 'kl': 0.08317606151103973, 'entropy': 0.46341968214873114, 'entropy_coeff': 0.01}\n",
      "\u001b[2m\u001b[36m(pid=21034)\u001b[0m 2021-07-16 11:56:59,986\tDEBUG sgd.py:120 -- 10 {'allreduce_latency': 0.0, 'cur_kl_coeff': 0.30000000000000004, 'cur_lr': 0.00068, 'total_loss': 0.2585866993123835, 'policy_loss': -0.23932711734916223, 'vf_loss': 0.951559204043764, 'vf_explained_var': 0.0017362852, 'kl': 0.08900337553385532, 'entropy': 0.4566800693670909, 'entropy_coeff': 0.01}\n",
      "\u001b[2m\u001b[36m(pid=21034)\u001b[0m 2021-07-16 11:57:00,138\tDEBUG sgd.py:120 -- 11 {'allreduce_latency': 0.0, 'cur_kl_coeff': 0.30000000000000004, 'cur_lr': 0.00068, 'total_loss': 0.2565628868160826, 'policy_loss': -0.24186466656851047, 'vf_loss': 0.9495485497243477, 'vf_explained_var': 0.0021703858, 'kl': 0.09388619774218762, 'entropy': 0.4512586133046584, 'entropy_coeff': 0.01}\n",
      "\u001b[2m\u001b[36m(pid=21034)\u001b[0m 2021-07-16 11:57:00,294\tDEBUG sgd.py:120 -- 12 {'allreduce_latency': 0.0, 'cur_kl_coeff': 0.30000000000000004, 'cur_lr': 0.00068, 'total_loss': 0.25381006887464813, 'policy_loss': -0.245191276299231, 'vf_loss': 0.9475315068707322, 'vf_explained_var': 0.0014386809, 'kl': 0.098966238850897, 'entropy': 0.4454287254449093, 'entropy_coeff': 0.01}\n",
      "\u001b[2m\u001b[36m(pid=21034)\u001b[0m 2021-07-16 11:57:00,448\tDEBUG sgd.py:120 -- 13 {'allreduce_latency': 0.0, 'cur_kl_coeff': 0.30000000000000004, 'cur_lr': 0.00068, 'total_loss': 0.2526272101835771, 'policy_loss': -0.24648610637946564, 'vf_loss': 0.9454347563512397, 'vf_explained_var': 0.002306754, 'kl': 0.1027045834696654, 'entropy': 0.4415431943806735, 'entropy_coeff': 0.01}\n",
      "\u001b[2m\u001b[36m(pid=21034)\u001b[0m 2021-07-16 11:57:00,603\tDEBUG sgd.py:120 -- 14 {'allreduce_latency': 0.0, 'cur_kl_coeff': 0.30000000000000004, 'cur_lr': 0.00068, 'total_loss': 0.250507280004747, 'policy_loss': -0.2487595465147134, 'vf_loss': 0.9434120040951353, 'vf_explained_var': 0.002334349, 'kl': 0.10645273034319733, 'entropy': 0.43749944549618347, 'entropy_coeff': 0.01}\n",
      "\u001b[2m\u001b[36m(pid=21034)\u001b[0m 2021-07-16 11:57:00,754\tDEBUG sgd.py:120 -- 15 {'allreduce_latency': 0.0, 'cur_kl_coeff': 0.30000000000000004, 'cur_lr': 0.00068, 'total_loss': 0.2502434626221657, 'policy_loss': -0.24936839893008722, 'vf_loss': 0.9421335621313616, 'vf_explained_var': 0.002080585, 'kl': 0.10962463576685298, 'entropy': 0.4342311476216172, 'entropy_coeff': 0.01}\n",
      "\u001b[2m\u001b[36m(pid=21034)\u001b[0m 2021-07-16 11:57:00,911\tDEBUG sgd.py:120 -- 16 {'allreduce_latency': 0.0, 'cur_kl_coeff': 0.30000000000000004, 'cur_lr': 0.00068, 'total_loss': 0.24903497686891846, 'policy_loss': -0.25059981260335806, 'vf_loss': 0.9404318874532526, 'vf_explained_var': 0.0022035404, 'kl': 0.11243756025126486, 'entropy': 0.4312425300930486, 'entropy_coeff': 0.01}\n",
      "\u001b[2m\u001b[36m(pid=21034)\u001b[0m 2021-07-16 11:57:01,064\tDEBUG sgd.py:120 -- 17 {'allreduce_latency': 0.0, 'cur_kl_coeff': 0.30000000000000004, 'cur_lr': 0.00068, 'total_loss': 0.24713923262827325, 'policy_loss': -0.25237438771309273, 'vf_loss': 0.9386920025854399, 'vf_explained_var': 0.0019209945, 'kl': 0.11485122302264879, 'entropy': 0.42877541527603613, 'entropy_coeff': 0.01}\n",
      "\u001b[2m\u001b[36m(pid=21034)\u001b[0m 2021-07-16 11:57:01,222\tDEBUG sgd.py:120 -- 18 {'allreduce_latency': 0.0, 'cur_kl_coeff': 0.30000000000000004, 'cur_lr': 0.00068, 'total_loss': 0.246366999817617, 'policy_loss': -0.2533389124454874, 'vf_loss': 0.9377776655283842, 'vf_explained_var': 0.0022090492, 'kl': 0.11694457765781519, 'entropy': 0.4266292362502127, 'entropy_coeff': 0.01}\n",
      "\u001b[2m\u001b[36m(pid=21034)\u001b[0m 2021-07-16 11:57:01,374\tDEBUG sgd.py:120 -- 19 {'allreduce_latency': 0.0, 'cur_kl_coeff': 0.30000000000000004, 'cur_lr': 0.00068, 'total_loss': 0.24530822456334578, 'policy_loss': -0.2541786962837884, 'vf_loss': 0.9362539992187963, 'vf_explained_var': 0.0020651943, 'kl': 0.118695788537011, 'entropy': 0.4248813201080669, 'entropy_coeff': 0.01}\n",
      "\u001b[2m\u001b[36m(pid=21034)\u001b[0m 2021-07-16 11:57:01,530\tDEBUG sgd.py:120 -- 20 {'allreduce_latency': 0.0, 'cur_kl_coeff': 0.30000000000000004, 'cur_lr': 0.00068, 'total_loss': 0.24593767975315903, 'policy_loss': -0.2539244822480462, 'vf_loss': 0.936104006839521, 'vf_explained_var': 0.0012299039, 'kl': 0.12015053629875183, 'entropy': 0.4235017245466059, 'entropy_coeff': 0.01}\n",
      "\u001b[2m\u001b[36m(pid=21034)\u001b[0m 2021-07-16 11:57:01,682\tDEBUG sgd.py:120 -- 21 {'allreduce_latency': 0.0, 'cur_kl_coeff': 0.30000000000000004, 'cur_lr': 0.00068, 'total_loss': 0.24430484866554086, 'policy_loss': -0.25475878471677954, 'vf_loss': 0.9336947491674712, 'vf_explained_var': 0.0022883469, 'kl': 0.12145848165858876, 'entropy': 0.422128441658887, 'entropy_coeff': 0.01}\n",
      "\u001b[2m\u001b[36m(pid=21034)\u001b[0m 2021-07-16 11:57:01,839\tDEBUG sgd.py:120 -- 22 {'allreduce_latency': 0.0, 'cur_kl_coeff': 0.30000000000000004, 'cur_lr': 0.00068, 'total_loss': 0.24380484302387093, 'policy_loss': -0.2551403534457539, 'vf_loss': 0.9327151359933795, 'vf_explained_var': 0.0027235637, 'kl': 0.12265499568346774, 'entropy': 0.42088720112135913, 'entropy_coeff': 0.01}\n",
      "\u001b[2m\u001b[36m(pid=21034)\u001b[0m 2021-07-16 11:57:01,994\tDEBUG sgd.py:120 -- 23 {'allreduce_latency': 0.0, 'cur_kl_coeff': 0.30000000000000004, 'cur_lr': 0.00068, 'total_loss': 0.2427911444030928, 'policy_loss': -0.2558501462141673, 'vf_loss': 0.9316298672647187, 'vf_explained_var': 0.0024402647, 'kl': 0.12342844226143578, 'entropy': 0.4202175465497104, 'entropy_coeff': 0.01}\n"
     ]
    },
    {
     "name": "stderr",
     "output_type": "stream",
     "text": [
      "\u001b[2m\u001b[36m(pid=21034)\u001b[0m 2021-07-16 11:57:02,153\tDEBUG sgd.py:120 -- 24 {'allreduce_latency': 0.0, 'cur_kl_coeff': 0.30000000000000004, 'cur_lr': 0.00068, 'total_loss': 0.24286694892428137, 'policy_loss': -0.25567009751543857, 'vf_loss': 0.9308979186144742, 'vf_explained_var': 0.002328504, 'kl': 0.12427158924666318, 'entropy': 0.41933893796169397, 'entropy_coeff': 0.01}\n",
      "\u001b[2m\u001b[36m(pid=21034)\u001b[0m 2021-07-16 11:57:02,308\tDEBUG sgd.py:120 -- 25 {'allreduce_latency': 0.0, 'cur_kl_coeff': 0.30000000000000004, 'cur_lr': 0.00068, 'total_loss': 0.24218538922793936, 'policy_loss': -0.25614016886913415, 'vf_loss': 0.9301644744295062, 'vf_explained_var': 0.0024450675, 'kl': 0.12477256854375203, 'entropy': 0.4188450656153939, 'entropy_coeff': 0.01}\n",
      "\u001b[2m\u001b[36m(pid=21034)\u001b[0m 2021-07-16 11:57:02,463\tDEBUG sgd.py:120 -- 26 {'allreduce_latency': 0.0, 'cur_kl_coeff': 0.30000000000000004, 'cur_lr': 0.00068, 'total_loss': 0.24077227960030237, 'policy_loss': -0.25690865561817633, 'vf_loss': 0.928649618770137, 'vf_explained_var': 0.0027187124, 'kl': 0.1251332127686703, 'entropy': 0.4183845872228796, 'entropy_coeff': 0.01}\n",
      "\u001b[2m\u001b[36m(pid=21034)\u001b[0m 2021-07-16 11:57:02,626\tDEBUG sgd.py:120 -- 27 {'allreduce_latency': 0.0, 'cur_kl_coeff': 0.30000000000000004, 'cur_lr': 0.00068, 'total_loss': 0.239321603242195, 'policy_loss': -0.25773954820452316, 'vf_loss': 0.9276837832999952, 'vf_explained_var': 0.0024535458, 'kl': 0.12469614048798879, 'entropy': 0.41895863594430865, 'entropy_coeff': 0.01}\n"
     ]
    },
    {
     "name": "stdout",
     "output_type": "stream",
     "text": [
      "Result for PPO_TradingEnv_d625d_00000:\n",
      "  custom_metrics: {}\n",
      "  date: 2021-07-16_11-57-02\n",
      "  done: false\n",
      "  episode_len_mean: 613.0\n",
      "  episode_reward_max: 53.20401956274509\n",
      "  episode_reward_mean: 10.138647250092617\n",
      "  episode_reward_min: -23.913504331878357\n",
      "  episodes_this_iter: 4\n",
      "  episodes_total: 7\n",
      "  experiment_id: e6369b7d95d74c47a2c2141b4142c2c5\n",
      "  experiment_tag: '0'\n",
      "  hostname: localadmin-ECA-FX44E4C\n",
      "  info:\n",
      "    learner:\n",
      "      default_policy:\n",
      "        allreduce_latency: 0.0\n",
      "        cur_kl_coeff: 0.30000000000000004\n",
      "        cur_lr: 0.00068\n",
      "        entropy: 0.4196918353889928\n",
      "        entropy_coeff: 0.01\n",
      "        kl: 0.12418119202960622\n",
      "        policy_loss: -0.25782107471516635\n",
      "        total_loss: 0.23847941376946188\n",
      "        vf_explained_var: 0.0021332339383661747\n",
      "        vf_loss: 0.9264861020174894\n",
      "    num_steps_sampled: 8400\n",
      "    num_steps_trained: 8400\n",
      "  iterations_since_restore: 2\n",
      "  node_ip: 192.168.0.202\n",
      "  num_healthy_workers: 7\n",
      "  off_policy_estimator: {}\n",
      "  perf:\n",
      "    cpu_util_percent: 32.47777777777778\n",
      "    ram_util_percent: 44.0\n",
      "  pid: 21034\n",
      "  policy_reward_max: {}\n",
      "  policy_reward_mean: {}\n",
      "  policy_reward_min: {}\n",
      "  sampler_perf:\n",
      "    mean_env_wait_ms: 0.9325402104948513\n",
      "    mean_inference_ms: 1.3352797494128683\n",
      "    mean_processing_ms: 0.2278246289943817\n",
      "  time_since_restore: 16.157192707061768\n",
      "  time_this_iter_s: 6.021653413772583\n",
      "  time_total_s: 16.157192707061768\n",
      "  timers:\n",
      "    learn_throughput: 850.047\n",
      "    learn_time_ms: 4940.906\n",
      "    sample_throughput: 1343.849\n",
      "    sample_time_ms: 3125.351\n",
      "    update_time_ms: 1.438\n",
      "  timestamp: 1626407822\n",
      "  timesteps_since_restore: 0\n",
      "  timesteps_total: 8400\n",
      "  training_iteration: 2\n",
      "  trial_id: d625d_00000\n",
      "  \n"
     ]
    },
    {
     "name": "stderr",
     "output_type": "stream",
     "text": [
      "\u001b[2m\u001b[36m(pid=21034)\u001b[0m 2021-07-16 11:57:02,786\tDEBUG sgd.py:120 -- 28 {'allreduce_latency': 0.0, 'cur_kl_coeff': 0.30000000000000004, 'cur_lr': 0.00068, 'total_loss': 0.240138999779116, 'policy_loss': -0.2566304030743512, 'vf_loss': 0.9272779984907671, 'vf_explained_var': 0.0027904385, 'kl': 0.12441138290997708, 'entropy': 0.4193005209619349, 'entropy_coeff': 0.01}\n",
      "\u001b[2m\u001b[36m(pid=21034)\u001b[0m 2021-07-16 11:57:02,945\tDEBUG sgd.py:120 -- 29 {'allreduce_latency': 0.0, 'cur_kl_coeff': 0.30000000000000004, 'cur_lr': 0.00068, 'total_loss': 0.23847941376946188, 'policy_loss': -0.25782107471516635, 'vf_loss': 0.9264861020174894, 'vf_explained_var': 0.002133234, 'kl': 0.12418119202960622, 'entropy': 0.4196918353889928, 'entropy_coeff': 0.01}\n",
      "\u001b[2m\u001b[36m(pid=21034)\u001b[0m 2021-07-16 11:57:02,954\tDEBUG trainer.py:547 -- synchronized filters: {'default_policy': MeanStdFilter((25, 2), True, True, None, (n=8414, mean_mean=-0.5934199802906779, mean_std=3.782200421240243), (n=0, mean_mean=0.0, mean_std=0.0))}\n"
     ]
    },
    {
     "data": {
      "text/html": [
       "== Status ==<br>Memory usage on this node: 6.4/14.5 GiB<br>Using FIFO scheduling algorithm.<br>Resources requested: 8/8 CPUs, 0/0 GPUs, 0.0/6.74 GiB heap, 0.0/2.29 GiB objects<br>Result logdir: /home/localadmin/ray_results/PPO<br>Number of trials: 1 (1 RUNNING)<br><table>\n",
       "<thead>\n",
       "<tr><th>Trial name                </th><th>status  </th><th>loc                </th><th style=\"text-align: right;\">  iter</th><th style=\"text-align: right;\">  total time (s)</th><th style=\"text-align: right;\">  ts</th><th style=\"text-align: right;\">  reward</th></tr>\n",
       "</thead>\n",
       "<tbody>\n",
       "<tr><td>PPO_TradingEnv_d625d_00000</td><td>RUNNING </td><td>192.168.0.202:21034</td><td style=\"text-align: right;\">     2</td><td style=\"text-align: right;\">         16.1572</td><td style=\"text-align: right;\">8400</td><td style=\"text-align: right;\"> 10.1386</td></tr>\n",
       "</tbody>\n",
       "</table><br><br>"
      ],
      "text/plain": [
       "<IPython.core.display.HTML object>"
      ]
     },
     "metadata": {},
     "output_type": "display_data"
    },
    {
     "name": "stderr",
     "output_type": "stream",
     "text": [
      "\u001b[2m\u001b[36m(pid=21034)\u001b[0m 2021-07-16 11:57:04,380\tDEBUG sgd.py:120 -- 0 {'allreduce_latency': 0.0, 'cur_kl_coeff': 0.45000000000000007, 'cur_lr': 0.00026000000000000003, 'total_loss': 0.35382174136060657, 'policy_loss': -0.033340705135329204, 'vf_loss': 0.7807232249866832, 'vf_explained_var': 0.011514037, 'kl': 0.001476193891571269, 'entropy': 0.3863455806717728, 'entropy_coeff': 0.01}\n",
      "\u001b[2m\u001b[36m(pid=21034)\u001b[0m 2021-07-16 11:57:04,535\tDEBUG sgd.py:120 -- 1 {'allreduce_latency': 0.0, 'cur_kl_coeff': 0.45000000000000007, 'cur_lr': 0.00026000000000000003, 'total_loss': 0.2945512334505717, 'policy_loss': -0.08892563789744269, 'vf_loss': 0.7656203959927415, 'vf_explained_var': -0.0047900495, 'kl': 0.00890685674367529, 'entropy': 0.3341400207895221, 'entropy_coeff': 0.01}\n",
      "\u001b[2m\u001b[36m(pid=21034)\u001b[0m 2021-07-16 11:57:04,691\tDEBUG sgd.py:120 -- 2 {'allreduce_latency': 0.0, 'cur_kl_coeff': 0.45000000000000007, 'cur_lr': 0.00026000000000000003, 'total_loss': 0.27674031257629395, 'policy_loss': -0.10205670773531451, 'vf_loss': 0.7531632690718679, 'vf_explained_var': 0.0017251173, 'kl': 0.012079224187993643, 'entropy': 0.3220270835992062, 'entropy_coeff': 0.01}\n",
      "\u001b[2m\u001b[36m(pid=21034)\u001b[0m 2021-07-16 11:57:04,845\tDEBUG sgd.py:120 -- 3 {'allreduce_latency': 0.0, 'cur_kl_coeff': 0.45000000000000007, 'cur_lr': 0.00026000000000000003, 'total_loss': 0.2663492226239407, 'policy_loss': -0.1083822100790161, 'vf_loss': 0.7423533237341678, 'vf_explained_var': 0.00015578305, 'kl': 0.014878626235506752, 'entropy': 0.31406194694114453, 'entropy_coeff': 0.01}\n",
      "\u001b[2m\u001b[36m(pid=21034)\u001b[0m 2021-07-16 11:57:05,002\tDEBUG sgd.py:120 -- 4 {'allreduce_latency': 0.0, 'cur_kl_coeff': 0.45000000000000007, 'cur_lr': 0.00026000000000000003, 'total_loss': 0.259437607319066, 'policy_loss': -0.1120199438918269, 'vf_loss': 0.7330194892305316, 'vf_explained_var': 0.0054833437, 'kl': 0.01779554265015053, 'entropy': 0.3060189657139056, 'entropy_coeff': 0.01}\n",
      "\u001b[2m\u001b[36m(pid=21034)\u001b[0m 2021-07-16 11:57:05,154\tDEBUG sgd.py:120 -- 5 {'allreduce_latency': 0.0, 'cur_kl_coeff': 0.45000000000000007, 'cur_lr': 0.00026000000000000003, 'total_loss': 0.25233097171241586, 'policy_loss': -0.11540370033771703, 'vf_loss': 0.7233735720316569, 'vf_explained_var': 0.0039608786, 'kl': 0.02011753957379948, 'entropy': 0.30050146037882025, 'entropy_coeff': 0.01}\n",
      "\u001b[2m\u001b[36m(pid=21034)\u001b[0m 2021-07-16 11:57:05,311\tDEBUG sgd.py:120 -- 6 {'allreduce_latency': 0.0, 'cur_kl_coeff': 0.45000000000000007, 'cur_lr': 0.00026000000000000003, 'total_loss': 0.24623569744554433, 'policy_loss': -0.11824379296916904, 'vf_loss': 0.7146748340491093, 'vf_explained_var': 0.009445465, 'kl': 0.022418884447578228, 'entropy': 0.2946423716617353, 'entropy_coeff': 0.01}\n",
      "\u001b[2m\u001b[36m(pid=21034)\u001b[0m 2021-07-16 11:57:05,466\tDEBUG sgd.py:120 -- 7 {'allreduce_latency': 0.0, 'cur_kl_coeff': 0.45000000000000007, 'cur_lr': 0.00026000000000000003, 'total_loss': 0.24194584154721463, 'policy_loss': -0.11952632191506299, 'vf_loss': 0.7068956927819685, 'vf_explained_var': 0.01141801, 'kl': 0.02428083223375407, 'entropy': 0.2902054181604674, 'entropy_coeff': 0.01}\n",
      "\u001b[2m\u001b[36m(pid=21034)\u001b[0m 2021-07-16 11:57:05,623\tDEBUG sgd.py:120 -- 8 {'allreduce_latency': 0.0, 'cur_kl_coeff': 0.45000000000000007, 'cur_lr': 0.00026000000000000003, 'total_loss': 0.23678165239592394, 'policy_loss': -0.12147463463021047, 'vf_loss': 0.6989545605399392, 'vf_explained_var': 0.0064702556, 'kl': 0.025885105697494564, 'entropy': 0.2869291982867501, 'entropy_coeff': 0.01}\n",
      "\u001b[2m\u001b[36m(pid=21034)\u001b[0m 2021-07-16 11:57:05,781\tDEBUG sgd.py:120 -- 9 {'allreduce_latency': 0.0, 'cur_kl_coeff': 0.45000000000000007, 'cur_lr': 0.00026000000000000003, 'total_loss': 0.23358774331934523, 'policy_loss': -0.12200979024849155, 'vf_loss': 0.6922180688742435, 'vf_explained_var': 0.015279562, 'kl': 0.027393708513541656, 'entropy': 0.2838668299443794, 'entropy_coeff': 0.01}\n",
      "\u001b[2m\u001b[36m(pid=21034)\u001b[0m 2021-07-16 11:57:05,940\tDEBUG sgd.py:120 -- 10 {'allreduce_latency': 0.0, 'cur_kl_coeff': 0.45000000000000007, 'cur_lr': 0.00026000000000000003, 'total_loss': 0.22819268901013967, 'policy_loss': -0.12406254424290224, 'vf_loss': 0.6843323436650363, 'vf_explained_var': 0.011570008, 'kl': 0.028667116311914993, 'entropy': 0.2811140874118516, 'entropy_coeff': 0.01}\n",
      "\u001b[2m\u001b[36m(pid=21034)\u001b[0m 2021-07-16 11:57:06,094\tDEBUG sgd.py:120 -- 11 {'allreduce_latency': 0.0, 'cur_kl_coeff': 0.45000000000000007, 'cur_lr': 0.00026000000000000003, 'total_loss': 0.22440392207918744, 'policy_loss': -0.12516304274851625, 'vf_loss': 0.6777671033685858, 'vf_explained_var': 0.016198343, 'kl': 0.029929755537798912, 'entropy': 0.27849680636868335, 'entropy_coeff': 0.01}\n",
      "\u001b[2m\u001b[36m(pid=21034)\u001b[0m 2021-07-16 11:57:06,249\tDEBUG sgd.py:120 -- 12 {'allreduce_latency': 0.0, 'cur_kl_coeff': 0.45000000000000007, 'cur_lr': 0.00026000000000000003, 'total_loss': 0.2219210627742789, 'policy_loss': -0.12514494641712218, 'vf_loss': 0.6718673507372538, 'vf_explained_var': 0.014186242, 'kl': 0.03088738735426556, 'entropy': 0.2766997922550548, 'entropy_coeff': 0.01}\n",
      "\u001b[2m\u001b[36m(pid=21034)\u001b[0m 2021-07-16 11:57:06,406\tDEBUG sgd.py:120 -- 13 {'allreduce_latency': 0.0, 'cur_kl_coeff': 0.45000000000000007, 'cur_lr': 0.00026000000000000003, 'total_loss': 0.2178530664832303, 'policy_loss': -0.12644453990188512, 'vf_loss': 0.6656110160278551, 'vf_explained_var': 0.018207703, 'kl': 0.03165271929041906, 'entropy': 0.2751630400166367, 'entropy_coeff': 0.01}\n",
      "\u001b[2m\u001b[36m(pid=21034)\u001b[0m 2021-07-16 11:57:06,562\tDEBUG sgd.py:120 -- 14 {'allreduce_latency': 0.0, 'cur_kl_coeff': 0.45000000000000007, 'cur_lr': 0.00026000000000000003, 'total_loss': 0.21535650403662163, 'policy_loss': -0.12621369974857027, 'vf_loss': 0.6595614570559878, 'vf_explained_var': 0.018819889, 'kl': 0.03227694744639324, 'entropy': 0.27351496707309375, 'entropy_coeff': 0.01}\n",
      "\u001b[2m\u001b[36m(pid=21034)\u001b[0m 2021-07-16 11:57:06,721\tDEBUG sgd.py:120 -- 15 {'allreduce_latency': 0.0, 'cur_kl_coeff': 0.45000000000000007, 'cur_lr': 0.00026000000000000003, 'total_loss': 0.21139507029544224, 'policy_loss': -0.12734188774431293, 'vf_loss': 0.6534140633814263, 'vf_explained_var': 0.014683866, 'kl': 0.03279521344511798, 'entropy': 0.2727911508444584, 'entropy_coeff': 0.01}\n",
      "\u001b[2m\u001b[36m(pid=21034)\u001b[0m 2021-07-16 11:57:06,873\tDEBUG sgd.py:120 -- 16 {'allreduce_latency': 0.0, 'cur_kl_coeff': 0.45000000000000007, 'cur_lr': 0.00026000000000000003, 'total_loss': 0.20796367774407068, 'policy_loss': -0.12822707923072757, 'vf_loss': 0.647925463589755, 'vf_explained_var': 0.021898055, 'kl': 0.033214536918835205, 'entropy': 0.27185150710019196, 'entropy_coeff': 0.01}\n",
      "\u001b[2m\u001b[36m(pid=21034)\u001b[0m 2021-07-16 11:57:07,033\tDEBUG sgd.py:120 -- 17 {'allreduce_latency': 0.0, 'cur_kl_coeff': 0.45000000000000007, 'cur_lr': 0.00026000000000000003, 'total_loss': 0.2068531040215131, 'policy_loss': -0.12737441649942688, 'vf_loss': 0.6437121268474695, 'vf_explained_var': 0.019860324, 'kl': 0.03351557525721463, 'entropy': 0.27105531457698706, 'entropy_coeff': 0.01}\n",
      "\u001b[2m\u001b[36m(pid=21034)\u001b[0m 2021-07-16 11:57:07,189\tDEBUG sgd.py:120 -- 18 {'allreduce_latency': 0.0, 'cur_kl_coeff': 0.45000000000000007, 'cur_lr': 0.00026000000000000003, 'total_loss': 0.203380876418316, 'policy_loss': -0.12776830002213968, 'vf_loss': 0.6374996069705847, 'vf_explained_var': 0.022033911, 'kl': 0.03359043417554913, 'entropy': 0.27163200306169916, 'entropy_coeff': 0.01}\n",
      "\u001b[2m\u001b[36m(pid=21034)\u001b[0m 2021-07-16 11:57:07,344\tDEBUG sgd.py:120 -- 19 {'allreduce_latency': 0.0, 'cur_kl_coeff': 0.45000000000000007, 'cur_lr': 0.00026000000000000003, 'total_loss': 0.2010669003833424, 'policy_loss': -0.12791566358822765, 'vf_loss': 0.6329036156336466, 'vf_explained_var': 0.02119713, 'kl': 0.03386262177743695, 'entropy': 0.2707422931085933, 'entropy_coeff': 0.01}\n",
      "\u001b[2m\u001b[36m(pid=21034)\u001b[0m 2021-07-16 11:57:07,499\tDEBUG sgd.py:120 -- 20 {'allreduce_latency': 0.0, 'cur_kl_coeff': 0.45000000000000007, 'cur_lr': 0.00026000000000000003, 'total_loss': 0.20023449575246283, 'policy_loss': -0.12691127204082228, 'vf_loss': 0.6291802001721931, 'vf_explained_var': 0.022724582, 'kl': 0.03392207633816835, 'entropy': 0.27092641456560657, 'entropy_coeff': 0.01}\n",
      "\u001b[2m\u001b[36m(pid=21034)\u001b[0m 2021-07-16 11:57:07,656\tDEBUG sgd.py:120 -- 21 {'allreduce_latency': 0.0, 'cur_kl_coeff': 0.45000000000000007, 'cur_lr': 0.00026000000000000003, 'total_loss': 0.19650487491691654, 'policy_loss': -0.12808920967985282, 'vf_loss': 0.6239476095546376, 'vf_explained_var': 0.021286463, 'kl': 0.03404579926846606, 'entropy': 0.2700330280896389, 'entropy_coeff': 0.01}\n",
      "\u001b[2m\u001b[36m(pid=21034)\u001b[0m 2021-07-16 11:57:07,811\tDEBUG sgd.py:120 -- 22 {'allreduce_latency': 0.0, 'cur_kl_coeff': 0.45000000000000007, 'cur_lr': 0.00026000000000000003, 'total_loss': 0.19446766105565158, 'policy_loss': -0.1278117883414256, 'vf_loss': 0.6193415332924236, 'vf_explained_var': 0.026682246, 'kl': 0.034030468287793075, 'entropy': 0.2705029055024638, 'entropy_coeff': 0.01}\n"
     ]
    },
    {
     "name": "stderr",
     "output_type": "stream",
     "text": [
      "\u001b[2m\u001b[36m(pid=21034)\u001b[0m 2021-07-16 11:57:07,973\tDEBUG sgd.py:120 -- 23 {'allreduce_latency': 0.0, 'cur_kl_coeff': 0.45000000000000007, 'cur_lr': 0.00026000000000000003, 'total_loss': 0.191675440803396, 'policy_loss': -0.12863968041810123, 'vf_loss': 0.6152756123831777, 'vf_explained_var': 0.019798137, 'kl': 0.034175091620647545, 'entropy': 0.2701478148951675, 'entropy_coeff': 0.01}\n",
      "\u001b[2m\u001b[36m(pid=21034)\u001b[0m 2021-07-16 11:57:08,130\tDEBUG sgd.py:120 -- 24 {'allreduce_latency': 0.0, 'cur_kl_coeff': 0.45000000000000007, 'cur_lr': 0.00026000000000000003, 'total_loss': 0.19023700871250845, 'policy_loss': -0.1280961059824084, 'vf_loss': 0.6113860083348823, 'vf_explained_var': 0.025469799, 'kl': 0.034100718796253204, 'entropy': 0.27052110749663727, 'entropy_coeff': 0.01}\n",
      "\u001b[2m\u001b[36m(pid=21034)\u001b[0m 2021-07-16 11:57:08,286\tDEBUG sgd.py:120 -- 25 {'allreduce_latency': 0.0, 'cur_kl_coeff': 0.45000000000000007, 'cur_lr': 0.00026000000000000003, 'total_loss': 0.18840257970221114, 'policy_loss': -0.12786448481633808, 'vf_loss': 0.6073207186930107, 'vf_explained_var': 0.026971338, 'kl': 0.034026690617655266, 'entropy': 0.2705309074936491, 'entropy_coeff': 0.01}\n",
      "\u001b[2m\u001b[36m(pid=21034)\u001b[0m 2021-07-16 11:57:08,444\tDEBUG sgd.py:120 -- 26 {'allreduce_latency': 0.0, 'cur_kl_coeff': 0.45000000000000007, 'cur_lr': 0.00026000000000000003, 'total_loss': 0.1870916225016117, 'policy_loss': -0.12735238885789207, 'vf_loss': 0.6036584955273252, 'vf_explained_var': 0.030153776, 'kl': 0.0340500371812871, 'entropy': 0.2707753854267525, 'entropy_coeff': 0.01}\n",
      "\u001b[2m\u001b[36m(pid=21034)\u001b[0m 2021-07-16 11:57:08,599\tDEBUG sgd.py:120 -- 27 {'allreduce_latency': 0.0, 'cur_kl_coeff': 0.45000000000000007, 'cur_lr': 0.00026000000000000003, 'total_loss': 0.1837118352678689, 'policy_loss': -0.12865240375200906, 'vf_loss': 0.5994972144112443, 'vf_explained_var': 0.026698448, 'kl': 0.0340479559293299, 'entropy': 0.2705945074558258, 'entropy_coeff': 0.01}\n",
      "\u001b[2m\u001b[36m(pid=21034)\u001b[0m 2021-07-16 11:57:08,755\tDEBUG sgd.py:120 -- 28 {'allreduce_latency': 0.0, 'cur_kl_coeff': 0.45000000000000007, 'cur_lr': 0.00026000000000000003, 'total_loss': 0.18223479491743175, 'policy_loss': -0.12842018484617723, 'vf_loss': 0.5961125574328683, 'vf_explained_var': 0.026474705, 'kl': 0.03400908038020134, 'entropy': 0.27053829846960126, 'entropy_coeff': 0.01}\n"
     ]
    },
    {
     "name": "stdout",
     "output_type": "stream",
     "text": [
      "Result for PPO_TradingEnv_d625d_00000:\n",
      "  custom_metrics: {}\n",
      "  date: 2021-07-16_11-57-08\n",
      "  done: false\n",
      "  episode_len_mean: 685.4285714285714\n",
      "  episode_reward_max: 250.7762279144954\n",
      "  episode_reward_mean: 106.10732290436447\n",
      "  episode_reward_min: -23.913504331878357\n",
      "  episodes_this_iter: 7\n",
      "  episodes_total: 14\n",
      "  experiment_id: e6369b7d95d74c47a2c2141b4142c2c5\n",
      "  experiment_tag: '0'\n",
      "  hostname: localadmin-ECA-FX44E4C\n",
      "  info:\n",
      "    learner:\n",
      "      default_policy:\n",
      "        allreduce_latency: 0.0\n",
      "        cur_kl_coeff: 0.45000000000000007\n",
      "        cur_lr: 0.00026000000000000003\n",
      "        entropy: 0.2705937551729607\n",
      "        entropy_coeff: 0.01\n",
      "        kl: 0.033956373844182854\n",
      "        policy_loss: -0.12845836105671796\n",
      "        total_loss: 0.18065580006011508\n",
      "        vf_explained_var: 0.03034730814397335\n",
      "        vf_loss: 0.593079455874183\n",
      "    num_steps_sampled: 12600\n",
      "    num_steps_trained: 12600\n",
      "  iterations_since_restore: 3\n",
      "  node_ip: 192.168.0.202\n",
      "  num_healthy_workers: 7\n",
      "  off_policy_estimator: {}\n",
      "  perf:\n",
      "    cpu_util_percent: 33.2875\n",
      "    ram_util_percent: 44.0\n",
      "  pid: 21034\n",
      "  policy_reward_max: {}\n",
      "  policy_reward_mean: {}\n",
      "  policy_reward_min: {}\n",
      "  sampler_perf:\n",
      "    mean_env_wait_ms: 0.8564664586360033\n",
      "    mean_inference_ms: 1.2732485111862484\n",
      "    mean_processing_ms: 0.22138439186029957\n",
      "  time_since_restore: 22.09931516647339\n",
      "  time_this_iter_s: 5.942122459411621\n",
      "  time_total_s: 22.09931516647339\n",
      "  timers:\n",
      "    learn_throughput: 864.498\n",
      "    learn_time_ms: 4858.313\n",
      "    sample_throughput: 1681.442\n",
      "    sample_time_ms: 2497.856\n",
      "    update_time_ms: 1.403\n",
      "  timestamp: 1626407828\n",
      "  timesteps_since_restore: 0\n",
      "  timesteps_total: 12600\n",
      "  training_iteration: 3\n",
      "  trial_id: d625d_00000\n",
      "  \n"
     ]
    },
    {
     "data": {
      "text/html": [
       "== Status ==<br>Memory usage on this node: 6.4/14.5 GiB<br>Using FIFO scheduling algorithm.<br>Resources requested: 8/8 CPUs, 0/0 GPUs, 0.0/6.74 GiB heap, 0.0/2.29 GiB objects<br>Result logdir: /home/localadmin/ray_results/PPO<br>Number of trials: 1 (1 RUNNING)<br><table>\n",
       "<thead>\n",
       "<tr><th>Trial name                </th><th>status  </th><th>loc                </th><th style=\"text-align: right;\">  iter</th><th style=\"text-align: right;\">  total time (s)</th><th style=\"text-align: right;\">   ts</th><th style=\"text-align: right;\">  reward</th></tr>\n",
       "</thead>\n",
       "<tbody>\n",
       "<tr><td>PPO_TradingEnv_d625d_00000</td><td>RUNNING </td><td>192.168.0.202:21034</td><td style=\"text-align: right;\">     3</td><td style=\"text-align: right;\">         22.0993</td><td style=\"text-align: right;\">12600</td><td style=\"text-align: right;\"> 106.107</td></tr>\n",
       "</tbody>\n",
       "</table><br><br>"
      ],
      "text/plain": [
       "<IPython.core.display.HTML object>"
      ]
     },
     "metadata": {},
     "output_type": "display_data"
    },
    {
     "name": "stderr",
     "output_type": "stream",
     "text": [
      "\u001b[2m\u001b[36m(pid=21034)\u001b[0m 2021-07-16 11:57:08,912\tDEBUG sgd.py:120 -- 29 {'allreduce_latency': 0.0, 'cur_kl_coeff': 0.45000000000000007, 'cur_lr': 0.00026000000000000003, 'total_loss': 0.18065580006011508, 'policy_loss': -0.12845836105671796, 'vf_loss': 0.593079455874183, 'vf_explained_var': 0.030347308, 'kl': 0.033956373844182854, 'entropy': 0.2705937551729607, 'entropy_coeff': 0.01}\n",
      "\u001b[2m\u001b[36m(pid=21034)\u001b[0m 2021-07-16 11:57:08,921\tDEBUG trainer.py:547 -- synchronized filters: {'default_policy': MeanStdFilter((25, 2), True, True, None, (n=12621, mean_mean=-0.22417800320235048, mean_std=3.8438644171247467), (n=0, mean_mean=0.0, mean_std=0.0))}\n",
      "\u001b[2m\u001b[36m(pid=21034)\u001b[0m 2021-07-16 11:57:10,273\tDEBUG sgd.py:120 -- 0 {'allreduce_latency': 0.0, 'cur_kl_coeff': 0.675, 'cur_lr': 9.740000000000001e-05, 'total_loss': 0.22407498030048428, 'policy_loss': -0.02356880722623883, 'vf_loss': 0.49955896175268927, 'vf_explained_var': -0.027818963, 'kl': 0.0007176769704497748, 'entropy': 0.2620127155925288, 'entropy_coeff': 0.01}\n",
      "\u001b[2m\u001b[36m(pid=21034)\u001b[0m 2021-07-16 11:57:10,424\tDEBUG sgd.py:120 -- 1 {'allreduce_latency': 0.0, 'cur_kl_coeff': 0.675, 'cur_lr': 9.740000000000001e-05, 'total_loss': 0.18142464079640128, 'policy_loss': -0.06373220672972049, 'vf_loss': 0.4887451683029984, 'vf_explained_var': -0.02251806, 'kl': 0.00450963327294272, 'entropy': 0.2259732945398851, 'entropy_coeff': 0.01}\n",
      "\u001b[2m\u001b[36m(pid=21034)\u001b[0m 2021-07-16 11:57:10,578\tDEBUG sgd.py:120 -- 2 {'allreduce_latency': 0.0, 'cur_kl_coeff': 0.675, 'cur_lr': 9.740000000000001e-05, 'total_loss': 0.1701048490676013, 'policy_loss': -0.07125955848305514, 'vf_loss': 0.4780446769613208, 'vf_explained_var': -0.013817495, 'kl': 0.006652405556065567, 'entropy': 0.21483043016809406, 'entropy_coeff': 0.01}\n",
      "\u001b[2m\u001b[36m(pid=21034)\u001b[0m 2021-07-16 11:57:10,729\tDEBUG sgd.py:120 -- 3 {'allreduce_latency': 0.0, 'cur_kl_coeff': 0.675, 'cur_lr': 9.740000000000001e-05, 'total_loss': 0.16397067148125533, 'policy_loss': -0.07384202378152897, 'vf_loss': 0.46891739151694556, 'vf_explained_var': -0.013740245, 'kl': 0.00806903690946373, 'entropy': 0.20926064930178903, 'entropy_coeff': 0.01}\n",
      "\u001b[2m\u001b[36m(pid=21034)\u001b[0m 2021-07-16 11:57:10,883\tDEBUG sgd.py:120 -- 4 {'allreduce_latency': 0.0, 'cur_kl_coeff': 0.675, 'cur_lr': 9.740000000000001e-05, 'total_loss': 0.15797257953972527, 'policy_loss': -0.07623020144687458, 'vf_loss': 0.460202592791933, 'vf_explained_var': -0.0064705536, 'kl': 0.0091158641276486, 'entropy': 0.2051722863406846, 'entropy_coeff': 0.01}\n",
      "\u001b[2m\u001b[36m(pid=21034)\u001b[0m 2021-07-16 11:57:11,046\tDEBUG sgd.py:120 -- 5 {'allreduce_latency': 0.0, 'cur_kl_coeff': 0.675, 'cur_lr': 9.740000000000001e-05, 'total_loss': 0.15389150019847986, 'policy_loss': -0.07697417818461404, 'vf_loss': 0.45227979891227954, 'vf_explained_var': -0.0064477306, 'kl': 0.00999078428316297, 'entropy': 0.20180075818842108, 'entropy_coeff': 0.01}\n",
      "\u001b[2m\u001b[36m(pid=21034)\u001b[0m 2021-07-16 11:57:11,203\tDEBUG sgd.py:120 -- 6 {'allreduce_latency': 0.0, 'cur_kl_coeff': 0.675, 'cur_lr': 9.740000000000001e-05, 'total_loss': 0.14979874856318487, 'policy_loss': -0.07789395549193476, 'vf_loss': 0.4449473700740121, 'vf_explained_var': -0.0010059945, 'kl': 0.010685968466780403, 'entropy': 0.19940155202692206, 'entropy_coeff': 0.01}\n",
      "\u001b[2m\u001b[36m(pid=21034)\u001b[0m 2021-07-16 11:57:11,359\tDEBUG sgd.py:120 -- 7 {'allreduce_latency': 0.0, 'cur_kl_coeff': 0.675, 'cur_lr': 9.740000000000001e-05, 'total_loss': 0.14540400130279135, 'policy_loss': -0.07931728068400513, 'vf_loss': 0.43825358784560003, 'vf_explained_var': 0.00048172654, 'kl': 0.011217398202103195, 'entropy': 0.19772590245261337, 'entropy_coeff': 0.01}\n",
      "\u001b[2m\u001b[36m(pid=21034)\u001b[0m 2021-07-16 11:57:11,519\tDEBUG sgd.py:120 -- 8 {'allreduce_latency': 0.0, 'cur_kl_coeff': 0.675, 'cur_lr': 9.740000000000001e-05, 'total_loss': 0.14380551219889612, 'policy_loss': -0.07858063393470013, 'vf_loss': 0.4329727048223669, 'vf_explained_var': 0.0017873645, 'kl': 0.01165176998598106, 'entropy': 0.19651540978388352, 'entropy_coeff': 0.01}\n",
      "\u001b[2m\u001b[36m(pid=21034)\u001b[0m 2021-07-16 11:57:11,696\tDEBUG sgd.py:120 -- 9 {'allreduce_latency': 0.0, 'cur_kl_coeff': 0.675, 'cur_lr': 9.740000000000001e-05, 'total_loss': 0.13822295861036488, 'policy_loss': -0.08068313562508786, 'vf_loss': 0.42537585803956696, 'vf_explained_var': 0.0029279229, 'kl': 0.012094840746034275, 'entropy': 0.19458544254302979, 'entropy_coeff': 0.01}\n",
      "\u001b[2m\u001b[36m(pid=21034)\u001b[0m 2021-07-16 11:57:11,857\tDEBUG sgd.py:120 -- 10 {'allreduce_latency': 0.0, 'cur_kl_coeff': 0.675, 'cur_lr': 9.740000000000001e-05, 'total_loss': 0.1365622699147824, 'policy_loss': -0.08017747335587487, 'vf_loss': 0.42068103497678583, 'vf_explained_var': 0.0029800371, 'kl': 0.012359349931957144, 'entropy': 0.19433375606031128, 'entropy_coeff': 0.01}\n",
      "\u001b[2m\u001b[36m(pid=21034)\u001b[0m 2021-07-16 11:57:12,013\tDEBUG sgd.py:120 -- 11 {'allreduce_latency': 0.0, 'cur_kl_coeff': 0.675, 'cur_lr': 9.740000000000001e-05, 'total_loss': 0.13361685113473373, 'policy_loss': -0.08061555990328391, 'vf_loss': 0.4151617974945993, 'vf_explained_var': 0.005466539, 'kl': 0.01271273692448934, 'entropy': 0.19295874960494763, 'entropy_coeff': 0.01}\n",
      "\u001b[2m\u001b[36m(pid=21034)\u001b[0m 2021-07-16 11:57:12,172\tDEBUG sgd.py:120 -- 12 {'allreduce_latency': 0.0, 'cur_kl_coeff': 0.675, 'cur_lr': 9.740000000000001e-05, 'total_loss': 0.130873735062778, 'policy_loss': -0.08125705469512579, 'vf_loss': 0.410582243493109, 'vf_explained_var': 0.0051448853, 'kl': 0.012975790001677744, 'entropy': 0.19189918357314487, 'entropy_coeff': 0.01}\n",
      "\u001b[2m\u001b[36m(pid=21034)\u001b[0m 2021-07-16 11:57:12,325\tDEBUG sgd.py:120 -- 13 {'allreduce_latency': 0.0, 'cur_kl_coeff': 0.675, 'cur_lr': 9.740000000000001e-05, 'total_loss': 0.1279571484774351, 'policy_loss': -0.0817150841890411, 'vf_loss': 0.40557643500241364, 'vf_explained_var': 0.006574201, 'kl': 0.013040129349313, 'entropy': 0.1918068045016491, 'entropy_coeff': 0.01}\n",
      "\u001b[2m\u001b[36m(pid=21034)\u001b[0m 2021-07-16 11:57:12,481\tDEBUG sgd.py:120 -- 14 {'allreduce_latency': 0.0, 'cur_kl_coeff': 0.675, 'cur_lr': 9.740000000000001e-05, 'total_loss': 0.1249547116458416, 'policy_loss': -0.08247665123957576, 'vf_loss': 0.40098006346008996, 'vf_explained_var': 0.006391341, 'kl': 0.013118379664692011, 'entropy': 0.1913573168443911, 'entropy_coeff': 0.01}\n",
      "\u001b[2m\u001b[36m(pid=21034)\u001b[0m 2021-07-16 11:57:12,634\tDEBUG sgd.py:120 -- 15 {'allreduce_latency': 0.0, 'cur_kl_coeff': 0.675, 'cur_lr': 9.740000000000001e-05, 'total_loss': 0.12287777430857673, 'policy_loss': -0.0826322277161208, 'vf_loss': 0.3969524728529381, 'vf_explained_var': 0.005680115, 'kl': 0.013254778572555744, 'entropy': 0.19132146329590768, 'entropy_coeff': 0.01}\n",
      "\u001b[2m\u001b[36m(pid=21034)\u001b[0m 2021-07-16 11:57:12,791\tDEBUG sgd.py:120 -- 16 {'allreduce_latency': 0.0, 'cur_kl_coeff': 0.675, 'cur_lr': 9.740000000000001e-05, 'total_loss': 0.1206259069061189, 'policy_loss': -0.0830726832941626, 'vf_loss': 0.3930743156057416, 'vf_explained_var': 0.0075545204, 'kl': 0.013437015851112928, 'entropy': 0.1908548776850556, 'entropy_coeff': 0.01}\n",
      "\u001b[2m\u001b[36m(pid=21034)\u001b[0m 2021-07-16 11:57:12,947\tDEBUG sgd.py:120 -- 17 {'allreduce_latency': 0.0, 'cur_kl_coeff': 0.675, 'cur_lr': 9.740000000000001e-05, 'total_loss': 0.1193695216242111, 'policy_loss': -0.08290858939290047, 'vf_loss': 0.3901768886681759, 'vf_explained_var': 0.010435691, 'kl': 0.013478654464988998, 'entropy': 0.19084246682398248, 'entropy_coeff': 0.01}\n",
      "\u001b[2m\u001b[36m(pid=21034)\u001b[0m 2021-07-16 11:57:13,105\tDEBUG sgd.py:120 -- 18 {'allreduce_latency': 0.0, 'cur_kl_coeff': 0.675, 'cur_lr': 9.740000000000001e-05, 'total_loss': 0.11855645268929726, 'policy_loss': -0.08250183043437022, 'vf_loss': 0.387648855194901, 'vf_explained_var': 0.008282402, 'kl': 0.013539151486122248, 'entropy': 0.19050744491996188, 'entropy_coeff': 0.01}\n",
      "\u001b[2m\u001b[36m(pid=21034)\u001b[0m 2021-07-16 11:57:13,264\tDEBUG sgd.py:120 -- 19 {'allreduce_latency': 0.0, 'cur_kl_coeff': 0.675, 'cur_lr': 9.740000000000001e-05, 'total_loss': 0.11631605850363319, 'policy_loss': -0.08302696653161988, 'vf_loss': 0.3842579288916154, 'vf_explained_var': 0.008096662, 'kl': 0.013515456382072332, 'entropy': 0.19088743717381448, 'entropy_coeff': 0.01}\n",
      "\u001b[2m\u001b[36m(pid=21034)\u001b[0m 2021-07-16 11:57:13,417\tDEBUG sgd.py:120 -- 20 {'allreduce_latency': 0.0, 'cur_kl_coeff': 0.675, 'cur_lr': 9.740000000000001e-05, 'total_loss': 0.11412005084143444, 'policy_loss': -0.0835720652883703, 'vf_loss': 0.3809036838285851, 'vf_explained_var': 0.010400526, 'kl': 0.013551289413237211, 'entropy': 0.19068468565290625, 'entropy_coeff': 0.01}\n"
     ]
    },
    {
     "name": "stderr",
     "output_type": "stream",
     "text": [
      "\u001b[2m\u001b[36m(pid=21034)\u001b[0m 2021-07-16 11:57:13,577\tDEBUG sgd.py:120 -- 21 {'allreduce_latency': 0.0, 'cur_kl_coeff': 0.675, 'cur_lr': 9.740000000000001e-05, 'total_loss': 0.11336429157491887, 'policy_loss': -0.08330839660696009, 'vf_loss': 0.37892363559116016, 'vf_explained_var': 0.0076336046, 'kl': 0.013512290760197422, 'entropy': 0.19099229258118253, 'entropy_coeff': 0.01}\n",
      "\u001b[2m\u001b[36m(pid=21034)\u001b[0m 2021-07-16 11:57:13,731\tDEBUG sgd.py:120 -- 22 {'allreduce_latency': 0.0, 'cur_kl_coeff': 0.675, 'cur_lr': 9.740000000000001e-05, 'total_loss': 0.1116181423210285, 'policy_loss': -0.08370147414053931, 'vf_loss': 0.37621659446846356, 'vf_explained_var': 0.009782145, 'kl': 0.013512266912695133, 'entropy': 0.19094604795629327, 'entropy_coeff': 0.01}\n",
      "\u001b[2m\u001b[36m(pid=21034)\u001b[0m 2021-07-16 11:57:13,888\tDEBUG sgd.py:120 -- 23 {'allreduce_latency': 0.0, 'cur_kl_coeff': 0.675, 'cur_lr': 9.740000000000001e-05, 'total_loss': 0.10987165547681577, 'policy_loss': -0.08426318074943441, 'vf_loss': 0.3738664352532589, 'vf_explained_var': 0.008249648, 'kl': 0.013496718566977617, 'entropy': 0.19086608064897131, 'entropy_coeff': 0.01}\n",
      "\u001b[2m\u001b[36m(pid=21034)\u001b[0m 2021-07-16 11:57:14,043\tDEBUG sgd.py:120 -- 24 {'allreduce_latency': 0.0, 'cur_kl_coeff': 0.675, 'cur_lr': 9.740000000000001e-05, 'total_loss': 0.10941286164928567, 'policy_loss': -0.08372309691075122, 'vf_loss': 0.37198838049715216, 'vf_explained_var': 0.0121105835, 'kl': 0.013415757651356134, 'entropy': 0.19138713406794, 'entropy_coeff': 0.01}\n",
      "\u001b[2m\u001b[36m(pid=21034)\u001b[0m 2021-07-16 11:57:14,203\tDEBUG sgd.py:120 -- 25 {'allreduce_latency': 0.0, 'cur_kl_coeff': 0.675, 'cur_lr': 9.740000000000001e-05, 'total_loss': 0.1088525451945536, 'policy_loss': -0.08360621144035549, 'vf_loss': 0.37068805053378595, 'vf_explained_var': 0.011259126, 'kl': 0.013383194126866081, 'entropy': 0.1918926275137699, 'entropy_coeff': 0.01}\n",
      "\u001b[2m\u001b[36m(pid=21034)\u001b[0m 2021-07-16 11:57:14,368\tDEBUG sgd.py:120 -- 26 {'allreduce_latency': 0.0, 'cur_kl_coeff': 0.675, 'cur_lr': 9.740000000000001e-05, 'total_loss': 0.10710142380699064, 'policy_loss': -0.08423709031194448, 'vf_loss': 0.36852452791098395, 'vf_explained_var': 0.011712941, 'kl': 0.013329274529083208, 'entropy': 0.19210089923757495, 'entropy_coeff': 0.01}\n",
      "\u001b[2m\u001b[36m(pid=21034)\u001b[0m 2021-07-16 11:57:14,525\tDEBUG sgd.py:120 -- 27 {'allreduce_latency': 0.0, 'cur_kl_coeff': 0.675, 'cur_lr': 9.740000000000001e-05, 'total_loss': 0.10645832403591185, 'policy_loss': -0.0842527174249743, 'vf_loss': 0.36731425830812164, 'vf_explained_var': 0.010658786, 'kl': 0.013294677447640535, 'entropy': 0.19199971403136398, 'entropy_coeff': 0.01}\n",
      "\u001b[2m\u001b[36m(pid=21034)\u001b[0m 2021-07-16 11:57:14,677\tDEBUG sgd.py:120 -- 28 {'allreduce_latency': 0.0, 'cur_kl_coeff': 0.675, 'cur_lr': 9.740000000000001e-05, 'total_loss': 0.1056195381520824, 'policy_loss': -0.08420955305072395, 'vf_loss': 0.3656102852387862, 'vf_explained_var': 0.01344498, 'kl': 0.013253100413941976, 'entropy': 0.19218931505174347, 'entropy_coeff': 0.01}\n"
     ]
    },
    {
     "name": "stdout",
     "output_type": "stream",
     "text": [
      "Result for PPO_TradingEnv_d625d_00000:\n",
      "  custom_metrics: {}\n",
      "  date: 2021-07-16_11-57-14\n",
      "  done: false\n",
      "  episode_len_mean: 755.3157894736842\n",
      "  episode_reward_max: 467.9610322809094\n",
      "  episode_reward_mean: 197.6584299714362\n",
      "  episode_reward_min: -23.913504331878357\n",
      "  episodes_this_iter: 5\n",
      "  episodes_total: 19\n",
      "  experiment_id: e6369b7d95d74c47a2c2141b4142c2c5\n",
      "  experiment_tag: '0'\n",
      "  hostname: localadmin-ECA-FX44E4C\n",
      "  info:\n",
      "    learner:\n",
      "      default_policy:\n",
      "        allreduce_latency: 0.0\n",
      "        cur_kl_coeff: 0.675\n",
      "        cur_lr: 9.740000000000001e-05\n",
      "        entropy: 0.19240760983842792\n",
      "        entropy_coeff: 0.01\n",
      "        kl: 0.01324876719577746\n",
      "        policy_loss: -0.08441823664488214\n",
      "        total_loss: 0.10489366051148284\n",
      "        vf_explained_var: 0.013068103231489658\n",
      "        vf_loss: 0.36458611127102014\n",
      "    num_steps_sampled: 16800\n",
      "    num_steps_trained: 16800\n",
      "  iterations_since_restore: 4\n",
      "  node_ip: 192.168.0.202\n",
      "  num_healthy_workers: 7\n",
      "  off_policy_estimator: {}\n",
      "  perf:\n",
      "    cpu_util_percent: 30.72222222222223\n",
      "    ram_util_percent: 44.05555555555556\n",
      "  pid: 21034\n",
      "  policy_reward_max: {}\n",
      "  policy_reward_mean: {}\n",
      "  policy_reward_min: {}\n",
      "  sampler_perf:\n",
      "    mean_env_wait_ms: 0.8165416778643212\n",
      "    mean_inference_ms: 1.247687755413991\n",
      "    mean_processing_ms: 0.2185839780454443\n",
      "  time_since_restore: 27.999974250793457\n",
      "  time_this_iter_s: 5.900659084320068\n",
      "  time_total_s: 27.999974250793457\n",
      "  timers:\n",
      "    learn_throughput: 870.394\n",
      "    learn_time_ms: 4825.399\n",
      "    sample_throughput: 1939.555\n",
      "    sample_time_ms: 2165.446\n",
      "    update_time_ms: 1.414\n",
      "  timestamp: 1626407834\n",
      "  timesteps_since_restore: 0\n",
      "  timesteps_total: 16800\n",
      "  training_iteration: 4\n",
      "  trial_id: d625d_00000\n",
      "  \n"
     ]
    },
    {
     "name": "stderr",
     "output_type": "stream",
     "text": [
      "\u001b[2m\u001b[36m(pid=21034)\u001b[0m 2021-07-16 11:57:14,840\tDEBUG sgd.py:120 -- 29 {'allreduce_latency': 0.0, 'cur_kl_coeff': 0.675, 'cur_lr': 9.740000000000001e-05, 'total_loss': 0.10489366051148284, 'policy_loss': -0.08441823664488214, 'vf_loss': 0.36458611127102014, 'vf_explained_var': 0.013068103, 'kl': 0.01324876719577746, 'entropy': 0.19240760983842792, 'entropy_coeff': 0.01}\n",
      "\u001b[2m\u001b[36m(pid=21034)\u001b[0m 2021-07-16 11:57:14,848\tDEBUG trainer.py:547 -- synchronized filters: {'default_policy': MeanStdFilter((25, 2), True, True, None, (n=16826, mean_mean=-0.28364632579309584, mean_std=3.8333248727620775), (n=0, mean_mean=0.0, mean_std=0.0))}\n"
     ]
    },
    {
     "data": {
      "text/html": [
       "== Status ==<br>Memory usage on this node: 6.4/14.5 GiB<br>Using FIFO scheduling algorithm.<br>Resources requested: 8/8 CPUs, 0/0 GPUs, 0.0/6.74 GiB heap, 0.0/2.29 GiB objects<br>Result logdir: /home/localadmin/ray_results/PPO<br>Number of trials: 1 (1 RUNNING)<br><table>\n",
       "<thead>\n",
       "<tr><th>Trial name                </th><th>status  </th><th>loc                </th><th style=\"text-align: right;\">  iter</th><th style=\"text-align: right;\">  total time (s)</th><th style=\"text-align: right;\">   ts</th><th style=\"text-align: right;\">  reward</th></tr>\n",
       "</thead>\n",
       "<tbody>\n",
       "<tr><td>PPO_TradingEnv_d625d_00000</td><td>RUNNING </td><td>192.168.0.202:21034</td><td style=\"text-align: right;\">     4</td><td style=\"text-align: right;\">              28</td><td style=\"text-align: right;\">16800</td><td style=\"text-align: right;\"> 197.658</td></tr>\n",
       "</tbody>\n",
       "</table><br><br>"
      ],
      "text/plain": [
       "<IPython.core.display.HTML object>"
      ]
     },
     "metadata": {},
     "output_type": "display_data"
    },
    {
     "name": "stderr",
     "output_type": "stream",
     "text": [
      "\u001b[2m\u001b[36m(pid=21034)\u001b[0m 2021-07-16 11:57:16,165\tDEBUG sgd.py:120 -- 0 {'allreduce_latency': 0.0, 'cur_kl_coeff': 0.675, 'cur_lr': 9.32e-05, 'total_loss': 0.11891870578807412, 'policy_loss': -0.014127886035677158, 'vf_loss': 0.26923289082267066, 'vf_explained_var': 0.01642709, 'kl': 0.0003352418823506282, 'entropy': 0.17961429420745734, 'entropy_coeff': 0.01}\n",
      "\u001b[2m\u001b[36m(pid=21034)\u001b[0m 2021-07-16 11:57:16,321\tDEBUG sgd.py:120 -- 1 {'allreduce_latency': 0.0, 'cur_kl_coeff': 0.675, 'cur_lr': 9.32e-05, 'total_loss': 0.08964956721121614, 'policy_loss': -0.04338879375295206, 'vf_loss': 0.2659259555917798, 'vf_explained_var': 0.020827329, 'kl': 0.00239875406083284, 'entropy': 0.1543779495087537, 'entropy_coeff': 0.01}\n",
      "\u001b[2m\u001b[36m(pid=21034)\u001b[0m 2021-07-16 11:57:16,495\tDEBUG sgd.py:120 -- 2 {'allreduce_latency': 0.0, 'cur_kl_coeff': 0.675, 'cur_lr': 9.32e-05, 'total_loss': 0.08254631162818635, 'policy_loss': -0.05013374148896246, 'vf_loss': 0.2630219739494902, 'vf_explained_var': 0.018350951, 'kl': 0.0038822347608705363, 'entropy': 0.14514442307479453, 'entropy_coeff': 0.01}\n",
      "\u001b[2m\u001b[36m(pid=21034)\u001b[0m 2021-07-16 11:57:16,656\tDEBUG sgd.py:120 -- 3 {'allreduce_latency': 0.0, 'cur_kl_coeff': 0.675, 'cur_lr': 9.32e-05, 'total_loss': 0.07871206990922942, 'policy_loss': -0.05312671992137576, 'vf_loss': 0.260002669059869, 'vf_explained_var': 0.018069094, 'kl': 0.004800423344766552, 'entropy': 0.14028306011900757, 'entropy_coeff': 0.01}\n",
      "\u001b[2m\u001b[36m(pid=21034)\u001b[0m 2021-07-16 11:57:16,815\tDEBUG sgd.py:120 -- 4 {'allreduce_latency': 0.0, 'cur_kl_coeff': 0.675, 'cur_lr': 9.32e-05, 'total_loss': 0.07662709769933965, 'policy_loss': -0.054777786333226795, 'vf_loss': 0.25806965295112494, 'vf_explained_var': 0.017854346, 'kl': 0.005539595050680818, 'entropy': 0.13691707181208063, 'entropy_coeff': 0.01}\n",
      "\u001b[2m\u001b[36m(pid=21034)\u001b[0m 2021-07-16 11:57:16,970\tDEBUG sgd.py:120 -- 5 {'allreduce_latency': 0.0, 'cur_kl_coeff': 0.675, 'cur_lr': 9.32e-05, 'total_loss': 0.07534454573848934, 'policy_loss': -0.05572163240250313, 'vf_loss': 0.25640497695315967, 'vf_explained_var': 0.021387324, 'kl': 0.006225605650494496, 'entropy': 0.13385930815429398, 'entropy_coeff': 0.01}\n",
      "\u001b[2m\u001b[36m(pid=21034)\u001b[0m 2021-07-16 11:57:17,132\tDEBUG sgd.py:120 -- 6 {'allreduce_latency': 0.0, 'cur_kl_coeff': 0.675, 'cur_lr': 9.32e-05, 'total_loss': 0.07286592443106753, 'policy_loss': -0.05751356019666701, 'vf_loss': 0.25429779652393225, 'vf_explained_var': 0.019887334, 'kl': 0.006739442645939011, 'entropy': 0.13185353125586655, 'entropy_coeff': 0.01}\n",
      "\u001b[2m\u001b[36m(pid=21034)\u001b[0m 2021-07-16 11:57:17,287\tDEBUG sgd.py:120 -- 7 {'allreduce_latency': 0.0, 'cur_kl_coeff': 0.675, 'cur_lr': 9.32e-05, 'total_loss': 0.07287160563988215, 'policy_loss': -0.0573477079301621, 'vf_loss': 0.25339029097195825, 'vf_explained_var': 0.022442078, 'kl': 0.007154942588937102, 'entropy': 0.1305413589333043, 'entropy_coeff': 0.01}\n",
      "\u001b[2m\u001b[36m(pid=21034)\u001b[0m 2021-07-16 11:57:17,507\tDEBUG sgd.py:120 -- 8 {'allreduce_latency': 0.0, 'cur_kl_coeff': 0.675, 'cur_lr': 9.32e-05, 'total_loss': 0.07136755611634615, 'policy_loss': -0.0584211064446153, 'vf_loss': 0.2520169954408299, 'vf_explained_var': 0.020154398, 'kl': 0.0075126060877333985, 'entropy': 0.12908499078317123, 'entropy_coeff': 0.01}\n",
      "\u001b[2m\u001b[36m(pid=21034)\u001b[0m 2021-07-16 11:57:17,660\tDEBUG sgd.py:120 -- 9 {'allreduce_latency': 0.0, 'cur_kl_coeff': 0.675, 'cur_lr': 9.32e-05, 'total_loss': 0.06967250088399107, 'policy_loss': -0.05951503032084667, 'vf_loss': 0.25021813042236096, 'vf_explained_var': 0.02311178, 'kl': 0.007933980728866476, 'entropy': 0.12769702596194815, 'entropy_coeff': 0.01}\n",
      "\u001b[2m\u001b[36m(pid=21034)\u001b[0m 2021-07-16 11:57:17,824\tDEBUG sgd.py:120 -- 10 {'allreduce_latency': 0.0, 'cur_kl_coeff': 0.675, 'cur_lr': 9.32e-05, 'total_loss': 0.06886985497266958, 'policy_loss': -0.060200334837039314, 'vf_loss': 0.24943501615163052, 'vf_explained_var': 0.024261469, 'kl': 0.008317345287650824, 'entropy': 0.12615228037942539, 'entropy_coeff': 0.01}\n",
      "\u001b[2m\u001b[36m(pid=21034)\u001b[0m 2021-07-16 11:57:17,979\tDEBUG sgd.py:120 -- 11 {'allreduce_latency': 0.0, 'cur_kl_coeff': 0.675, 'cur_lr': 9.32e-05, 'total_loss': 0.06923307961022312, 'policy_loss': -0.05990626042087873, 'vf_loss': 0.24915593727068466, 'vf_explained_var': 0.020661313, 'kl': 0.00861508117029161, 'entropy': 0.1253805815270453, 'entropy_coeff': 0.01}\n",
      "\u001b[2m\u001b[36m(pid=21034)\u001b[0m 2021-07-16 11:57:18,137\tDEBUG sgd.py:120 -- 12 {'allreduce_latency': 0.0, 'cur_kl_coeff': 0.675, 'cur_lr': 9.32e-05, 'total_loss': 0.0688458327203989, 'policy_loss': -0.05995532396164807, 'vf_loss': 0.24831180906657016, 'vf_explained_var': 0.023897132, 'kl': 0.00873317171565511, 'entropy': 0.12496415277322133, 'entropy_coeff': 0.01}\n",
      "\u001b[2m\u001b[36m(pid=21034)\u001b[0m 2021-07-16 11:57:18,290\tDEBUG sgd.py:120 -- 13 {'allreduce_latency': 0.0, 'cur_kl_coeff': 0.675, 'cur_lr': 9.32e-05, 'total_loss': 0.06787133538587527, 'policy_loss': -0.06058873651041226, 'vf_loss': 0.2474639889868823, 'vf_explained_var': 0.023996849, 'kl': 0.008851280181922695, 'entropy': 0.12465342676097696, 'entropy_coeff': 0.01}\n",
      "\u001b[2m\u001b[36m(pid=21034)\u001b[0m 2021-07-16 11:57:18,456\tDEBUG sgd.py:120 -- 14 {'allreduce_latency': 0.0, 'cur_kl_coeff': 0.675, 'cur_lr': 9.32e-05, 'total_loss': 0.06736014947069413, 'policy_loss': -0.06096389432522384, 'vf_loss': 0.24695553427392786, 'vf_explained_var': 0.022302317, 'kl': 0.009020189500667831, 'entropy': 0.12423521054513527, 'entropy_coeff': 0.01}\n",
      "\u001b[2m\u001b[36m(pid=21034)\u001b[0m 2021-07-16 11:57:18,609\tDEBUG sgd.py:120 -- 15 {'allreduce_latency': 0.0, 'cur_kl_coeff': 0.675, 'cur_lr': 9.32e-05, 'total_loss': 0.06590551882982254, 'policy_loss': -0.062063199637288395, 'vf_loss': 0.24606050686402756, 'vf_explained_var': 0.023599686, 'kl': 0.00914951851309249, 'entropy': 0.12374624519637137, 'entropy_coeff': 0.01}\n",
      "\u001b[2m\u001b[36m(pid=21034)\u001b[0m 2021-07-16 11:57:18,766\tDEBUG sgd.py:120 -- 16 {'allreduce_latency': 0.0, 'cur_kl_coeff': 0.675, 'cur_lr': 9.32e-05, 'total_loss': 0.0645654693697438, 'policy_loss': -0.06278859448590965, 'vf_loss': 0.24472270014159608, 'vf_explained_var': 0.023043882, 'kl': 0.0092221356533242, 'entropy': 0.12322294034741142, 'entropy_coeff': 0.01}\n",
      "\u001b[2m\u001b[36m(pid=21034)\u001b[0m 2021-07-16 11:57:18,921\tDEBUG sgd.py:120 -- 17 {'allreduce_latency': 0.0, 'cur_kl_coeff': 0.675, 'cur_lr': 9.32e-05, 'total_loss': 0.0649853062844186, 'policy_loss': -0.06231997469722322, 'vf_loss': 0.24459648741917175, 'vf_explained_var': 0.023384893, 'kl': 0.009246005394467802, 'entropy': 0.12340197396097762, 'entropy_coeff': 0.01}\n",
      "\u001b[2m\u001b[36m(pid=21034)\u001b[0m 2021-07-16 11:57:19,078\tDEBUG sgd.py:120 -- 18 {'allreduce_latency': 0.0, 'cur_kl_coeff': 0.675, 'cur_lr': 9.32e-05, 'total_loss': 0.06660242920572107, 'policy_loss': -0.06141694254157218, 'vf_loss': 0.24588558235854813, 'vf_explained_var': 0.025271041, 'kl': 0.009344592041364222, 'entropy': 0.12310239108222903, 'entropy_coeff': 0.01}\n",
      "\u001b[2m\u001b[36m(pid=21034)\u001b[0m 2021-07-16 11:57:19,234\tDEBUG sgd.py:120 -- 19 {'allreduce_latency': 0.0, 'cur_kl_coeff': 0.675, 'cur_lr': 9.32e-05, 'total_loss': 0.06593295000493526, 'policy_loss': -0.06170243459443251, 'vf_loss': 0.24509238067901495, 'vf_explained_var': 0.02736036, 'kl': 0.00936178228055889, 'entropy': 0.12300152038082932, 'entropy_coeff': 0.01}\n",
      "\u001b[2m\u001b[36m(pid=21034)\u001b[0m 2021-07-16 11:57:19,402\tDEBUG sgd.py:120 -- 20 {'allreduce_latency': 0.0, 'cur_kl_coeff': 0.675, 'cur_lr': 9.32e-05, 'total_loss': 0.0652974761853164, 'policy_loss': -0.062049735422161495, 'vf_loss': 0.24449723958969116, 'vf_explained_var': 0.028445926, 'kl': 0.009378836885320417, 'entropy': 0.12321234991153081, 'entropy_coeff': 0.01}\n",
      "\u001b[2m\u001b[36m(pid=21034)\u001b[0m 2021-07-16 11:57:19,560\tDEBUG sgd.py:120 -- 21 {'allreduce_latency': 0.0, 'cur_kl_coeff': 0.675, 'cur_lr': 9.32e-05, 'total_loss': 0.06384043525339979, 'policy_loss': -0.06305775929693923, 'vf_loss': 0.24343301220373673, 'vf_explained_var': 0.023812974, 'kl': 0.009492965669117191, 'entropy': 0.12260631426717296, 'entropy_coeff': 0.01}\n",
      "\u001b[2m\u001b[36m(pid=21034)\u001b[0m 2021-07-16 11:57:19,718\tDEBUG sgd.py:120 -- 22 {'allreduce_latency': 0.0, 'cur_kl_coeff': 0.675, 'cur_lr': 9.32e-05, 'total_loss': 0.0634936463144241, 'policy_loss': -0.0633213474330577, 'vf_loss': 0.24322010734767624, 'vf_explained_var': 0.028527377, 'kl': 0.009525034689542019, 'entropy': 0.12244611165740273, 'entropy_coeff': 0.01}\n",
      "\u001b[2m\u001b[36m(pid=21034)\u001b[0m 2021-07-16 11:57:19,871\tDEBUG sgd.py:120 -- 23 {'allreduce_latency': 0.0, 'cur_kl_coeff': 0.675, 'cur_lr': 9.32e-05, 'total_loss': 0.06330659212262342, 'policy_loss': -0.0633821946597009, 'vf_loss': 0.24301202685543985, 'vf_explained_var': 0.027282767, 'kl': 0.009496266163434044, 'entropy': 0.12272049576947183, 'entropy_coeff': 0.01}\n"
     ]
    },
    {
     "name": "stderr",
     "output_type": "stream",
     "text": [
      "\u001b[2m\u001b[36m(pid=21034)\u001b[0m 2021-07-16 11:57:20,031\tDEBUG sgd.py:120 -- 24 {'allreduce_latency': 0.0, 'cur_kl_coeff': 0.675, 'cur_lr': 9.32e-05, 'total_loss': 0.06284486100908411, 'policy_loss': -0.06371083669364452, 'vf_loss': 0.24272289149688953, 'vf_explained_var': 0.029630918, 'kl': 0.009512860440846645, 'entropy': 0.12269278164162781, 'entropy_coeff': 0.01}\n",
      "\u001b[2m\u001b[36m(pid=21034)\u001b[0m 2021-07-16 11:57:20,189\tDEBUG sgd.py:120 -- 25 {'allreduce_latency': 0.0, 'cur_kl_coeff': 0.675, 'cur_lr': 9.32e-05, 'total_loss': 0.06349753311863451, 'policy_loss': -0.06337057903521892, 'vf_loss': 0.24331139660242831, 'vf_explained_var': 0.028370822, 'kl': 0.009538758546113968, 'entropy': 0.12262437876426813, 'entropy_coeff': 0.01}\n",
      "\u001b[2m\u001b[36m(pid=21034)\u001b[0m 2021-07-16 11:57:20,353\tDEBUG sgd.py:120 -- 26 {'allreduce_latency': 0.0, 'cur_kl_coeff': 0.675, 'cur_lr': 9.32e-05, 'total_loss': 0.06274759289667461, 'policy_loss': -0.06376771801010225, 'vf_loss': 0.24264461976109128, 'vf_explained_var': 0.028778343, 'kl': 0.009512783451513811, 'entropy': 0.1228133062973167, 'entropy_coeff': 0.01}\n",
      "\u001b[2m\u001b[36m(pid=21034)\u001b[0m 2021-07-16 11:57:20,511\tDEBUG sgd.py:120 -- 27 {'allreduce_latency': 0.0, 'cur_kl_coeff': 0.675, 'cur_lr': 9.32e-05, 'total_loss': 0.06262724857890245, 'policy_loss': -0.06385402686216614, 'vf_loss': 0.24259740046479486, 'vf_explained_var': 0.029912602, 'kl': 0.009496812878007238, 'entropy': 0.12277775754531224, 'entropy_coeff': 0.01}\n"
     ]
    },
    {
     "name": "stdout",
     "output_type": "stream",
     "text": [
      "Result for PPO_TradingEnv_d625d_00000:\n",
      "  custom_metrics: {}\n",
      "  date: 2021-07-16_11-57-20\n",
      "  done: false\n",
      "  episode_len_mean: 773.952380952381\n",
      "  episode_reward_max: 467.9610322809094\n",
      "  episode_reward_mean: 222.66718063844712\n",
      "  episode_reward_min: -23.913504331878357\n",
      "  episodes_this_iter: 2\n",
      "  episodes_total: 21\n",
      "  experiment_id: e6369b7d95d74c47a2c2141b4142c2c5\n",
      "  experiment_tag: '0'\n",
      "  hostname: localadmin-ECA-FX44E4C\n",
      "  info:\n",
      "    learner:\n",
      "      default_policy:\n",
      "        allreduce_latency: 0.0\n",
      "        cur_kl_coeff: 0.675\n",
      "        cur_lr: 9.32e-05\n",
      "        entropy: 0.12279713469924348\n",
      "        entropy_coeff: 0.01\n",
      "        kl: 0.009467696855691347\n",
      "        policy_loss: -0.06406827874933228\n",
      "        total_loss: 0.062398099594495514\n",
      "        vf_explained_var: 0.029496077448129654\n",
      "        vf_loss: 0.2426073138009418\n",
      "    num_steps_sampled: 21000\n",
      "    num_steps_trained: 21000\n",
      "  iterations_since_restore: 5\n",
      "  node_ip: 192.168.0.202\n",
      "  num_healthy_workers: 7\n",
      "  off_policy_estimator: {}\n",
      "  perf:\n",
      "    cpu_util_percent: 31.975\n",
      "    ram_util_percent: 44.1\n",
      "  pid: 21034\n",
      "  policy_reward_max: {}\n",
      "  policy_reward_mean: {}\n",
      "  policy_reward_min: {}\n",
      "  sampler_perf:\n",
      "    mean_env_wait_ms: 0.8040332739620006\n",
      "    mean_inference_ms: 1.2414974948497979\n",
      "    mean_processing_ms: 0.21786354491627086\n",
      "  time_since_restore: 33.968629598617554\n",
      "  time_this_iter_s: 5.968655347824097\n",
      "  time_total_s: 33.968629598617554\n",
      "  timers:\n",
      "    learn_throughput: 870.202\n",
      "    learn_time_ms: 4826.465\n",
      "    sample_throughput: 2144.182\n",
      "    sample_time_ms: 1958.789\n",
      "    update_time_ms: 1.395\n",
      "  timestamp: 1626407840\n",
      "  timesteps_since_restore: 0\n",
      "  timesteps_total: 21000\n",
      "  training_iteration: 5\n",
      "  trial_id: d625d_00000\n",
      "  \n"
     ]
    },
    {
     "name": "stderr",
     "output_type": "stream",
     "text": [
      "\u001b[2m\u001b[36m(pid=21034)\u001b[0m 2021-07-16 11:57:20,667\tDEBUG sgd.py:120 -- 28 {'allreduce_latency': 0.0, 'cur_kl_coeff': 0.675, 'cur_lr': 9.32e-05, 'total_loss': 0.061906706344223385, 'policy_loss': -0.06434995472205407, 'vf_loss': 0.24220346862619574, 'vf_explained_var': 0.028375756, 'kl': 0.009459601912760374, 'entropy': 0.12303064131375516, 'entropy_coeff': 0.01}\n",
      "\u001b[2m\u001b[36m(pid=21034)\u001b[0m 2021-07-16 11:57:20,833\tDEBUG sgd.py:120 -- 29 {'allreduce_latency': 0.0, 'cur_kl_coeff': 0.675, 'cur_lr': 9.32e-05, 'total_loss': 0.062398099594495514, 'policy_loss': -0.06406827874933228, 'vf_loss': 0.2426073138009418, 'vf_explained_var': 0.029496077, 'kl': 0.009467696855691347, 'entropy': 0.12279713469924348, 'entropy_coeff': 0.01}\n"
     ]
    },
    {
     "data": {
      "text/html": [
       "== Status ==<br>Memory usage on this node: 6.4/14.5 GiB<br>Using FIFO scheduling algorithm.<br>Resources requested: 8/8 CPUs, 0/0 GPUs, 0.0/6.74 GiB heap, 0.0/2.29 GiB objects<br>Result logdir: /home/localadmin/ray_results/PPO<br>Number of trials: 1 (1 RUNNING)<br><table>\n",
       "<thead>\n",
       "<tr><th>Trial name                </th><th>status  </th><th>loc                </th><th style=\"text-align: right;\">  iter</th><th style=\"text-align: right;\">  total time (s)</th><th style=\"text-align: right;\">   ts</th><th style=\"text-align: right;\">  reward</th></tr>\n",
       "</thead>\n",
       "<tbody>\n",
       "<tr><td>PPO_TradingEnv_d625d_00000</td><td>RUNNING </td><td>192.168.0.202:21034</td><td style=\"text-align: right;\">     5</td><td style=\"text-align: right;\">         33.9686</td><td style=\"text-align: right;\">21000</td><td style=\"text-align: right;\"> 222.667</td></tr>\n",
       "</tbody>\n",
       "</table><br><br>"
      ],
      "text/plain": [
       "<IPython.core.display.HTML object>"
      ]
     },
     "metadata": {},
     "output_type": "display_data"
    },
    {
     "name": "stderr",
     "output_type": "stream",
     "text": [
      "\u001b[2m\u001b[36m(pid=21034)\u001b[0m 2021-07-16 11:57:20,841\tDEBUG trainer.py:547 -- synchronized filters: {'default_policy': MeanStdFilter((25, 2), True, True, None, (n=21028, mean_mean=-0.24708256527330572, mean_std=3.8538105688079947), (n=0, mean_mean=0.0, mean_std=0.0))}\n",
      "\u001b[2m\u001b[36m(pid=21034)\u001b[0m 2021-07-16 11:57:22,160\tDEBUG sgd.py:120 -- 0 {'allreduce_latency': 0.0, 'cur_kl_coeff': 0.675, 'cur_lr': 8.900000000000001e-05, 'total_loss': 0.07226993465288119, 'policy_loss': -0.009093214701296705, 'vf_loss': 0.1648861181103822, 'vf_explained_var': 0.01800599, 'kl': 0.00016399651137856029, 'entropy': 0.11906074529344385, 'entropy_coeff': 0.01}\n",
      "\u001b[2m\u001b[36m(pid=21034)\u001b[0m 2021-07-16 11:57:22,314\tDEBUG sgd.py:120 -- 1 {'allreduce_latency': 0.0, 'cur_kl_coeff': 0.675, 'cur_lr': 8.900000000000001e-05, 'total_loss': 0.05243835852227428, 'policy_loss': -0.029514137655496597, 'vf_loss': 0.1645076640627601, 'vf_explained_var': 0.017238226, 'kl': 0.001111746188888157, 'entropy': 0.10517639937725934, 'entropy_coeff': 0.01}\n",
      "\u001b[2m\u001b[36m(pid=21034)\u001b[0m 2021-07-16 11:57:22,499\tDEBUG sgd.py:120 -- 2 {'allreduce_latency': 0.0, 'cur_kl_coeff': 0.675, 'cur_lr': 8.900000000000001e-05, 'total_loss': 0.046434966226418815, 'policy_loss': -0.03552172047960939, 'vf_loss': 0.1632624086782788, 'vf_explained_var': 0.0111072045, 'kl': 0.0019422910797099273, 'entropy': 0.0985562652349472, 'entropy_coeff': 0.01}\n",
      "\u001b[2m\u001b[36m(pid=21034)\u001b[0m 2021-07-16 11:57:22,657\tDEBUG sgd.py:120 -- 3 {'allreduce_latency': 0.0, 'cur_kl_coeff': 0.675, 'cur_lr': 8.900000000000001e-05, 'total_loss': 0.044050219130109654, 'policy_loss': -0.03790549448493755, 'vf_loss': 0.1625391650154735, 'vf_explained_var': 0.008919806, 'kl': 0.0024305444676429033, 'entropy': 0.09544880033442468, 'entropy_coeff': 0.01}\n",
      "\u001b[2m\u001b[36m(pid=21034)\u001b[0m 2021-07-16 11:57:22,818\tDEBUG sgd.py:120 -- 4 {'allreduce_latency': 0.0, 'cur_kl_coeff': 0.675, 'cur_lr': 8.900000000000001e-05, 'total_loss': 0.04232709442801548, 'policy_loss': -0.03948565798275398, 'vf_loss': 0.16160422947370645, 'vf_explained_var': 0.019467093, 'kl': 0.002876446046160929, 'entropy': 0.09309629915338574, 'entropy_coeff': 0.01}\n",
      "\u001b[2m\u001b[36m(pid=21034)\u001b[0m 2021-07-16 11:57:22,972\tDEBUG sgd.py:120 -- 5 {'allreduce_latency': 0.0, 'cur_kl_coeff': 0.675, 'cur_lr': 8.900000000000001e-05, 'total_loss': 0.04160552565008402, 'policy_loss': -0.04027173826188752, 'vf_loss': 0.16122130688392755, 'vf_explained_var': 0.01885682, 'kl': 0.003229556012560021, 'entropy': 0.09133430547786481, 'entropy_coeff': 0.01}\n",
      "\u001b[2m\u001b[36m(pid=21034)\u001b[0m 2021-07-16 11:57:23,128\tDEBUG sgd.py:120 -- 6 {'allreduce_latency': 0.0, 'cur_kl_coeff': 0.675, 'cur_lr': 8.900000000000001e-05, 'total_loss': 0.04202264620724953, 'policy_loss': -0.040250566618686374, 'vf_loss': 0.16162906700011456, 'vf_explained_var': 0.026314506, 'kl': 0.0034944467373530974, 'entropy': 0.09000699109200275, 'entropy_coeff': 0.01}\n",
      "\u001b[2m\u001b[36m(pid=21034)\u001b[0m 2021-07-16 11:57:23,282\tDEBUG sgd.py:120 -- 7 {'allreduce_latency': 0.0, 'cur_kl_coeff': 0.675, 'cur_lr': 8.900000000000001e-05, 'total_loss': 0.041428797567884125, 'policy_loss': -0.04084629904140125, 'vf_loss': 0.16123314980756154, 'vf_explained_var': -0.015675958, 'kl': 0.0037698157442112765, 'entropy': 0.08861073670965253, 'entropy_coeff': 0.01}\n",
      "\u001b[2m\u001b[36m(pid=21034)\u001b[0m 2021-07-16 11:57:23,438\tDEBUG sgd.py:120 -- 8 {'allreduce_latency': 0.0, 'cur_kl_coeff': 0.675, 'cur_lr': 8.900000000000001e-05, 'total_loss': 0.04114055043707291, 'policy_loss': -0.04120673227942351, 'vf_loss': 0.16095811427768433, 'vf_explained_var': -0.013803169, 'kl': 0.004066206902886431, 'entropy': 0.08764642928585861, 'entropy_coeff': 0.01}\n",
      "\u001b[2m\u001b[36m(pid=21034)\u001b[0m 2021-07-16 11:57:23,594\tDEBUG sgd.py:120 -- 9 {'allreduce_latency': 0.0, 'cur_kl_coeff': 0.675, 'cur_lr': 8.900000000000001e-05, 'total_loss': 0.03867394426329569, 'policy_loss': -0.04321965372020548, 'vf_loss': 0.1597339011954539, 'vf_explained_var': 0.014866487, 'kl': 0.004281488571767554, 'entropy': 0.08633578523541942, 'entropy_coeff': 0.01}\n",
      "\u001b[2m\u001b[36m(pid=21034)\u001b[0m 2021-07-16 11:57:23,751\tDEBUG sgd.py:120 -- 10 {'allreduce_latency': 0.0, 'cur_kl_coeff': 0.675, 'cur_lr': 8.900000000000001e-05, 'total_loss': 0.03955122354355725, 'policy_loss': -0.04277681708900315, 'vf_loss': 0.1602203365076672, 'vf_explained_var': 0.015623497, 'kl': 0.004552740025136507, 'entropy': 0.08552279944221179, 'entropy_coeff': 0.01}\n",
      "\u001b[2m\u001b[36m(pid=21034)\u001b[0m 2021-07-16 11:57:23,913\tDEBUG sgd.py:120 -- 11 {'allreduce_latency': 0.0, 'cur_kl_coeff': 0.675, 'cur_lr': 8.900000000000001e-05, 'total_loss': 0.03757351936038696, 'policy_loss': -0.04448071847472227, 'vf_loss': 0.1593850055765925, 'vf_explained_var': -0.0031674902, 'kl': 0.0047496837055818605, 'entropy': 0.08443039192846327, 'entropy_coeff': 0.01}\n",
      "\u001b[2m\u001b[36m(pid=21034)\u001b[0m 2021-07-16 11:57:24,068\tDEBUG sgd.py:120 -- 12 {'allreduce_latency': 0.0, 'cur_kl_coeff': 0.675, 'cur_lr': 8.900000000000001e-05, 'total_loss': 0.0386572774979427, 'policy_loss': -0.0437073978228551, 'vf_loss': 0.1597761305218393, 'vf_explained_var': 0.020952519, 'kl': 0.00491324814996033, 'entropy': 0.08398315423365796, 'entropy_coeff': 0.01}\n",
      "\u001b[2m\u001b[36m(pid=21034)\u001b[0m 2021-07-16 11:57:24,221\tDEBUG sgd.py:120 -- 13 {'allreduce_latency': 0.0, 'cur_kl_coeff': 0.675, 'cur_lr': 8.900000000000001e-05, 'total_loss': 0.03849947596476837, 'policy_loss': -0.044074362934087265, 'vf_loss': 0.15989749844778667, 'vf_explained_var': 0.018228443, 'kl': 0.005120783141165069, 'entropy': 0.08314410281000716, 'entropy_coeff': 0.01}\n",
      "\u001b[2m\u001b[36m(pid=21034)\u001b[0m 2021-07-16 11:57:24,378\tDEBUG sgd.py:120 -- 14 {'allreduce_latency': 0.0, 'cur_kl_coeff': 0.675, 'cur_lr': 8.900000000000001e-05, 'total_loss': 0.03816224648758317, 'policy_loss': -0.044352434519113915, 'vf_loss': 0.15952479393418992, 'vf_explained_var': -0.007600927, 'kl': 0.005296764669544769, 'entropy': 0.08230329609730026, 'entropy_coeff': 0.01}\n",
      "\u001b[2m\u001b[36m(pid=21034)\u001b[0m 2021-07-16 11:57:24,529\tDEBUG sgd.py:120 -- 15 {'allreduce_latency': 0.0, 'cur_kl_coeff': 0.675, 'cur_lr': 8.900000000000001e-05, 'total_loss': 0.03731449270112948, 'policy_loss': -0.045146079705745884, 'vf_loss': 0.1591707022126877, 'vf_explained_var': 0.025983, 'kl': 0.0054744080019493895, 'entropy': 0.08200016459732344, 'entropy_coeff': 0.01}\n",
      "\u001b[2m\u001b[36m(pid=21034)\u001b[0m 2021-07-16 11:57:24,700\tDEBUG sgd.py:120 -- 16 {'allreduce_latency': 0.0, 'cur_kl_coeff': 0.675, 'cur_lr': 8.900000000000001e-05, 'total_loss': 0.03767728845052647, 'policy_loss': -0.04517337953615369, 'vf_loss': 0.1597178845920346, 'vf_explained_var': 0.021216461, 'kl': 0.005636609949623094, 'entropy': 0.08129876377907666, 'entropy_coeff': 0.01}\n",
      "\u001b[2m\u001b[36m(pid=21034)\u001b[0m 2021-07-16 11:57:24,855\tDEBUG sgd.py:120 -- 17 {'allreduce_latency': 0.0, 'cur_kl_coeff': 0.675, 'cur_lr': 8.900000000000001e-05, 'total_loss': 0.03849345761718172, 'policy_loss': -0.04463024959532601, 'vf_loss': 0.160115444976272, 'vf_explained_var': 0.031115858, 'kl': 0.005744196178222244, 'entropy': 0.08113492088335933, 'entropy_coeff': 0.01}\n",
      "\u001b[2m\u001b[36m(pid=21034)\u001b[0m 2021-07-16 11:57:25,017\tDEBUG sgd.py:120 -- 18 {'allreduce_latency': 0.0, 'cur_kl_coeff': 0.675, 'cur_lr': 8.900000000000001e-05, 'total_loss': 0.03715739119797945, 'policy_loss': -0.04543583445025213, 'vf_loss': 0.15892487606315903, 'vf_explained_var': 0.02117632, 'kl': 0.005836325443603776, 'entropy': 0.08087312610763492, 'entropy_coeff': 0.01}\n",
      "\u001b[2m\u001b[36m(pid=21034)\u001b[0m 2021-07-16 11:57:25,171\tDEBUG sgd.py:120 -- 19 {'allreduce_latency': 0.0, 'cur_kl_coeff': 0.675, 'cur_lr': 8.900000000000001e-05, 'total_loss': 0.03630224039608782, 'policy_loss': -0.04616160775450143, 'vf_loss': 0.15850242746598792, 'vf_explained_var': 0.025116725, 'kl': 0.005949504250152545, 'entropy': 0.08032814368154063, 'entropy_coeff': 0.01}\n",
      "\u001b[2m\u001b[36m(pid=21034)\u001b[0m 2021-07-16 11:57:25,331\tDEBUG sgd.py:120 -- 20 {'allreduce_latency': 0.0, 'cur_kl_coeff': 0.675, 'cur_lr': 8.900000000000001e-05, 'total_loss': 0.03638766621324149, 'policy_loss': -0.04615369715699644, 'vf_loss': 0.1584882423507445, 'vf_explained_var': 0.028328994, 'kl': 0.006069426932795482, 'entropy': 0.07996199946060326, 'entropy_coeff': 0.01}\n",
      "\u001b[2m\u001b[36m(pid=21034)\u001b[0m 2021-07-16 11:57:25,487\tDEBUG sgd.py:120 -- 21 {'allreduce_latency': 0.0, 'cur_kl_coeff': 0.675, 'cur_lr': 8.900000000000001e-05, 'total_loss': 0.037139328478863746, 'policy_loss': -0.04574186273032066, 'vf_loss': 0.1590582508255135, 'vf_explained_var': 0.02165713, 'kl': 0.006148438011719422, 'entropy': 0.07981296967376363, 'entropy_coeff': 0.01}\n"
     ]
    },
    {
     "name": "stderr",
     "output_type": "stream",
     "text": [
      "\u001b[2m\u001b[36m(pid=21034)\u001b[0m 2021-07-16 11:57:25,644\tDEBUG sgd.py:120 -- 22 {'allreduce_latency': 0.0, 'cur_kl_coeff': 0.675, 'cur_lr': 8.900000000000001e-05, 'total_loss': 0.037114829643431935, 'policy_loss': -0.04584684347112974, 'vf_loss': 0.1590757000852715, 'vf_explained_var': 0.021417942, 'kl': 0.0062513497065414085, 'entropy': 0.07958364847934607, 'entropy_coeff': 0.01}\n",
      "\u001b[2m\u001b[36m(pid=21034)\u001b[0m 2021-07-16 11:57:25,798\tDEBUG sgd.py:120 -- 23 {'allreduce_latency': 0.0, 'cur_kl_coeff': 0.675, 'cur_lr': 8.900000000000001e-05, 'total_loss': 0.036415681722715046, 'policy_loss': -0.046464262163322986, 'vf_loss': 0.15875328388629537, 'vf_explained_var': 0.032001052, 'kl': 0.006363663003977501, 'entropy': 0.07921737229282205, 'entropy_coeff': 0.01}\n",
      "\u001b[2m\u001b[36m(pid=21034)\u001b[0m 2021-07-16 11:57:25,958\tDEBUG sgd.py:120 -- 24 {'allreduce_latency': 0.0, 'cur_kl_coeff': 0.675, 'cur_lr': 8.900000000000001e-05, 'total_loss': 0.03699660233475945, 'policy_loss': -0.045981624417684296, 'vf_loss': 0.15886566426717874, 'vf_explained_var': 0.02840458, 'kl': 0.006421106232499535, 'entropy': 0.07888525464769566, 'entropy_coeff': 0.01}\n",
      "\u001b[2m\u001b[36m(pid=21034)\u001b[0m 2021-07-16 11:57:26,140\tDEBUG sgd.py:120 -- 25 {'allreduce_latency': 0.0, 'cur_kl_coeff': 0.675, 'cur_lr': 8.900000000000001e-05, 'total_loss': 0.035768046862248215, 'policy_loss': -0.04690181492178729, 'vf_loss': 0.1582138565453616, 'vf_explained_var': 0.033010427, 'kl': 0.006447900185417949, 'entropy': 0.0789399893220627, 'entropy_coeff': 0.01}\n",
      "\u001b[2m\u001b[36m(pid=21034)\u001b[0m 2021-07-16 11:57:26,302\tDEBUG sgd.py:120 -- 26 {'allreduce_latency': 0.0, 'cur_kl_coeff': 0.675, 'cur_lr': 8.900000000000001e-05, 'total_loss': 0.03668236599839998, 'policy_loss': -0.04631391218440099, 'vf_loss': 0.1588347474056663, 'vf_explained_var': 0.031639602, 'kl': 0.006467248256685156, 'entropy': 0.07864903365120743, 'entropy_coeff': 0.01}\n",
      "\u001b[2m\u001b[36m(pid=21034)\u001b[0m 2021-07-16 11:57:26,472\tDEBUG sgd.py:120 -- 27 {'allreduce_latency': 0.0, 'cur_kl_coeff': 0.675, 'cur_lr': 8.900000000000001e-05, 'total_loss': 0.03643198170219407, 'policy_loss': -0.046762102311759285, 'vf_loss': 0.15908274415767554, 'vf_explained_var': 0.029990392, 'kl': 0.006576102142306891, 'entropy': 0.07861617896141428, 'entropy_coeff': 0.01}\n"
     ]
    },
    {
     "name": "stdout",
     "output_type": "stream",
     "text": [
      "Result for PPO_TradingEnv_d625d_00000:\n",
      "  custom_metrics: {}\n",
      "  date: 2021-07-16_11-57-26\n",
      "  done: false\n",
      "  episode_len_mean: 818.2142857142857\n",
      "  episode_reward_max: 534.5826416023701\n",
      "  episode_reward_mean: 298.8675499311482\n",
      "  episode_reward_min: -23.913504331878357\n",
      "  episodes_this_iter: 7\n",
      "  episodes_total: 28\n",
      "  experiment_id: e6369b7d95d74c47a2c2141b4142c2c5\n",
      "  experiment_tag: '0'\n",
      "  hostname: localadmin-ECA-FX44E4C\n",
      "  info:\n",
      "    learner:\n",
      "      default_policy:\n",
      "        allreduce_latency: 0.0\n",
      "        cur_kl_coeff: 0.675\n",
      "        cur_lr: 8.900000000000001e-05\n",
      "        entropy: 0.07830610543941006\n",
      "        entropy_coeff: 0.01\n",
      "        kl: 0.0066926636253342485\n",
      "        policy_loss: -0.047048058389036945\n",
      "        total_loss: 0.036031144699364\n",
      "        vf_explained_var: 0.030753569677472115\n",
      "        vf_loss: 0.15868943478121902\n",
      "    num_steps_sampled: 25200\n",
      "    num_steps_trained: 25200\n",
      "  iterations_since_restore: 6\n",
      "  node_ip: 192.168.0.202\n",
      "  num_healthy_workers: 7\n",
      "  off_policy_estimator: {}\n",
      "  perf:\n",
      "    cpu_util_percent: 30.299999999999997\n",
      "    ram_util_percent: 44.1\n",
      "  pid: 21034\n",
      "  policy_reward_max: {}\n",
      "  policy_reward_mean: {}\n",
      "  policy_reward_min: {}\n",
      "  sampler_perf:\n",
      "    mean_env_wait_ms: 0.7585863533933991\n",
      "    mean_inference_ms: 1.220294325783944\n",
      "    mean_processing_ms: 0.21500575406170758\n",
      "  time_since_restore: 39.89068841934204\n",
      "  time_this_iter_s: 5.922058820724487\n",
      "  time_total_s: 39.89068841934204\n",
      "  timers:\n",
      "    learn_throughput: 871.403\n",
      "    learn_time_ms: 4819.811\n",
      "    sample_throughput: 2306.96\n",
      "    sample_time_ms: 1820.578\n",
      "    update_time_ms: 1.393\n",
      "  timestamp: 1626407846\n",
      "  timesteps_since_restore: 0\n",
      "  timesteps_total: 25200\n",
      "  training_iteration: 6\n",
      "  trial_id: d625d_00000\n",
      "  \n"
     ]
    },
    {
     "name": "stderr",
     "output_type": "stream",
     "text": [
      "\u001b[2m\u001b[36m(pid=21034)\u001b[0m 2021-07-16 11:57:26,629\tDEBUG sgd.py:120 -- 28 {'allreduce_latency': 0.0, 'cur_kl_coeff': 0.675, 'cur_lr': 8.900000000000001e-05, 'total_loss': 0.03503642821063598, 'policy_loss': -0.047599782800358356, 'vf_loss': 0.1578218054139253, 'vf_explained_var': 0.032296468, 'kl': 0.006678243012477954, 'entropy': 0.07825044068423184, 'entropy_coeff': 0.01}\n",
      "\u001b[2m\u001b[36m(pid=21034)\u001b[0m 2021-07-16 11:57:26,782\tDEBUG sgd.py:120 -- 29 {'allreduce_latency': 0.0, 'cur_kl_coeff': 0.675, 'cur_lr': 8.900000000000001e-05, 'total_loss': 0.036031144699364, 'policy_loss': -0.047048058389036945, 'vf_loss': 0.15868943478121902, 'vf_explained_var': 0.03075357, 'kl': 0.0066926636253342485, 'entropy': 0.07830610543941006, 'entropy_coeff': 0.01}\n",
      "\u001b[2m\u001b[36m(pid=21034)\u001b[0m 2021-07-16 11:57:26,791\tDEBUG trainer.py:547 -- synchronized filters: {'default_policy': MeanStdFilter((25, 2), True, True, None, (n=25235, mean_mean=-0.303870967342848, mean_std=3.839891815616617), (n=0, mean_mean=0.0, mean_std=0.0))}\n"
     ]
    },
    {
     "data": {
      "text/html": [
       "== Status ==<br>Memory usage on this node: 6.4/14.5 GiB<br>Using FIFO scheduling algorithm.<br>Resources requested: 8/8 CPUs, 0/0 GPUs, 0.0/6.74 GiB heap, 0.0/2.29 GiB objects<br>Result logdir: /home/localadmin/ray_results/PPO<br>Number of trials: 1 (1 RUNNING)<br><table>\n",
       "<thead>\n",
       "<tr><th>Trial name                </th><th>status  </th><th>loc                </th><th style=\"text-align: right;\">  iter</th><th style=\"text-align: right;\">  total time (s)</th><th style=\"text-align: right;\">   ts</th><th style=\"text-align: right;\">  reward</th></tr>\n",
       "</thead>\n",
       "<tbody>\n",
       "<tr><td>PPO_TradingEnv_d625d_00000</td><td>RUNNING </td><td>192.168.0.202:21034</td><td style=\"text-align: right;\">     6</td><td style=\"text-align: right;\">         39.8907</td><td style=\"text-align: right;\">25200</td><td style=\"text-align: right;\"> 298.868</td></tr>\n",
       "</tbody>\n",
       "</table><br><br>"
      ],
      "text/plain": [
       "<IPython.core.display.HTML object>"
      ]
     },
     "metadata": {},
     "output_type": "display_data"
    },
    {
     "name": "stderr",
     "output_type": "stream",
     "text": [
      "\u001b[2m\u001b[36m(pid=21034)\u001b[0m 2021-07-16 11:57:28,061\tDEBUG sgd.py:120 -- 0 {'allreduce_latency': 0.0, 'cur_kl_coeff': 0.675, 'cur_lr': 8.48e-05, 'total_loss': 0.04636720565119476, 'policy_loss': -0.004436637020923875, 'vf_loss': 0.10292799567634409, 'vf_explained_var': 0.018193008, 'kl': 5.6756071794117346e-05, 'entropy': 0.06984645873308182, 'entropy_coeff': 0.01}\n",
      "\u001b[2m\u001b[36m(pid=21034)\u001b[0m 2021-07-16 11:57:28,214\tDEBUG sgd.py:120 -- 1 {'allreduce_latency': 0.0, 'cur_kl_coeff': 0.675, 'cur_lr': 8.48e-05, 'total_loss': 0.032944140024483204, 'policy_loss': -0.017623000411373196, 'vf_loss': 0.10187736469687837, 'vf_explained_var': -0.016216742, 'kl': 0.0003804828125849423, 'entropy': 0.06283635431618402, 'entropy_coeff': 0.01}\n",
      "\u001b[2m\u001b[36m(pid=21034)\u001b[0m 2021-07-16 11:57:28,375\tDEBUG sgd.py:120 -- 2 {'allreduce_latency': 0.0, 'cur_kl_coeff': 0.675, 'cur_lr': 8.48e-05, 'total_loss': 0.027329435628471954, 'policy_loss': -0.02334219335832379, 'vf_loss': 0.10145026930805409, 'vf_explained_var': 0.02502755, 'kl': 0.0007934919258607833, 'entropy': 0.058911102174809486, 'entropy_coeff': 0.01}\n",
      "\u001b[2m\u001b[36m(pid=21034)\u001b[0m 2021-07-16 11:57:28,528\tDEBUG sgd.py:120 -- 3 {'allreduce_latency': 0.0, 'cur_kl_coeff': 0.675, 'cur_lr': 8.48e-05, 'total_loss': 0.025982199236750603, 'policy_loss': -0.02491674580695954, 'vf_loss': 0.10149448785479322, 'vf_explained_var': -0.008962933, 'kl': 0.0010682839483982234, 'entropy': 0.056939296650164055, 'entropy_coeff': 0.01}\n",
      "\u001b[2m\u001b[36m(pid=21034)\u001b[0m 2021-07-16 11:57:28,687\tDEBUG sgd.py:120 -- 4 {'allreduce_latency': 0.0, 'cur_kl_coeff': 0.675, 'cur_lr': 8.48e-05, 'total_loss': 0.02475159903141585, 'policy_loss': -0.026251800838067677, 'vf_loss': 0.10137982111932202, 'vf_explained_var': -0.03580551, 'kl': 0.0012821558912312894, 'entropy': 0.05519669390085972, 'entropy_coeff': 0.01}\n",
      "\u001b[2m\u001b[36m(pid=21034)\u001b[0m 2021-07-16 11:57:28,840\tDEBUG sgd.py:120 -- 5 {'allreduce_latency': 0.0, 'cur_kl_coeff': 0.675, 'cur_lr': 8.48e-05, 'total_loss': 0.023084493071743935, 'policy_loss': -0.027940214837365078, 'vf_loss': 0.1011052503617424, 'vf_explained_var': -0.014726319, 'kl': 0.0014952033243113847, 'entropy': 0.053718085824088616, 'entropy_coeff': 0.01}\n",
      "\u001b[2m\u001b[36m(pid=21034)\u001b[0m 2021-07-16 11:57:28,996\tDEBUG sgd.py:120 -- 6 {'allreduce_latency': 0.0, 'cur_kl_coeff': 0.675, 'cur_lr': 8.48e-05, 'total_loss': 0.023008722148722772, 'policy_loss': -0.028099248101088135, 'vf_loss': 0.10095587973906235, 'vf_explained_var': -0.054305885, 'kl': 0.0017144567241440668, 'entropy': 0.05272297736144427, 'entropy_coeff': 0.01}\n",
      "\u001b[2m\u001b[36m(pid=21034)\u001b[0m 2021-07-16 11:57:29,147\tDEBUG sgd.py:120 -- 7 {'allreduce_latency': 0.0, 'cur_kl_coeff': 0.675, 'cur_lr': 8.48e-05, 'total_loss': 0.023151289728103264, 'policy_loss': -0.02837473266955578, 'vf_loss': 0.1015253851020878, 'vf_explained_var': 0.00014357855, 'kl': 0.0018970413895493205, 'entropy': 0.05171753206487858, 'entropy_coeff': 0.01}\n",
      "\u001b[2m\u001b[36m(pid=21034)\u001b[0m 2021-07-16 11:57:29,313\tDEBUG sgd.py:120 -- 8 {'allreduce_latency': 0.0, 'cur_kl_coeff': 0.675, 'cur_lr': 8.48e-05, 'total_loss': 0.02177403833378445, 'policy_loss': -0.029596202442366066, 'vf_loss': 0.10093655869026076, 'vf_explained_var': -0.03326423, 'kl': 0.002090503955542138, 'entropy': 0.05091226981444792, 'entropy_coeff': 0.01}\n",
      "\u001b[2m\u001b[36m(pid=21034)\u001b[0m 2021-07-16 11:57:29,464\tDEBUG sgd.py:120 -- 9 {'allreduce_latency': 0.0, 'cur_kl_coeff': 0.675, 'cur_lr': 8.48e-05, 'total_loss': 0.021609309270526424, 'policy_loss': -0.03001700011505322, 'vf_loss': 0.1011641533678454, 'vf_explained_var': -0.003187593, 'kl': 0.002288210085790717, 'entropy': 0.05003097088951053, 'entropy_coeff': 0.01}\n",
      "\u001b[2m\u001b[36m(pid=21034)\u001b[0m 2021-07-16 11:57:29,620\tDEBUG sgd.py:120 -- 10 {'allreduce_latency': 0.0, 'cur_kl_coeff': 0.675, 'cur_lr': 8.48e-05, 'total_loss': 0.02136752906848084, 'policy_loss': -0.03041116227254723, 'vf_loss': 0.1011958968628085, 'vf_explained_var': -0.06973261, 'kl': 0.0024788518168145056, 'entropy': 0.04924811524423686, 'entropy_coeff': 0.01}\n",
      "\u001b[2m\u001b[36m(pid=21034)\u001b[0m 2021-07-16 11:57:29,775\tDEBUG sgd.py:120 -- 11 {'allreduce_latency': 0.0, 'cur_kl_coeff': 0.675, 'cur_lr': 8.48e-05, 'total_loss': 0.02014080203618064, 'policy_loss': -0.03148704321321213, 'vf_loss': 0.10065363951478944, 'vf_explained_var': 0.0250165, 'kl': 0.0026460891645966153, 'entropy': 0.048508611423048104, 'entropy_coeff': 0.01}\n",
      "\u001b[2m\u001b[36m(pid=21034)\u001b[0m 2021-07-16 11:57:29,934\tDEBUG sgd.py:120 -- 12 {'allreduce_latency': 0.0, 'cur_kl_coeff': 0.675, 'cur_lr': 8.48e-05, 'total_loss': 0.020654036353031795, 'policy_loss': -0.031413800972090525, 'vf_loss': 0.10130706790721777, 'vf_explained_var': -0.033290803, 'kl': 0.0028057593965169153, 'entropy': 0.047958649807807174, 'entropy_coeff': 0.01}\n",
      "\u001b[2m\u001b[36m(pid=21034)\u001b[0m 2021-07-16 11:57:30,086\tDEBUG sgd.py:120 -- 13 {'allreduce_latency': 0.0, 'cur_kl_coeff': 0.675, 'cur_lr': 8.48e-05, 'total_loss': 0.01930108197936506, 'policy_loss': -0.03265043743180506, 'vf_loss': 0.10089443243024024, 'vf_explained_var': -0.041832507, 'kl': 0.002931814111599868, 'entropy': 0.047467450413740044, 'entropy_coeff': 0.01}\n",
      "\u001b[2m\u001b[36m(pid=21034)\u001b[0m 2021-07-16 11:57:30,242\tDEBUG sgd.py:120 -- 14 {'allreduce_latency': 0.0, 'cur_kl_coeff': 0.675, 'cur_lr': 8.48e-05, 'total_loss': 0.01920551047519301, 'policy_loss': -0.03280684823226748, 'vf_loss': 0.10079609721221706, 'vf_explained_var': -0.00636939, 'kl': 0.003091361669992859, 'entropy': 0.047235736679850204, 'entropy_coeff': 0.01}\n",
      "\u001b[2m\u001b[36m(pid=21034)\u001b[0m 2021-07-16 11:57:30,396\tDEBUG sgd.py:120 -- 15 {'allreduce_latency': 0.0, 'cur_kl_coeff': 0.675, 'cur_lr': 8.48e-05, 'total_loss': 0.019353055564517326, 'policy_loss': -0.0327072682028467, 'vf_loss': 0.10071271138660835, 'vf_explained_var': -0.003454873, 'kl': 0.00321323253835241, 'entropy': 0.04649644644197189, 'entropy_coeff': 0.01}\n",
      "\u001b[2m\u001b[36m(pid=21034)\u001b[0m 2021-07-16 11:57:30,550\tDEBUG sgd.py:120 -- 16 {'allreduce_latency': 0.0, 'cur_kl_coeff': 0.675, 'cur_lr': 8.48e-05, 'total_loss': 0.017860483208840542, 'policy_loss': -0.033948291431773796, 'vf_loss': 0.10006018324444692, 'vf_explained_var': -0.0033061812, 'kl': 0.0033181203374018273, 'entropy': 0.046104939936688454, 'entropy_coeff': 0.01}\n",
      "\u001b[2m\u001b[36m(pid=21034)\u001b[0m 2021-07-16 11:57:30,705\tDEBUG sgd.py:120 -- 17 {'allreduce_latency': 0.0, 'cur_kl_coeff': 0.675, 'cur_lr': 8.48e-05, 'total_loss': 0.019352187317880718, 'policy_loss': -0.03291245640227289, 'vf_loss': 0.10081836987625468, 'vf_explained_var': 0.020848148, 'kl': 0.003428413038791129, 'entropy': 0.045872227204116905, 'entropy_coeff': 0.01}\n",
      "\u001b[2m\u001b[36m(pid=21034)\u001b[0m 2021-07-16 11:57:30,861\tDEBUG sgd.py:120 -- 18 {'allreduce_latency': 0.0, 'cur_kl_coeff': 0.675, 'cur_lr': 8.48e-05, 'total_loss': 0.01876613243737004, 'policy_loss': -0.03343721436844631, 'vf_loss': 0.10053164099879337, 'vf_explained_var': 0.032257307, 'kl': 0.003544511795608383, 'entropy': 0.045501673481229576, 'entropy_coeff': 0.01}\n",
      "\u001b[2m\u001b[36m(pid=21034)\u001b[0m 2021-07-16 11:57:31,014\tDEBUG sgd.py:120 -- 19 {'allreduce_latency': 0.0, 'cur_kl_coeff': 0.675, 'cur_lr': 8.48e-05, 'total_loss': 0.018364847955209287, 'policy_loss': -0.033843274284718616, 'vf_loss': 0.10041376536316944, 'vf_explained_var': -0.0037227417, 'kl': 0.0036337051371281796, 'entropy': 0.04515108844321786, 'entropy_coeff': 0.01}\n",
      "\u001b[2m\u001b[36m(pid=21034)\u001b[0m 2021-07-16 11:57:31,171\tDEBUG sgd.py:120 -- 20 {'allreduce_latency': 0.0, 'cur_kl_coeff': 0.675, 'cur_lr': 8.48e-05, 'total_loss': 0.01758254183964296, 'policy_loss': -0.03458586981463613, 'vf_loss': 0.10023992004888979, 'vf_explained_var': -0.037074547, 'kl': 0.0037003458110672054, 'entropy': 0.04492827369408174, 'entropy_coeff': 0.01}\n",
      "\u001b[2m\u001b[36m(pid=21034)\u001b[0m 2021-07-16 11:57:31,326\tDEBUG sgd.py:120 -- 21 {'allreduce_latency': 0.0, 'cur_kl_coeff': 0.675, 'cur_lr': 8.48e-05, 'total_loss': 0.0187482437909101, 'policy_loss': -0.03379019344169082, 'vf_loss': 0.10084719471915653, 'vf_explained_var': -0.006944841, 'kl': 0.0037968503240721693, 'entropy': 0.044803355622923736, 'entropy_coeff': 0.01}\n",
      "\u001b[2m\u001b[36m(pid=21034)\u001b[0m 2021-07-16 11:57:31,484\tDEBUG sgd.py:120 -- 22 {'allreduce_latency': 0.0, 'cur_kl_coeff': 0.675, 'cur_lr': 8.48e-05, 'total_loss': 0.018796674624988526, 'policy_loss': -0.03387809649222728, 'vf_loss': 0.10097173657832724, 'vf_explained_var': -0.0025188345, 'kl': 0.0039018344726752152, 'entropy': 0.044483987501624855, 'entropy_coeff': 0.01}\n",
      "\u001b[2m\u001b[36m(pid=21034)\u001b[0m 2021-07-16 11:57:31,637\tDEBUG sgd.py:120 -- 23 {'allreduce_latency': 0.0, 'cur_kl_coeff': 0.675, 'cur_lr': 8.48e-05, 'total_loss': 0.01880143094582088, 'policy_loss': -0.0338664563429175, 'vf_loss': 0.1008597849868238, 'vf_explained_var': -0.00459673, 'kl': 0.0039713850357767306, 'entropy': 0.04426876562788631, 'entropy_coeff': 0.01}\n"
     ]
    },
    {
     "name": "stderr",
     "output_type": "stream",
     "text": [
      "\u001b[2m\u001b[36m(pid=21034)\u001b[0m 2021-07-16 11:57:31,793\tDEBUG sgd.py:120 -- 24 {'allreduce_latency': 0.0, 'cur_kl_coeff': 0.675, 'cur_lr': 8.48e-05, 'total_loss': 0.017161511957193867, 'policy_loss': -0.035210707196683594, 'vf_loss': 0.10014967878603122, 'vf_explained_var': -0.0063348757, 'kl': 0.004055627685209567, 'entropy': 0.04401685009625825, 'entropy_coeff': 0.01}\n",
      "\u001b[2m\u001b[36m(pid=21034)\u001b[0m 2021-07-16 11:57:31,946\tDEBUG sgd.py:120 -- 25 {'allreduce_latency': 0.0, 'cur_kl_coeff': 0.675, 'cur_lr': 8.48e-05, 'total_loss': 0.01695750837186069, 'policy_loss': -0.03542413765733892, 'vf_loss': 0.10007373881385181, 'vf_explained_var': 0.009497623, 'kl': 0.004121986556459557, 'entropy': 0.043756595558740875, 'entropy_coeff': 0.01}\n",
      "\u001b[2m\u001b[36m(pid=21034)\u001b[0m 2021-07-16 11:57:32,103\tDEBUG sgd.py:120 -- 26 {'allreduce_latency': 0.0, 'cur_kl_coeff': 0.675, 'cur_lr': 8.48e-05, 'total_loss': 0.01861925366701502, 'policy_loss': -0.03420799019548929, 'vf_loss': 0.10088261352343993, 'vf_explained_var': 0.0296477, 'kl': 0.004183453042060137, 'entropy': 0.04378960676717036, 'entropy_coeff': 0.01}\n",
      "\u001b[2m\u001b[36m(pid=21034)\u001b[0m 2021-07-16 11:57:32,266\tDEBUG sgd.py:120 -- 27 {'allreduce_latency': 0.0, 'cur_kl_coeff': 0.675, 'cur_lr': 8.48e-05, 'total_loss': 0.01670172079607393, 'policy_loss': -0.03583045878137151, 'vf_loss': 0.10016393784264271, 'vf_explained_var': -0.0036066752, 'kl': 0.004274237174258539, 'entropy': 0.04348992477312232, 'entropy_coeff': 0.01}\n"
     ]
    },
    {
     "name": "stdout",
     "output_type": "stream",
     "text": [
      "Result for PPO_TradingEnv_d625d_00000:\n",
      "  custom_metrics: {}\n",
      "  date: 2021-07-16_11-57-32\n",
      "  done: false\n",
      "  episode_len_mean: 831.0645161290323\n",
      "  episode_reward_max: 553.079364528101\n",
      "  episode_reward_mean: 323.1330839349767\n",
      "  episode_reward_min: -23.913504331878357\n",
      "  episodes_this_iter: 3\n",
      "  episodes_total: 31\n",
      "  experiment_id: e6369b7d95d74c47a2c2141b4142c2c5\n",
      "  experiment_tag: '0'\n",
      "  hostname: localadmin-ECA-FX44E4C\n",
      "  info:\n",
      "    learner:\n",
      "      default_policy:\n",
      "        allreduce_latency: 0.0\n",
      "        cur_kl_coeff: 0.675\n",
      "        cur_lr: 8.48e-05\n",
      "        entropy: 0.043063451620665466\n",
      "        entropy_coeff: 0.01\n",
      "        kl: 0.0043965226011068535\n",
      "        policy_loss: -0.036188232373784886\n",
      "        total_loss: 0.01637920607445818\n",
      "        vf_explained_var: -0.00583766819909215\n",
      "        vf_loss: 0.1000608370046724\n",
      "    num_steps_sampled: 29400\n",
      "    num_steps_trained: 29400\n",
      "  iterations_since_restore: 7\n",
      "  node_ip: 192.168.0.202\n",
      "  num_healthy_workers: 7\n",
      "  off_policy_estimator: {}\n",
      "  perf:\n",
      "    cpu_util_percent: 31.3375\n",
      "    ram_util_percent: 44.1\n",
      "  pid: 21034\n",
      "  policy_reward_max: {}\n",
      "  policy_reward_mean: {}\n",
      "  policy_reward_min: {}\n",
      "  sampler_perf:\n",
      "    mean_env_wait_ms: 0.7426814195954182\n",
      "    mean_inference_ms: 1.2145341464951573\n",
      "    mean_processing_ms: 0.2142025716876877\n",
      "  time_since_restore: 45.659088134765625\n",
      "  time_this_iter_s: 5.768399715423584\n",
      "  time_total_s: 45.659088134765625\n",
      "  timers:\n",
      "    learn_throughput: 875.189\n",
      "    learn_time_ms: 4798.962\n",
      "    sample_throughput: 2447.431\n",
      "    sample_time_ms: 1716.085\n",
      "    update_time_ms: 1.393\n",
      "  timestamp: 1626407852\n",
      "  timesteps_since_restore: 0\n",
      "  timesteps_total: 29400\n",
      "  training_iteration: 7\n",
      "  trial_id: d625d_00000\n",
      "  \n"
     ]
    },
    {
     "name": "stderr",
     "output_type": "stream",
     "text": [
      "\u001b[2m\u001b[36m(pid=21034)\u001b[0m 2021-07-16 11:57:32,428\tDEBUG sgd.py:120 -- 28 {'allreduce_latency': 0.0, 'cur_kl_coeff': 0.675, 'cur_lr': 8.48e-05, 'total_loss': 0.01774888231673024, 'policy_loss': -0.03514067958475965, 'vf_loss': 0.10078511023047296, 'vf_explained_var': -0.0012883563, 'kl': 0.004339802361121683, 'entropy': 0.04323568387013493, 'entropy_coeff': 0.01}\n",
      "\u001b[2m\u001b[36m(pid=21034)\u001b[0m 2021-07-16 11:57:32,581\tDEBUG sgd.py:120 -- 29 {'allreduce_latency': 0.0, 'cur_kl_coeff': 0.675, 'cur_lr': 8.48e-05, 'total_loss': 0.01637920607445818, 'policy_loss': -0.036188232373784886, 'vf_loss': 0.1000608370046724, 'vf_explained_var': -0.005837668, 'kl': 0.0043965226011068535, 'entropy': 0.043063451620665466, 'entropy_coeff': 0.01}\n",
      "\u001b[2m\u001b[36m(pid=21034)\u001b[0m 2021-07-16 11:57:32,589\tDEBUG trainer.py:547 -- synchronized filters: {'default_policy': MeanStdFilter((25, 2), True, True, None, (n=29438, mean_mean=-0.28857160496726547, mean_std=3.849581136245981), (n=0, mean_mean=0.0, mean_std=0.0))}\n"
     ]
    },
    {
     "data": {
      "text/html": [
       "== Status ==<br>Memory usage on this node: 6.4/14.5 GiB<br>Using FIFO scheduling algorithm.<br>Resources requested: 8/8 CPUs, 0/0 GPUs, 0.0/6.74 GiB heap, 0.0/2.29 GiB objects<br>Result logdir: /home/localadmin/ray_results/PPO<br>Number of trials: 1 (1 RUNNING)<br><table>\n",
       "<thead>\n",
       "<tr><th>Trial name                </th><th>status  </th><th>loc                </th><th style=\"text-align: right;\">  iter</th><th style=\"text-align: right;\">  total time (s)</th><th style=\"text-align: right;\">   ts</th><th style=\"text-align: right;\">  reward</th></tr>\n",
       "</thead>\n",
       "<tbody>\n",
       "<tr><td>PPO_TradingEnv_d625d_00000</td><td>RUNNING </td><td>192.168.0.202:21034</td><td style=\"text-align: right;\">     7</td><td style=\"text-align: right;\">         45.6591</td><td style=\"text-align: right;\">29400</td><td style=\"text-align: right;\"> 323.133</td></tr>\n",
       "</tbody>\n",
       "</table><br><br>"
      ],
      "text/plain": [
       "<IPython.core.display.HTML object>"
      ]
     },
     "metadata": {},
     "output_type": "display_data"
    },
    {
     "name": "stderr",
     "output_type": "stream",
     "text": [
      "\u001b[2m\u001b[36m(pid=21034)\u001b[0m 2021-07-16 11:57:33,839\tDEBUG sgd.py:120 -- 0 {'allreduce_latency': 0.0, 'cur_kl_coeff': 0.3375, 'cur_lr': 8.060000000000001e-05, 'total_loss': 0.02673643720195149, 'policy_loss': -0.003168933195852195, 'vf_loss': 0.060634594170771765, 'vf_explained_var': -0.1479423, 'kl': 2.920458746974946e-05, 'entropy': 0.042178334442503525, 'entropy_coeff': 0.01}\n",
      "\u001b[2m\u001b[36m(pid=21034)\u001b[0m 2021-07-16 11:57:33,993\tDEBUG sgd.py:120 -- 1 {'allreduce_latency': 0.0, 'cur_kl_coeff': 0.3375, 'cur_lr': 8.060000000000001e-05, 'total_loss': 0.02215518057346344, 'policy_loss': -0.00835590199990706, 'vf_loss': 0.06164605646027309, 'vf_explained_var': -0.10112195, 'kl': 0.0002690224826051924, 'entropy': 0.04027428991641059, 'entropy_coeff': 0.01}\n",
      "\u001b[2m\u001b[36m(pid=21034)\u001b[0m 2021-07-16 11:57:34,151\tDEBUG sgd.py:120 -- 2 {'allreduce_latency': 0.0, 'cur_kl_coeff': 0.3375, 'cur_lr': 8.060000000000001e-05, 'total_loss': 0.016964176302832184, 'policy_loss': -0.013176926609241602, 'vf_loss': 0.06066940801048821, 'vf_explained_var': -0.12321912, 'kl': 0.0005667821766992072, 'entropy': 0.03848915981749693, 'entropy_coeff': 0.01}\n",
      "\u001b[2m\u001b[36m(pid=21034)\u001b[0m 2021-07-16 11:57:34,307\tDEBUG sgd.py:120 -- 3 {'allreduce_latency': 0.0, 'cur_kl_coeff': 0.3375, 'cur_lr': 8.060000000000001e-05, 'total_loss': 0.01648573721335693, 'policy_loss': -0.013760867853169188, 'vf_loss': 0.06084570735975197, 'vf_explained_var': -0.14207974, 'kl': 0.0005899366016930082, 'entropy': 0.037535471615917755, 'entropy_coeff': 0.01}\n",
      "\u001b[2m\u001b[36m(pid=21034)\u001b[0m 2021-07-16 11:57:34,468\tDEBUG sgd.py:120 -- 4 {'allreduce_latency': 0.0, 'cur_kl_coeff': 0.3375, 'cur_lr': 8.060000000000001e-05, 'total_loss': 0.015700664625249126, 'policy_loss': -0.014456386028817205, 'vf_loss': 0.060680999625191995, 'vf_explained_var': -0.19203308, 'kl': 0.0005459146755818052, 'entropy': 0.036769590650995575, 'entropy_coeff': 0.01}\n",
      "\u001b[2m\u001b[36m(pid=21034)\u001b[0m 2021-07-16 11:57:34,627\tDEBUG sgd.py:120 -- 5 {'allreduce_latency': 0.0, 'cur_kl_coeff': 0.3375, 'cur_lr': 8.060000000000001e-05, 'total_loss': 0.015195012685250153, 'policy_loss': -0.015061618534452988, 'vf_loss': 0.06086576199441245, 'vf_explained_var': -0.11489624, 'kl': 0.0005439254199507449, 'entropy': 0.0359827054833824, 'entropy_coeff': 0.01}\n",
      "\u001b[2m\u001b[36m(pid=21034)\u001b[0m 2021-07-16 11:57:34,784\tDEBUG sgd.py:120 -- 6 {'allreduce_latency': 0.0, 'cur_kl_coeff': 0.3375, 'cur_lr': 8.060000000000001e-05, 'total_loss': 0.013588894130379864, 'policy_loss': -0.016549500777865902, 'vf_loss': 0.060479060944282646, 'vf_explained_var': -0.13655433, 'kl': 0.0007480365430555222, 'entropy': 0.03535939453903473, 'entropy_coeff': 0.01}\n",
      "\u001b[2m\u001b[36m(pid=21034)\u001b[0m 2021-07-16 11:57:34,936\tDEBUG sgd.py:120 -- 7 {'allreduce_latency': 0.0, 'cur_kl_coeff': 0.3375, 'cur_lr': 8.060000000000001e-05, 'total_loss': 0.012186244186578375, 'policy_loss': -0.01781747518389514, 'vf_loss': 0.06023283021976099, 'vf_explained_var': -0.16194071, 'kl': 0.0006972388999367303, 'entropy': 0.03480156818687013, 'entropy_coeff': 0.01}\n",
      "\u001b[2m\u001b[36m(pid=21034)\u001b[0m 2021-07-16 11:57:35,097\tDEBUG sgd.py:120 -- 8 {'allreduce_latency': 0.0, 'cur_kl_coeff': 0.3375, 'cur_lr': 8.060000000000001e-05, 'total_loss': 0.012347930985869783, 'policy_loss': -0.017739022658629852, 'vf_loss': 0.06035796670017369, 'vf_explained_var': -0.16573782, 'kl': 0.0007405619129933642, 'entropy': 0.034196820110082626, 'entropy_coeff': 0.01}\n",
      "\u001b[2m\u001b[36m(pid=21034)\u001b[0m 2021-07-16 11:57:35,250\tDEBUG sgd.py:120 -- 9 {'allreduce_latency': 0.0, 'cur_kl_coeff': 0.3375, 'cur_lr': 8.060000000000001e-05, 'total_loss': 0.012506402690302242, 'policy_loss': -0.017712577217907616, 'vf_loss': 0.060543802566826344, 'vf_explained_var': -0.10329249, 'kl': 0.0008416204364039004, 'entropy': 0.03369675712151961, 'entropy_coeff': 0.01}\n",
      "\u001b[2m\u001b[36m(pid=21034)\u001b[0m 2021-07-16 11:57:35,427\tDEBUG sgd.py:120 -- 10 {'allreduce_latency': 0.0, 'cur_kl_coeff': 0.3375, 'cur_lr': 8.060000000000001e-05, 'total_loss': 0.0109522630545226, 'policy_loss': -0.019119722458223503, 'vf_loss': 0.06015575658812216, 'vf_explained_var': -0.082827345, 'kl': 0.0009696797069133909, 'entropy': 0.033315718823084324, 'entropy_coeff': 0.01}\n",
      "\u001b[2m\u001b[36m(pid=21034)\u001b[0m 2021-07-16 11:57:35,580\tDEBUG sgd.py:120 -- 11 {'allreduce_latency': 0.0, 'cur_kl_coeff': 0.3375, 'cur_lr': 8.060000000000001e-05, 'total_loss': 0.009979830095262238, 'policy_loss': -0.020132047886198216, 'vf_loss': 0.06019263191035751, 'vf_explained_var': -0.13333234, 'kl': 0.0010186717669112663, 'entropy': 0.03282407922388026, 'entropy_coeff': 0.01}\n",
      "\u001b[2m\u001b[36m(pid=21034)\u001b[0m 2021-07-16 11:57:35,740\tDEBUG sgd.py:120 -- 12 {'allreduce_latency': 0.0, 'cur_kl_coeff': 0.3375, 'cur_lr': 8.060000000000001e-05, 'total_loss': 0.01205345078117468, 'policy_loss': -0.0182937676312797, 'vf_loss': 0.06066777446363686, 'vf_explained_var': -0.10689004, 'kl': 0.0010040970536823752, 'entropy': 0.03255485125224699, 'entropy_coeff': 0.01}\n",
      "\u001b[2m\u001b[36m(pid=21034)\u001b[0m 2021-07-16 11:57:35,892\tDEBUG sgd.py:120 -- 13 {'allreduce_latency': 0.0, 'cur_kl_coeff': 0.3375, 'cur_lr': 8.060000000000001e-05, 'total_loss': 0.01028660193762996, 'policy_loss': -0.01988394216944774, 'vf_loss': 0.06021692720947392, 'vf_explained_var': -0.07279552, 'kl': 0.0011416166089475155, 'entropy': 0.03232154396898819, 'entropy_coeff': 0.01}\n",
      "\u001b[2m\u001b[36m(pid=21034)\u001b[0m 2021-07-16 11:57:36,052\tDEBUG sgd.py:120 -- 14 {'allreduce_latency': 0.0, 'cur_kl_coeff': 0.3375, 'cur_lr': 8.060000000000001e-05, 'total_loss': 0.010392978476981321, 'policy_loss': -0.01986550601820151, 'vf_loss': 0.0603490581623081, 'vf_explained_var': -0.07527122, 'kl': 0.0012004874597275348, 'entropy': 0.032120787905472695, 'entropy_coeff': 0.01}\n",
      "\u001b[2m\u001b[36m(pid=21034)\u001b[0m 2021-07-16 11:57:36,210\tDEBUG sgd.py:120 -- 15 {'allreduce_latency': 0.0, 'cur_kl_coeff': 0.3375, 'cur_lr': 8.060000000000001e-05, 'total_loss': 0.009972474156794224, 'policy_loss': -0.020319859864133778, 'vf_loss': 0.06037935091775249, 'vf_explained_var': -0.11226817, 'kl': 0.0012453593874604187, 'entropy': 0.03176537872941205, 'entropy_coeff': 0.01}\n",
      "\u001b[2m\u001b[36m(pid=21034)\u001b[0m 2021-07-16 11:57:36,365\tDEBUG sgd.py:120 -- 16 {'allreduce_latency': 0.0, 'cur_kl_coeff': 0.3375, 'cur_lr': 8.060000000000001e-05, 'total_loss': 0.009816413039736675, 'policy_loss': -0.02047983906937368, 'vf_loss': 0.060364532552546625, 'vf_explained_var': -0.16057417, 'kl': 0.0012712438968292465, 'entropy': 0.031505841479608505, 'entropy_coeff': 0.01}\n",
      "\u001b[2m\u001b[36m(pid=21034)\u001b[0m 2021-07-16 11:57:36,524\tDEBUG sgd.py:120 -- 17 {'allreduce_latency': 0.0, 'cur_kl_coeff': 0.3375, 'cur_lr': 8.060000000000001e-05, 'total_loss': 0.009519576236154095, 'policy_loss': -0.020663437489984615, 'vf_loss': 0.06008346443713614, 'vf_explained_var': -0.19330424, 'kl': 0.0013441148030599861, 'entropy': 0.031235620605223106, 'entropy_coeff': 0.01}\n",
      "\u001b[2m\u001b[36m(pid=21034)\u001b[0m 2021-07-16 11:57:36,684\tDEBUG sgd.py:120 -- 18 {'allreduce_latency': 0.0, 'cur_kl_coeff': 0.3375, 'cur_lr': 8.060000000000001e-05, 'total_loss': 0.009512895210222765, 'policy_loss': -0.02088070389193793, 'vf_loss': 0.060460510550800595, 'vf_explained_var': -0.117131546, 'kl': 0.001407157284010089, 'entropy': 0.031157107035996334, 'entropy_coeff': 0.01}\n",
      "\u001b[2m\u001b[36m(pid=21034)\u001b[0m 2021-07-16 11:57:36,838\tDEBUG sgd.py:120 -- 19 {'allreduce_latency': 0.0, 'cur_kl_coeff': 0.3375, 'cur_lr': 8.060000000000001e-05, 'total_loss': 0.009078063240105455, 'policy_loss': -0.02118578448778752, 'vf_loss': 0.06018605523488738, 'vf_explained_var': -0.053722203, 'kl': 0.0014147770901521046, 'entropy': 0.03066664482607986, 'entropy_coeff': 0.01}\n",
      "\u001b[2m\u001b[36m(pid=21034)\u001b[0m 2021-07-16 11:57:36,993\tDEBUG sgd.py:120 -- 20 {'allreduce_latency': 0.0, 'cur_kl_coeff': 0.3375, 'cur_lr': 8.060000000000001e-05, 'total_loss': 0.009389967714069468, 'policy_loss': -0.020941192855719815, 'vf_loss': 0.060213803962776154, 'vf_explained_var': -0.08099628, 'kl': 0.00157175358970452, 'entropy': 0.03062079722682635, 'entropy_coeff': 0.01}\n",
      "\u001b[2m\u001b[36m(pid=21034)\u001b[0m 2021-07-16 11:57:37,146\tDEBUG sgd.py:120 -- 21 {'allreduce_latency': 0.0, 'cur_kl_coeff': 0.3375, 'cur_lr': 8.060000000000001e-05, 'total_loss': 0.009538568669196331, 'policy_loss': -0.020938223340746128, 'vf_loss': 0.060426004767192135, 'vf_explained_var': -0.19627057, 'kl': 0.0016808456169780004, 'entropy': 0.030349657080616013, 'entropy_coeff': 0.01}\n"
     ]
    },
    {
     "name": "stderr",
     "output_type": "stream",
     "text": [
      "\u001b[2m\u001b[36m(pid=21034)\u001b[0m 2021-07-16 11:57:37,307\tDEBUG sgd.py:120 -- 22 {'allreduce_latency': 0.0, 'cur_kl_coeff': 0.3375, 'cur_lr': 8.060000000000001e-05, 'total_loss': 0.0081440509212288, 'policy_loss': -0.022101737107291367, 'vf_loss': 0.05996226595545357, 'vf_explained_var': -0.014618384, 'kl': 0.001676877486082076, 'entropy': 0.030129110525277527, 'entropy_coeff': 0.01}\n",
      "\u001b[2m\u001b[36m(pid=21034)\u001b[0m 2021-07-16 11:57:37,460\tDEBUG sgd.py:120 -- 23 {'allreduce_latency': 0.0, 'cur_kl_coeff': 0.3375, 'cur_lr': 8.060000000000001e-05, 'total_loss': 0.00886147627324769, 'policy_loss': -0.021591574884951115, 'vf_loss': 0.06030765473560402, 'vf_explained_var': -0.121910006, 'kl': 0.0017777772260491145, 'entropy': 0.03007754183967005, 'entropy_coeff': 0.01}\n",
      "\u001b[2m\u001b[36m(pid=21034)\u001b[0m 2021-07-16 11:57:37,619\tDEBUG sgd.py:120 -- 24 {'allreduce_latency': 0.0, 'cur_kl_coeff': 0.3375, 'cur_lr': 8.060000000000001e-05, 'total_loss': 0.008992854251780293, 'policy_loss': -0.021555457377072536, 'vf_loss': 0.06044950361617587, 'vf_explained_var': -0.068611324, 'kl': 0.0018412229379243922, 'entropy': 0.029785338563449455, 'entropy_coeff': 0.01}\n",
      "\u001b[2m\u001b[36m(pid=21034)\u001b[0m 2021-07-16 11:57:37,785\tDEBUG sgd.py:120 -- 25 {'allreduce_latency': 0.0, 'cur_kl_coeff': 0.3375, 'cur_lr': 8.060000000000001e-05, 'total_loss': 0.008566663318285437, 'policy_loss': -0.02191482868158456, 'vf_loss': 0.060315231390466746, 'vf_explained_var': -0.106540464, 'kl': 0.0018317682181738994, 'entropy': 0.029434733346781948, 'entropy_coeff': 0.01}\n",
      "\u001b[2m\u001b[36m(pid=21034)\u001b[0m 2021-07-16 11:57:37,943\tDEBUG sgd.py:120 -- 26 {'allreduce_latency': 0.0, 'cur_kl_coeff': 0.3375, 'cur_lr': 8.060000000000001e-05, 'total_loss': 0.007886199929723234, 'policy_loss': -0.022465076579740555, 'vf_loss': 0.05998546490445733, 'vf_explained_var': -0.16409929, 'kl': 0.0019324325998737054, 'entropy': 0.029365339372871502, 'entropy_coeff': 0.01}\n",
      "\u001b[2m\u001b[36m(pid=21034)\u001b[0m 2021-07-16 11:57:38,099\tDEBUG sgd.py:120 -- 27 {'allreduce_latency': 0.0, 'cur_kl_coeff': 0.3375, 'cur_lr': 8.060000000000001e-05, 'total_loss': 0.007526202607109692, 'policy_loss': -0.02278685238155903, 'vf_loss': 0.05986706047516429, 'vf_explained_var': -0.1195091, 'kl': 0.001990755123904709, 'entropy': 0.029235356628443256, 'entropy_coeff': 0.01}\n",
      "\u001b[2m\u001b[36m(pid=21034)\u001b[0m 2021-07-16 11:57:38,252\tDEBUG sgd.py:120 -- 28 {'allreduce_latency': 0.0, 'cur_kl_coeff': 0.3375, 'cur_lr': 8.060000000000001e-05, 'total_loss': 0.00796102128471389, 'policy_loss': -0.0224818233471138, 'vf_loss': 0.060144291668565886, 'vf_explained_var': -0.13739675, 'kl': 0.001958694224330512, 'entropy': 0.029036025714242096, 'entropy_coeff': 0.01}\n"
     ]
    },
    {
     "name": "stdout",
     "output_type": "stream",
     "text": [
      "Result for PPO_TradingEnv_d625d_00000:\n",
      "  custom_metrics: {}\n",
      "  date: 2021-07-16_11-57-38\n",
      "  done: false\n",
      "  episode_len_mean: 844.7714285714286\n",
      "  episode_reward_max: 553.079364528101\n",
      "  episode_reward_mean: 348.5982706030448\n",
      "  episode_reward_min: -23.913504331878357\n",
      "  episodes_this_iter: 4\n",
      "  episodes_total: 35\n",
      "  experiment_id: e6369b7d95d74c47a2c2141b4142c2c5\n",
      "  experiment_tag: '0'\n",
      "  hostname: localadmin-ECA-FX44E4C\n",
      "  info:\n",
      "    learner:\n",
      "      default_policy:\n",
      "        allreduce_latency: 0.0\n",
      "        cur_kl_coeff: 0.3375\n",
      "        cur_lr: 8.060000000000001e-05\n",
      "        entropy: 0.029034188045471004\n",
      "        entropy_coeff: 0.01\n",
      "        kl: 0.0020566789228751354\n",
      "        policy_loss: -0.023051525466144085\n",
      "        total_loss: 0.007293811406601559\n",
      "        vf_explained_var: -0.155987948179245\n",
      "        vf_loss: 0.05988310228073687\n",
      "    num_steps_sampled: 33600\n",
      "    num_steps_trained: 33600\n",
      "  iterations_since_restore: 8\n",
      "  node_ip: 192.168.0.202\n",
      "  num_healthy_workers: 7\n",
      "  off_policy_estimator: {}\n",
      "  perf:\n",
      "    cpu_util_percent: 31.6375\n",
      "    ram_util_percent: 44.1\n",
      "  pid: 21034\n",
      "  policy_reward_max: {}\n",
      "  policy_reward_mean: {}\n",
      "  policy_reward_min: {}\n",
      "  sampler_perf:\n",
      "    mean_env_wait_ms: 0.7217536206035096\n",
      "    mean_inference_ms: 1.2050395935878506\n",
      "    mean_processing_ms: 0.21283146341480577\n",
      "  time_since_restore: 51.468512535095215\n",
      "  time_this_iter_s: 5.80942440032959\n",
      "  time_total_s: 51.468512535095215\n",
      "  timers:\n",
      "    learn_throughput: 876.834\n",
      "    learn_time_ms: 4789.962\n",
      "    sample_throughput: 2567.765\n",
      "    sample_time_ms: 1635.664\n",
      "    update_time_ms: 1.397\n",
      "  timestamp: 1626407858\n",
      "  timesteps_since_restore: 0\n",
      "  timesteps_total: 33600\n",
      "  training_iteration: 8\n",
      "  trial_id: d625d_00000\n",
      "  \n"
     ]
    },
    {
     "name": "stderr",
     "output_type": "stream",
     "text": [
      "\u001b[2m\u001b[36m(pid=21034)\u001b[0m 2021-07-16 11:57:38,410\tDEBUG sgd.py:120 -- 29 {'allreduce_latency': 0.0, 'cur_kl_coeff': 0.3375, 'cur_lr': 8.060000000000001e-05, 'total_loss': 0.007293811406601559, 'policy_loss': -0.023051525466144085, 'vf_loss': 0.05988310228073687, 'vf_explained_var': -0.15598795, 'kl': 0.0020566789228751354, 'entropy': 0.029034188045471004, 'entropy_coeff': 0.01}\n"
     ]
    },
    {
     "data": {
      "text/html": [
       "== Status ==<br>Memory usage on this node: 6.4/14.5 GiB<br>Using FIFO scheduling algorithm.<br>Resources requested: 8/8 CPUs, 0/0 GPUs, 0.0/6.74 GiB heap, 0.0/2.29 GiB objects<br>Result logdir: /home/localadmin/ray_results/PPO<br>Number of trials: 1 (1 RUNNING)<br><table>\n",
       "<thead>\n",
       "<tr><th>Trial name                </th><th>status  </th><th>loc                </th><th style=\"text-align: right;\">  iter</th><th style=\"text-align: right;\">  total time (s)</th><th style=\"text-align: right;\">   ts</th><th style=\"text-align: right;\">  reward</th></tr>\n",
       "</thead>\n",
       "<tbody>\n",
       "<tr><td>PPO_TradingEnv_d625d_00000</td><td>RUNNING </td><td>192.168.0.202:21034</td><td style=\"text-align: right;\">     8</td><td style=\"text-align: right;\">         51.4685</td><td style=\"text-align: right;\">33600</td><td style=\"text-align: right;\"> 348.598</td></tr>\n",
       "</tbody>\n",
       "</table><br><br>"
      ],
      "text/plain": [
       "<IPython.core.display.HTML object>"
      ]
     },
     "metadata": {},
     "output_type": "display_data"
    },
    {
     "name": "stderr",
     "output_type": "stream",
     "text": [
      "\u001b[2m\u001b[36m(pid=21034)\u001b[0m 2021-07-16 11:57:38,424\tDEBUG trainer.py:547 -- synchronized filters: {'default_policy': MeanStdFilter((25, 2), True, True, None, (n=33642, mean_mean=-0.3130954618409067, mean_std=3.844843251419002), (n=0, mean_mean=0.0, mean_std=0.0))}\n",
      "\u001b[2m\u001b[36m(pid=21034)\u001b[0m 2021-07-16 11:57:39,678\tDEBUG sgd.py:120 -- 0 {'allreduce_latency': 0.0, 'cur_kl_coeff': 0.16875, 'cur_lr': 7.64e-05, 'total_loss': 0.028291930811423244, 'policy_loss': -0.0007153338555133704, 'vf_loss': 0.05864668231824356, 'vf_explained_var': -0.11901273, 'kl': 2.8075890212738003e-05, 'entropy': 0.032081120647490025, 'entropy_coeff': 0.01}\n",
      "\u001b[2m\u001b[36m(pid=21034)\u001b[0m 2021-07-16 11:57:39,835\tDEBUG sgd.py:120 -- 1 {'allreduce_latency': 0.0, 'cur_kl_coeff': 0.16875, 'cur_lr': 7.64e-05, 'total_loss': 0.02360568115149032, 'policy_loss': -0.005216174871858322, 'vf_loss': 0.058242958702259894, 'vf_explained_var': -0.2105845, 'kl': 5.267915190470927e-05, 'entropy': 0.030851879495788704, 'entropy_coeff': 0.01}\n",
      "\u001b[2m\u001b[36m(pid=21034)\u001b[0m 2021-07-16 11:57:39,994\tDEBUG sgd.py:120 -- 2 {'allreduce_latency': 0.0, 'cur_kl_coeff': 0.16875, 'cur_lr': 7.64e-05, 'total_loss': 0.020797014857331913, 'policy_loss': -0.008199023014061491, 'vf_loss': 0.05852123958086877, 'vf_explained_var': -0.17594275, 'kl': 0.00019086428768456574, 'entropy': 0.029679059177975763, 'entropy_coeff': 0.01}\n",
      "\u001b[2m\u001b[36m(pid=21034)\u001b[0m 2021-07-16 11:57:40,148\tDEBUG sgd.py:120 -- 3 {'allreduce_latency': 0.0, 'cur_kl_coeff': 0.16875, 'cur_lr': 7.64e-05, 'total_loss': 0.018739876986453026, 'policy_loss': -0.010167978139537754, 'vf_loss': 0.05830316161595737, 'vf_explained_var': -0.12277474, 'kl': 0.00026977662139071265, 'entropy': 0.02892495048317042, 'entropy_coeff': 0.01}\n",
      "\u001b[2m\u001b[36m(pid=21034)\u001b[0m 2021-07-16 11:57:40,306\tDEBUG sgd.py:120 -- 4 {'allreduce_latency': 0.0, 'cur_kl_coeff': 0.16875, 'cur_lr': 7.64e-05, 'total_loss': 0.016415912601532356, 'policy_loss': -0.01249412622189883, 'vf_loss': 0.05827349684003628, 'vf_explained_var': -0.079089046, 'kl': 0.0003339440921660174, 'entropy': 0.02830606111974427, 'entropy_coeff': 0.01}\n",
      "\u001b[2m\u001b[36m(pid=21034)\u001b[0m 2021-07-16 11:57:40,464\tDEBUG sgd.py:120 -- 5 {'allreduce_latency': 0.0, 'cur_kl_coeff': 0.16875, 'cur_lr': 7.64e-05, 'total_loss': 0.01637022705240683, 'policy_loss': -0.012726552897330486, 'vf_loss': 0.05862505676817487, 'vf_explained_var': -0.16982494, 'kl': 0.00036093068642499435, 'entropy': 0.027665517208251087, 'entropy_coeff': 0.01}\n",
      "\u001b[2m\u001b[36m(pid=21034)\u001b[0m 2021-07-16 11:57:40,624\tDEBUG sgd.py:120 -- 6 {'allreduce_latency': 0.0, 'cur_kl_coeff': 0.16875, 'cur_lr': 7.64e-05, 'total_loss': 0.014501390216702765, 'policy_loss': -0.014414999443529681, 'vf_loss': 0.058234951995087395, 'vf_explained_var': -0.11065908, 'kl': 0.0004288217839502701, 'entropy': 0.027344710645124767, 'entropy_coeff': 0.01}\n",
      "\u001b[2m\u001b[36m(pid=21034)\u001b[0m 2021-07-16 11:57:40,779\tDEBUG sgd.py:120 -- 7 {'allreduce_latency': 0.0, 'cur_kl_coeff': 0.16875, 'cur_lr': 7.64e-05, 'total_loss': 0.013305718897644318, 'policy_loss': -0.015524392439560457, 'vf_loss': 0.058063690649401964, 'vf_explained_var': -0.07552068, 'kl': 0.00039633503360109347, 'entropy': 0.02686151351328149, 'entropy_coeff': 0.01}\n",
      "\u001b[2m\u001b[36m(pid=21034)\u001b[0m 2021-07-16 11:57:40,936\tDEBUG sgd.py:120 -- 8 {'allreduce_latency': 0.0, 'cur_kl_coeff': 0.16875, 'cur_lr': 7.64e-05, 'total_loss': 0.012826607421492085, 'policy_loss': -0.016141362738739135, 'vf_loss': 0.05830264174746293, 'vf_explained_var': -0.06503141, 'kl': 0.0004830204583633917, 'entropy': 0.026486075934812878, 'entropy_coeff': 0.01}\n",
      "\u001b[2m\u001b[36m(pid=21034)\u001b[0m 2021-07-16 11:57:41,090\tDEBUG sgd.py:120 -- 9 {'allreduce_latency': 0.0, 'cur_kl_coeff': 0.16875, 'cur_lr': 7.64e-05, 'total_loss': 0.012035564307800749, 'policy_loss': -0.016870128244838932, 'vf_loss': 0.05813065883844639, 'vf_explained_var': -0.1161876, 'kl': 0.0006025549761640528, 'entropy': 0.02613170309500261, 'entropy_coeff': 0.01}\n",
      "\u001b[2m\u001b[36m(pid=21034)\u001b[0m 2021-07-16 11:57:41,250\tDEBUG sgd.py:120 -- 10 {'allreduce_latency': 0.0, 'cur_kl_coeff': 0.16875, 'cur_lr': 7.64e-05, 'total_loss': 0.010700056583366611, 'policy_loss': -0.018094884372796074, 'vf_loss': 0.05789638725532727, 'vf_explained_var': -0.14484824, 'kl': 0.0006219258815910893, 'entropy': 0.025820330886000938, 'entropy_coeff': 0.01}\n",
      "\u001b[2m\u001b[36m(pid=21034)\u001b[0m 2021-07-16 11:57:41,406\tDEBUG sgd.py:120 -- 11 {'allreduce_latency': 0.0, 'cur_kl_coeff': 0.16875, 'cur_lr': 7.64e-05, 'total_loss': 0.011584740837640835, 'policy_loss': -0.017487578601999718, 'vf_loss': 0.058435564606704495, 'vf_explained_var': -0.05697577, 'kl': 0.0006547976976655649, 'entropy': 0.02559588747945699, 'entropy_coeff': 0.01}\n",
      "\u001b[2m\u001b[36m(pid=21034)\u001b[0m 2021-07-16 11:57:41,566\tDEBUG sgd.py:120 -- 12 {'allreduce_latency': 0.0, 'cur_kl_coeff': 0.16875, 'cur_lr': 7.64e-05, 'total_loss': 0.012229663037666769, 'policy_loss': -0.017131755354278015, 'vf_loss': 0.05899606568202602, 'vf_explained_var': -0.16943172, 'kl': 0.0006953779789689703, 'entropy': 0.025395790792324326, 'entropy_coeff': 0.01}\n",
      "\u001b[2m\u001b[36m(pid=21034)\u001b[0m 2021-07-16 11:57:41,725\tDEBUG sgd.py:120 -- 13 {'allreduce_latency': 0.0, 'cur_kl_coeff': 0.16875, 'cur_lr': 7.64e-05, 'total_loss': 0.010650308859167677, 'policy_loss': -0.01832912898989338, 'vf_loss': 0.058207081369773456, 'vf_explained_var': -0.10712012, 'kl': 0.0007524478926577351, 'entropy': 0.025108236255067768, 'entropy_coeff': 0.01}\n",
      "\u001b[2m\u001b[36m(pid=21034)\u001b[0m 2021-07-16 11:57:41,889\tDEBUG sgd.py:120 -- 14 {'allreduce_latency': 0.0, 'cur_kl_coeff': 0.16875, 'cur_lr': 7.64e-05, 'total_loss': 0.00918113197566885, 'policy_loss': -0.019693096140117355, 'vf_loss': 0.05796770395174848, 'vf_explained_var': -0.11224655, 'kl': 0.0008254327059892768, 'entropy': 0.024891958317973396, 'entropy_coeff': 0.01}\n",
      "\u001b[2m\u001b[36m(pid=21034)\u001b[0m 2021-07-16 11:57:42,052\tDEBUG sgd.py:120 -- 15 {'allreduce_latency': 0.0, 'cur_kl_coeff': 0.16875, 'cur_lr': 7.64e-05, 'total_loss': 0.009433984107366114, 'policy_loss': -0.01941379625350237, 'vf_loss': 0.057902187151326376, 'vf_explained_var': -0.15007997, 'kl': 0.0008555204910931714, 'entropy': 0.024768231408388325, 'entropy_coeff': 0.01}\n",
      "\u001b[2m\u001b[36m(pid=21034)\u001b[0m 2021-07-16 11:57:42,229\tDEBUG sgd.py:120 -- 16 {'allreduce_latency': 0.0, 'cur_kl_coeff': 0.16875, 'cur_lr': 7.64e-05, 'total_loss': 0.008397218065731453, 'policy_loss': -0.020363168113610962, 'vf_loss': 0.057693102241804205, 'vf_explained_var': -0.050147373, 'kl': 0.0009380931133460817, 'entropy': 0.024446477944200688, 'entropy_coeff': 0.01}\n",
      "\u001b[2m\u001b[36m(pid=21034)\u001b[0m 2021-07-16 11:57:42,394\tDEBUG sgd.py:120 -- 17 {'allreduce_latency': 0.0, 'cur_kl_coeff': 0.16875, 'cur_lr': 7.64e-05, 'total_loss': 0.009064415191074439, 'policy_loss': -0.019790104167027908, 'vf_loss': 0.057864878185544956, 'vf_explained_var': -0.122468054, 'kl': 0.0009779236120679839, 'entropy': 0.024294505460244236, 'entropy_coeff': 0.01}\n",
      "\u001b[2m\u001b[36m(pid=21034)\u001b[0m 2021-07-16 11:57:42,584\tDEBUG sgd.py:120 -- 18 {'allreduce_latency': 0.0, 'cur_kl_coeff': 0.16875, 'cur_lr': 7.64e-05, 'total_loss': 0.008896374623432304, 'policy_loss': -0.02004561344669624, 'vf_loss': 0.05801309477255651, 'vf_explained_var': -0.1873488, 'kl': 0.0010477812346917663, 'entropy': 0.02413716237766273, 'entropy_coeff': 0.01}\n",
      "\u001b[2m\u001b[36m(pid=21034)\u001b[0m 2021-07-16 11:57:42,737\tDEBUG sgd.py:120 -- 19 {'allreduce_latency': 0.0, 'cur_kl_coeff': 0.16875, 'cur_lr': 7.64e-05, 'total_loss': 0.00806146925033042, 'policy_loss': -0.02068243202555812, 'vf_loss': 0.05761905600824817, 'vf_explained_var': -0.15149432, 'kl': 0.0010322484304197133, 'entropy': 0.023982014436500543, 'entropy_coeff': 0.01}\n",
      "\u001b[2m\u001b[36m(pid=21034)\u001b[0m 2021-07-16 11:57:42,897\tDEBUG sgd.py:120 -- 20 {'allreduce_latency': 0.0, 'cur_kl_coeff': 0.16875, 'cur_lr': 7.64e-05, 'total_loss': 0.007982776076956228, 'policy_loss': -0.02081853814535972, 'vf_loss': 0.05771028511508396, 'vf_explained_var': -0.10493784, 'kl': 0.001095421629901411, 'entropy': 0.02386791284450076, 'entropy_coeff': 0.01}\n",
      "\u001b[2m\u001b[36m(pid=21034)\u001b[0m 2021-07-16 11:57:43,048\tDEBUG sgd.py:120 -- 21 {'allreduce_latency': 0.0, 'cur_kl_coeff': 0.16875, 'cur_lr': 7.64e-05, 'total_loss': 0.00835025536291527, 'policy_loss': -0.020561809764441216, 'vf_loss': 0.0579182057796667, 'vf_explained_var': -0.13331197, 'kl': 0.0011374256044456904, 'entropy': 0.023898073472082615, 'entropy_coeff': 0.01}\n"
     ]
    },
    {
     "name": "stderr",
     "output_type": "stream",
     "text": [
      "\u001b[2m\u001b[36m(pid=21034)\u001b[0m 2021-07-16 11:57:43,204\tDEBUG sgd.py:120 -- 22 {'allreduce_latency': 0.0, 'cur_kl_coeff': 0.16875, 'cur_lr': 7.64e-05, 'total_loss': 0.008828579391719717, 'policy_loss': -0.0200900219267968, 'vf_loss': 0.05790223226402745, 'vf_explained_var': -0.12473737, 'kl': 0.0012089360089069514, 'entropy': 0.023652410614445354, 'entropy_coeff': 0.01}\n",
      "\u001b[2m\u001b[36m(pid=21034)\u001b[0m 2021-07-16 11:57:43,361\tDEBUG sgd.py:120 -- 23 {'allreduce_latency': 0.0, 'cur_kl_coeff': 0.16875, 'cur_lr': 7.64e-05, 'total_loss': 0.00813030649089452, 'policy_loss': -0.020753672826244976, 'vf_loss': 0.057836591872866404, 'vf_explained_var': -0.08878943, 'kl': 0.0012006130295269418, 'entropy': 0.02369176469404589, 'entropy_coeff': 0.01}\n",
      "\u001b[2m\u001b[36m(pid=21034)\u001b[0m 2021-07-16 11:57:43,524\tDEBUG sgd.py:120 -- 24 {'allreduce_latency': 0.0, 'cur_kl_coeff': 0.16875, 'cur_lr': 7.64e-05, 'total_loss': 0.008123251722391808, 'policy_loss': -0.020808057295102062, 'vf_loss': 0.0579268063743119, 'vf_explained_var': -0.09978702, 'kl': 0.0012043335661997623, 'entropy': 0.023532698340149538, 'entropy_coeff': 0.01}\n",
      "\u001b[2m\u001b[36m(pid=21034)\u001b[0m 2021-07-16 11:57:43,689\tDEBUG sgd.py:120 -- 25 {'allreduce_latency': 0.0, 'cur_kl_coeff': 0.16875, 'cur_lr': 7.64e-05, 'total_loss': 0.007850918396742958, 'policy_loss': -0.02092157118022442, 'vf_loss': 0.057610767794716536, 'vf_explained_var': -0.100089245, 'kl': 0.0011965360785270054, 'entropy': 0.0234811301060924, 'entropy_coeff': 0.01}\n",
      "\u001b[2m\u001b[36m(pid=21034)\u001b[0m 2021-07-16 11:57:43,843\tDEBUG sgd.py:120 -- 26 {'allreduce_latency': 0.0, 'cur_kl_coeff': 0.16875, 'cur_lr': 7.64e-05, 'total_loss': 0.007708482401953502, 'policy_loss': -0.02111620001607772, 'vf_loss': 0.057668859251972404, 'vf_explained_var': -0.047496744, 'kl': 0.001324908829040148, 'entropy': 0.023332357321950523, 'entropy_coeff': 0.01}\n",
      "\u001b[2m\u001b[36m(pid=21034)\u001b[0m 2021-07-16 11:57:44,000\tDEBUG sgd.py:120 -- 27 {'allreduce_latency': 0.0, 'cur_kl_coeff': 0.16875, 'cur_lr': 7.64e-05, 'total_loss': 0.007910976242838484, 'policy_loss': -0.02086274829608473, 'vf_loss': 0.057572350329296154, 'vf_explained_var': -0.015552607, 'kl': 0.0013050573003111463, 'entropy': 0.023267729504203253, 'entropy_coeff': 0.01}\n"
     ]
    },
    {
     "name": "stdout",
     "output_type": "stream",
     "text": [
      "Result for PPO_TradingEnv_d625d_00000:\n",
      "  custom_metrics: {}\n",
      "  date: 2021-07-16_11-57-44\n",
      "  done: false\n",
      "  episode_len_mean: 862.4761904761905\n",
      "  episode_reward_max: 558.0864318234162\n",
      "  episode_reward_mean: 383.2193902904705\n",
      "  episode_reward_min: -23.913504331878357\n",
      "  episodes_this_iter: 7\n",
      "  episodes_total: 42\n",
      "  experiment_id: e6369b7d95d74c47a2c2141b4142c2c5\n",
      "  experiment_tag: '0'\n",
      "  hostname: localadmin-ECA-FX44E4C\n",
      "  info:\n",
      "    learner:\n",
      "      default_policy:\n",
      "        allreduce_latency: 0.0\n",
      "        cur_kl_coeff: 0.16875\n",
      "        cur_lr: 7.64e-05\n",
      "        entropy: 0.023261743061470264\n",
      "        entropy_coeff: 0.01\n",
      "        kl: 0.001299563195612846\n",
      "        policy_loss: -0.02025854621421207\n",
      "        total_loss: 0.008720953073917013\n",
      "        vf_explained_var: -0.07735256850719452\n",
      "        vf_loss: 0.05798563269446745\n",
      "    num_steps_sampled: 37800\n",
      "    num_steps_trained: 37800\n",
      "  iterations_since_restore: 9\n",
      "  node_ip: 192.168.0.202\n",
      "  num_healthy_workers: 7\n",
      "  off_policy_estimator: {}\n",
      "  perf:\n",
      "    cpu_util_percent: 30.23333333333333\n",
      "    ram_util_percent: 44.1\n",
      "  pid: 21034\n",
      "  policy_reward_max: {}\n",
      "  policy_reward_mean: {}\n",
      "  policy_reward_min: {}\n",
      "  sampler_perf:\n",
      "    mean_env_wait_ms: 0.6919723024092095\n",
      "    mean_inference_ms: 1.1940554043101912\n",
      "    mean_processing_ms: 0.21127043941023235\n",
      "  time_since_restore: 57.36199164390564\n",
      "  time_this_iter_s: 5.893479108810425\n",
      "  time_total_s: 57.36199164390564\n",
      "  timers:\n",
      "    learn_throughput: 876.356\n",
      "    learn_time_ms: 4792.573\n",
      "    sample_throughput: 2669.577\n",
      "    sample_time_ms: 1573.283\n",
      "    update_time_ms: 1.412\n",
      "  timestamp: 1626407864\n",
      "  timesteps_since_restore: 0\n",
      "  timesteps_total: 37800\n",
      "  training_iteration: 9\n",
      "  trial_id: d625d_00000\n",
      "  \n"
     ]
    },
    {
     "name": "stderr",
     "output_type": "stream",
     "text": [
      "\u001b[2m\u001b[36m(pid=21034)\u001b[0m 2021-07-16 11:57:44,160\tDEBUG sgd.py:120 -- 28 {'allreduce_latency': 0.0, 'cur_kl_coeff': 0.16875, 'cur_lr': 7.64e-05, 'total_loss': 0.00837991570094318, 'policy_loss': -0.020521389235827057, 'vf_loss': 0.057829725711296, 'vf_explained_var': -0.13278773, 'kl': 0.0012988552846240275, 'entropy': 0.023274191048447832, 'entropy_coeff': 0.01}\n",
      "\u001b[2m\u001b[36m(pid=21034)\u001b[0m 2021-07-16 11:57:44,333\tDEBUG sgd.py:120 -- 29 {'allreduce_latency': 0.0, 'cur_kl_coeff': 0.16875, 'cur_lr': 7.64e-05, 'total_loss': 0.008720953073917013, 'policy_loss': -0.02025854621421207, 'vf_loss': 0.05798563269446745, 'vf_explained_var': -0.07735257, 'kl': 0.001299563195612846, 'entropy': 0.023261743061470264, 'entropy_coeff': 0.01}\n",
      "\u001b[2m\u001b[36m(pid=21034)\u001b[0m 2021-07-16 11:57:44,342\tDEBUG trainer.py:547 -- synchronized filters: {'default_policy': MeanStdFilter((25, 2), True, True, None, (n=37849, mean_mean=-0.3419758195658444, mean_std=3.831562193633875), (n=0, mean_mean=0.0, mean_std=0.0))}\n"
     ]
    },
    {
     "data": {
      "text/html": [
       "== Status ==<br>Memory usage on this node: 6.4/14.5 GiB<br>Using FIFO scheduling algorithm.<br>Resources requested: 8/8 CPUs, 0/0 GPUs, 0.0/6.74 GiB heap, 0.0/2.29 GiB objects<br>Result logdir: /home/localadmin/ray_results/PPO<br>Number of trials: 1 (1 RUNNING)<br><table>\n",
       "<thead>\n",
       "<tr><th>Trial name                </th><th>status  </th><th>loc                </th><th style=\"text-align: right;\">  iter</th><th style=\"text-align: right;\">  total time (s)</th><th style=\"text-align: right;\">   ts</th><th style=\"text-align: right;\">  reward</th></tr>\n",
       "</thead>\n",
       "<tbody>\n",
       "<tr><td>PPO_TradingEnv_d625d_00000</td><td>RUNNING </td><td>192.168.0.202:21034</td><td style=\"text-align: right;\">     9</td><td style=\"text-align: right;\">          57.362</td><td style=\"text-align: right;\">37800</td><td style=\"text-align: right;\"> 383.219</td></tr>\n",
       "</tbody>\n",
       "</table><br><br>"
      ],
      "text/plain": [
       "<IPython.core.display.HTML object>"
      ]
     },
     "metadata": {},
     "output_type": "display_data"
    },
    {
     "name": "stderr",
     "output_type": "stream",
     "text": [
      "\u001b[2m\u001b[36m(pid=21034)\u001b[0m 2021-07-16 11:57:45,619\tDEBUG sgd.py:120 -- 0 {'allreduce_latency': 0.0, 'cur_kl_coeff': 0.084375, 'cur_lr': 7.22e-05, 'total_loss': 0.018234206024896015, 'policy_loss': -0.0007971788855325995, 'vf_loss': 0.03849124975474269, 'vf_explained_var': -0.18963589, 'kl': 1.9328114486279317e-06, 'entropy': 0.02143996700672715, 'entropy_coeff': 0.01}\n",
      "\u001b[2m\u001b[36m(pid=21034)\u001b[0m 2021-07-16 11:57:45,773\tDEBUG sgd.py:120 -- 1 {'allreduce_latency': 0.0, 'cur_kl_coeff': 0.084375, 'cur_lr': 7.22e-05, 'total_loss': 0.017559338022362102, 'policy_loss': -0.0015929622688528264, 'vf_loss': 0.038681121528938864, 'vf_explained_var': -0.31052878, 'kl': 0.0002686182821724453, 'entropy': 0.021092973169729565, 'entropy_coeff': 0.01}\n",
      "\u001b[2m\u001b[36m(pid=21034)\u001b[0m 2021-07-16 11:57:45,932\tDEBUG sgd.py:120 -- 2 {'allreduce_latency': 0.0, 'cur_kl_coeff': 0.084375, 'cur_lr': 7.22e-05, 'total_loss': 0.013742878652093086, 'policy_loss': -0.005207115304515217, 'vf_loss': 0.038287407337603246, 'vf_explained_var': -0.24809031, 'kl': 0.00014163141708140205, 'entropy': 0.020565988086728437, 'entropy_coeff': 0.01}\n",
      "\u001b[2m\u001b[36m(pid=21034)\u001b[0m 2021-07-16 11:57:46,086\tDEBUG sgd.py:120 -- 3 {'allreduce_latency': 0.0, 'cur_kl_coeff': 0.084375, 'cur_lr': 7.22e-05, 'total_loss': 0.013714048517585703, 'policy_loss': -0.005538310065413966, 'vf_loss': 0.03886160363838302, 'vf_explained_var': -0.30938408, 'kl': 0.0002823967570844671, 'entropy': 0.020226941373425, 'entropy_coeff': 0.01}\n",
      "\u001b[2m\u001b[36m(pid=21034)\u001b[0m 2021-07-16 11:57:46,245\tDEBUG sgd.py:120 -- 4 {'allreduce_latency': 0.0, 'cur_kl_coeff': 0.084375, 'cur_lr': 7.22e-05, 'total_loss': 0.010081595543659094, 'policy_loss': -0.008881998756392435, 'vf_loss': 0.0382903231216143, 'vf_explained_var': -0.33952847, 'kl': 0.0002072902849855988, 'entropy': 0.019905306963306484, 'entropy_coeff': 0.01}\n",
      "\u001b[2m\u001b[36m(pid=21034)\u001b[0m 2021-07-16 11:57:46,399\tDEBUG sgd.py:120 -- 5 {'allreduce_latency': 0.0, 'cur_kl_coeff': 0.084375, 'cur_lr': 7.22e-05, 'total_loss': 0.010249738045262568, 'policy_loss': -0.008924821335257906, 'vf_loss': 0.03868449800012803, 'vf_explained_var': -0.28088218, 'kl': 0.00032909422015743047, 'entropy': 0.019545354781615915, 'entropy_coeff': 0.01}\n",
      "\u001b[2m\u001b[36m(pid=21034)\u001b[0m 2021-07-16 11:57:46,564\tDEBUG sgd.py:120 -- 6 {'allreduce_latency': 0.0, 'cur_kl_coeff': 0.084375, 'cur_lr': 7.22e-05, 'total_loss': 0.008219117750272606, 'policy_loss': -0.010713665943705675, 'vf_loss': 0.03821673814672977, 'vf_explained_var': -0.21630146, 'kl': 0.00021398788543813157, 'entropy': 0.01936370577437408, 'entropy_coeff': 0.01}\n",
      "\u001b[2m\u001b[36m(pid=21034)\u001b[0m 2021-07-16 11:57:46,720\tDEBUG sgd.py:120 -- 7 {'allreduce_latency': 0.0, 'cur_kl_coeff': 0.084375, 'cur_lr': 7.22e-05, 'total_loss': 0.008079142055728218, 'policy_loss': -0.011039712240524364, 'vf_loss': 0.03858520484980986, 'vf_explained_var': -0.24739721, 'kl': 0.000203659134664728, 'entropy': 0.019093588925898075, 'entropy_coeff': 0.01}\n",
      "\u001b[2m\u001b[36m(pid=21034)\u001b[0m 2021-07-16 11:57:46,876\tDEBUG sgd.py:120 -- 8 {'allreduce_latency': 0.0, 'cur_kl_coeff': 0.084375, 'cur_lr': 7.22e-05, 'total_loss': 0.006314143030480905, 'policy_loss': -0.012595737183635885, 'vf_loss': 0.03814241163446709, 'vf_explained_var': -0.21407378, 'kl': 0.00031861130859893325, 'entropy': 0.018820889237703697, 'entropy_coeff': 0.01}\n",
      "\u001b[2m\u001b[36m(pid=21034)\u001b[0m 2021-07-16 11:57:47,030\tDEBUG sgd.py:120 -- 9 {'allreduce_latency': 0.0, 'cur_kl_coeff': 0.084375, 'cur_lr': 7.22e-05, 'total_loss': 0.005970208806860627, 'policy_loss': -0.013062533696718288, 'vf_loss': 0.03838039246373669, 'vf_explained_var': -0.27724132, 'kl': 0.00033794445897166787, 'entropy': 0.01859650640240447, 'entropy_coeff': 0.01}\n",
      "\u001b[2m\u001b[36m(pid=21034)\u001b[0m 2021-07-16 11:57:47,187\tDEBUG sgd.py:120 -- 10 {'allreduce_latency': 0.0, 'cur_kl_coeff': 0.084375, 'cur_lr': 7.22e-05, 'total_loss': 0.006038716853116498, 'policy_loss': -0.01307125457308509, 'vf_loss': 0.03854490795073974, 'vf_explained_var': -0.18518813, 'kl': 0.0002769702466938532, 'entropy': 0.01858503587374633, 'entropy_coeff': 0.01}\n",
      "\u001b[2m\u001b[36m(pid=21034)\u001b[0m 2021-07-16 11:57:47,342\tDEBUG sgd.py:120 -- 11 {'allreduce_latency': 0.0, 'cur_kl_coeff': 0.084375, 'cur_lr': 7.22e-05, 'total_loss': 0.004769221202216365, 'policy_loss': -0.014237697589013613, 'vf_loss': 0.03832136054001184, 'vf_explained_var': -0.21541186, 'kl': 0.0003404961912151934, 'entropy': 0.01824911649931561, 'entropy_coeff': 0.01}\n",
      "\u001b[2m\u001b[36m(pid=21034)\u001b[0m 2021-07-16 11:57:47,499\tDEBUG sgd.py:120 -- 12 {'allreduce_latency': 0.0, 'cur_kl_coeff': 0.084375, 'cur_lr': 7.22e-05, 'total_loss': 0.004156391079904455, 'policy_loss': -0.014754989833542795, 'vf_loss': 0.03809883595077378, 'vf_explained_var': -0.30712608, 'kl': 0.0004955607357921756, 'entropy': 0.017985283150196527, 'entropy_coeff': 0.01}\n",
      "\u001b[2m\u001b[36m(pid=21034)\u001b[0m 2021-07-16 11:57:47,655\tDEBUG sgd.py:120 -- 13 {'allreduce_latency': 0.0, 'cur_kl_coeff': 0.084375, 'cur_lr': 7.22e-05, 'total_loss': 0.003096846623741316, 'policy_loss': -0.01581613152203235, 'vf_loss': 0.038116288258496556, 'vf_explained_var': -0.21676598, 'kl': 0.0003996377173197371, 'entropy': 0.0178886545102366, 'entropy_coeff': 0.01}\n",
      "\u001b[2m\u001b[36m(pid=21034)\u001b[0m 2021-07-16 11:57:47,816\tDEBUG sgd.py:120 -- 14 {'allreduce_latency': 0.0, 'cur_kl_coeff': 0.084375, 'cur_lr': 7.22e-05, 'total_loss': 0.003956188363107768, 'policy_loss': -0.01506508363297943, 'vf_loss': 0.038319340533097136, 'vf_explained_var': -0.21478176, 'kl': 0.0004746484403519637, 'entropy': 0.017844924717351343, 'entropy_coeff': 0.01}\n",
      "\u001b[2m\u001b[36m(pid=21034)\u001b[0m 2021-07-16 11:57:47,980\tDEBUG sgd.py:120 -- 15 {'allreduce_latency': 0.0, 'cur_kl_coeff': 0.084375, 'cur_lr': 7.22e-05, 'total_loss': 0.003372798278702028, 'policy_loss': -0.015651931788659458, 'vf_loss': 0.03833881705279716, 'vf_explained_var': -0.36893648, 'kl': 0.0003806980468763151, 'entropy': 0.017680024650568765, 'entropy_coeff': 0.01}\n",
      "\u001b[2m\u001b[36m(pid=21034)\u001b[0m 2021-07-16 11:57:48,141\tDEBUG sgd.py:120 -- 16 {'allreduce_latency': 0.0, 'cur_kl_coeff': 0.084375, 'cur_lr': 7.22e-05, 'total_loss': 0.0028228945465702, 'policy_loss': -0.016208206444527164, 'vf_loss': 0.038338653122385345, 'vf_explained_var': -0.33872867, 'kl': 0.00045390636086901367, 'entropy': 0.017652283330927745, 'entropy_coeff': 0.01}\n",
      "\u001b[2m\u001b[36m(pid=21034)\u001b[0m 2021-07-16 11:57:48,306\tDEBUG sgd.py:120 -- 17 {'allreduce_latency': 0.0, 'cur_kl_coeff': 0.084375, 'cur_lr': 7.22e-05, 'total_loss': 0.002684623539222009, 'policy_loss': -0.01634085996810234, 'vf_loss': 0.0383028096138415, 'vf_explained_var': -0.18265925, 'kl': 0.0005732712055429478, 'entropy': 0.01742907037260011, 'entropy_coeff': 0.01}\n",
      "\u001b[2m\u001b[36m(pid=21034)\u001b[0m 2021-07-16 11:57:48,466\tDEBUG sgd.py:120 -- 18 {'allreduce_latency': 0.0, 'cur_kl_coeff': 0.084375, 'cur_lr': 7.22e-05, 'total_loss': 0.0021106994456865573, 'policy_loss': -0.016811510858436424, 'vf_loss': 0.0381030894879421, 'vf_explained_var': -0.24574476, 'kl': 0.0005125070831237474, 'entropy': 0.017257903265117697, 'entropy_coeff': 0.01}\n",
      "\u001b[2m\u001b[36m(pid=21034)\u001b[0m 2021-07-16 11:57:48,630\tDEBUG sgd.py:120 -- 19 {'allreduce_latency': 0.0, 'cur_kl_coeff': 0.084375, 'cur_lr': 7.22e-05, 'total_loss': 0.0015417191792618144, 'policy_loss': -0.017463051149565163, 'vf_loss': 0.038250052320742696, 'vf_explained_var': -0.18322231, 'kl': 0.000621825312863979, 'entropy': 0.017272310860624366, 'entropy_coeff': 0.01}\n",
      "\u001b[2m\u001b[36m(pid=21034)\u001b[0m 2021-07-16 11:57:48,785\tDEBUG sgd.py:120 -- 20 {'allreduce_latency': 0.0, 'cur_kl_coeff': 0.084375, 'cur_lr': 7.22e-05, 'total_loss': 0.001299014569006183, 'policy_loss': -0.017776420636271887, 'vf_loss': 0.03838562360386166, 'vf_explained_var': -0.24653167, 'kl': 0.0006325704673530929, 'entropy': 0.017074615624027723, 'entropy_coeff': 0.01}\n",
      "\u001b[2m\u001b[36m(pid=21034)\u001b[0m 2021-07-16 11:57:48,944\tDEBUG sgd.py:120 -- 21 {'allreduce_latency': 0.0, 'cur_kl_coeff': 0.084375, 'cur_lr': 7.22e-05, 'total_loss': 0.0013734922095230131, 'policy_loss': -0.017777170449721092, 'vf_loss': 0.03853232245610067, 'vf_explained_var': -0.21721259, 'kl': 0.000647794043426543, 'entropy': 0.017015575600618667, 'entropy_coeff': 0.01}\n",
      "\u001b[2m\u001b[36m(pid=21034)\u001b[0m 2021-07-16 11:57:49,101\tDEBUG sgd.py:120 -- 22 {'allreduce_latency': 0.0, 'cur_kl_coeff': 0.084375, 'cur_lr': 7.22e-05, 'total_loss': 0.0014975867516389399, 'policy_loss': -0.017690996625319574, 'vf_loss': 0.03861356197475371, 'vf_explained_var': -0.21465106, 'kl': 0.0006120452308095992, 'entropy': 0.01698398935806119, 'entropy_coeff': 0.01}\n"
     ]
    },
    {
     "name": "stderr",
     "output_type": "stream",
     "text": [
      "\u001b[2m\u001b[36m(pid=21034)\u001b[0m 2021-07-16 11:57:49,262\tDEBUG sgd.py:120 -- 23 {'allreduce_latency': 0.0, 'cur_kl_coeff': 0.084375, 'cur_lr': 7.22e-05, 'total_loss': 0.0010099844781286788, 'policy_loss': -0.018032787339479633, 'vf_loss': 0.03830137866845524, 'vf_explained_var': -0.18405458, 'kl': 0.0007161479205189443, 'entropy': 0.016834382800328913, 'entropy_coeff': 0.01}\n",
      "\u001b[2m\u001b[36m(pid=21034)\u001b[0m 2021-07-16 11:57:49,421\tDEBUG sgd.py:120 -- 24 {'allreduce_latency': 0.0, 'cur_kl_coeff': 0.084375, 'cur_lr': 7.22e-05, 'total_loss': -0.0003897855340531378, 'policy_loss': -0.01933728830155098, 'vf_loss': 0.03811658058442514, 'vf_explained_var': -0.30768377, 'kl': 0.000672241435633182, 'entropy': 0.016750612098610763, 'entropy_coeff': 0.01}\n",
      "\u001b[2m\u001b[36m(pid=21034)\u001b[0m 2021-07-16 11:57:49,585\tDEBUG sgd.py:120 -- 25 {'allreduce_latency': 0.0, 'cur_kl_coeff': 0.084375, 'cur_lr': 7.22e-05, 'total_loss': 0.0004634373877761942, 'policy_loss': -0.018632279017545057, 'vf_loss': 0.03840850580441342, 'vf_explained_var': -0.21632612, 'kl': 0.000706682448225999, 'entropy': 0.016816438239237123, 'entropy_coeff': 0.01}\n",
      "\u001b[2m\u001b[36m(pid=21034)\u001b[0m 2021-07-16 11:57:49,750\tDEBUG sgd.py:120 -- 26 {'allreduce_latency': 0.0, 'cur_kl_coeff': 0.084375, 'cur_lr': 7.22e-05, 'total_loss': 0.00011955737841851783, 'policy_loss': -0.01895052380859852, 'vf_loss': 0.03834601520617126, 'vf_explained_var': -0.24536861, 'kl': 0.0007494892554611645, 'entropy': 0.016616352798530097, 'entropy_coeff': 0.01}\n",
      "\u001b[2m\u001b[36m(pid=21034)\u001b[0m 2021-07-16 11:57:49,910\tDEBUG sgd.py:120 -- 27 {'allreduce_latency': 0.0, 'cur_kl_coeff': 0.084375, 'cur_lr': 7.22e-05, 'total_loss': -0.0004544755316932093, 'policy_loss': -0.019490583771557518, 'vf_loss': 0.038274436786940154, 'vf_explained_var': -0.2439242, 'kl': 0.0007628557266963816, 'entropy': 0.016547341330089803, 'entropy_coeff': 0.01}\n"
     ]
    },
    {
     "name": "stdout",
     "output_type": "stream",
     "text": [
      "Result for PPO_TradingEnv_d625d_00000:\n",
      "  custom_metrics: {}\n",
      "  date: 2021-07-16_11-57-50\n",
      "  done: false\n",
      "  episode_len_mean: 862.4761904761905\n",
      "  episode_reward_max: 558.0864318234162\n",
      "  episode_reward_mean: 383.2193902904705\n",
      "  episode_reward_min: -23.913504331878357\n",
      "  episodes_this_iter: 0\n",
      "  episodes_total: 42\n",
      "  experiment_id: e6369b7d95d74c47a2c2141b4142c2c5\n",
      "  experiment_tag: '0'\n",
      "  hostname: localadmin-ECA-FX44E4C\n",
      "  info:\n",
      "    learner:\n",
      "      default_policy:\n",
      "        allreduce_latency: 0.0\n",
      "        cur_kl_coeff: 0.084375\n",
      "        cur_lr: 7.22e-05\n",
      "        entropy: 0.016461490632288835\n",
      "        entropy_coeff: 0.01\n",
      "        kl: 0.0007739104551023268\n",
      "        policy_loss: -0.019553813843451666\n",
      "        total_loss: -0.00039953004681702816\n",
      "        vf_explained_var: -0.2449992150068283\n",
      "        vf_loss: 0.03850720148660581\n",
      "    num_steps_sampled: 42000\n",
      "    num_steps_trained: 42000\n",
      "  iterations_since_restore: 10\n",
      "  node_ip: 192.168.0.202\n",
      "  num_healthy_workers: 7\n",
      "  off_policy_estimator: {}\n",
      "  perf:\n",
      "    cpu_util_percent: 32.0625\n",
      "    ram_util_percent: 44.1\n",
      "  pid: 21034\n",
      "  policy_reward_max: {}\n",
      "  policy_reward_mean: {}\n",
      "  policy_reward_min: {}\n",
      "  sampler_perf:\n",
      "    mean_env_wait_ms: 0.6919723024092095\n",
      "    mean_inference_ms: 1.1940554043101912\n",
      "    mean_processing_ms: 0.2112704394102324\n",
      "  time_since_restore: 63.25748538970947\n",
      "  time_this_iter_s: 5.895493745803833\n",
      "  time_total_s: 63.25748538970947\n",
      "  timers:\n",
      "    learn_throughput: 876.1\n",
      "    learn_time_ms: 4793.975\n",
      "    sample_throughput: 2755.878\n",
      "    sample_time_ms: 1524.015\n",
      "    update_time_ms: 1.429\n",
      "  timestamp: 1626407870\n",
      "  timesteps_since_restore: 0\n",
      "  timesteps_total: 42000\n",
      "  training_iteration: 10\n",
      "  trial_id: d625d_00000\n",
      "  \n"
     ]
    },
    {
     "name": "stderr",
     "output_type": "stream",
     "text": [
      "\u001b[2m\u001b[36m(pid=21034)\u001b[0m 2021-07-16 11:57:50,078\tDEBUG sgd.py:120 -- 28 {'allreduce_latency': 0.0, 'cur_kl_coeff': 0.084375, 'cur_lr': 7.22e-05, 'total_loss': 0.0010961177053325105, 'policy_loss': -0.018147670805002705, 'vf_loss': 0.03867050811337928, 'vf_explained_var': -0.34103522, 'kl': 0.0008647012035715196, 'entropy': 0.016442199463419842, 'entropy_coeff': 0.01}\n",
      "\u001b[2m\u001b[36m(pid=21034)\u001b[0m 2021-07-16 11:57:50,252\tDEBUG sgd.py:120 -- 29 {'allreduce_latency': 0.0, 'cur_kl_coeff': 0.084375, 'cur_lr': 7.22e-05, 'total_loss': -0.00039953004681702816, 'policy_loss': -0.019553813843451666, 'vf_loss': 0.03850720148660581, 'vf_explained_var': -0.24499922, 'kl': 0.0007739104551023268, 'entropy': 0.016461490632288835, 'entropy_coeff': 0.01}\n"
     ]
    },
    {
     "data": {
      "text/html": [
       "== Status ==<br>Memory usage on this node: 6.4/14.5 GiB<br>Using FIFO scheduling algorithm.<br>Resources requested: 8/8 CPUs, 0/0 GPUs, 0.0/6.74 GiB heap, 0.0/2.29 GiB objects<br>Result logdir: /home/localadmin/ray_results/PPO<br>Number of trials: 1 (1 RUNNING)<br><table>\n",
       "<thead>\n",
       "<tr><th>Trial name                </th><th>status  </th><th>loc                </th><th style=\"text-align: right;\">  iter</th><th style=\"text-align: right;\">  total time (s)</th><th style=\"text-align: right;\">   ts</th><th style=\"text-align: right;\">  reward</th></tr>\n",
       "</thead>\n",
       "<tbody>\n",
       "<tr><td>PPO_TradingEnv_d625d_00000</td><td>RUNNING </td><td>192.168.0.202:21034</td><td style=\"text-align: right;\">    10</td><td style=\"text-align: right;\">         63.2575</td><td style=\"text-align: right;\">42000</td><td style=\"text-align: right;\"> 383.219</td></tr>\n",
       "</tbody>\n",
       "</table><br><br>"
      ],
      "text/plain": [
       "<IPython.core.display.HTML object>"
      ]
     },
     "metadata": {},
     "output_type": "display_data"
    },
    {
     "name": "stderr",
     "output_type": "stream",
     "text": [
      "\u001b[2m\u001b[36m(pid=21034)\u001b[0m 2021-07-16 11:57:50,264\tDEBUG trainer.py:547 -- synchronized filters: {'default_policy': MeanStdFilter((25, 2), True, True, None, (n=42049, mean_mean=-0.30288699456834034, mean_std=3.855335250451911), (n=0, mean_mean=0.0, mean_std=0.0))}\n",
      "\u001b[2m\u001b[36m(pid=21047)\u001b[0m 2021-07-16 11:57:50,713\tINFO sampler.py:714 -- Preprocessed obs: np.ndarray((25, 2), dtype=float32, min=-5.338, max=0.503, mean=-1.436)\n",
      "\u001b[2m\u001b[36m(pid=21047)\u001b[0m 2021-07-16 11:57:50,713\tINFO sampler.py:719 -- Filtered obs: np.ndarray((25, 2), dtype=float64, min=-0.672, max=0.844, mean=0.098)\n",
      "\u001b[2m\u001b[36m(pid=21047)\u001b[0m 2021-07-16 11:57:50,714\tINFO sampler.py:881 -- Inputs to compute_actions():\n",
      "\u001b[2m\u001b[36m(pid=21047)\u001b[0m \n",
      "\u001b[2m\u001b[36m(pid=21047)\u001b[0m { 'default_policy': [ { 'data': { 'agent_id': 'agent0',\n",
      "\u001b[2m\u001b[36m(pid=21047)\u001b[0m                                   'env_id': 0,\n",
      "\u001b[2m\u001b[36m(pid=21047)\u001b[0m                                   'info': { 'net_worth': 962.8959054652368,\n",
      "\u001b[2m\u001b[36m(pid=21047)\u001b[0m                                             'step': 899},\n",
      "\u001b[2m\u001b[36m(pid=21047)\u001b[0m                                   'obs': np.ndarray((25, 2), dtype=float64, min=-0.672, max=0.844, mean=0.098),\n",
      "\u001b[2m\u001b[36m(pid=21047)\u001b[0m                                   'prev_action': 1,\n",
      "\u001b[2m\u001b[36m(pid=21047)\u001b[0m                                   'prev_reward': 0.502795205640723,\n",
      "\u001b[2m\u001b[36m(pid=21047)\u001b[0m                                   'rnn_state': []},\n",
      "\u001b[2m\u001b[36m(pid=21047)\u001b[0m                         'type': 'PolicyEvalData'}]}\n",
      "\u001b[2m\u001b[36m(pid=21047)\u001b[0m \n",
      "\u001b[2m\u001b[36m(pid=21047)\u001b[0m 2021-07-16 11:57:50,715\tINFO sampler.py:925 -- Outputs of compute_actions():\n",
      "\u001b[2m\u001b[36m(pid=21047)\u001b[0m \n",
      "\u001b[2m\u001b[36m(pid=21047)\u001b[0m { 'default_policy': ( np.ndarray((1,), dtype=int64, min=1.0, max=1.0, mean=1.0),\n",
      "\u001b[2m\u001b[36m(pid=21047)\u001b[0m                       [],\n",
      "\u001b[2m\u001b[36m(pid=21047)\u001b[0m                       { 'action_dist_inputs': np.ndarray((1, 2), dtype=float32, min=-5.812, max=5.794, mean=-0.009),\n",
      "\u001b[2m\u001b[36m(pid=21047)\u001b[0m                         'action_logp': np.ndarray((1,), dtype=float32, min=-0.0, max=-0.0, mean=-0.0),\n",
      "\u001b[2m\u001b[36m(pid=21047)\u001b[0m                         'action_prob': np.ndarray((1,), dtype=float32, min=1.0, max=1.0, mean=1.0),\n",
      "\u001b[2m\u001b[36m(pid=21047)\u001b[0m                         'vf_preds': np.ndarray((1,), dtype=float32, min=1.013, max=1.013, mean=1.013)})}\n",
      "\u001b[2m\u001b[36m(pid=21047)\u001b[0m \n",
      "\u001b[2m\u001b[36m(pid=21047)\u001b[0m 2021-07-16 11:57:50,715\tINFO sampler.py:509 -- Raw obs from env: { 0: { 'agent0': np.ndarray((25, 2), dtype=float32, min=-5.169, max=0.518, mean=-1.336)}}\n",
      "\u001b[2m\u001b[36m(pid=21047)\u001b[0m 2021-07-16 11:57:50,715\tINFO sampler.py:511 -- Info return from env: { 0: { 'agent0': { 'net_worth': 962.9125449840323,\n",
      "\u001b[2m\u001b[36m(pid=21047)\u001b[0m                    'step': 900}}}\n",
      "\u001b[2m\u001b[36m(pid=21047)\u001b[0m 2021-07-16 11:57:50,722\tINFO sample_batch_builder.py:202 -- Trajectory fragment after postprocess_trajectory():\n",
      "\u001b[2m\u001b[36m(pid=21047)\u001b[0m \n",
      "\u001b[2m\u001b[36m(pid=21047)\u001b[0m { 'agent0': { 'data': { 'action_dist_inputs': np.ndarray((200, 2), dtype=float32, min=-5.94, max=5.956, mean=0.005),\n",
      "\u001b[2m\u001b[36m(pid=21047)\u001b[0m                         'action_logp': np.ndarray((200,), dtype=float32, min=-1.469, max=-0.0, mean=-0.013),\n",
      "\u001b[2m\u001b[36m(pid=21047)\u001b[0m                         'action_prob': np.ndarray((200,), dtype=float32, min=0.23, max=1.0, mean=0.992),\n",
      "\u001b[2m\u001b[36m(pid=21047)\u001b[0m                         'actions': np.ndarray((200,), dtype=int64, min=0.0, max=1.0, mean=0.185),\n",
      "\u001b[2m\u001b[36m(pid=21047)\u001b[0m                         'advantages': np.ndarray((200,), dtype=float32, min=-1.903, max=0.106, mean=0.008),\n",
      "\u001b[2m\u001b[36m(pid=21047)\u001b[0m                         'agent_index': np.ndarray((200,), dtype=int64, min=0.0, max=0.0, mean=0.0),\n",
      "\u001b[2m\u001b[36m(pid=21047)\u001b[0m                         'dones': np.ndarray((200,), dtype=bool, min=0.0, max=0.0, mean=0.0),\n",
      "\u001b[2m\u001b[36m(pid=21047)\u001b[0m                         'eps_id': np.ndarray((200,), dtype=int64, min=702982664.0, max=702982664.0, mean=702982664.0),\n",
      "\u001b[2m\u001b[36m(pid=21047)\u001b[0m                         'infos': np.ndarray((200,), dtype=object, head={'step': 705, 'net_worth': 965.54}),\n",
      "\u001b[2m\u001b[36m(pid=21047)\u001b[0m                         'new_obs': np.ndarray((200, 25, 2), dtype=float32, min=-1.39, max=1.368, mean=-0.598),\n",
      "\u001b[2m\u001b[36m(pid=21047)\u001b[0m                         'obs': np.ndarray((200, 25, 2), dtype=float32, min=-1.39, max=1.402, mean=-0.595),\n",
      "\u001b[2m\u001b[36m(pid=21047)\u001b[0m                         'prev_actions': np.ndarray((200,), dtype=int64, min=0.0, max=1.0, mean=0.18),\n",
      "\u001b[2m\u001b[36m(pid=21047)\u001b[0m                         'prev_rewards': np.ndarray((200,), dtype=float32, min=-0.019, max=0.942, mean=0.55),\n",
      "\u001b[2m\u001b[36m(pid=21047)\u001b[0m                         'rewards': np.ndarray((200,), dtype=float32, min=-1.0, max=1.0, mean=0.98),\n",
      "\u001b[2m\u001b[36m(pid=21047)\u001b[0m                         't': np.ndarray((200,), dtype=int64, min=704.0, max=903.0, mean=803.5),\n",
      "\u001b[2m\u001b[36m(pid=21047)\u001b[0m                         'unroll_id': np.ndarray((200,), dtype=int64, min=36.0, max=36.0, mean=36.0),\n",
      "\u001b[2m\u001b[36m(pid=21047)\u001b[0m                         'value_targets': np.ndarray((200,), dtype=float32, min=-1.0, max=1.0, mean=0.98),\n",
      "\u001b[2m\u001b[36m(pid=21047)\u001b[0m                         'vf_preds': np.ndarray((200,), dtype=float32, min=0.894, max=1.02, mean=0.972)},\n",
      "\u001b[2m\u001b[36m(pid=21047)\u001b[0m               'type': 'SampleBatch'}}\n",
      "\u001b[2m\u001b[36m(pid=21047)\u001b[0m \n",
      "\u001b[2m\u001b[36m(pid=21047)\u001b[0m 2021-07-16 11:57:50,723\tINFO rollout_worker.py:594 -- Completed sample batch:\n",
      "\u001b[2m\u001b[36m(pid=21047)\u001b[0m \n",
      "\u001b[2m\u001b[36m(pid=21047)\u001b[0m { 'data': { 'action_dist_inputs': np.ndarray((200, 2), dtype=float32, min=-5.94, max=5.956, mean=0.005),\n",
      "\u001b[2m\u001b[36m(pid=21047)\u001b[0m             'action_logp': np.ndarray((200,), dtype=float32, min=-1.469, max=-0.0, mean=-0.013),\n",
      "\u001b[2m\u001b[36m(pid=21047)\u001b[0m             'action_prob': np.ndarray((200,), dtype=float32, min=0.23, max=1.0, mean=0.992),\n",
      "\u001b[2m\u001b[36m(pid=21047)\u001b[0m             'actions': np.ndarray((200,), dtype=int64, min=0.0, max=1.0, mean=0.185),\n",
      "\u001b[2m\u001b[36m(pid=21047)\u001b[0m             'advantages': np.ndarray((200,), dtype=float32, min=-1.903, max=0.106, mean=0.008),\n",
      "\u001b[2m\u001b[36m(pid=21047)\u001b[0m             'agent_index': np.ndarray((200,), dtype=int64, min=0.0, max=0.0, mean=0.0),\n",
      "\u001b[2m\u001b[36m(pid=21047)\u001b[0m             'dones': np.ndarray((200,), dtype=bool, min=0.0, max=0.0, mean=0.0),\n",
      "\u001b[2m\u001b[36m(pid=21047)\u001b[0m             'eps_id': np.ndarray((200,), dtype=int64, min=702982664.0, max=702982664.0, mean=702982664.0),\n",
      "\u001b[2m\u001b[36m(pid=21047)\u001b[0m             'infos': np.ndarray((200,), dtype=object, head={'step': 705, 'net_worth': 965.54}),\n",
      "\u001b[2m\u001b[36m(pid=21047)\u001b[0m             'new_obs': np.ndarray((200, 25, 2), dtype=float32, min=-1.39, max=1.368, mean=-0.598),\n",
      "\u001b[2m\u001b[36m(pid=21047)\u001b[0m             'obs': np.ndarray((200, 25, 2), dtype=float32, min=-1.39, max=1.402, mean=-0.595),\n",
      "\u001b[2m\u001b[36m(pid=21047)\u001b[0m             'prev_actions': np.ndarray((200,), dtype=int64, min=0.0, max=1.0, mean=0.18),\n",
      "\u001b[2m\u001b[36m(pid=21047)\u001b[0m             'prev_rewards': np.ndarray((200,), dtype=float32, min=-0.019, max=0.942, mean=0.55),\n",
      "\u001b[2m\u001b[36m(pid=21047)\u001b[0m             'rewards': np.ndarray((200,), dtype=float32, min=-1.0, max=1.0, mean=0.98),\n",
      "\u001b[2m\u001b[36m(pid=21047)\u001b[0m             't': np.ndarray((200,), dtype=int64, min=704.0, max=903.0, mean=803.5),\n",
      "\u001b[2m\u001b[36m(pid=21047)\u001b[0m             'unroll_id': np.ndarray((200,), dtype=int64, min=36.0, max=36.0, mean=36.0),\n",
      "\u001b[2m\u001b[36m(pid=21047)\u001b[0m             'value_targets': np.ndarray((200,), dtype=float32, min=-1.0, max=1.0, mean=0.98),\n",
      "\u001b[2m\u001b[36m(pid=21047)\u001b[0m             'vf_preds': np.ndarray((200,), dtype=float32, min=0.894, max=1.02, mean=0.972)},\n",
      "\u001b[2m\u001b[36m(pid=21047)\u001b[0m   'type': 'SampleBatch'}\n",
      "\u001b[2m\u001b[36m(pid=21047)\u001b[0m \n",
      "\u001b[2m\u001b[36m(pid=21047)\u001b[0m 2021-07-16 11:57:50,727\tINFO rollout_worker.py:560 -- Generating sample batch of size 200\n",
      "\u001b[2m\u001b[36m(pid=21034)\u001b[0m 2021-07-16 11:57:51,649\tDEBUG sgd.py:120 -- 0 {'allreduce_latency': 0.0, 'cur_kl_coeff': 0.0421875, 'cur_lr': 6.8e-05, 'total_loss': 0.018470413093878466, 'policy_loss': 0.0004518011189771421, 'vf_loss': 0.03636009439430905, 'vf_explained_var': -0.27698946, 'kl': 4.062224077038369e-05, 'entropy': 0.0163147550280855, 'entropy_coeff': 0.01}\n",
      "\u001b[2m\u001b[36m(pid=21034)\u001b[0m 2021-07-16 11:57:51,737\tINFO rollout_worker.py:734 -- Training on concatenated sample batches:\n",
      "\u001b[2m\u001b[36m(pid=21034)\u001b[0m \n",
      "\u001b[2m\u001b[36m(pid=21034)\u001b[0m { 'count': 128,\n",
      "\u001b[2m\u001b[36m(pid=21034)\u001b[0m   'policy_batches': { 'default_policy': { 'data': { 'action_dist_inputs': np.ndarray((128, 2), dtype=float32, min=-5.94, max=5.955, mean=-0.0),\n",
      "\u001b[2m\u001b[36m(pid=21034)\u001b[0m                                                     'action_logp': np.ndarray((128,), dtype=float32, min=-0.095, max=-0.0, mean=-0.001),\n",
      "\u001b[2m\u001b[36m(pid=21034)\u001b[0m                                                     'action_prob': np.ndarray((128,), dtype=float32, min=0.91, max=1.0, mean=0.999),\n",
      "\u001b[2m\u001b[36m(pid=21034)\u001b[0m                                                     'actions': np.ndarray((128,), dtype=int64, min=0.0, max=1.0, mean=0.531),\n",
      "\u001b[2m\u001b[36m(pid=21034)\u001b[0m                                                     'advantages': np.ndarray((128,), dtype=float32, min=-9.908, max=0.847, mean=-0.027),\n",
      "\u001b[2m\u001b[36m(pid=21034)\u001b[0m                                                     'agent_index': np.ndarray((128,), dtype=int64, min=0.0, max=0.0, mean=0.0),\n",
      "\u001b[2m\u001b[36m(pid=21034)\u001b[0m                                                     'dones': np.ndarray((128,), dtype=bool, min=0.0, max=0.0, mean=0.0),\n",
      "\u001b[2m\u001b[36m(pid=21034)\u001b[0m                                                     'eps_id': np.ndarray((128,), dtype=int64, min=48025458.0, max=1677710949.0, mean=712391734.547),\n",
      "\u001b[2m\u001b[36m(pid=21034)\u001b[0m                                                     'infos': np.ndarray((128,), dtype=object, head={'step': 148, 'net_worth': 994.34}),\n",
      "\u001b[2m\u001b[36m(pid=21034)\u001b[0m                                                     'new_obs': np.ndarray((128, 25, 2), dtype=float32, min=-1.392, max=1.576, mean=0.121),\n",
      "\u001b[2m\u001b[36m(pid=21034)\u001b[0m                                                     'obs': np.ndarray((128, 25, 2), dtype=float32, min=-1.392, max=1.576, mean=0.118),\n",
      "\u001b[2m\u001b[36m(pid=21034)\u001b[0m                                                     'prev_actions': np.ndarray((128,), dtype=int64, min=0.0, max=1.0, mean=0.531),\n",
      "\u001b[2m\u001b[36m(pid=21034)\u001b[0m                                                     'prev_rewards': np.ndarray((128,), dtype=float32, min=0.016, max=0.942, mean=0.592),\n",
      "\u001b[2m\u001b[36m(pid=21034)\u001b[0m                                                     'rewards': np.ndarray((128,), dtype=float32, min=-1.0, max=1.0, mean=0.984),\n",
      "\u001b[2m\u001b[36m(pid=21034)\u001b[0m                                                     't': np.ndarray((128,), dtype=int64, min=3.0, max=945.0, mean=356.148),\n",
      "\u001b[2m\u001b[36m(pid=21034)\u001b[0m                                                     'unroll_id': np.ndarray((128,), dtype=int64, min=36.0, max=39.0, mean=37.711),\n",
      "\u001b[2m\u001b[36m(pid=21034)\u001b[0m                                                     'value_targets': np.ndarray((128,), dtype=float32, min=-1.0, max=1.0, mean=0.984),\n",
      "\u001b[2m\u001b[36m(pid=21034)\u001b[0m                                                     'vf_preds': np.ndarray((128,), dtype=float32, min=0.838, max=1.175, mean=0.988)},\n",
      "\u001b[2m\u001b[36m(pid=21034)\u001b[0m                                           'type': 'SampleBatch'}},\n",
      "\u001b[2m\u001b[36m(pid=21034)\u001b[0m   'type': 'MultiAgentBatch'}\n",
      "\u001b[2m\u001b[36m(pid=21034)\u001b[0m \n",
      "\u001b[2m\u001b[36m(pid=21034)\u001b[0m 2021-07-16 11:57:51,742\tDEBUG rollout_worker.py:760 -- Training out:\n",
      "\u001b[2m\u001b[36m(pid=21034)\u001b[0m \n",
      "\u001b[2m\u001b[36m(pid=21034)\u001b[0m { 'default_policy': { 'learner_stats': { 'allreduce_latency': 0.0,\n",
      "\u001b[2m\u001b[36m(pid=21034)\u001b[0m                                          'cur_kl_coeff': 0.0421875,\n",
      "\u001b[2m\u001b[36m(pid=21034)\u001b[0m                                          'cur_lr': 6.8e-05,\n",
      "\u001b[2m\u001b[36m(pid=21034)\u001b[0m                                          'entropy': 0.0043815746903419495,\n",
      "\u001b[2m\u001b[36m(pid=21034)\u001b[0m                                          'entropy_coeff': 0.01,\n",
      "\u001b[2m\u001b[36m(pid=21034)\u001b[0m                                          'kl': 6.481992022600025e-05,\n",
      "\u001b[2m\u001b[36m(pid=21034)\u001b[0m                                          'policy_loss': 0.02859504334628582,\n",
      "\u001b[2m\u001b[36m(pid=21034)\u001b[0m                                          'total_loss': 0.043571509420871735,\n",
      "\u001b[2m\u001b[36m(pid=21034)\u001b[0m                                          'vf_explained_var': np.ndarray((1,), dtype=float32, min=0.032, max=0.032, mean=0.032),\n",
      "\u001b[2m\u001b[36m(pid=21034)\u001b[0m                                          'vf_loss': 0.030035104602575302}}}\n",
      "\u001b[2m\u001b[36m(pid=21034)\u001b[0m \n",
      "\u001b[2m\u001b[36m(pid=21034)\u001b[0m 2021-07-16 11:57:51,808\tDEBUG sgd.py:120 -- 1 {'allreduce_latency': 0.0, 'cur_kl_coeff': 0.0421875, 'cur_lr': 6.8e-05, 'total_loss': 0.013498928426115803, 'policy_loss': -0.004175249317830259, 'vf_loss': 0.035650447427266925, 'vf_explained_var': -0.28778133, 'kl': 0.00021667925874212278, 'entropy': 0.01601867312847665, 'entropy_coeff': 0.01}\n"
     ]
    },
    {
     "name": "stderr",
     "output_type": "stream",
     "text": [
      "\u001b[2m\u001b[36m(pid=21034)\u001b[0m 2021-07-16 11:57:51,971\tDEBUG sgd.py:120 -- 2 {'allreduce_latency': 0.0, 'cur_kl_coeff': 0.0421875, 'cur_lr': 6.8e-05, 'total_loss': 0.012347117468545383, 'policy_loss': -0.005327494589216782, 'vf_loss': 0.035645112141289494, 'vf_explained_var': -0.22630423, 'kl': 0.0002755217025299895, 'entropy': 0.015956448814408344, 'entropy_coeff': 0.01}\n",
      "\u001b[2m\u001b[36m(pid=21034)\u001b[0m 2021-07-16 11:57:52,126\tDEBUG sgd.py:120 -- 3 {'allreduce_latency': 0.0, 'cur_kl_coeff': 0.0421875, 'cur_lr': 6.8e-05, 'total_loss': 0.01166412564502521, 'policy_loss': -0.006023488854142753, 'vf_loss': 0.035667600290087816, 'vf_explained_var': -0.31781, 'kl': 0.000287951673134089, 'entropy': 0.015833221347720333, 'entropy_coeff': 0.01}\n",
      "\u001b[2m\u001b[36m(pid=21034)\u001b[0m 2021-07-16 11:57:52,290\tDEBUG sgd.py:120 -- 4 {'allreduce_latency': 0.0, 'cur_kl_coeff': 0.0421875, 'cur_lr': 6.8e-05, 'total_loss': 0.011437854475595734, 'policy_loss': -0.006214781847754211, 'vf_loss': 0.03560490371433623, 'vf_explained_var': -0.34890231, 'kl': 0.0002020581241870814, 'entropy': 0.015834151830693536, 'entropy_coeff': 0.01}\n",
      "\u001b[2m\u001b[36m(pid=21034)\u001b[0m 2021-07-16 11:57:52,447\tDEBUG sgd.py:120 -- 5 {'allreduce_latency': 0.0, 'cur_kl_coeff': 0.0421875, 'cur_lr': 6.8e-05, 'total_loss': 0.011898201015411001, 'policy_loss': -0.005931062228751905, 'vf_loss': 0.03595375642180443, 'vf_explained_var': -0.31820858, 'kl': 0.0002431991267333918, 'entropy': 0.015787284146592192, 'entropy_coeff': 0.01}\n",
      "\u001b[2m\u001b[36m(pid=21034)\u001b[0m 2021-07-16 11:57:52,608\tDEBUG sgd.py:120 -- 6 {'allreduce_latency': 0.0, 'cur_kl_coeff': 0.0421875, 'cur_lr': 6.8e-05, 'total_loss': 0.011380427883881512, 'policy_loss': -0.006359866566278718, 'vf_loss': 0.03576683297499337, 'vf_explained_var': -0.27975038, 'kl': 0.00031713666292930475, 'entropy': 0.015650347693625725, 'entropy_coeff': 0.01}\n",
      "\u001b[2m\u001b[36m(pid=21034)\u001b[0m 2021-07-16 11:57:52,769\tDEBUG sgd.py:120 -- 7 {'allreduce_latency': 0.0, 'cur_kl_coeff': 0.0421875, 'cur_lr': 6.8e-05, 'total_loss': 0.01141282913246841, 'policy_loss': -0.006273721655209859, 'vf_loss': 0.03567719481405661, 'vf_explained_var': -0.31244302, 'kl': 0.00012369060008991667, 'entropy': 0.015726721312878937, 'entropy_coeff': 0.01}\n",
      "\u001b[2m\u001b[36m(pid=21034)\u001b[0m 2021-07-16 11:57:52,923\tDEBUG sgd.py:120 -- 8 {'allreduce_latency': 0.0, 'cur_kl_coeff': 0.0421875, 'cur_lr': 6.8e-05, 'total_loss': 0.00946433592418378, 'policy_loss': -0.008094348662504644, 'vf_loss': 0.03541138711046766, 'vf_explained_var': -0.22376262, 'kl': 0.0002029625576335203, 'entropy': 0.015556816935934352, 'entropy_coeff': 0.01}\n",
      "\u001b[2m\u001b[36m(pid=21034)\u001b[0m 2021-07-16 11:57:53,085\tDEBUG sgd.py:120 -- 9 {'allreduce_latency': 0.0, 'cur_kl_coeff': 0.0421875, 'cur_lr': 6.8e-05, 'total_loss': 0.009132083364282593, 'policy_loss': -0.00842542170236508, 'vf_loss': 0.03540563373826444, 'vf_explained_var': -0.16998057, 'kl': 0.0002114543989261041, 'entropy': 0.015423575910090498, 'entropy_coeff': 0.01}\n",
      "\u001b[2m\u001b[36m(pid=21034)\u001b[0m 2021-07-16 11:57:53,236\tDEBUG sgd.py:120 -- 10 {'allreduce_latency': 0.0, 'cur_kl_coeff': 0.0421875, 'cur_lr': 6.8e-05, 'total_loss': 0.01108706384107019, 'policy_loss': -0.006780086282753583, 'vf_loss': 0.03602848011492328, 'vf_explained_var': -0.22279549, 'kl': 0.00017832159852387673, 'entropy': 0.015461471644371297, 'entropy_coeff': 0.01}\n",
      "\u001b[2m\u001b[36m(pid=21034)\u001b[0m 2021-07-16 11:57:53,406\tDEBUG sgd.py:120 -- 11 {'allreduce_latency': 0.0, 'cur_kl_coeff': 0.0421875, 'cur_lr': 6.8e-05, 'total_loss': 0.009297446700546778, 'policy_loss': -0.008455333772651626, 'vf_loss': 0.03579494878155828, 'vf_explained_var': -0.21868676, 'kl': 0.00021562379151873756, 'entropy': 0.015379324625951775, 'entropy_coeff': 0.01}\n",
      "\u001b[2m\u001b[36m(pid=21034)\u001b[0m 2021-07-16 11:57:53,602\tDEBUG sgd.py:120 -- 12 {'allreduce_latency': 0.0, 'cur_kl_coeff': 0.0421875, 'cur_lr': 6.8e-05, 'total_loss': 0.00842544243134784, 'policy_loss': -0.00923245343746561, 'vf_loss': 0.03560709015988378, 'vf_explained_var': -0.18401387, 'kl': 0.00017971374257864557, 'entropy': 0.015323326309126887, 'entropy_coeff': 0.01}\n",
      "\u001b[2m\u001b[36m(pid=21034)\u001b[0m 2021-07-16 11:57:53,790\tDEBUG sgd.py:120 -- 13 {'allreduce_latency': 0.0, 'cur_kl_coeff': 0.0421875, 'cur_lr': 6.8e-05, 'total_loss': 0.008333564848836624, 'policy_loss': -0.00930224327991406, 'vf_loss': 0.03556302633263509, 'vf_explained_var': -0.18939959, 'kl': 0.00017675285909552423, 'entropy': 0.015316353010183031, 'entropy_coeff': 0.01}\n",
      "\u001b[2m\u001b[36m(pid=21034)\u001b[0m 2021-07-16 11:57:53,957\tDEBUG sgd.py:120 -- 14 {'allreduce_latency': 0.0, 'cur_kl_coeff': 0.0421875, 'cur_lr': 6.8e-05, 'total_loss': 0.008583782664076849, 'policy_loss': -0.008906143237695549, 'vf_loss': 0.03525847142251829, 'vf_explained_var': -0.2430966, 'kl': 0.0002946126668658425, 'entropy': 0.015173668705039856, 'entropy_coeff': 0.01}\n",
      "\u001b[2m\u001b[36m(pid=21034)\u001b[0m 2021-07-16 11:57:54,119\tDEBUG sgd.py:120 -- 15 {'allreduce_latency': 0.0, 'cur_kl_coeff': 0.0421875, 'cur_lr': 6.8e-05, 'total_loss': 0.0064225384937317085, 'policy_loss': -0.011052668207522594, 'vf_loss': 0.03523716618038827, 'vf_explained_var': -0.2451733, 'kl': 0.00019228656222394696, 'entropy': 0.015148636271161113, 'entropy_coeff': 0.01}\n",
      "\u001b[2m\u001b[36m(pid=21034)\u001b[0m 2021-07-16 11:57:54,312\tDEBUG sgd.py:120 -- 16 {'allreduce_latency': 0.0, 'cur_kl_coeff': 0.0421875, 'cur_lr': 6.8e-05, 'total_loss': 0.0077207362222852126, 'policy_loss': -0.009758777323771606, 'vf_loss': 0.0352435318971843, 'vf_explained_var': -0.21180393, 'kl': 0.00019970941458737025, 'entropy': 0.01506765298968689, 'entropy_coeff': 0.01}\n",
      "\u001b[2m\u001b[36m(pid=21034)\u001b[0m 2021-07-16 11:57:54,475\tDEBUG sgd.py:120 -- 17 {'allreduce_latency': 0.0, 'cur_kl_coeff': 0.0421875, 'cur_lr': 6.8e-05, 'total_loss': 0.0067769545694869576, 'policy_loss': -0.010823268584455505, 'vf_loss': 0.03548250471552213, 'vf_explained_var': -0.15278718, 'kl': 0.00022408689079439324, 'entropy': 0.015048247719691559, 'entropy_coeff': 0.01}\n",
      "\u001b[2m\u001b[36m(pid=21034)\u001b[0m 2021-07-16 11:57:54,657\tDEBUG sgd.py:120 -- 18 {'allreduce_latency': 0.0, 'cur_kl_coeff': 0.0421875, 'cur_lr': 6.8e-05, 'total_loss': 0.007253728976303881, 'policy_loss': -0.010396192457075373, 'vf_loss': 0.03558414327121819, 'vf_explained_var': -0.18853845, 'kl': 0.00018772086004350004, 'entropy': 0.015007105742397747, 'entropy_coeff': 0.01}\n",
      "\u001b[2m\u001b[36m(pid=21034)\u001b[0m 2021-07-16 11:57:54,846\tDEBUG sgd.py:120 -- 19 {'allreduce_latency': 0.0, 'cur_kl_coeff': 0.0421875, 'cur_lr': 6.8e-05, 'total_loss': 0.006443974674876892, 'policy_loss': -0.011102990310808475, 'vf_loss': 0.03537225701394632, 'vf_explained_var': -0.27092245, 'kl': 0.0002403517735894473, 'entropy': 0.014930379139541677, 'entropy_coeff': 0.01}\n",
      "\u001b[2m\u001b[36m(pid=21034)\u001b[0m 2021-07-16 11:57:55,027\tDEBUG sgd.py:120 -- 20 {'allreduce_latency': 0.0, 'cur_kl_coeff': 0.0421875, 'cur_lr': 6.8e-05, 'total_loss': 0.00643822912013892, 'policy_loss': -0.011033571579239586, 'vf_loss': 0.03522463187674117, 'vf_explained_var': -0.15215674, 'kl': 0.0002002528841937116, 'entropy': 0.014896121426400814, 'entropy_coeff': 0.01}\n",
      "\u001b[2m\u001b[36m(pid=21034)\u001b[0m 2021-07-16 11:57:55,189\tDEBUG sgd.py:120 -- 21 {'allreduce_latency': 0.0, 'cur_kl_coeff': 0.0421875, 'cur_lr': 6.8e-05, 'total_loss': 0.005193210404479142, 'policy_loss': -0.012252129868350246, 'vf_loss': 0.03516852319466345, 'vf_explained_var': -0.18365458, 'kl': 0.00022747683231665923, 'entropy': 0.014851546832219217, 'entropy_coeff': 0.01}\n",
      "\u001b[2m\u001b[36m(pid=21034)\u001b[0m 2021-07-16 11:57:55,341\tDEBUG sgd.py:120 -- 22 {'allreduce_latency': 0.0, 'cur_kl_coeff': 0.0421875, 'cur_lr': 6.8e-05, 'total_loss': 0.005477644813557466, 'policy_loss': -0.0120060316315203, 'vf_loss': 0.03524290063686556, 'vf_explained_var': -0.18601449, 'kl': 0.00024703269082237966, 'entropy': 0.014819421191615138, 'entropy_coeff': 0.01}\n",
      "\u001b[2m\u001b[36m(pid=21034)\u001b[0m 2021-07-16 11:57:55,500\tDEBUG sgd.py:120 -- 23 {'allreduce_latency': 0.0, 'cur_kl_coeff': 0.0421875, 'cur_lr': 6.8e-05, 'total_loss': 0.007135742668513999, 'policy_loss': -0.010662536919963632, 'vf_loss': 0.03587460770116498, 'vf_explained_var': -0.18335654, 'kl': 0.00025753384452951707, 'entropy': 0.014989207927349278, 'entropy_coeff': 0.01}\n",
      "\u001b[2m\u001b[36m(pid=21034)\u001b[0m 2021-07-16 11:57:55,654\tDEBUG sgd.py:120 -- 24 {'allreduce_latency': 0.0, 'cur_kl_coeff': 0.0421875, 'cur_lr': 6.8e-05, 'total_loss': 0.005318526291485989, 'policy_loss': -0.012179121459749613, 'vf_loss': 0.03527038669651092, 'vf_explained_var': -0.20304775, 'kl': 0.0002582042863209746, 'entropy': 0.014843988020650366, 'entropy_coeff': 0.01}\n"
     ]
    },
    {
     "name": "stderr",
     "output_type": "stream",
     "text": [
      "\u001b[2m\u001b[36m(pid=21034)\u001b[0m 2021-07-16 11:57:55,817\tDEBUG sgd.py:120 -- 25 {'allreduce_latency': 0.0, 'cur_kl_coeff': 0.0421875, 'cur_lr': 6.8e-05, 'total_loss': 0.004530335720064062, 'policy_loss': -0.012846723424665855, 'vf_loss': 0.03502428100910038, 'vf_explained_var': -0.1787728, 'kl': 0.0002823329903714528, 'entropy': 0.014699297096354492, 'entropy_coeff': 0.01}\n",
      "\u001b[2m\u001b[36m(pid=21034)\u001b[0m 2021-07-16 11:57:55,977\tDEBUG sgd.py:120 -- 26 {'allreduce_latency': 0.0, 'cur_kl_coeff': 0.0421875, 'cur_lr': 6.8e-05, 'total_loss': 0.004634731138745944, 'policy_loss': -0.0127130640444882, 'vf_loss': 0.03496790498452769, 'vf_explained_var': -0.23001833, 'kl': 0.0002591851726086161, 'entropy': 0.014709077253373283, 'entropy_coeff': 0.01}\n",
      "\u001b[2m\u001b[36m(pid=21034)\u001b[0m 2021-07-16 11:57:56,174\tDEBUG sgd.py:120 -- 27 {'allreduce_latency': 0.0, 'cur_kl_coeff': 0.0421875, 'cur_lr': 6.8e-05, 'total_loss': 0.004844829496560675, 'policy_loss': -0.012620802573633917, 'vf_loss': 0.035197399482554334, 'vf_explained_var': -0.17760357, 'kl': 0.0003154940389901061, 'entropy': 0.01463771713050929, 'entropy_coeff': 0.01}\n",
      "\u001b[2m\u001b[36m(pid=21034)\u001b[0m 2021-07-16 11:57:56,329\tDEBUG sgd.py:120 -- 28 {'allreduce_latency': 0.0, 'cur_kl_coeff': 0.0421875, 'cur_lr': 6.8e-05, 'total_loss': 0.0035949219582658825, 'policy_loss': -0.013739005069841038, 'vf_loss': 0.0349343814181559, 'vf_explained_var': -0.2331826, 'kl': 0.00030693930591841115, 'entropy': 0.014620944582433864, 'entropy_coeff': 0.01}\n"
     ]
    },
    {
     "name": "stdout",
     "output_type": "stream",
     "text": [
      "Result for PPO_TradingEnv_d625d_00000:\n",
      "  custom_metrics: {}\n",
      "  date: 2021-07-16_11-57-56\n",
      "  done: false\n",
      "  episode_len_mean: 875.1224489795918\n",
      "  episode_reward_max: 558.2012953515223\n",
      "  episode_reward_mean: 408.17365337257706\n",
      "  episode_reward_min: -23.913504331878357\n",
      "  episodes_this_iter: 7\n",
      "  episodes_total: 49\n",
      "  experiment_id: e6369b7d95d74c47a2c2141b4142c2c5\n",
      "  experiment_tag: '0'\n",
      "  hostname: localadmin-ECA-FX44E4C\n",
      "  info:\n",
      "    learner:\n",
      "      default_policy:\n",
      "        allreduce_latency: 0.0\n",
      "        cur_kl_coeff: 0.0421875\n",
      "        cur_lr: 6.8e-05\n",
      "        entropy: 0.014623777803287587\n",
      "        entropy_coeff: 0.01\n",
      "        kl: 0.0003469918433300777\n",
      "        policy_loss: -0.013058142510778976\n",
      "        total_loss: 0.004369156463353923\n",
      "        vf_explained_var: -0.237651526927948\n",
      "        vf_loss: 0.035117796269443\n",
      "    num_steps_sampled: 46200\n",
      "    num_steps_trained: 46200\n",
      "  iterations_since_restore: 11\n",
      "  node_ip: 192.168.0.202\n",
      "  num_healthy_workers: 7\n",
      "  off_policy_estimator: {}\n",
      "  perf:\n",
      "    cpu_util_percent: 33.91111111111111\n",
      "    ram_util_percent: 44.24444444444444\n",
      "  pid: 21034\n",
      "  policy_reward_max: {}\n",
      "  policy_reward_mean: {}\n",
      "  policy_reward_min: {}\n",
      "  sampler_perf:\n",
      "    mean_env_wait_ms: 0.6665418702352345\n",
      "    mean_inference_ms: 1.1868270544477455\n",
      "    mean_processing_ms: 0.21029717330213477\n",
      "  time_since_restore: 69.48684167861938\n",
      "  time_this_iter_s: 6.229356288909912\n",
      "  time_total_s: 69.48684167861938\n",
      "  timers:\n",
      "    learn_throughput: 878.452\n",
      "    learn_time_ms: 4781.138\n",
      "    sample_throughput: 3660.347\n",
      "    sample_time_ms: 1147.432\n",
      "    update_time_ms: 1.423\n",
      "  timestamp: 1626407876\n",
      "  timesteps_since_restore: 0\n",
      "  timesteps_total: 46200\n",
      "  training_iteration: 11\n",
      "  trial_id: d625d_00000\n",
      "  \n"
     ]
    },
    {
     "name": "stderr",
     "output_type": "stream",
     "text": [
      "\u001b[2m\u001b[36m(pid=21034)\u001b[0m 2021-07-16 11:57:56,509\tDEBUG sgd.py:120 -- 29 {'allreduce_latency': 0.0, 'cur_kl_coeff': 0.0421875, 'cur_lr': 6.8e-05, 'total_loss': 0.004369156463353923, 'policy_loss': -0.013058142510778976, 'vf_loss': 0.035117796269443, 'vf_explained_var': -0.23765153, 'kl': 0.0003469918433300777, 'entropy': 0.014623777803287587, 'entropy_coeff': 0.01}\n"
     ]
    },
    {
     "data": {
      "text/html": [
       "== Status ==<br>Memory usage on this node: 6.4/14.5 GiB<br>Using FIFO scheduling algorithm.<br>Resources requested: 8/8 CPUs, 0/0 GPUs, 0.0/6.74 GiB heap, 0.0/2.29 GiB objects<br>Result logdir: /home/localadmin/ray_results/PPO<br>Number of trials: 1 (1 RUNNING)<br><table>\n",
       "<thead>\n",
       "<tr><th>Trial name                </th><th>status  </th><th>loc                </th><th style=\"text-align: right;\">  iter</th><th style=\"text-align: right;\">  total time (s)</th><th style=\"text-align: right;\">   ts</th><th style=\"text-align: right;\">  reward</th></tr>\n",
       "</thead>\n",
       "<tbody>\n",
       "<tr><td>PPO_TradingEnv_d625d_00000</td><td>RUNNING </td><td>192.168.0.202:21034</td><td style=\"text-align: right;\">    11</td><td style=\"text-align: right;\">         69.4868</td><td style=\"text-align: right;\">46200</td><td style=\"text-align: right;\"> 408.174</td></tr>\n",
       "</tbody>\n",
       "</table><br><br>"
      ],
      "text/plain": [
       "<IPython.core.display.HTML object>"
      ]
     },
     "metadata": {},
     "output_type": "display_data"
    },
    {
     "name": "stderr",
     "output_type": "stream",
     "text": [
      "\u001b[2m\u001b[36m(pid=21034)\u001b[0m 2021-07-16 11:57:56,519\tDEBUG trainer.py:547 -- synchronized filters: {'default_policy': MeanStdFilter((25, 2), True, True, None, (n=46256, mean_mean=-0.3243281351178192, mean_std=3.8470442189507406), (n=0, mean_mean=0.0, mean_std=0.0))}\n",
      "\u001b[2m\u001b[36m(pid=21034)\u001b[0m 2021-07-16 11:57:57,917\tDEBUG sgd.py:120 -- 0 {'allreduce_latency': 0.0, 'cur_kl_coeff': 0.02109375, 'cur_lr': 6.38e-05, 'total_loss': 0.01346732886282332, 'policy_loss': 9.24615923202399e-05, 'vf_loss': 0.027058821933513336, 'vf_explained_var': -0.23155051, 'kl': 2.2674762111944563e-05, 'entropy': 0.015501845444580822, 'entropy_coeff': 0.01}\n",
      "\u001b[2m\u001b[36m(pid=21034)\u001b[0m 2021-07-16 11:57:58,087\tDEBUG sgd.py:120 -- 1 {'allreduce_latency': 0.0, 'cur_kl_coeff': 0.02109375, 'cur_lr': 6.38e-05, 'total_loss': 0.012785109719543747, 'policy_loss': -0.0005880484752582781, 'vf_loss': 0.027055370543772977, 'vf_explained_var': -0.33056414, 'kl': 3.5393887311367203e-06, 'entropy': 0.015459884833861988, 'entropy_coeff': 0.01}\n",
      "\u001b[2m\u001b[36m(pid=21034)\u001b[0m 2021-07-16 11:57:58,251\tDEBUG sgd.py:120 -- 2 {'allreduce_latency': 0.0, 'cur_kl_coeff': 0.02109375, 'cur_lr': 6.38e-05, 'total_loss': 0.01213667303267302, 'policy_loss': -0.0011922090109719923, 'vf_loss': 0.02696402093473201, 'vf_explained_var': -0.31784222, 'kl': 5.252371987684125e-06, 'entropy': 0.015324051943466518, 'entropy_coeff': 0.01}\n",
      "\u001b[2m\u001b[36m(pid=21034)\u001b[0m 2021-07-16 11:57:58,408\tDEBUG sgd.py:120 -- 3 {'allreduce_latency': 0.0, 'cur_kl_coeff': 0.02109375, 'cur_lr': 6.38e-05, 'total_loss': 0.011877096497989965, 'policy_loss': -0.0014337973499839957, 'vf_loss': 0.026925381269503498, 'vf_explained_var': -0.32256675, 'kl': 1.573381841481161e-05, 'entropy': 0.01521279420844759, 'entropy_coeff': 0.01}\n",
      "\u001b[2m\u001b[36m(pid=21034)\u001b[0m 2021-07-16 11:57:58,576\tDEBUG sgd.py:120 -- 4 {'allreduce_latency': 0.0, 'cur_kl_coeff': 0.02109375, 'cur_lr': 6.38e-05, 'total_loss': 0.011133053819790031, 'policy_loss': -0.002213268738352891, 'vf_loss': 0.026993999183601278, 'vf_explained_var': -0.293028, 'kl': 1.0191143515343851e-05, 'entropy': 0.01508884806411736, 'entropy_coeff': 0.01}\n",
      "\u001b[2m\u001b[36m(pid=21034)\u001b[0m 2021-07-16 11:57:58,737\tDEBUG sgd.py:120 -- 5 {'allreduce_latency': 0.0, 'cur_kl_coeff': 0.02109375, 'cur_lr': 6.38e-05, 'total_loss': 0.011474221267483452, 'policy_loss': -0.001910045827654275, 'vf_loss': 0.027069096578722536, 'vf_explained_var': -0.32514593, 'kl': 2.0465798928798353e-05, 'entropy': 0.015071479938783203, 'entropy_coeff': 0.01}\n",
      "\u001b[2m\u001b[36m(pid=21034)\u001b[0m 2021-07-16 11:57:58,893\tDEBUG sgd.py:120 -- 6 {'allreduce_latency': 0.0, 'cur_kl_coeff': 0.02109375, 'cur_lr': 6.38e-05, 'total_loss': 0.010457015511664476, 'policy_loss': -0.00288927254521034, 'vf_loss': 0.026988872175217803, 'vf_explained_var': -0.32161006, 'kl': 2.242567228622096e-05, 'entropy': 0.014862245906525377, 'entropy_coeff': 0.01}\n",
      "\u001b[2m\u001b[36m(pid=21034)\u001b[0m 2021-07-16 11:57:59,050\tDEBUG sgd.py:120 -- 7 {'allreduce_latency': 0.0, 'cur_kl_coeff': 0.02109375, 'cur_lr': 6.38e-05, 'total_loss': 0.01130449515061848, 'policy_loss': -0.0022554891889519763, 'vf_loss': 0.02741491624549257, 'vf_explained_var': -0.24646479, 'kl': 3.6307295472810935e-05, 'entropy': 0.014823800644301104, 'entropy_coeff': 0.01}\n",
      "\u001b[2m\u001b[36m(pid=21034)\u001b[0m 2021-07-16 11:57:59,202\tDEBUG sgd.py:120 -- 8 {'allreduce_latency': 0.0, 'cur_kl_coeff': 0.02109375, 'cur_lr': 6.38e-05, 'total_loss': 0.00912681122479791, 'policy_loss': -0.004154816566204483, 'vf_loss': 0.026856945979296033, 'vf_explained_var': -0.39479053, 'kl': 3.815887940259982e-05, 'entropy': 0.014764957906057438, 'entropy_coeff': 0.01}\n",
      "\u001b[2m\u001b[36m(pid=21034)\u001b[0m 2021-07-16 11:57:59,365\tDEBUG sgd.py:120 -- 9 {'allreduce_latency': 0.0, 'cur_kl_coeff': 0.02109375, 'cur_lr': 6.38e-05, 'total_loss': 0.008572107096287336, 'policy_loss': -0.00472157538840265, 'vf_loss': 0.02687835606577044, 'vf_explained_var': -0.28931588, 'kl': 5.23413397069927e-05, 'entropy': 0.014659929851239378, 'entropy_coeff': 0.01}\n",
      "\u001b[2m\u001b[36m(pid=21034)\u001b[0m 2021-07-16 11:57:59,561\tDEBUG sgd.py:120 -- 10 {'allreduce_latency': 0.0, 'cur_kl_coeff': 0.02109375, 'cur_lr': 6.38e-05, 'total_loss': 0.008351671622332298, 'policy_loss': -0.0048768243639532366, 'vf_loss': 0.026747044451026755, 'vf_explained_var': -0.3573281, 'kl': 4.668349215948679e-05, 'entropy': 0.0146009117209663, 'entropy_coeff': 0.01}\n",
      "\u001b[2m\u001b[36m(pid=21034)\u001b[0m 2021-07-16 11:57:59,728\tDEBUG sgd.py:120 -- 11 {'allreduce_latency': 0.0, 'cur_kl_coeff': 0.02109375, 'cur_lr': 6.38e-05, 'total_loss': 0.007749486488826347, 'policy_loss': -0.005567277640555844, 'vf_loss': 0.02692172763459949, 'vf_explained_var': -0.3156884, 'kl': 5.340926726961642e-05, 'entropy': 0.014522658414066289, 'entropy_coeff': 0.01}\n",
      "\u001b[2m\u001b[36m(pid=21034)\u001b[0m 2021-07-16 11:57:59,897\tDEBUG sgd.py:120 -- 12 {'allreduce_latency': 0.0, 'cur_kl_coeff': 0.02109375, 'cur_lr': 6.38e-05, 'total_loss': 0.01023119507413922, 'policy_loss': -0.0034394927435752115, 'vf_loss': 0.02762703393642424, 'vf_explained_var': -0.32744026, 'kl': 7.3394265751686e-05, 'entropy': 0.014437862340304437, 'entropy_coeff': 0.01}\n",
      "\u001b[2m\u001b[36m(pid=21034)\u001b[0m 2021-07-16 11:58:00,054\tDEBUG sgd.py:120 -- 13 {'allreduce_latency': 0.0, 'cur_kl_coeff': 0.02109375, 'cur_lr': 6.38e-05, 'total_loss': 0.0074983253284837265, 'policy_loss': -0.005748507482084361, 'vf_loss': 0.026777623563468682, 'vf_explained_var': -0.2752578, 'kl': 7.914643626436097e-05, 'entropy': 0.014364807330297701, 'entropy_coeff': 0.01}\n",
      "\u001b[2m\u001b[36m(pid=21034)\u001b[0m 2021-07-16 11:58:00,211\tDEBUG sgd.py:120 -- 14 {'allreduce_latency': 0.0, 'cur_kl_coeff': 0.02109375, 'cur_lr': 6.38e-05, 'total_loss': 0.007367621091279117, 'policy_loss': -0.0059771879195151005, 'vf_loss': 0.026972572442680372, 'vf_explained_var': -0.25927964, 'kl': 8.167009174499209e-05, 'entropy': 0.014320344642990014, 'entropy_coeff': 0.01}\n",
      "\u001b[2m\u001b[36m(pid=21034)\u001b[0m 2021-07-16 11:58:00,368\tDEBUG sgd.py:120 -- 15 {'allreduce_latency': 0.0, 'cur_kl_coeff': 0.02109375, 'cur_lr': 6.38e-05, 'total_loss': 0.007818469650704752, 'policy_loss': -0.00549383159501083, 'vf_loss': 0.026904749010238007, 'vf_explained_var': -0.23807216, 'kl': 0.00011056643592327777, 'entropy': 0.014240117609557328, 'entropy_coeff': 0.01}\n",
      "\u001b[2m\u001b[36m(pid=21034)\u001b[0m 2021-07-16 11:58:00,543\tDEBUG sgd.py:120 -- 16 {'allreduce_latency': 0.0, 'cur_kl_coeff': 0.02109375, 'cur_lr': 6.38e-05, 'total_loss': 0.006479107972347375, 'policy_loss': -0.006738200346290162, 'vf_loss': 0.026715344493630146, 'vf_explained_var': -0.26368275, 'kl': 9.273415564552344e-05, 'entropy': 0.01423172685882133, 'entropy_coeff': 0.01}\n",
      "\u001b[2m\u001b[36m(pid=21034)\u001b[0m 2021-07-16 11:58:00,701\tDEBUG sgd.py:120 -- 17 {'allreduce_latency': 0.0, 'cur_kl_coeff': 0.02109375, 'cur_lr': 6.38e-05, 'total_loss': 0.006254293645421664, 'policy_loss': -0.006963860130671299, 'vf_loss': 0.026713788816282016, 'vf_explained_var': -0.23725961, 'kl': 0.00011544955321534707, 'entropy': 0.014117586701600389, 'entropy_coeff': 0.01}\n",
      "\u001b[2m\u001b[36m(pid=21034)\u001b[0m 2021-07-16 11:58:00,869\tDEBUG sgd.py:120 -- 18 {'allreduce_latency': 0.0, 'cur_kl_coeff': 0.02109375, 'cur_lr': 6.38e-05, 'total_loss': 0.00794418692363031, 'policy_loss': -0.005472648754772364, 'vf_loss': 0.027110847203540758, 'vf_explained_var': -0.3347007, 'kl': 0.00011305465539573396, 'entropy': 0.014097508616308032, 'entropy_coeff': 0.01}\n",
      "\u001b[2m\u001b[36m(pid=21034)\u001b[0m 2021-07-16 11:58:01,022\tDEBUG sgd.py:120 -- 19 {'allreduce_latency': 0.0, 'cur_kl_coeff': 0.02109375, 'cur_lr': 6.38e-05, 'total_loss': 0.007275268096815456, 'policy_loss': -0.006119504712070479, 'vf_loss': 0.02706237549357342, 'vf_explained_var': -0.29254076, 'kl': 0.00015024020930551077, 'entropy': 0.013958384311108879, 'entropy_coeff': 0.01}\n",
      "\u001b[2m\u001b[36m(pid=21034)\u001b[0m 2021-07-16 11:58:01,181\tDEBUG sgd.py:120 -- 20 {'allreduce_latency': 0.0, 'cur_kl_coeff': 0.02109375, 'cur_lr': 6.38e-05, 'total_loss': 0.006066480665608789, 'policy_loss': -0.0072145131451896195, 'vf_loss': 0.026833561125606524, 'vf_explained_var': -0.30998042, 'kl': 0.00016382639119966012, 'entropy': 0.013924363543716909, 'entropy_coeff': 0.01}\n",
      "\u001b[2m\u001b[36m(pid=21034)\u001b[0m 2021-07-16 11:58:01,334\tDEBUG sgd.py:120 -- 21 {'allreduce_latency': 0.0, 'cur_kl_coeff': 0.02109375, 'cur_lr': 6.38e-05, 'total_loss': 0.004951438527892937, 'policy_loss': -0.00820809148364898, 'vf_loss': 0.026592700396466887, 'vf_explained_var': -0.2510197, 'kl': 0.00013531978347049463, 'entropy': 0.013967635621542506, 'entropy_coeff': 0.01}\n"
     ]
    },
    {
     "name": "stderr",
     "output_type": "stream",
     "text": [
      "\u001b[2m\u001b[36m(pid=21034)\u001b[0m 2021-07-16 11:58:01,493\tDEBUG sgd.py:120 -- 22 {'allreduce_latency': 0.0, 'cur_kl_coeff': 0.02109375, 'cur_lr': 6.38e-05, 'total_loss': 0.005676536538609953, 'policy_loss': -0.007480596544954813, 'vf_loss': 0.02658371522909764, 'vf_explained_var': -0.19725955, 'kl': 0.00017266572291246672, 'entropy': 0.013836295929539836, 'entropy_coeff': 0.01}\n",
      "\u001b[2m\u001b[36m(pid=21034)\u001b[0m 2021-07-16 11:58:01,654\tDEBUG sgd.py:120 -- 23 {'allreduce_latency': 0.0, 'cur_kl_coeff': 0.02109375, 'cur_lr': 6.38e-05, 'total_loss': 0.005295833346970154, 'policy_loss': -0.00791937510736964, 'vf_loss': 0.026699461886010162, 'vf_explained_var': -0.37179354, 'kl': 0.0001562906259785064, 'entropy': 0.013781637214406423, 'entropy_coeff': 0.01}\n",
      "\u001b[2m\u001b[36m(pid=21034)\u001b[0m 2021-07-16 11:58:01,813\tDEBUG sgd.py:120 -- 24 {'allreduce_latency': 0.0, 'cur_kl_coeff': 0.02109375, 'cur_lr': 6.38e-05, 'total_loss': 0.004570146175948056, 'policy_loss': -0.008661269069169506, 'vf_loss': 0.02672846101323199, 'vf_explained_var': -0.2467693, 'kl': 0.00020759927197518252, 'entropy': 0.013719458894973452, 'entropy_coeff': 0.01}\n",
      "\u001b[2m\u001b[36m(pid=21034)\u001b[0m 2021-07-16 11:58:01,967\tDEBUG sgd.py:120 -- 25 {'allreduce_latency': 0.0, 'cur_kl_coeff': 0.02109375, 'cur_lr': 6.38e-05, 'total_loss': 0.005893750229116642, 'policy_loss': -0.007478668354451656, 'vf_loss': 0.027009948192051415, 'vf_explained_var': -0.26607636, 'kl': 0.0002452338307965406, 'entropy': 0.013772768575246588, 'entropy_coeff': 0.01}\n",
      "\u001b[2m\u001b[36m(pid=21034)\u001b[0m 2021-07-16 11:58:02,128\tDEBUG sgd.py:120 -- 26 {'allreduce_latency': 0.0, 'cur_kl_coeff': 0.02109375, 'cur_lr': 6.38e-05, 'total_loss': 0.004135255871171301, 'policy_loss': -0.00903391396401055, 'vf_loss': 0.026602991701414187, 'vf_explained_var': -0.32078525, 'kl': 0.00020318000337504077, 'entropy': 0.01366141581710315, 'entropy_coeff': 0.01}\n",
      "\u001b[2m\u001b[36m(pid=21034)\u001b[0m 2021-07-16 11:58:02,284\tDEBUG sgd.py:120 -- 27 {'allreduce_latency': 0.0, 'cur_kl_coeff': 0.02109375, 'cur_lr': 6.38e-05, 'total_loss': 0.0050398863739136495, 'policy_loss': -0.008218409648785988, 'vf_loss': 0.026781261365888924, 'vf_explained_var': -0.29187042, 'kl': 0.00020381411101852515, 'entropy': 0.013663528561168774, 'entropy_coeff': 0.01}\n"
     ]
    },
    {
     "name": "stdout",
     "output_type": "stream",
     "text": [
      "Result for PPO_TradingEnv_d625d_00000:\n",
      "  custom_metrics: {}\n",
      "  date: 2021-07-16_11-58-02\n",
      "  done: false\n",
      "  episode_len_mean: 884.6071428571429\n",
      "  episode_reward_max: 558.5587803043381\n",
      "  episode_reward_mean: 426.952596360955\n",
      "  episode_reward_min: -23.913504331878357\n",
      "  episodes_this_iter: 7\n",
      "  episodes_total: 56\n",
      "  experiment_id: e6369b7d95d74c47a2c2141b4142c2c5\n",
      "  experiment_tag: '0'\n",
      "  hostname: localadmin-ECA-FX44E4C\n",
      "  info:\n",
      "    learner:\n",
      "      default_policy:\n",
      "        allreduce_latency: 0.0\n",
      "        cur_kl_coeff: 0.02109375\n",
      "        cur_lr: 6.38e-05\n",
      "        entropy: 0.013511165902441875\n",
      "        entropy_coeff: 0.01\n",
      "        kl: 0.0002273026697036006\n",
      "        policy_loss: -0.009224438757607431\n",
      "        total_loss: 0.003909165434765093\n",
      "        vf_explained_var: -0.3563651442527771\n",
      "        vf_loss: 0.02652783892611324\n",
      "    num_steps_sampled: 50400\n",
      "    num_steps_trained: 50400\n",
      "  iterations_since_restore: 12\n",
      "  node_ip: 192.168.0.202\n",
      "  num_healthy_workers: 7\n",
      "  off_policy_estimator: {}\n",
      "  perf:\n",
      "    cpu_util_percent: 31.855555555555554\n",
      "    ram_util_percent: 44.23333333333333\n",
      "  pid: 21034\n",
      "  policy_reward_max: {}\n",
      "  policy_reward_mean: {}\n",
      "  policy_reward_min: {}\n",
      "  sampler_perf:\n",
      "    mean_env_wait_ms: 0.6462320365273\n",
      "    mean_inference_ms: 1.1823734463616578\n",
      "    mean_processing_ms: 0.20962036359508204\n",
      "  time_since_restore: 75.54524111747742\n",
      "  time_this_iter_s: 6.058399438858032\n",
      "  time_total_s: 75.54524111747742\n",
      "  timers:\n",
      "    learn_throughput: 876.262\n",
      "    learn_time_ms: 4793.087\n",
      "    sample_throughput: 3687.143\n",
      "    sample_time_ms: 1139.093\n",
      "    update_time_ms: 1.421\n",
      "  timestamp: 1626407882\n",
      "  timesteps_since_restore: 0\n",
      "  timesteps_total: 50400\n",
      "  training_iteration: 12\n",
      "  trial_id: d625d_00000\n",
      "  \n"
     ]
    },
    {
     "name": "stderr",
     "output_type": "stream",
     "text": [
      "\u001b[2m\u001b[36m(pid=21034)\u001b[0m 2021-07-16 11:58:02,443\tDEBUG sgd.py:120 -- 28 {'allreduce_latency': 0.0, 'cur_kl_coeff': 0.02109375, 'cur_lr': 6.38e-05, 'total_loss': 0.003798822985228264, 'policy_loss': -0.009333998120079437, 'vf_loss': 0.026529067030148297, 'vf_explained_var': -0.34279767, 'kl': 0.0002245750428383789, 'entropy': 0.01364468864278134, 'entropy_coeff': 0.01}\n"
     ]
    },
    {
     "data": {
      "text/html": [
       "== Status ==<br>Memory usage on this node: 6.4/14.5 GiB<br>Using FIFO scheduling algorithm.<br>Resources requested: 8/8 CPUs, 0/0 GPUs, 0.0/6.74 GiB heap, 0.0/2.29 GiB objects<br>Result logdir: /home/localadmin/ray_results/PPO<br>Number of trials: 1 (1 RUNNING)<br><table>\n",
       "<thead>\n",
       "<tr><th>Trial name                </th><th>status  </th><th>loc                </th><th style=\"text-align: right;\">  iter</th><th style=\"text-align: right;\">  total time (s)</th><th style=\"text-align: right;\">   ts</th><th style=\"text-align: right;\">  reward</th></tr>\n",
       "</thead>\n",
       "<tbody>\n",
       "<tr><td>PPO_TradingEnv_d625d_00000</td><td>RUNNING </td><td>192.168.0.202:21034</td><td style=\"text-align: right;\">    12</td><td style=\"text-align: right;\">         75.5452</td><td style=\"text-align: right;\">50400</td><td style=\"text-align: right;\"> 426.953</td></tr>\n",
       "</tbody>\n",
       "</table><br><br>"
      ],
      "text/plain": [
       "<IPython.core.display.HTML object>"
      ]
     },
     "metadata": {},
     "output_type": "display_data"
    },
    {
     "name": "stderr",
     "output_type": "stream",
     "text": [
      "\u001b[2m\u001b[36m(pid=21034)\u001b[0m 2021-07-16 11:58:02,595\tDEBUG sgd.py:120 -- 29 {'allreduce_latency': 0.0, 'cur_kl_coeff': 0.02109375, 'cur_lr': 6.38e-05, 'total_loss': 0.003909165434765093, 'policy_loss': -0.009224438757607431, 'vf_loss': 0.02652783892611324, 'vf_explained_var': -0.35636514, 'kl': 0.0002273026697036006, 'entropy': 0.013511165902441875, 'entropy_coeff': 0.01}\n",
      "\u001b[2m\u001b[36m(pid=21034)\u001b[0m 2021-07-16 11:58:02,605\tDEBUG trainer.py:547 -- synchronized filters: {'default_policy': MeanStdFilter((25, 2), True, True, None, (n=50463, mean_mean=-0.3401935397609679, mean_std=3.8404261831801465), (n=0, mean_mean=0.0, mean_std=0.0))}\n",
      "\u001b[2m\u001b[36m(pid=21034)\u001b[0m 2021-07-16 11:58:03,937\tDEBUG sgd.py:120 -- 0 {'allreduce_latency': 0.0, 'cur_kl_coeff': 0.010546875, 'cur_lr': 5.96e-05, 'total_loss': 0.0076695153433265105, 'policy_loss': -0.0024976229125803166, 'vf_loss': 0.02055507961653568, 'vf_explained_var': -0.55972356, 'kl': 3.993757482682754e-05, 'entropy': 0.01108220553688818, 'entropy_coeff': 0.01}\n",
      "\u001b[2m\u001b[36m(pid=21034)\u001b[0m 2021-07-16 11:58:04,125\tDEBUG sgd.py:120 -- 1 {'allreduce_latency': 0.0, 'cur_kl_coeff': 0.010546875, 'cur_lr': 5.96e-05, 'total_loss': 0.0038612229241566224, 'policy_loss': -0.00618623533624817, 'vf_loss': 0.02030683520151246, 'vf_explained_var': -0.52881426, 'kl': 0.0003693575411930259, 'entropy': 0.01098542539826171, 'entropy_coeff': 0.01}\n",
      "\u001b[2m\u001b[36m(pid=21034)\u001b[0m 2021-07-16 11:58:04,314\tDEBUG sgd.py:120 -- 2 {'allreduce_latency': 0.0, 'cur_kl_coeff': 0.010546875, 'cur_lr': 5.96e-05, 'total_loss': 0.003933747374861868, 'policy_loss': -0.006190987071022391, 'vf_loss': 0.020464365689831815, 'vf_explained_var': -0.40277845, 'kl': 0.000277857783575283, 'entropy': 0.011037832011369932, 'entropy_coeff': 0.01}\n",
      "\u001b[2m\u001b[36m(pid=21034)\u001b[0m 2021-07-16 11:58:04,488\tDEBUG sgd.py:120 -- 3 {'allreduce_latency': 0.0, 'cur_kl_coeff': 0.010546875, 'cur_lr': 5.96e-05, 'total_loss': 0.004524256554291103, 'policy_loss': -0.005624355578964407, 'vf_loss': 0.020510080912517326, 'vf_explained_var': -0.46445668, 'kl': 0.0002711345285096093, 'entropy': 0.010928777667383352, 'entropy_coeff': 0.01}\n",
      "\u001b[2m\u001b[36m(pid=21034)\u001b[0m 2021-07-16 11:58:04,646\tDEBUG sgd.py:120 -- 4 {'allreduce_latency': 0.0, 'cur_kl_coeff': 0.010546875, 'cur_lr': 5.96e-05, 'total_loss': 0.003921469109076442, 'policy_loss': -0.006220381763396841, 'vf_loss': 0.02049601112781657, 'vf_explained_var': -0.5587576, 'kl': 0.00029561569460907555, 'entropy': 0.01092716508940088, 'entropy_coeff': 0.01}\n",
      "\u001b[2m\u001b[36m(pid=21034)\u001b[0m 2021-07-16 11:58:04,800\tDEBUG sgd.py:120 -- 5 {'allreduce_latency': 0.0, 'cur_kl_coeff': 0.010546875, 'cur_lr': 5.96e-05, 'total_loss': 0.003194639543918046, 'policy_loss': -0.006840166918030291, 'vf_loss': 0.020282227515990875, 'vf_explained_var': -0.52780175, 'kl': 0.00022481952592815188, 'entropy': 0.010867694318717853, 'entropy_coeff': 0.01}\n",
      "\u001b[2m\u001b[36m(pid=21034)\u001b[0m 2021-07-16 11:58:04,970\tDEBUG sgd.py:120 -- 6 {'allreduce_latency': 0.0, 'cur_kl_coeff': 0.010546875, 'cur_lr': 5.96e-05, 'total_loss': 0.0034820218429420934, 'policy_loss': -0.006561371243812821, 'vf_loss': 0.020297283137386494, 'vf_explained_var': -0.4969134, 'kl': 0.0002810331427485146, 'entropy': 0.010820571664777217, 'entropy_coeff': 0.01}\n",
      "\u001b[2m\u001b[36m(pid=21034)\u001b[0m 2021-07-16 11:58:05,124\tDEBUG sgd.py:120 -- 7 {'allreduce_latency': 0.0, 'cur_kl_coeff': 0.010546875, 'cur_lr': 5.96e-05, 'total_loss': 0.004286432158992146, 'policy_loss': -0.005834029324239854, 'vf_loss': 0.020456035330425948, 'vf_explained_var': -0.52764136, 'kl': 0.00016685324229029268, 'entropy': 0.010931832973393753, 'entropy_coeff': 0.01}\n",
      "\u001b[2m\u001b[36m(pid=21034)\u001b[0m 2021-07-16 11:58:05,299\tDEBUG sgd.py:120 -- 8 {'allreduce_latency': 0.0, 'cur_kl_coeff': 0.010546875, 'cur_lr': 5.96e-05, 'total_loss': 0.0024409403347156263, 'policy_loss': -0.007580667282595779, 'vf_loss': 0.02025421143502392, 'vf_explained_var': -0.49786672, 'kl': 0.00023229726414711243, 'entropy': 0.010794757392652558, 'entropy_coeff': 0.01}\n",
      "\u001b[2m\u001b[36m(pid=21034)\u001b[0m 2021-07-16 11:58:05,485\tDEBUG sgd.py:120 -- 9 {'allreduce_latency': 0.0, 'cur_kl_coeff': 0.010546875, 'cur_lr': 5.96e-05, 'total_loss': 0.00251076878471808, 'policy_loss': -0.007518567977416696, 'vf_loss': 0.02026519440749491, 'vf_explained_var': -0.4328475, 'kl': 0.00030302761995003357, 'entropy': 0.010645739635396185, 'entropy_coeff': 0.01}\n",
      "\u001b[2m\u001b[36m(pid=21034)\u001b[0m 2021-07-16 11:58:05,662\tDEBUG sgd.py:120 -- 10 {'allreduce_latency': 0.0, 'cur_kl_coeff': 0.010546875, 'cur_lr': 5.96e-05, 'total_loss': 0.0027878328480503774, 'policy_loss': -0.007307816071040703, 'vf_loss': 0.020401938241610133, 'vf_explained_var': -0.46684122, 'kl': 0.00018058495540820084, 'entropy': 0.010722670307255943, 'entropy_coeff': 0.01}\n",
      "\u001b[2m\u001b[36m(pid=21034)\u001b[0m 2021-07-16 11:58:05,821\tDEBUG sgd.py:120 -- 11 {'allreduce_latency': 0.0, 'cur_kl_coeff': 0.010546875, 'cur_lr': 5.96e-05, 'total_loss': 0.002387749059408, 'policy_loss': -0.007730513839333346, 'vf_loss': 0.02044243934902955, 'vf_explained_var': -0.4682817, 'kl': 0.0002984840310118946, 'entropy': 0.010610590833521477, 'entropy_coeff': 0.01}\n",
      "\u001b[2m\u001b[36m(pid=21034)\u001b[0m 2021-07-16 11:58:05,977\tDEBUG sgd.py:120 -- 12 {'allreduce_latency': 0.0, 'cur_kl_coeff': 0.010546875, 'cur_lr': 5.96e-05, 'total_loss': 0.0023348125431573753, 'policy_loss': -0.007685127018979101, 'vf_loss': 0.02024517978178196, 'vf_explained_var': -0.52923757, 'kl': 0.0002578560738377498, 'entropy': 0.010536947331715826, 'entropy_coeff': 0.01}\n",
      "\u001b[2m\u001b[36m(pid=21034)\u001b[0m 2021-07-16 11:58:06,134\tDEBUG sgd.py:120 -- 13 {'allreduce_latency': 0.0, 'cur_kl_coeff': 0.010546875, 'cur_lr': 5.96e-05, 'total_loss': 0.0034885585138743572, 'policy_loss': -0.006733945655551824, 'vf_loss': 0.020653521759386145, 'vf_explained_var': -0.5291547, 'kl': 0.0001744650450167352, 'entropy': 0.010609441279842886, 'entropy_coeff': 0.01}\n",
      "\u001b[2m\u001b[36m(pid=21034)\u001b[0m 2021-07-16 11:58:06,348\tDEBUG sgd.py:120 -- 14 {'allreduce_latency': 0.0, 'cur_kl_coeff': 0.010546875, 'cur_lr': 5.96e-05, 'total_loss': 0.0024967620036367216, 'policy_loss': -0.0076509891642314014, 'vf_loss': 0.020499941854116816, 'vf_explained_var': -0.43534932, 'kl': 0.00023704658526019722, 'entropy': 0.010471926356496459, 'entropy_coeff': 0.01}\n",
      "\u001b[2m\u001b[36m(pid=21034)\u001b[0m 2021-07-16 11:58:06,515\tDEBUG sgd.py:120 -- 15 {'allreduce_latency': 0.0, 'cur_kl_coeff': 0.010546875, 'cur_lr': 5.96e-05, 'total_loss': 0.0025492329997095194, 'policy_loss': -0.007593045208716031, 'vf_loss': 0.020490312509619715, 'vf_explained_var': -0.43488336, 'kl': 0.00018684083689226045, 'entropy': 0.010484785586771923, 'entropy_coeff': 0.01}\n",
      "\u001b[2m\u001b[36m(pid=21034)\u001b[0m 2021-07-16 11:58:06,680\tDEBUG sgd.py:120 -- 16 {'allreduce_latency': 0.0, 'cur_kl_coeff': 0.010546875, 'cur_lr': 5.96e-05, 'total_loss': 0.002217438862179265, 'policy_loss': -0.007879871522273981, 'vf_loss': 0.020396796217414016, 'vf_explained_var': -0.52817595, 'kl': 0.0002816150339585323, 'entropy': 0.010405783340419557, 'entropy_coeff': 0.01}\n",
      "\u001b[2m\u001b[36m(pid=21034)\u001b[0m 2021-07-16 11:58:06,874\tDEBUG sgd.py:120 -- 17 {'allreduce_latency': 0.0, 'cur_kl_coeff': 0.010546875, 'cur_lr': 5.96e-05, 'total_loss': 0.002205878919498487, 'policy_loss': -0.007839102693127863, 'vf_loss': 0.020293276694384545, 'vf_explained_var': -0.49684235, 'kl': 0.00022090916354500223, 'entropy': 0.010398842919984776, 'entropy_coeff': 0.01}\n",
      "\u001b[2m\u001b[36m(pid=21034)\u001b[0m 2021-07-16 11:58:07,064\tDEBUG sgd.py:120 -- 18 {'allreduce_latency': 0.0, 'cur_kl_coeff': 0.010546875, 'cur_lr': 5.96e-05, 'total_loss': 0.0014698483811860735, 'policy_loss': -0.008551689937259212, 'vf_loss': 0.020245218190900756, 'vf_explained_var': -0.4348239, 'kl': 0.0002326100194281797, 'entropy': 0.010352601637185382, 'entropy_coeff': 0.01}\n",
      "\u001b[2m\u001b[36m(pid=21034)\u001b[0m 2021-07-16 11:58:07,223\tDEBUG sgd.py:120 -- 19 {'allreduce_latency': 0.0, 'cur_kl_coeff': 0.010546875, 'cur_lr': 5.96e-05, 'total_loss': 0.0013941636478359048, 'policy_loss': -0.008628095923499628, 'vf_loss': 0.0202471500008621, 'vf_explained_var': -0.52915406, 'kl': 0.000242337765788155, 'entropy': 0.010387450409876747, 'entropy_coeff': 0.01}\n",
      "\u001b[2m\u001b[36m(pid=21034)\u001b[0m 2021-07-16 11:58:07,421\tDEBUG sgd.py:120 -- 20 {'allreduce_latency': 0.0, 'cur_kl_coeff': 0.010546875, 'cur_lr': 5.96e-05, 'total_loss': 0.0021729608715483637, 'policy_loss': -0.008011083993496317, 'vf_loss': 0.020571997597333833, 'vf_explained_var': -0.46756965, 'kl': 0.00016991902577611847, 'entropy': 0.010374314448034222, 'entropy_coeff': 0.01}\n",
      "\u001b[2m\u001b[36m(pid=21034)\u001b[0m 2021-07-16 11:58:07,599\tDEBUG sgd.py:120 -- 21 {'allreduce_latency': 0.0, 'cur_kl_coeff': 0.010546875, 'cur_lr': 5.96e-05, 'total_loss': 0.001689381841005701, 'policy_loss': -0.00834426757964221, 'vf_loss': 0.020267519787673584, 'vf_explained_var': -0.40575624, 'kl': 0.0002427417993561848, 'entropy': 0.010266641638185265, 'entropy_coeff': 0.01}\n"
     ]
    },
    {
     "name": "stderr",
     "output_type": "stream",
     "text": [
      "\u001b[2m\u001b[36m(pid=21034)\u001b[0m 2021-07-16 11:58:07,776\tDEBUG sgd.py:120 -- 22 {'allreduce_latency': 0.0, 'cur_kl_coeff': 0.010546875, 'cur_lr': 5.96e-05, 'total_loss': 0.0028780483160958147, 'policy_loss': -0.007350552601344658, 'vf_loss': 0.020657461850064326, 'vf_explained_var': -0.43448758, 'kl': 0.00021865071758756213, 'entropy': 0.010243699298095607, 'entropy_coeff': 0.01}\n",
      "\u001b[2m\u001b[36m(pid=21034)\u001b[0m 2021-07-16 11:58:07,933\tDEBUG sgd.py:120 -- 23 {'allreduce_latency': 0.0, 'cur_kl_coeff': 0.010546875, 'cur_lr': 5.96e-05, 'total_loss': 0.0028415084252077522, 'policy_loss': -0.007406413272926302, 'vf_loss': 0.020697802598905666, 'vf_explained_var': -0.52746207, 'kl': 0.00017614079749336904, 'entropy': 0.010283737192918179, 'entropy_coeff': 0.01}\n",
      "\u001b[2m\u001b[36m(pid=21034)\u001b[0m 2021-07-16 11:58:08,088\tDEBUG sgd.py:120 -- 24 {'allreduce_latency': 0.0, 'cur_kl_coeff': 0.010546875, 'cur_lr': 5.96e-05, 'total_loss': 0.0014962357553568754, 'policy_loss': -0.008603972072402636, 'vf_loss': 0.020398660766659304, 'vf_explained_var': -0.4366248, 'kl': 0.00023552652606722955, 'entropy': 0.010160882943168734, 'entropy_coeff': 0.01}\n",
      "\u001b[2m\u001b[36m(pid=21034)\u001b[0m 2021-07-16 11:58:08,241\tDEBUG sgd.py:120 -- 25 {'allreduce_latency': 0.0, 'cur_kl_coeff': 0.010546875, 'cur_lr': 5.96e-05, 'total_loss': 0.0005946317687630653, 'policy_loss': -0.009468187359302785, 'vf_loss': 0.02032392424757056, 'vf_explained_var': -0.4982201, 'kl': 0.00020036154538419478, 'entropy': 0.010125870763493533, 'entropy_coeff': 0.01}\n",
      "\u001b[2m\u001b[36m(pid=21034)\u001b[0m 2021-07-16 11:58:08,398\tDEBUG sgd.py:120 -- 26 {'allreduce_latency': 0.0, 'cur_kl_coeff': 0.010546875, 'cur_lr': 5.96e-05, 'total_loss': 0.003537230814496676, 'policy_loss': -0.006713830696588213, 'vf_loss': 0.020702509874492094, 'vf_explained_var': -0.49606416, 'kl': 0.00022474384869300675, 'entropy': 0.0102567502445626, 'entropy_coeff': 0.01}\n",
      "\u001b[2m\u001b[36m(pid=21034)\u001b[0m 2021-07-16 11:58:08,550\tDEBUG sgd.py:120 -- 27 {'allreduce_latency': 0.0, 'cur_kl_coeff': 0.010546875, 'cur_lr': 5.96e-05, 'total_loss': 0.0008377944768378229, 'policy_loss': -0.009251936409396656, 'vf_loss': 0.0203768001908126, 'vf_explained_var': -0.5301094, 'kl': 0.00014636939437023653, 'entropy': 0.010020908432180118, 'entropy_coeff': 0.01}\n"
     ]
    },
    {
     "name": "stdout",
     "output_type": "stream",
     "text": [
      "Result for PPO_TradingEnv_d625d_00000:\n",
      "  custom_metrics: {}\n",
      "  date: 2021-07-16_11-58-08\n",
      "  done: false\n",
      "  episode_len_mean: 884.6071428571429\n",
      "  episode_reward_max: 558.5587803043381\n",
      "  episode_reward_mean: 426.952596360955\n",
      "  episode_reward_min: -23.913504331878357\n",
      "  episodes_this_iter: 0\n",
      "  episodes_total: 56\n",
      "  experiment_id: e6369b7d95d74c47a2c2141b4142c2c5\n",
      "  experiment_tag: '0'\n",
      "  hostname: localadmin-ECA-FX44E4C\n",
      "  info:\n",
      "    learner:\n",
      "      default_policy:\n",
      "        allreduce_latency: 0.0\n",
      "        cur_kl_coeff: 0.010546875\n",
      "        cur_lr: 5.96e-05\n",
      "        entropy: 0.00995208159954266\n",
      "        entropy_coeff: 0.01\n",
      "        kl: 0.00019287458290805125\n",
      "        policy_loss: -0.00978337490761822\n",
      "        total_loss: 0.00023115415013197696\n",
      "        vf_explained_var: -0.4959201216697693\n",
      "        vf_loss: 0.020224034228841916\n",
      "    num_steps_sampled: 54600\n",
      "    num_steps_trained: 54600\n",
      "  iterations_since_restore: 13\n",
      "  node_ip: 192.168.0.202\n",
      "  num_healthy_workers: 7\n",
      "  off_policy_estimator: {}\n",
      "  perf:\n",
      "    cpu_util_percent: 32.91111111111111\n",
      "    ram_util_percent: 44.2\n",
      "  pid: 21034\n",
      "  policy_reward_max: {}\n",
      "  policy_reward_mean: {}\n",
      "  policy_reward_min: {}\n",
      "  sampler_perf:\n",
      "    mean_env_wait_ms: 0.6462320365273\n",
      "    mean_inference_ms: 1.1823734463616578\n",
      "    mean_processing_ms: 0.20962036359508204\n",
      "  time_since_restore: 81.78588604927063\n",
      "  time_this_iter_s: 6.240644931793213\n",
      "  time_total_s: 81.78588604927063\n",
      "  timers:\n",
      "    learn_throughput: 869.201\n",
      "    learn_time_ms: 4832.025\n",
      "    sample_throughput: 3716.894\n",
      "    sample_time_ms: 1129.976\n",
      "    update_time_ms: 1.436\n",
      "  timestamp: 1626407888\n",
      "  timesteps_since_restore: 0\n",
      "  timesteps_total: 54600\n",
      "  training_iteration: 13\n",
      "  trial_id: d625d_00000\n",
      "  \n"
     ]
    },
    {
     "name": "stderr",
     "output_type": "stream",
     "text": [
      "\u001b[2m\u001b[36m(pid=21034)\u001b[0m 2021-07-16 11:58:08,706\tDEBUG sgd.py:120 -- 28 {'allreduce_latency': 0.0, 'cur_kl_coeff': 0.010546875, 'cur_lr': 5.96e-05, 'total_loss': 0.00034878374726483315, 'policy_loss': -0.009702940344471823, 'vf_loss': 0.020297874042157535, 'vf_explained_var': -0.46754614, 'kl': 0.00023483004097766806, 'entropy': 0.00996869295539165, 'entropy_coeff': 0.01}\n",
      "\u001b[2m\u001b[36m(pid=21034)\u001b[0m 2021-07-16 11:58:08,861\tDEBUG sgd.py:120 -- 29 {'allreduce_latency': 0.0, 'cur_kl_coeff': 0.010546875, 'cur_lr': 5.96e-05, 'total_loss': 0.00023115415013197696, 'policy_loss': -0.00978337490761822, 'vf_loss': 0.020224034228841916, 'vf_explained_var': -0.49592012, 'kl': 0.00019287458290805125, 'entropy': 0.00995208159954266, 'entropy_coeff': 0.01}\n",
      "\u001b[2m\u001b[36m(pid=21034)\u001b[0m 2021-07-16 11:58:08,870\tDEBUG trainer.py:547 -- synchronized filters: {'default_policy': MeanStdFilter((25, 2), True, True, None, (n=54663, mean_mean=-0.31077626062103514, mean_std=3.847277473935621), (n=0, mean_mean=0.0, mean_std=0.0))}\n"
     ]
    },
    {
     "data": {
      "text/html": [
       "== Status ==<br>Memory usage on this node: 6.4/14.5 GiB<br>Using FIFO scheduling algorithm.<br>Resources requested: 8/8 CPUs, 0/0 GPUs, 0.0/6.74 GiB heap, 0.0/2.29 GiB objects<br>Result logdir: /home/localadmin/ray_results/PPO<br>Number of trials: 1 (1 RUNNING)<br><table>\n",
       "<thead>\n",
       "<tr><th>Trial name                </th><th>status  </th><th>loc                </th><th style=\"text-align: right;\">  iter</th><th style=\"text-align: right;\">  total time (s)</th><th style=\"text-align: right;\">   ts</th><th style=\"text-align: right;\">  reward</th></tr>\n",
       "</thead>\n",
       "<tbody>\n",
       "<tr><td>PPO_TradingEnv_d625d_00000</td><td>RUNNING </td><td>192.168.0.202:21034</td><td style=\"text-align: right;\">    13</td><td style=\"text-align: right;\">         81.7859</td><td style=\"text-align: right;\">54600</td><td style=\"text-align: right;\"> 426.953</td></tr>\n",
       "</tbody>\n",
       "</table><br><br>"
      ],
      "text/plain": [
       "<IPython.core.display.HTML object>"
      ]
     },
     "metadata": {},
     "output_type": "display_data"
    },
    {
     "name": "stderr",
     "output_type": "stream",
     "text": [
      "\u001b[2m\u001b[36m(pid=21034)\u001b[0m 2021-07-16 11:58:10,195\tDEBUG sgd.py:120 -- 0 {'allreduce_latency': 0.0, 'cur_kl_coeff': 0.0052734375, 'cur_lr': 5.54e-05, 'total_loss': 0.01533768323221893, 'policy_loss': -0.00034016804684969514, 'vf_loss': 0.031599270379184884, 'vf_explained_var': -0.3903155, 'kl': 3.056902736920504e-05, 'entropy': 0.012194481801777853, 'entropy_coeff': 0.01}\n",
      "\u001b[2m\u001b[36m(pid=21034)\u001b[0m 2021-07-16 11:58:10,347\tDEBUG sgd.py:120 -- 1 {'allreduce_latency': 0.0, 'cur_kl_coeff': 0.0052734375, 'cur_lr': 5.54e-05, 'total_loss': 0.011973865217331684, 'policy_loss': -0.0034540162957978973, 'vf_loss': 0.031096769925418564, 'vf_explained_var': -0.28235945, 'kl': 0.0001668314375957848, 'entropy': 0.012138111643831839, 'entropy_coeff': 0.01}\n",
      "\u001b[2m\u001b[36m(pid=21034)\u001b[0m 2021-07-16 11:58:10,507\tDEBUG sgd.py:120 -- 2 {'allreduce_latency': 0.0, 'cur_kl_coeff': 0.0052734375, 'cur_lr': 5.54e-05, 'total_loss': 0.011399870964162277, 'policy_loss': -0.003962400425789934, 'vf_loss': 0.030963952321502747, 'vf_explained_var': -0.28034425, 'kl': 0.000340709961353377, 'entropy': 0.012149991332769401, 'entropy_coeff': 0.01}\n",
      "\u001b[2m\u001b[36m(pid=21034)\u001b[0m 2021-07-16 11:58:10,659\tDEBUG sgd.py:120 -- 3 {'allreduce_latency': 0.0, 'cur_kl_coeff': 0.0052734375, 'cur_lr': 5.54e-05, 'total_loss': 0.012048857949787018, 'policy_loss': -0.003478193147615953, 'vf_loss': 0.03129320411773568, 'vf_explained_var': -0.2322742, 'kl': 0.00036481663628916124, 'entropy': 0.012147289316282806, 'entropy_coeff': 0.01}\n",
      "\u001b[2m\u001b[36m(pid=21034)\u001b[0m 2021-07-16 11:58:10,817\tDEBUG sgd.py:120 -- 4 {'allreduce_latency': 0.0, 'cur_kl_coeff': 0.0052734375, 'cur_lr': 5.54e-05, 'total_loss': 0.011971767032236763, 'policy_loss': -0.0036005339952129307, 'vf_loss': 0.03138450646039211, 'vf_explained_var': -0.09348051, 'kl': 0.00027351362292172394, 'entropy': 0.012139376796161136, 'entropy_coeff': 0.01}\n",
      "\u001b[2m\u001b[36m(pid=21034)\u001b[0m 2021-07-16 11:58:11,016\tDEBUG sgd.py:120 -- 5 {'allreduce_latency': 0.0, 'cur_kl_coeff': 0.0052734375, 'cur_lr': 5.54e-05, 'total_loss': 0.012878983464995117, 'policy_loss': -0.002701923025376869, 'vf_loss': 0.031399116914888676, 'vf_explained_var': -0.21327561, 'kl': 0.00042518796765238443, 'entropy': 0.012089528591428516, 'entropy_coeff': 0.01}\n",
      "\u001b[2m\u001b[36m(pid=21034)\u001b[0m 2021-07-16 11:58:11,184\tDEBUG sgd.py:120 -- 6 {'allreduce_latency': 0.0, 'cur_kl_coeff': 0.0052734375, 'cur_lr': 5.54e-05, 'total_loss': 0.012211293885202118, 'policy_loss': -0.0033387798590190482, 'vf_loss': 0.031338485310587916, 'vf_explained_var': -0.28882363, 'kl': 0.00019350350063801312, 'entropy': 0.012018913765187432, 'entropy_coeff': 0.01}\n",
      "\u001b[2m\u001b[36m(pid=21034)\u001b[0m 2021-07-16 11:58:11,345\tDEBUG sgd.py:120 -- 7 {'allreduce_latency': 0.0, 'cur_kl_coeff': 0.0052734375, 'cur_lr': 5.54e-05, 'total_loss': 0.012059415902265093, 'policy_loss': -0.003482900701011672, 'vf_loss': 0.031321896501167706, 'vf_explained_var': -0.2178864, 'kl': 0.0003259144564667209, 'entropy': 0.012035210193558172, 'entropy_coeff': 0.01}\n",
      "\u001b[2m\u001b[36m(pid=21034)\u001b[0m 2021-07-16 11:58:11,498\tDEBUG sgd.py:120 -- 8 {'allreduce_latency': 0.0, 'cur_kl_coeff': 0.0052734375, 'cur_lr': 5.54e-05, 'total_loss': 0.010606051874205921, 'policy_loss': -0.0047375207315340185, 'vf_loss': 0.030925286365814056, 'vf_explained_var': -0.21078587, 'kl': 0.0002334760807626122, 'entropy': 0.012030189841012047, 'entropy_coeff': 0.01}\n",
      "\u001b[2m\u001b[36m(pid=21034)\u001b[0m 2021-07-16 11:58:11,655\tDEBUG sgd.py:120 -- 9 {'allreduce_latency': 0.0, 'cur_kl_coeff': 0.0052734375, 'cur_lr': 5.54e-05, 'total_loss': 0.010608729934602074, 'policy_loss': -0.004712839695540341, 'vf_loss': 0.030879361572618964, 'vf_explained_var': -0.07738062, 'kl': 0.00022239626615015422, 'entropy': 0.011928345147294529, 'entropy_coeff': 0.01}\n",
      "\u001b[2m\u001b[36m(pid=21034)\u001b[0m 2021-07-16 11:58:11,814\tDEBUG sgd.py:120 -- 10 {'allreduce_latency': 0.0, 'cur_kl_coeff': 0.0052734375, 'cur_lr': 5.54e-05, 'total_loss': 0.010287987491623922, 'policy_loss': -0.005077885322724328, 'vf_loss': 0.03096570228720366, 'vf_explained_var': -0.21187831, 'kl': 0.00041099650396710894, 'entropy': 0.011914908057378576, 'entropy_coeff': 0.01}\n",
      "\u001b[2m\u001b[36m(pid=21034)\u001b[0m 2021-07-16 11:58:11,984\tDEBUG sgd.py:120 -- 11 {'allreduce_latency': 0.0, 'cur_kl_coeff': 0.0052734375, 'cur_lr': 5.54e-05, 'total_loss': 0.009890300673291538, 'policy_loss': -0.005463675511154262, 'vf_loss': 0.0309429896649707, 'vf_explained_var': -0.079883695, 'kl': 0.0002711422833575246, 'entropy': 0.011894986146327221, 'entropy_coeff': 0.01}\n",
      "\u001b[2m\u001b[36m(pid=21034)\u001b[0m 2021-07-16 11:58:12,162\tDEBUG sgd.py:120 -- 12 {'allreduce_latency': 0.0, 'cur_kl_coeff': 0.0052734375, 'cur_lr': 5.54e-05, 'total_loss': 0.010777195901468847, 'policy_loss': -0.0046713428543598366, 'vf_loss': 0.03113213677495492, 'vf_explained_var': -0.25040463, 'kl': 0.0002623136671734921, 'entropy': 0.011891328962519765, 'entropy_coeff': 0.01}\n",
      "\u001b[2m\u001b[36m(pid=21034)\u001b[0m 2021-07-16 11:58:12,335\tDEBUG sgd.py:120 -- 13 {'allreduce_latency': 0.0, 'cur_kl_coeff': 0.0052734375, 'cur_lr': 5.54e-05, 'total_loss': 0.009502675835833405, 'policy_loss': -0.005820923230864785, 'vf_loss': 0.030880568612536245, 'vf_explained_var': -0.22993241, 'kl': 0.00024535012169673627, 'entropy': 0.011797694402930298, 'entropy_coeff': 0.01}\n",
      "\u001b[2m\u001b[36m(pid=21034)\u001b[0m 2021-07-16 11:58:12,493\tDEBUG sgd.py:120 -- 14 {'allreduce_latency': 0.0, 'cur_kl_coeff': 0.0052734375, 'cur_lr': 5.54e-05, 'total_loss': 0.009082939334665283, 'policy_loss': -0.006254496137526902, 'vf_loss': 0.030908094009977172, 'vf_explained_var': -0.2797222, 'kl': 0.00025006948929771943, 'entropy': 0.011792808578430788, 'entropy_coeff': 0.01}\n",
      "\u001b[2m\u001b[36m(pid=21034)\u001b[0m 2021-07-16 11:58:12,649\tDEBUG sgd.py:120 -- 15 {'allreduce_latency': 0.0, 'cur_kl_coeff': 0.0052734375, 'cur_lr': 5.54e-05, 'total_loss': 0.010573309564003439, 'policy_loss': -0.004954676383711172, 'vf_loss': 0.03128822489331166, 'vf_explained_var': -0.1809402, 'kl': 0.0003634092751202512, 'entropy': 0.011804086000969013, 'entropy_coeff': 0.01}\n",
      "\u001b[2m\u001b[36m(pid=21034)\u001b[0m 2021-07-16 11:58:12,803\tDEBUG sgd.py:120 -- 16 {'allreduce_latency': 0.0, 'cur_kl_coeff': 0.0052734375, 'cur_lr': 5.54e-05, 'total_loss': 0.009535305738223322, 'policy_loss': -0.005750355621178945, 'vf_loss': 0.030804933641444553, 'vf_explained_var': -0.22746196, 'kl': 0.0003021766149851663, 'entropy': 0.011839743382579676, 'entropy_coeff': 0.01}\n",
      "\u001b[2m\u001b[36m(pid=21034)\u001b[0m 2021-07-16 11:58:12,961\tDEBUG sgd.py:120 -- 17 {'allreduce_latency': 0.0, 'cur_kl_coeff': 0.0052734375, 'cur_lr': 5.54e-05, 'total_loss': 0.008733533943692843, 'policy_loss': -0.006532818869207845, 'vf_loss': 0.03076351162180248, 'vf_explained_var': -0.18304232, 'kl': 0.00030592710115315367, 'entropy': 0.011701323374202757, 'entropy_coeff': 0.01}\n",
      "\u001b[2m\u001b[36m(pid=21034)\u001b[0m 2021-07-16 11:58:13,113\tDEBUG sgd.py:120 -- 18 {'allreduce_latency': 0.0, 'cur_kl_coeff': 0.0052734375, 'cur_lr': 5.54e-05, 'total_loss': 0.009148616174405272, 'policy_loss': -0.006147122631470363, 'vf_loss': 0.030821532116864215, 'vf_explained_var': -0.22521809, 'kl': 0.0003630430801422335, 'entropy': 0.011694254455946837, 'entropy_coeff': 0.01}\n",
      "\u001b[2m\u001b[36m(pid=21034)\u001b[0m 2021-07-16 11:58:13,269\tDEBUG sgd.py:120 -- 19 {'allreduce_latency': 0.0, 'cur_kl_coeff': 0.0052734375, 'cur_lr': 5.54e-05, 'total_loss': 0.009795345704663883, 'policy_loss': -0.0056439148840692005, 'vf_loss': 0.031108274498502866, 'vf_explained_var': -0.22933523, 'kl': 0.00036321272515730624, 'entropy': 0.011679266145537522, 'entropy_coeff': 0.01}\n",
      "\u001b[2m\u001b[36m(pid=21034)\u001b[0m 2021-07-16 11:58:13,421\tDEBUG sgd.py:120 -- 20 {'allreduce_latency': 0.0, 'cur_kl_coeff': 0.0052734375, 'cur_lr': 5.54e-05, 'total_loss': 0.009749664600487009, 'policy_loss': -0.00572534745107546, 'vf_loss': 0.031181153679040795, 'vf_explained_var': -0.17261308, 'kl': 0.0003338045879431637, 'entropy': 0.011732431668364867, 'entropy_coeff': 0.01}\n",
      "\u001b[2m\u001b[36m(pid=21034)\u001b[0m 2021-07-16 11:58:13,604\tDEBUG sgd.py:120 -- 21 {'allreduce_latency': 0.0, 'cur_kl_coeff': 0.0052734375, 'cur_lr': 5.54e-05, 'total_loss': 0.011241732249883089, 'policy_loss': -0.004044818945906379, 'vf_loss': 0.030802860559726305, 'vf_explained_var': -0.23752579, 'kl': 0.00014327093663957908, 'entropy': 0.011563689641964933, 'entropy_coeff': 0.01}\n",
      "\u001b[2m\u001b[36m(pid=21034)\u001b[0m 2021-07-16 11:58:13,758\tDEBUG sgd.py:120 -- 22 {'allreduce_latency': 0.0, 'cur_kl_coeff': 0.0052734375, 'cur_lr': 5.54e-05, 'total_loss': 0.01132153132648179, 'policy_loss': -0.0042456514202058315, 'vf_loss': 0.03136202033122324, 'vf_explained_var': -0.35100508, 'kl': 0.00047141910117991785, 'entropy': 0.011631424448833886, 'entropy_coeff': 0.01}\n"
     ]
    },
    {
     "name": "stderr",
     "output_type": "stream",
     "text": [
      "\u001b[2m\u001b[36m(pid=21034)\u001b[0m 2021-07-16 11:58:13,918\tDEBUG sgd.py:120 -- 23 {'allreduce_latency': 0.0, 'cur_kl_coeff': 0.0052734375, 'cur_lr': 5.54e-05, 'total_loss': 0.008135756082607038, 'policy_loss': -0.0071308405815877695, 'vf_loss': 0.03075992168195433, 'vf_explained_var': -0.14631547, 'kl': 0.00048774720956619905, 'entropy': 0.011593329159288922, 'entropy_coeff': 0.01}\n",
      "\u001b[2m\u001b[36m(pid=21034)\u001b[0m 2021-07-16 11:58:14,077\tDEBUG sgd.py:120 -- 24 {'allreduce_latency': 0.0, 'cur_kl_coeff': 0.0052734375, 'cur_lr': 5.54e-05, 'total_loss': 0.008349497351005222, 'policy_loss': -0.006948773692728895, 'vf_loss': 0.030824600440224236, 'vf_explained_var': -0.2141521, 'kl': 0.00027053060060125336, 'entropy': 0.011545289801715902, 'entropy_coeff': 0.01}\n",
      "\u001b[2m\u001b[36m(pid=21034)\u001b[0m 2021-07-16 11:58:14,234\tDEBUG sgd.py:120 -- 25 {'allreduce_latency': 0.0, 'cur_kl_coeff': 0.0052734375, 'cur_lr': 5.54e-05, 'total_loss': 0.008027622250444962, 'policy_loss': -0.007204522463408383, 'vf_loss': 0.030690666453941078, 'vf_explained_var': -0.2718444, 'kl': 0.00026847746735394605, 'entropy': 0.011460641770761205, 'entropy_coeff': 0.01}\n",
      "\u001b[2m\u001b[36m(pid=21034)\u001b[0m 2021-07-16 11:58:14,386\tDEBUG sgd.py:120 -- 26 {'allreduce_latency': 0.0, 'cur_kl_coeff': 0.0052734375, 'cur_lr': 5.54e-05, 'total_loss': 0.009393459806839624, 'policy_loss': -0.006077487557900675, 'vf_loss': 0.03116891401199003, 'vf_explained_var': -0.15873204, 'kl': 0.0003377827510892971, 'entropy': 0.011528873505691687, 'entropy_coeff': 0.01}\n",
      "\u001b[2m\u001b[36m(pid=21034)\u001b[0m 2021-07-16 11:58:14,541\tDEBUG sgd.py:120 -- 27 {'allreduce_latency': 0.0, 'cur_kl_coeff': 0.0052734375, 'cur_lr': 5.54e-05, 'total_loss': 0.007634281491239865, 'policy_loss': -0.007597456799086296, 'vf_loss': 0.03068850450499943, 'vf_explained_var': -0.2029224, 'kl': 0.0003931204476182095, 'entropy': 0.011458520057865164, 'entropy_coeff': 0.01}\n",
      "\u001b[2m\u001b[36m(pid=21034)\u001b[0m 2021-07-16 11:58:14,692\tDEBUG sgd.py:120 -- 28 {'allreduce_latency': 0.0, 'cur_kl_coeff': 0.0052734375, 'cur_lr': 5.54e-05, 'total_loss': 0.00840932232412425, 'policy_loss': -0.006935400718992407, 'vf_loss': 0.030913895691011214, 'vf_explained_var': -0.17261504, 'kl': 0.00044410841903961477, 'entropy': 0.011456674592795245, 'entropy_coeff': 0.01}\n"
     ]
    },
    {
     "name": "stdout",
     "output_type": "stream",
     "text": [
      "Result for PPO_TradingEnv_d625d_00000:\n",
      "  custom_metrics: {}\n",
      "  date: 2021-07-16_11-58-14\n",
      "  done: false\n",
      "  episode_len_mean: 891.984126984127\n",
      "  episode_reward_max: 558.5587803043381\n",
      "  episode_reward_mean: 441.5650029595975\n",
      "  episode_reward_min: -23.913504331878357\n",
      "  episodes_this_iter: 7\n",
      "  episodes_total: 63\n",
      "  experiment_id: e6369b7d95d74c47a2c2141b4142c2c5\n",
      "  experiment_tag: '0'\n",
      "  hostname: localadmin-ECA-FX44E4C\n",
      "  info:\n",
      "    learner:\n",
      "      default_policy:\n",
      "        allreduce_latency: 0.0\n",
      "        cur_kl_coeff: 0.0052734375\n",
      "        cur_lr: 5.54e-05\n",
      "        entropy: 0.011480588980978637\n",
      "        entropy_coeff: 0.01\n",
      "        kl: 0.00036941172881845637\n",
      "        policy_loss: -0.006951122403596387\n",
      "        total_loss: 0.008421618195081299\n",
      "        vf_explained_var: -0.0635833814740181\n",
      "        vf_loss: 0.030971195622855288\n",
      "    num_steps_sampled: 58800\n",
      "    num_steps_trained: 58800\n",
      "  iterations_since_restore: 14\n",
      "  node_ip: 192.168.0.202\n",
      "  num_healthy_workers: 7\n",
      "  off_policy_estimator: {}\n",
      "  perf:\n",
      "    cpu_util_percent: 32.7875\n",
      "    ram_util_percent: 44.2\n",
      "  pid: 21034\n",
      "  policy_reward_max: {}\n",
      "  policy_reward_mean: {}\n",
      "  policy_reward_min: {}\n",
      "  sampler_perf:\n",
      "    mean_env_wait_ms: 0.6284650897334287\n",
      "    mean_inference_ms: 1.1794054839839399\n",
      "    mean_processing_ms: 0.20913699979982456\n",
      "  time_since_restore: 87.74450778961182\n",
      "  time_this_iter_s: 5.9586217403411865\n",
      "  time_total_s: 87.74450778961182\n",
      "  timers:\n",
      "    learn_throughput: 867.817\n",
      "    learn_time_ms: 4839.729\n",
      "    sample_throughput: 3723.299\n",
      "    sample_time_ms: 1128.032\n",
      "    update_time_ms: 1.442\n",
      "  timestamp: 1626407894\n",
      "  timesteps_since_restore: 0\n",
      "  timesteps_total: 58800\n",
      "  training_iteration: 14\n",
      "  trial_id: d625d_00000\n",
      "  \n"
     ]
    },
    {
     "name": "stderr",
     "output_type": "stream",
     "text": [
      "\u001b[2m\u001b[36m(pid=21034)\u001b[0m 2021-07-16 11:58:14,845\tDEBUG sgd.py:120 -- 29 {'allreduce_latency': 0.0, 'cur_kl_coeff': 0.0052734375, 'cur_lr': 5.54e-05, 'total_loss': 0.008421618195081299, 'policy_loss': -0.006951122403596387, 'vf_loss': 0.030971195622855288, 'vf_explained_var': -0.06358338, 'kl': 0.00036941172881845637, 'entropy': 0.011480588980978637, 'entropy_coeff': 0.01}\n",
      "\u001b[2m\u001b[36m(pid=21034)\u001b[0m 2021-07-16 11:58:14,855\tDEBUG trainer.py:547 -- synchronized filters: {'default_policy': MeanStdFilter((25, 2), True, True, None, (n=58870, mean_mean=-0.3291484699965486, mean_std=3.839798902480215), (n=0, mean_mean=0.0, mean_std=0.0))}\n"
     ]
    },
    {
     "data": {
      "text/html": [
       "== Status ==<br>Memory usage on this node: 6.4/14.5 GiB<br>Using FIFO scheduling algorithm.<br>Resources requested: 8/8 CPUs, 0/0 GPUs, 0.0/6.74 GiB heap, 0.0/2.29 GiB objects<br>Result logdir: /home/localadmin/ray_results/PPO<br>Number of trials: 1 (1 RUNNING)<br><table>\n",
       "<thead>\n",
       "<tr><th>Trial name                </th><th>status  </th><th>loc                </th><th style=\"text-align: right;\">  iter</th><th style=\"text-align: right;\">  total time (s)</th><th style=\"text-align: right;\">   ts</th><th style=\"text-align: right;\">  reward</th></tr>\n",
       "</thead>\n",
       "<tbody>\n",
       "<tr><td>PPO_TradingEnv_d625d_00000</td><td>RUNNING </td><td>192.168.0.202:21034</td><td style=\"text-align: right;\">    14</td><td style=\"text-align: right;\">         87.7445</td><td style=\"text-align: right;\">58800</td><td style=\"text-align: right;\"> 441.565</td></tr>\n",
       "</tbody>\n",
       "</table><br><br>"
      ],
      "text/plain": [
       "<IPython.core.display.HTML object>"
      ]
     },
     "metadata": {},
     "output_type": "display_data"
    },
    {
     "name": "stderr",
     "output_type": "stream",
     "text": [
      "\u001b[2m\u001b[36m(pid=21034)\u001b[0m 2021-07-16 11:58:16,129\tDEBUG sgd.py:120 -- 0 {'allreduce_latency': 0.0, 'cur_kl_coeff': 0.00263671875, 'cur_lr': 5.12e-05, 'total_loss': 0.011878523241841433, 'policy_loss': 0.0002776006744666533, 'vf_loss': 0.02341642282254091, 'vf_explained_var': -0.42116746, 'kl': 2.9139421986002954e-05, 'entropy': 0.010736373528330163, 'entropy_coeff': 0.01}\n",
      "\u001b[2m\u001b[36m(pid=21034)\u001b[0m 2021-07-16 11:58:16,282\tDEBUG sgd.py:120 -- 1 {'allreduce_latency': 0.0, 'cur_kl_coeff': 0.00263671875, 'cur_lr': 5.12e-05, 'total_loss': 0.010512546382167122, 'policy_loss': -0.0010487644608612313, 'vf_loss': 0.023334122455156776, 'vf_explained_var': -0.34728202, 'kl': 5.073630920419832e-05, 'entropy': 0.010588204280021742, 'entropy_coeff': 0.01}\n",
      "\u001b[2m\u001b[36m(pid=21034)\u001b[0m 2021-07-16 11:58:16,439\tDEBUG sgd.py:120 -- 2 {'allreduce_latency': 0.0, 'cur_kl_coeff': 0.00263671875, 'cur_lr': 5.12e-05, 'total_loss': 0.011499608309487954, 'policy_loss': -0.00026894736131935406, 'vf_loss': 0.023751040862407535, 'vf_explained_var': -0.3737102, 'kl': 8.900517159280284e-05, 'entropy': 0.010719938588215771, 'entropy_coeff': 0.01}\n",
      "\u001b[2m\u001b[36m(pid=21034)\u001b[0m 2021-07-16 11:58:16,597\tDEBUG sgd.py:120 -- 3 {'allreduce_latency': 0.0, 'cur_kl_coeff': 0.00263671875, 'cur_lr': 5.12e-05, 'total_loss': 0.011000765734493281, 'policy_loss': -0.0007846821381738691, 'vf_loss': 0.023780439348863154, 'vf_explained_var': -0.27195117, 'kl': 5.328851396122693e-05, 'entropy': 0.010491451093306145, 'entropy_coeff': 0.01}\n",
      "\u001b[2m\u001b[36m(pid=21034)\u001b[0m 2021-07-16 11:58:16,754\tDEBUG sgd.py:120 -- 4 {'allreduce_latency': 0.0, 'cur_kl_coeff': 0.00263671875, 'cur_lr': 5.12e-05, 'total_loss': 0.00838535518921686, 'policy_loss': -0.0031919593951015763, 'vf_loss': 0.023362034921195696, 'vf_explained_var': -0.44684452, 'kl': 7.982044718518767e-05, 'entropy': 0.010391305602917617, 'entropy_coeff': 0.01}\n",
      "\u001b[2m\u001b[36m(pid=21034)\u001b[0m 2021-07-16 11:58:16,907\tDEBUG sgd.py:120 -- 5 {'allreduce_latency': 0.0, 'cur_kl_coeff': 0.00263671875, 'cur_lr': 5.12e-05, 'total_loss': 0.00853055901825428, 'policy_loss': -0.00304631840889201, 'vf_loss': 0.023360266194989283, 'vf_explained_var': -0.3571254, 'kl': 0.00010478227358910111, 'entropy': 0.010353008518436443, 'entropy_coeff': 0.01}\n",
      "\u001b[2m\u001b[36m(pid=21034)\u001b[0m 2021-07-16 11:58:17,067\tDEBUG sgd.py:120 -- 6 {'allreduce_latency': 0.0, 'cur_kl_coeff': 0.00263671875, 'cur_lr': 5.12e-05, 'total_loss': 0.008941992200120832, 'policy_loss': -0.0027279539146658144, 'vf_loss': 0.023546842198508482, 'vf_explained_var': -0.46390355, 'kl': 4.659444549691795e-05, 'entropy': 0.01036015832726138, 'entropy_coeff': 0.01}\n",
      "\u001b[2m\u001b[36m(pid=21034)\u001b[0m 2021-07-16 11:58:17,221\tDEBUG sgd.py:120 -- 7 {'allreduce_latency': 0.0, 'cur_kl_coeff': 0.00263671875, 'cur_lr': 5.12e-05, 'total_loss': 0.007219794516762097, 'policy_loss': -0.0043752218568415355, 'vf_loss': 0.023394700326731032, 'vf_explained_var': -0.36047882, 'kl': 3.7919030615519276e-05, 'entropy': 0.010243380036571938, 'entropy_coeff': 0.01}\n",
      "\u001b[2m\u001b[36m(pid=21034)\u001b[0m 2021-07-16 11:58:17,376\tDEBUG sgd.py:120 -- 8 {'allreduce_latency': 0.0, 'cur_kl_coeff': 0.00263671875, 'cur_lr': 5.12e-05, 'total_loss': 0.007240425343766357, 'policy_loss': -0.004308049030827753, 'vf_loss': 0.02329996518815416, 'vf_explained_var': -0.32834354, 'kl': 9.213956212933584e-05, 'entropy': 0.01017497783301003, 'entropy_coeff': 0.01}\n",
      "\u001b[2m\u001b[36m(pid=21034)\u001b[0m 2021-07-16 11:58:17,529\tDEBUG sgd.py:120 -- 9 {'allreduce_latency': 0.0, 'cur_kl_coeff': 0.00263671875, 'cur_lr': 5.12e-05, 'total_loss': 0.0069815588861026545, 'policy_loss': -0.004731805995106697, 'vf_loss': 0.023629631497897208, 'vf_explained_var': -0.3336592, 'kl': 6.862324366093989e-05, 'entropy': 0.010163238868258442, 'entropy_coeff': 0.01}\n",
      "\u001b[2m\u001b[36m(pid=21034)\u001b[0m 2021-07-16 11:58:17,686\tDEBUG sgd.py:120 -- 10 {'allreduce_latency': 0.0, 'cur_kl_coeff': 0.00263671875, 'cur_lr': 5.12e-05, 'total_loss': 0.007802131613998702, 'policy_loss': -0.003976073779278632, 'vf_loss': 0.023757302620321174, 'vf_explained_var': -0.42587778, 'kl': 4.57868073047421e-05, 'entropy': 0.010056805671686589, 'entropy_coeff': 0.01}\n",
      "\u001b[2m\u001b[36m(pid=21034)\u001b[0m 2021-07-16 11:58:17,842\tDEBUG sgd.py:120 -- 11 {'allreduce_latency': 0.0, 'cur_kl_coeff': 0.00263671875, 'cur_lr': 5.12e-05, 'total_loss': 0.005738686184596383, 'policy_loss': -0.005804567654250246, 'vf_loss': 0.02328484079617104, 'vf_explained_var': -0.24850301, 'kl': 5.142348114035981e-05, 'entropy': 0.009930284328716383, 'entropy_coeff': 0.01}\n",
      "\u001b[2m\u001b[36m(pid=21034)\u001b[0m 2021-07-16 11:58:18,020\tDEBUG sgd.py:120 -- 12 {'allreduce_latency': 0.0, 'cur_kl_coeff': 0.00263671875, 'cur_lr': 5.12e-05, 'total_loss': 0.0068568558234608536, 'policy_loss': -0.0048754045909101314, 'vf_loss': 0.023663800232690956, 'vf_explained_var': -0.21137553, 'kl': 6.571064946139373e-05, 'entropy': 0.009981422258230547, 'entropy_coeff': 0.01}\n",
      "\u001b[2m\u001b[36m(pid=21034)\u001b[0m 2021-07-16 11:58:18,174\tDEBUG sgd.py:120 -- 13 {'allreduce_latency': 0.0, 'cur_kl_coeff': 0.00263671875, 'cur_lr': 5.12e-05, 'total_loss': 0.005402226015135195, 'policy_loss': -0.006189510310915383, 'vf_loss': 0.023380759479054672, 'vf_explained_var': -0.3848037, 'kl': 6.824006520604819e-05, 'entropy': 0.009882726826948452, 'entropy_coeff': 0.01}\n",
      "\u001b[2m\u001b[36m(pid=21034)\u001b[0m 2021-07-16 11:58:18,336\tDEBUG sgd.py:120 -- 14 {'allreduce_latency': 0.0, 'cur_kl_coeff': 0.00263671875, 'cur_lr': 5.12e-05, 'total_loss': 0.005275926439825333, 'policy_loss': -0.006288539336034746, 'vf_loss': 0.02332714297914539, 'vf_explained_var': -0.31465623, 'kl': 7.453126074158882e-05, 'entropy': 0.0099303653132114, 'entropy_coeff': 0.01}\n",
      "\u001b[2m\u001b[36m(pid=21034)\u001b[0m 2021-07-16 11:58:18,525\tDEBUG sgd.py:120 -- 15 {'allreduce_latency': 0.0, 'cur_kl_coeff': 0.00263671875, 'cur_lr': 5.12e-05, 'total_loss': 0.005982006335574569, 'policy_loss': -0.005599928892810236, 'vf_loss': 0.0233587719390705, 'vf_explained_var': -0.33505827, 'kl': 8.193578427877087e-05, 'entropy': 0.009766945347302792, 'entropy_coeff': 0.01}\n",
      "\u001b[2m\u001b[36m(pid=21034)\u001b[0m 2021-07-16 11:58:18,681\tDEBUG sgd.py:120 -- 16 {'allreduce_latency': 0.0, 'cur_kl_coeff': 0.00263671875, 'cur_lr': 5.12e-05, 'total_loss': 0.005454944108020176, 'policy_loss': -0.0060955688046912355, 'vf_loss': 0.023295825177972965, 'vf_explained_var': -0.26645952, 'kl': 0.000139848020485157, 'entropy': 0.009776739415125727, 'entropy_coeff': 0.01}\n",
      "\u001b[2m\u001b[36m(pid=21034)\u001b[0m 2021-07-16 11:58:18,838\tDEBUG sgd.py:120 -- 17 {'allreduce_latency': 0.0, 'cur_kl_coeff': 0.00263671875, 'cur_lr': 5.12e-05, 'total_loss': 0.006522621874782172, 'policy_loss': -0.00528465248079914, 'vf_loss': 0.02380859568559875, 'vf_explained_var': -0.30343392, 'kl': 9.892389338843218e-05, 'entropy': 0.009728737230144554, 'entropy_coeff': 0.01}\n",
      "\u001b[2m\u001b[36m(pid=21034)\u001b[0m 2021-07-16 11:58:18,994\tDEBUG sgd.py:120 -- 18 {'allreduce_latency': 0.0, 'cur_kl_coeff': 0.00263671875, 'cur_lr': 5.12e-05, 'total_loss': 0.004910941038167838, 'policy_loss': -0.006731683211965543, 'vf_loss': 0.02347830332159488, 'vf_explained_var': -0.26453948, 'kl': 9.441720840186463e-05, 'entropy': 0.009677827195969947, 'entropy_coeff': 0.01}\n",
      "\u001b[2m\u001b[36m(pid=21034)\u001b[0m 2021-07-16 11:58:19,155\tDEBUG sgd.py:120 -- 19 {'allreduce_latency': 0.0, 'cur_kl_coeff': 0.00263671875, 'cur_lr': 5.12e-05, 'total_loss': 0.005479002145655228, 'policy_loss': -0.00621119641106237, 'vf_loss': 0.023572720096898123, 'vf_explained_var': -0.2797608, 'kl': 0.0001053929198392187, 'entropy': 0.009644089139659296, 'entropy_coeff': 0.01}\n",
      "\u001b[2m\u001b[36m(pid=21034)\u001b[0m 2021-07-16 11:58:19,306\tDEBUG sgd.py:120 -- 20 {'allreduce_latency': 0.0, 'cur_kl_coeff': 0.00263671875, 'cur_lr': 5.12e-05, 'total_loss': 0.004501781708589106, 'policy_loss': -0.007076022440962719, 'vf_loss': 0.023347013358337183, 'vf_explained_var': -0.28328156, 'kl': 9.875429460600682e-05, 'entropy': 0.009596580646537019, 'entropy_coeff': 0.01}\n",
      "\u001b[2m\u001b[36m(pid=21034)\u001b[0m 2021-07-16 11:58:19,462\tDEBUG sgd.py:120 -- 21 {'allreduce_latency': 0.0, 'cur_kl_coeff': 0.00263671875, 'cur_lr': 5.12e-05, 'total_loss': 0.003938875923102552, 'policy_loss': -0.0076272890790168085, 'vf_loss': 0.023322505802339452, 'vf_explained_var': -0.31509656, 'kl': 0.00011037896368207205, 'entropy': 0.009537849308936999, 'entropy_coeff': 0.01}\n",
      "\u001b[2m\u001b[36m(pid=21034)\u001b[0m 2021-07-16 11:58:19,614\tDEBUG sgd.py:120 -- 22 {'allreduce_latency': 0.0, 'cur_kl_coeff': 0.00263671875, 'cur_lr': 5.12e-05, 'total_loss': 0.0036679587439831457, 'policy_loss': -0.007881769755234322, 'vf_loss': 0.023289958457815264, 'vf_explained_var': -0.3727858, 'kl': 0.0001150003704286505, 'entropy': 0.00955564365722239, 'entropy_coeff': 0.01}\n"
     ]
    },
    {
     "name": "stderr",
     "output_type": "stream",
     "text": [
      "\u001b[2m\u001b[36m(pid=21034)\u001b[0m 2021-07-16 11:58:19,770\tDEBUG sgd.py:120 -- 23 {'allreduce_latency': 0.0, 'cur_kl_coeff': 0.00263671875, 'cur_lr': 5.12e-05, 'total_loss': 0.004408827672402064, 'policy_loss': -0.00713619189054677, 'vf_loss': 0.02327971679341951, 'vf_explained_var': -0.37253457, 'kl': 0.00012994931262944715, 'entropy': 0.009518355747290612, 'entropy_coeff': 0.01}\n",
      "\u001b[2m\u001b[36m(pid=21034)\u001b[0m 2021-07-16 11:58:19,923\tDEBUG sgd.py:120 -- 24 {'allreduce_latency': 0.0, 'cur_kl_coeff': 0.00263671875, 'cur_lr': 5.12e-05, 'total_loss': 0.0036089016269243352, 'policy_loss': -0.007934784686023539, 'vf_loss': 0.023275076332290402, 'vf_explained_var': -0.22455491, 'kl': 0.00012176558155977435, 'entropy': 0.009417397356380454, 'entropy_coeff': 0.01}\n",
      "\u001b[2m\u001b[36m(pid=21034)\u001b[0m 2021-07-16 11:58:20,107\tDEBUG sgd.py:120 -- 25 {'allreduce_latency': 0.0, 'cur_kl_coeff': 0.00263671875, 'cur_lr': 5.12e-05, 'total_loss': 0.004177028902411235, 'policy_loss': -0.007467684276035112, 'vf_loss': 0.02347828067352318, 'vf_explained_var': -0.37493563, 'kl': 0.00013283486218411284, 'entropy': 0.009478183940783228, 'entropy_coeff': 0.01}\n",
      "\u001b[2m\u001b[36m(pid=21034)\u001b[0m 2021-07-16 11:58:20,261\tDEBUG sgd.py:120 -- 26 {'allreduce_latency': 0.0, 'cur_kl_coeff': 0.00263671875, 'cur_lr': 5.12e-05, 'total_loss': 0.00459064498092189, 'policy_loss': -0.007057615351214102, 'vf_loss': 0.023485330727205357, 'vf_explained_var': -0.385239, 'kl': 0.00013514113969435903, 'entropy': 0.009476315900401183, 'entropy_coeff': 0.01}\n",
      "\u001b[2m\u001b[36m(pid=21034)\u001b[0m 2021-07-16 11:58:20,429\tDEBUG sgd.py:120 -- 27 {'allreduce_latency': 0.0, 'cur_kl_coeff': 0.00263671875, 'cur_lr': 5.12e-05, 'total_loss': 0.003993970087983392, 'policy_loss': -0.007532945340217063, 'vf_loss': 0.023240301179502047, 'vf_explained_var': -0.33862525, 'kl': 0.00014634183185769484, 'entropy': 0.009362291258929128, 'entropy_coeff': 0.01}\n"
     ]
    },
    {
     "name": "stdout",
     "output_type": "stream",
     "text": [
      "Result for PPO_TradingEnv_d625d_00000:\n",
      "  custom_metrics: {}\n",
      "  date: 2021-07-16_11-58-20\n",
      "  done: false\n",
      "  episode_len_mean: 895.5074626865671\n",
      "  episode_reward_max: 558.5587803043381\n",
      "  episode_reward_mean: 448.5433566992354\n",
      "  episode_reward_min: -23.913504331878357\n",
      "  episodes_this_iter: 4\n",
      "  episodes_total: 67\n",
      "  experiment_id: e6369b7d95d74c47a2c2141b4142c2c5\n",
      "  experiment_tag: '0'\n",
      "  hostname: localadmin-ECA-FX44E4C\n",
      "  info:\n",
      "    learner:\n",
      "      default_policy:\n",
      "        allreduce_latency: 0.0\n",
      "        cur_kl_coeff: 0.00263671875\n",
      "        cur_lr: 5.12e-05\n",
      "        entropy: 0.009415828058439674\n",
      "        entropy_coeff: 0.01\n",
      "        kl: 0.00015975169679388108\n",
      "        policy_loss: -0.008032590972795857\n",
      "        total_loss: 0.003598052556767608\n",
      "        vf_explained_var: -0.2622435390949249\n",
      "        vf_loss: 0.02344876048366793\n",
      "    num_steps_sampled: 63000\n",
      "    num_steps_trained: 63000\n",
      "  iterations_since_restore: 15\n",
      "  node_ip: 192.168.0.202\n",
      "  num_healthy_workers: 7\n",
      "  off_policy_estimator: {}\n",
      "  perf:\n",
      "    cpu_util_percent: 30.63333333333334\n",
      "    ram_util_percent: 44.211111111111116\n",
      "  pid: 21034\n",
      "  policy_reward_max: {}\n",
      "  policy_reward_mean: {}\n",
      "  policy_reward_min: {}\n",
      "  sampler_perf:\n",
      "    mean_env_wait_ms: 0.6193760125512817\n",
      "    mean_inference_ms: 1.1779547700059645\n",
      "    mean_processing_ms: 0.2088823059951025\n",
      "  time_since_restore: 93.65415906906128\n",
      "  time_this_iter_s: 5.909651279449463\n",
      "  time_total_s: 93.65415906906128\n",
      "  timers:\n",
      "    learn_throughput: 868.061\n",
      "    learn_time_ms: 4838.372\n",
      "    sample_throughput: 3738.469\n",
      "    sample_time_ms: 1123.455\n",
      "    update_time_ms: 1.467\n",
      "  timestamp: 1626407900\n",
      "  timesteps_since_restore: 0\n",
      "  timesteps_total: 63000\n",
      "  training_iteration: 15\n",
      "  trial_id: d625d_00000\n",
      "  \n"
     ]
    },
    {
     "name": "stderr",
     "output_type": "stream",
     "text": [
      "\u001b[2m\u001b[36m(pid=21034)\u001b[0m 2021-07-16 11:58:20,616\tDEBUG sgd.py:120 -- 28 {'allreduce_latency': 0.0, 'cur_kl_coeff': 0.00263671875, 'cur_lr': 5.12e-05, 'total_loss': 0.003872739320451563, 'policy_loss': -0.007762239681500377, 'vf_loss': 0.02345591826914725, 'vf_explained_var': -0.34200612, 'kl': 0.00014244357567411663, 'entropy': 0.009335740207888826, 'entropy_coeff': 0.01}\n",
      "\u001b[2m\u001b[36m(pid=21034)\u001b[0m 2021-07-16 11:58:20,787\tDEBUG sgd.py:120 -- 29 {'allreduce_latency': 0.0, 'cur_kl_coeff': 0.00263671875, 'cur_lr': 5.12e-05, 'total_loss': 0.003598052556767608, 'policy_loss': -0.008032590972795857, 'vf_loss': 0.02344876048366793, 'vf_explained_var': -0.26224354, 'kl': 0.00015975169679388108, 'entropy': 0.009415828058439674, 'entropy_coeff': 0.01}\n"
     ]
    },
    {
     "data": {
      "text/html": [
       "== Status ==<br>Memory usage on this node: 6.4/14.5 GiB<br>Using FIFO scheduling algorithm.<br>Resources requested: 8/8 CPUs, 0/0 GPUs, 0.0/6.74 GiB heap, 0.0/2.29 GiB objects<br>Result logdir: /home/localadmin/ray_results/PPO<br>Number of trials: 1 (1 RUNNING)<br><table>\n",
       "<thead>\n",
       "<tr><th>Trial name                </th><th>status  </th><th>loc                </th><th style=\"text-align: right;\">  iter</th><th style=\"text-align: right;\">  total time (s)</th><th style=\"text-align: right;\">   ts</th><th style=\"text-align: right;\">  reward</th></tr>\n",
       "</thead>\n",
       "<tbody>\n",
       "<tr><td>PPO_TradingEnv_d625d_00000</td><td>RUNNING </td><td>192.168.0.202:21034</td><td style=\"text-align: right;\">    15</td><td style=\"text-align: right;\">         93.6542</td><td style=\"text-align: right;\">63000</td><td style=\"text-align: right;\"> 448.543</td></tr>\n",
       "</tbody>\n",
       "</table><br><br>"
      ],
      "text/plain": [
       "<IPython.core.display.HTML object>"
      ]
     },
     "metadata": {},
     "output_type": "display_data"
    },
    {
     "name": "stderr",
     "output_type": "stream",
     "text": [
      "\u001b[2m\u001b[36m(pid=21034)\u001b[0m 2021-07-16 11:58:20,796\tDEBUG trainer.py:547 -- synchronized filters: {'default_policy': MeanStdFilter((25, 2), True, True, None, (n=63074, mean_mean=-0.3291793332216746, mean_std=3.8439370903249426), (n=0, mean_mean=0.0, mean_std=0.0))}\n",
      "\u001b[2m\u001b[36m(pid=21034)\u001b[0m 2021-07-16 11:58:22,189\tDEBUG sgd.py:120 -- 0 {'allreduce_latency': 0.0, 'cur_kl_coeff': 0.001318359375, 'cur_lr': 4.7e-05, 'total_loss': 0.00909687341614203, 'policy_loss': 0.002256492801913709, 'vf_loss': 0.01386004744210478, 'vf_explained_var': -0.5948224, 'kl': 8.544322944419584e-06, 'entropy': 0.008965456950439451, 'entropy_coeff': 0.01}\n",
      "\u001b[2m\u001b[36m(pid=21034)\u001b[0m 2021-07-16 11:58:22,339\tDEBUG sgd.py:120 -- 1 {'allreduce_latency': 0.0, 'cur_kl_coeff': 0.001318359375, 'cur_lr': 4.7e-05, 'total_loss': 0.007386296253764268, 'policy_loss': 0.0006503384899009358, 'vf_loss': 0.01364733499587711, 'vf_explained_var': -0.6614769, 'kl': 1.2727303337241104e-05, 'entropy': 0.008772621973714029, 'entropy_coeff': 0.01}\n",
      "\u001b[2m\u001b[36m(pid=21034)\u001b[0m 2021-07-16 11:58:22,493\tDEBUG sgd.py:120 -- 2 {'allreduce_latency': 0.0, 'cur_kl_coeff': 0.001318359375, 'cur_lr': 4.7e-05, 'total_loss': 0.006523471255081169, 'policy_loss': -0.00018100158283204743, 'vf_loss': 0.013584884225785958, 'vf_explained_var': -0.4726141, 'kl': 0.00012436614969319083, 'entropy': 0.008813220081554557, 'entropy_coeff': 0.01}\n",
      "\u001b[2m\u001b[36m(pid=21034)\u001b[0m 2021-07-16 11:58:22,645\tDEBUG sgd.py:120 -- 3 {'allreduce_latency': 0.0, 'cur_kl_coeff': 0.001318359375, 'cur_lr': 4.7e-05, 'total_loss': 0.0045217219175714436, 'policy_loss': -0.002084747295488011, 'vf_loss': 0.013390005313946554, 'vf_explained_var': -0.53026825, 'kl': 0.0001802840206437395, 'entropy': 0.008877126272471452, 'entropy_coeff': 0.01}\n",
      "\u001b[2m\u001b[36m(pid=21034)\u001b[0m 2021-07-16 11:58:22,801\tDEBUG sgd.py:120 -- 4 {'allreduce_latency': 0.0, 'cur_kl_coeff': 0.001318359375, 'cur_lr': 4.7e-05, 'total_loss': 0.007892605651057127, 'policy_loss': 0.001065946663870956, 'vf_loss': 0.013828871053798744, 'vf_explained_var': -0.5496058, 'kl': 0.00013066638018354945, 'entropy': 0.008795075074445005, 'entropy_coeff': 0.01}\n",
      "\u001b[2m\u001b[36m(pid=21034)\u001b[0m 2021-07-16 11:58:22,953\tDEBUG sgd.py:120 -- 5 {'allreduce_latency': 0.0, 'cur_kl_coeff': 0.001318359375, 'cur_lr': 4.7e-05, 'total_loss': 0.004880323625085029, 'policy_loss': -0.0017832153138111937, 'vf_loss': 0.013500127937842273, 'vf_explained_var': -0.545372, 'kl': 4.1047586192331494e-05, 'entropy': 0.00865817467583287, 'entropy_coeff': 0.01}\n",
      "\u001b[2m\u001b[36m(pid=21034)\u001b[0m 2021-07-16 11:58:23,136\tDEBUG sgd.py:120 -- 6 {'allreduce_latency': 0.0, 'cur_kl_coeff': 0.001318359375, 'cur_lr': 4.7e-05, 'total_loss': 0.007001237548661955, 'policy_loss': 0.0002852858919085878, 'vf_loss': 0.013606056092998408, 'vf_explained_var': -0.5140366, 'kl': 0.00023483520779295347, 'entropy': 0.008738650264797, 'entropy_coeff': 0.01}\n",
      "\u001b[2m\u001b[36m(pid=21034)\u001b[0m 2021-07-16 11:58:23,308\tDEBUG sgd.py:120 -- 7 {'allreduce_latency': 0.0, 'cur_kl_coeff': 0.001318359375, 'cur_lr': 4.7e-05, 'total_loss': 0.003688800120444009, 'policy_loss': -0.002926783466880972, 'vf_loss': 0.013402795831842179, 'vf_explained_var': -0.51371723, 'kl': 0.00013776104147340945, 'entropy': 0.008599643237451373, 'entropy_coeff': 0.01}\n",
      "\u001b[2m\u001b[36m(pid=21034)\u001b[0m 2021-07-16 11:58:23,467\tDEBUG sgd.py:120 -- 8 {'allreduce_latency': 0.0, 'cur_kl_coeff': 0.001318359375, 'cur_lr': 4.7e-05, 'total_loss': 0.004188315378445567, 'policy_loss': -0.002403534469053601, 'vf_loss': 0.013355694945802856, 'vf_explained_var': -0.5924609, 'kl': 0.00010447034565968903, 'entropy': 0.00861319193394262, 'entropy_coeff': 0.01}\n",
      "\u001b[2m\u001b[36m(pid=21034)\u001b[0m 2021-07-16 11:58:23,629\tDEBUG sgd.py:120 -- 9 {'allreduce_latency': 0.0, 'cur_kl_coeff': 0.001318359375, 'cur_lr': 4.7e-05, 'total_loss': 0.004257316870445555, 'policy_loss': -0.002335475277945851, 'vf_loss': 0.013356098882275435, 'vf_explained_var': -0.54588366, 'kl': 7.466002855863101e-05, 'entropy': 0.008535758706839812, 'entropy_coeff': 0.01}\n",
      "\u001b[2m\u001b[36m(pid=21034)\u001b[0m 2021-07-16 11:58:23,789\tDEBUG sgd.py:120 -- 10 {'allreduce_latency': 0.0, 'cur_kl_coeff': 0.001318359375, 'cur_lr': 4.7e-05, 'total_loss': 0.004388425414535132, 'policy_loss': -0.0022530845846190596, 'vf_loss': 0.01345295710206935, 'vf_explained_var': -0.5310937, 'kl': 0.0001994966047057074, 'entropy': 0.008523231629762009, 'entropy_coeff': 0.01}\n",
      "\u001b[2m\u001b[36m(pid=21034)\u001b[0m 2021-07-16 11:58:23,973\tDEBUG sgd.py:120 -- 11 {'allreduce_latency': 0.0, 'cur_kl_coeff': 0.001318359375, 'cur_lr': 4.7e-05, 'total_loss': 0.00374648291053194, 'policy_loss': -0.0028951486403291874, 'vf_loss': 0.013453063757906697, 'vf_explained_var': -0.48697853, 'kl': 0.00010519341656094404, 'entropy': 0.008503952854384393, 'entropy_coeff': 0.01}\n",
      "\u001b[2m\u001b[36m(pid=21034)\u001b[0m 2021-07-16 11:58:24,130\tDEBUG sgd.py:120 -- 12 {'allreduce_latency': 0.0, 'cur_kl_coeff': 0.001318359375, 'cur_lr': 4.7e-05, 'total_loss': 0.003649627733411211, 'policy_loss': -0.0029773595601771817, 'vf_loss': 0.013423302732972485, 'vf_explained_var': -0.5139251, 'kl': 9.137778418087031e-05, 'entropy': 0.0084785243252003, 'entropy_coeff': 0.01}\n",
      "\u001b[2m\u001b[36m(pid=21034)\u001b[0m 2021-07-16 11:58:24,311\tDEBUG sgd.py:120 -- 13 {'allreduce_latency': 0.0, 'cur_kl_coeff': 0.001318359375, 'cur_lr': 4.7e-05, 'total_loss': 0.0029845693797776194, 'policy_loss': -0.003604700675967968, 'vf_loss': 0.013346972134472295, 'vf_explained_var': -0.50044346, 'kl': 0.0001404488681545803, 'entropy': 0.008440490708876909, 'entropy_coeff': 0.01}\n",
      "\u001b[2m\u001b[36m(pid=21034)\u001b[0m 2021-07-16 11:58:24,488\tDEBUG sgd.py:120 -- 14 {'allreduce_latency': 0.0, 'cur_kl_coeff': 0.001318359375, 'cur_lr': 4.7e-05, 'total_loss': 0.003466861675295866, 'policy_loss': -0.0031458297179955425, 'vf_loss': 0.01339402873241907, 'vf_explained_var': -0.59940034, 'kl': 0.00020963831674304277, 'entropy': 0.008459798326701715, 'entropy_coeff': 0.01}\n",
      "\u001b[2m\u001b[36m(pid=21034)\u001b[0m 2021-07-16 11:58:24,648\tDEBUG sgd.py:120 -- 15 {'allreduce_latency': 0.0, 'cur_kl_coeff': 0.001318359375, 'cur_lr': 4.7e-05, 'total_loss': 0.002809779887849634, 'policy_loss': -0.0037888029985355606, 'vf_loss': 0.013365352498967144, 'vf_explained_var': -0.56747013, 'kl': 9.908520998396163e-05, 'entropy': 0.008422494964730558, 'entropy_coeff': 0.01}\n",
      "\u001b[2m\u001b[36m(pid=21034)\u001b[0m 2021-07-16 11:58:24,803\tDEBUG sgd.py:120 -- 16 {'allreduce_latency': 0.0, 'cur_kl_coeff': 0.001318359375, 'cur_lr': 4.7e-05, 'total_loss': 0.0032846382960225596, 'policy_loss': -0.0033083964760104814, 'vf_loss': 0.013354585942579433, 'vf_explained_var': -0.6729567, 'kl': 0.00019217061559505635, 'entropy': 0.008451247633660607, 'entropy_coeff': 0.01}\n",
      "\u001b[2m\u001b[36m(pid=21034)\u001b[0m 2021-07-16 11:58:24,961\tDEBUG sgd.py:120 -- 17 {'allreduce_latency': 0.0, 'cur_kl_coeff': 0.001318359375, 'cur_lr': 4.7e-05, 'total_loss': 0.0035594798850290704, 'policy_loss': -0.003137395717203617, 'vf_loss': 0.013561299957941766, 'vf_explained_var': -0.5122587, 'kl': 0.00022818481674286858, 'entropy': 0.008407525480089878, 'entropy_coeff': 0.01}\n",
      "\u001b[2m\u001b[36m(pid=21034)\u001b[0m 2021-07-16 11:58:25,115\tDEBUG sgd.py:120 -- 18 {'allreduce_latency': 0.0, 'cur_kl_coeff': 0.001318359375, 'cur_lr': 4.7e-05, 'total_loss': 0.0036975918126038528, 'policy_loss': -0.0029132494307828674, 'vf_loss': 0.0133879342968364, 'vf_explained_var': -0.5300602, 'kl': 9.839950052992208e-05, 'entropy': 0.008325605386882231, 'entropy_coeff': 0.01}\n",
      "\u001b[2m\u001b[36m(pid=21034)\u001b[0m 2021-07-16 11:58:25,272\tDEBUG sgd.py:120 -- 19 {'allreduce_latency': 0.0, 'cur_kl_coeff': 0.001318359375, 'cur_lr': 4.7e-05, 'total_loss': 0.002393726696909377, 'policy_loss': -0.004189281385730614, 'vf_loss': 0.013331180447218658, 'vf_explained_var': -0.5807173, 'kl': 8.452388271617758e-05, 'entropy': 0.008269198302348907, 'entropy_coeff': 0.01}\n",
      "\u001b[2m\u001b[36m(pid=21034)\u001b[0m 2021-07-16 11:58:25,426\tDEBUG sgd.py:120 -- 20 {'allreduce_latency': 0.0, 'cur_kl_coeff': 0.001318359375, 'cur_lr': 4.7e-05, 'total_loss': 0.002099781889807094, 'policy_loss': -0.004483915300983371, 'vf_loss': 0.013333256643046767, 'vf_explained_var': -0.4767363, 'kl': 0.00014446363370871384, 'entropy': 0.008312253524915528, 'entropy_coeff': 0.01}\n",
      "\u001b[2m\u001b[36m(pid=21034)\u001b[0m 2021-07-16 11:58:25,584\tDEBUG sgd.py:120 -- 21 {'allreduce_latency': 0.0, 'cur_kl_coeff': 0.001318359375, 'cur_lr': 4.7e-05, 'total_loss': 0.0037518581093260736, 'policy_loss': -0.002826585744818052, 'vf_loss': 0.013321870824173939, 'vf_explained_var': -0.5657144, 'kl': 0.00029885938461533937, 'entropy': 0.008288569555699007, 'entropy_coeff': 0.01}\n",
      "\u001b[2m\u001b[36m(pid=21034)\u001b[0m 2021-07-16 11:58:25,736\tDEBUG sgd.py:120 -- 22 {'allreduce_latency': 0.0, 'cur_kl_coeff': 0.001318359375, 'cur_lr': 4.7e-05, 'total_loss': 0.004176796498623761, 'policy_loss': -0.002496302974495021, 'vf_loss': 0.01350972414454163, 'vf_explained_var': -0.43466356, 'kl': 9.703950448083836e-05, 'entropy': 0.008189461730194815, 'entropy_coeff': 0.01}\n"
     ]
    },
    {
     "name": "stderr",
     "output_type": "stream",
     "text": [
      "\u001b[2m\u001b[36m(pid=21034)\u001b[0m 2021-07-16 11:58:25,892\tDEBUG sgd.py:120 -- 23 {'allreduce_latency': 0.0, 'cur_kl_coeff': 0.001318359375, 'cur_lr': 4.7e-05, 'total_loss': 0.001591011148059007, 'policy_loss': -0.005007035352967002, 'vf_loss': 0.013359530428495033, 'vf_explained_var': -0.5017701, 'kl': 0.00012093377901664732, 'entropy': 0.008187747061156464, 'entropy_coeff': 0.01}\n",
      "\u001b[2m\u001b[36m(pid=21034)\u001b[0m 2021-07-16 11:58:26,045\tDEBUG sgd.py:120 -- 24 {'allreduce_latency': 0.0, 'cur_kl_coeff': 0.001318359375, 'cur_lr': 4.7e-05, 'total_loss': 0.002081146350864208, 'policy_loss': -0.004512806761671196, 'vf_loss': 0.01335078218835406, 'vf_explained_var': -0.5807731, 'kl': 0.00021501031914216253, 'entropy': 0.008172377818316983, 'entropy_coeff': 0.01}\n",
      "\u001b[2m\u001b[36m(pid=21034)\u001b[0m 2021-07-16 11:58:26,210\tDEBUG sgd.py:120 -- 25 {'allreduce_latency': 0.0, 'cur_kl_coeff': 0.001318359375, 'cur_lr': 4.7e-05, 'total_loss': 0.0028032676288575835, 'policy_loss': -0.003904231626427535, 'vf_loss': 0.013577977219194343, 'vf_explained_var': -0.52857125, 'kl': 0.000176812363792344, 'entropy': 0.008172227071940362, 'entropy_coeff': 0.01}\n",
      "\u001b[2m\u001b[36m(pid=21034)\u001b[0m 2021-07-16 11:58:26,363\tDEBUG sgd.py:120 -- 26 {'allreduce_latency': 0.0, 'cur_kl_coeff': 0.001318359375, 'cur_lr': 4.7e-05, 'total_loss': 0.0015300226990472186, 'policy_loss': -0.005045747539649407, 'vf_loss': 0.013312928983588901, 'vf_explained_var': -0.5805256, 'kl': 0.00013329676809200575, 'entropy': 0.008086996802982563, 'entropy_coeff': 0.01}\n",
      "\u001b[2m\u001b[36m(pid=21034)\u001b[0m 2021-07-16 11:58:26,521\tDEBUG sgd.py:120 -- 27 {'allreduce_latency': 0.0, 'cur_kl_coeff': 0.001318359375, 'cur_lr': 4.7e-05, 'total_loss': 0.0016787215277101054, 'policy_loss': -0.004899261357036956, 'vf_loss': 0.013316491315367095, 'vf_explained_var': -0.48328882, 'kl': 0.00019580532548354424, 'entropy': 0.008052298901461516, 'entropy_coeff': 0.01}\n",
      "\u001b[2m\u001b[36m(pid=21034)\u001b[0m 2021-07-16 11:58:26,676\tDEBUG sgd.py:120 -- 28 {'allreduce_latency': 0.0, 'cur_kl_coeff': 0.001318359375, 'cur_lr': 4.7e-05, 'total_loss': 0.0006959513394218502, 'policy_loss': -0.005878444478818865, 'vf_loss': 0.013310372450205527, 'vf_explained_var': -0.48214328, 'kl': 0.0001543997991024243, 'entropy': 0.00809965881203287, 'entropy_coeff': 0.01}\n"
     ]
    },
    {
     "name": "stdout",
     "output_type": "stream",
     "text": [
      "Result for PPO_TradingEnv_d625d_00000:\n",
      "  custom_metrics: {}\n",
      "  date: 2021-07-16_11-58-26\n",
      "  done: false\n",
      "  episode_len_mean: 897.8857142857142\n",
      "  episode_reward_max: 558.5853737431826\n",
      "  episode_reward_mean: 453.2550534387507\n",
      "  episode_reward_min: -23.913504331878357\n",
      "  episodes_this_iter: 3\n",
      "  episodes_total: 70\n",
      "  experiment_id: e6369b7d95d74c47a2c2141b4142c2c5\n",
      "  experiment_tag: '0'\n",
      "  hostname: localadmin-ECA-FX44E4C\n",
      "  info:\n",
      "    learner:\n",
      "      default_policy:\n",
      "        allreduce_latency: 0.0\n",
      "        cur_kl_coeff: 0.001318359375\n",
      "        cur_lr: 4.7e-05\n",
      "        entropy: 0.00807457558447354\n",
      "        entropy_coeff: 0.01\n",
      "        kl: 0.00020886599410611476\n",
      "        policy_loss: -0.0053629732098091736\n",
      "        total_loss: 0.0012281062081456184\n",
      "        vf_explained_var: -0.5619285702705383\n",
      "        vf_loss: 0.013343096762775642\n",
      "    num_steps_sampled: 67200\n",
      "    num_steps_trained: 67200\n",
      "  iterations_since_restore: 16\n",
      "  node_ip: 192.168.0.202\n",
      "  num_healthy_workers: 7\n",
      "  off_policy_estimator: {}\n",
      "  perf:\n",
      "    cpu_util_percent: 34.3125\n",
      "    ram_util_percent: 44.212500000000006\n",
      "  pid: 21034\n",
      "  policy_reward_max: {}\n",
      "  policy_reward_mean: {}\n",
      "  policy_reward_min: {}\n",
      "  sampler_perf:\n",
      "    mean_env_wait_ms: 0.6132165830856982\n",
      "    mean_inference_ms: 1.1771197764947694\n",
      "    mean_processing_ms: 0.20872020143153688\n",
      "  time_since_restore: 99.67444705963135\n",
      "  time_this_iter_s: 6.020287990570068\n",
      "  time_total_s: 99.67444705963135\n",
      "  timers:\n",
      "    learn_throughput: 867.84\n",
      "    learn_time_ms: 4839.604\n",
      "    sample_throughput: 3709.92\n",
      "    sample_time_ms: 1132.1\n",
      "    update_time_ms: 1.459\n",
      "  timestamp: 1626407906\n",
      "  timesteps_since_restore: 0\n",
      "  timesteps_total: 67200\n",
      "  training_iteration: 16\n",
      "  trial_id: d625d_00000\n",
      "  \n"
     ]
    },
    {
     "data": {
      "text/html": [
       "== Status ==<br>Memory usage on this node: 6.4/14.5 GiB<br>Using FIFO scheduling algorithm.<br>Resources requested: 8/8 CPUs, 0/0 GPUs, 0.0/6.74 GiB heap, 0.0/2.29 GiB objects<br>Result logdir: /home/localadmin/ray_results/PPO<br>Number of trials: 1 (1 RUNNING)<br><table>\n",
       "<thead>\n",
       "<tr><th>Trial name                </th><th>status  </th><th>loc                </th><th style=\"text-align: right;\">  iter</th><th style=\"text-align: right;\">  total time (s)</th><th style=\"text-align: right;\">   ts</th><th style=\"text-align: right;\">  reward</th></tr>\n",
       "</thead>\n",
       "<tbody>\n",
       "<tr><td>PPO_TradingEnv_d625d_00000</td><td>RUNNING </td><td>192.168.0.202:21034</td><td style=\"text-align: right;\">    16</td><td style=\"text-align: right;\">         99.6744</td><td style=\"text-align: right;\">67200</td><td style=\"text-align: right;\"> 453.255</td></tr>\n",
       "</tbody>\n",
       "</table><br><br>"
      ],
      "text/plain": [
       "<IPython.core.display.HTML object>"
      ]
     },
     "metadata": {},
     "output_type": "display_data"
    },
    {
     "name": "stderr",
     "output_type": "stream",
     "text": [
      "\u001b[2m\u001b[36m(pid=21034)\u001b[0m 2021-07-16 11:58:26,834\tDEBUG sgd.py:120 -- 29 {'allreduce_latency': 0.0, 'cur_kl_coeff': 0.001318359375, 'cur_lr': 4.7e-05, 'total_loss': 0.0012281062081456184, 'policy_loss': -0.0053629732098091736, 'vf_loss': 0.013343096762775642, 'vf_explained_var': -0.5619286, 'kl': 0.00020886599410611476, 'entropy': 0.00807457558447354, 'entropy_coeff': 0.01}\n",
      "\u001b[2m\u001b[36m(pid=21034)\u001b[0m 2021-07-16 11:58:26,842\tDEBUG trainer.py:547 -- synchronized filters: {'default_policy': MeanStdFilter((25, 2), True, True, None, (n=67277, mean_mean=-0.32998948311341825, mean_std=3.8487102790680567), (n=0, mean_mean=0.0, mean_std=0.0))}\n",
      "\u001b[2m\u001b[36m(pid=21034)\u001b[0m 2021-07-16 11:58:28,110\tDEBUG sgd.py:120 -- 0 {'allreduce_latency': 0.0, 'cur_kl_coeff': 0.0006591796875, 'cur_lr': 4.2800000000000004e-05, 'total_loss': 0.014361243666798779, 'policy_loss': 0.0004654568478916631, 'vf_loss': 0.02795333802615377, 'vf_explained_var': -0.2501185, 'kl': 9.384507166490005e-06, 'entropy': 0.008088655099554948, 'entropy_coeff': 0.01}\n",
      "\u001b[2m\u001b[36m(pid=21034)\u001b[0m 2021-07-16 11:58:28,263\tDEBUG sgd.py:120 -- 1 {'allreduce_latency': 0.0, 'cur_kl_coeff': 0.0006591796875, 'cur_lr': 4.2800000000000004e-05, 'total_loss': 0.013959340976946281, 'policy_loss': -5.22024506195025e-05, 'vf_loss': 0.0281843620433585, 'vf_explained_var': -0.19778344, 'kl': 1.1387755242705824e-05, 'entropy': 0.00806464060257316, 'entropy_coeff': 0.01}\n",
      "\u001b[2m\u001b[36m(pid=21034)\u001b[0m 2021-07-16 11:58:28,437\tDEBUG sgd.py:120 -- 2 {'allreduce_latency': 0.0, 'cur_kl_coeff': 0.0006591796875, 'cur_lr': 4.2800000000000004e-05, 'total_loss': 0.014345585171020392, 'policy_loss': 0.00046665795768300694, 'vf_loss': 0.027919024535962803, 'vf_explained_var': -0.21026984, 'kl': 6.406302827599575e-05, 'entropy': 0.00806292769045809, 'entropy_coeff': 0.01}\n",
      "\u001b[2m\u001b[36m(pid=21034)\u001b[0m 2021-07-16 11:58:28,626\tDEBUG sgd.py:120 -- 3 {'allreduce_latency': 0.0, 'cur_kl_coeff': 0.0006591796875, 'cur_lr': 4.2800000000000004e-05, 'total_loss': 0.01247552072516445, 'policy_loss': -0.0013668546453118324, 'vf_loss': 0.02784422913453344, 'vf_explained_var': -0.11916394, 'kl': 2.5564175105416503e-05, 'entropy': 0.007975977938093076, 'entropy_coeff': 0.01}\n",
      "\u001b[2m\u001b[36m(pid=21034)\u001b[0m 2021-07-16 11:58:28,788\tDEBUG sgd.py:120 -- 4 {'allreduce_latency': 0.0, 'cur_kl_coeff': 0.0006591796875, 'cur_lr': 4.2800000000000004e-05, 'total_loss': 0.013369123225636555, 'policy_loss': -0.0005678331592317784, 'vf_loss': 0.02803331512294597, 'vf_explained_var': -0.25338766, 'kl': 2.0114660749147685e-05, 'entropy': 0.007971149981434186, 'entropy_coeff': 0.01}\n",
      "\u001b[2m\u001b[36m(pid=21034)\u001b[0m 2021-07-16 11:58:28,982\tDEBUG sgd.py:120 -- 5 {'allreduce_latency': 0.0, 'cur_kl_coeff': 0.0006591796875, 'cur_lr': 4.2800000000000004e-05, 'total_loss': 0.014217151526474592, 'policy_loss': 0.0002624912921226386, 'vf_loss': 0.028068094509018756, 'vf_explained_var': -0.223285, 'kl': 5.65874172755712e-05, 'entropy': 0.007942461218176917, 'entropy_coeff': 0.01}\n",
      "\u001b[2m\u001b[36m(pid=21034)\u001b[0m 2021-07-16 11:58:29,138\tDEBUG sgd.py:120 -- 6 {'allreduce_latency': 0.0, 'cur_kl_coeff': 0.0006591796875, 'cur_lr': 4.2800000000000004e-05, 'total_loss': 0.012652906956094685, 'policy_loss': -0.0012569163897723863, 'vf_loss': 0.027978005926618636, 'vf_explained_var': -0.34766603, 'kl': 2.8500002270682284e-05, 'entropy': 0.007919700073685046, 'entropy_coeff': 0.01}\n",
      "\u001b[2m\u001b[36m(pid=21034)\u001b[0m 2021-07-16 11:58:29,298\tDEBUG sgd.py:120 -- 7 {'allreduce_latency': 0.0, 'cur_kl_coeff': 0.0006591796875, 'cur_lr': 4.2800000000000004e-05, 'total_loss': 0.013441739152326729, 'policy_loss': -0.0006172555978551055, 'vf_loss': 0.0282782498309671, 'vf_explained_var': -0.2756256, 'kl': 4.2307550493843117e-05, 'entropy': 0.008016209525962811, 'entropy_coeff': 0.01}\n",
      "\u001b[2m\u001b[36m(pid=21034)\u001b[0m 2021-07-16 11:58:29,450\tDEBUG sgd.py:120 -- 8 {'allreduce_latency': 0.0, 'cur_kl_coeff': 0.0006591796875, 'cur_lr': 4.2800000000000004e-05, 'total_loss': 0.013319473374973644, 'policy_loss': -0.0007154335634726467, 'vf_loss': 0.028228098367848856, 'vf_explained_var': -0.34504652, 'kl': 3.8667438905742365e-05, 'entropy': 0.00791668690340664, 'entropy_coeff': 0.01}\n",
      "\u001b[2m\u001b[36m(pid=21034)\u001b[0m 2021-07-16 11:58:29,607\tDEBUG sgd.py:120 -- 9 {'allreduce_latency': 0.0, 'cur_kl_coeff': 0.0006591796875, 'cur_lr': 4.2800000000000004e-05, 'total_loss': 0.012937130293611324, 'policy_loss': -0.0009923960279786224, 'vf_loss': 0.02801698895531114, 'vf_explained_var': -0.24092604, 'kl': 5.655987812212195e-05, 'entropy': 0.007900642942827702, 'entropy_coeff': 0.01}\n",
      "\u001b[2m\u001b[36m(pid=21034)\u001b[0m 2021-07-16 11:58:29,760\tDEBUG sgd.py:120 -- 10 {'allreduce_latency': 0.0, 'cur_kl_coeff': 0.0006591796875, 'cur_lr': 4.2800000000000004e-05, 'total_loss': 0.012244824376521688, 'policy_loss': -0.0016492981266117458, 'vf_loss': 0.02794521526172475, 'vf_explained_var': -0.23766746, 'kl': 2.285649851139417e-05, 'entropy': 0.00785002696140895, 'entropy_coeff': 0.01}\n",
      "\u001b[2m\u001b[36m(pid=21034)\u001b[0m 2021-07-16 11:58:29,922\tDEBUG sgd.py:120 -- 11 {'allreduce_latency': 0.0, 'cur_kl_coeff': 0.0006591796875, 'cur_lr': 4.2800000000000004e-05, 'total_loss': 0.011938420660568006, 'policy_loss': -0.0019344011265220065, 'vf_loss': 0.02790286382977766, 'vf_explained_var': -0.2382981, 'kl': 1.9843830710724983e-05, 'entropy': 0.007861815667252593, 'entropy_coeff': 0.01}\n",
      "\u001b[2m\u001b[36m(pid=21034)\u001b[0m 2021-07-16 11:58:30,074\tDEBUG sgd.py:120 -- 12 {'allreduce_latency': 0.0, 'cur_kl_coeff': 0.0006591796875, 'cur_lr': 4.2800000000000004e-05, 'total_loss': 0.010906847814718882, 'policy_loss': -0.0029659420534065275, 'vf_loss': 0.027901527514173227, 'vf_explained_var': -0.14404497, 'kl': 6.726451359144669e-05, 'entropy': 0.007801868194347304, 'entropy_coeff': 0.01}\n",
      "\u001b[2m\u001b[36m(pid=21034)\u001b[0m 2021-07-16 11:58:30,239\tDEBUG sgd.py:120 -- 13 {'allreduce_latency': 0.0, 'cur_kl_coeff': 0.0006591796875, 'cur_lr': 4.2800000000000004e-05, 'total_loss': 0.01150349107091174, 'policy_loss': -0.0024603441018949857, 'vf_loss': 0.028083246441162897, 'vf_explained_var': -0.23841523, 'kl': 6.654675777464504e-05, 'entropy': 0.007783076547969937, 'entropy_coeff': 0.01}\n",
      "\u001b[2m\u001b[36m(pid=21034)\u001b[0m 2021-07-16 11:58:30,397\tDEBUG sgd.py:120 -- 14 {'allreduce_latency': 0.0, 'cur_kl_coeff': 0.0006591796875, 'cur_lr': 4.2800000000000004e-05, 'total_loss': 0.010691372832904259, 'policy_loss': -0.0031224400595282063, 'vf_loss': 0.027782756743501082, 'vf_explained_var': -0.21633327, 'kl': 5.688463649235156e-05, 'entropy': 0.007760144720757098, 'entropy_coeff': 0.01}\n",
      "\u001b[2m\u001b[36m(pid=21034)\u001b[0m 2021-07-16 11:58:30,565\tDEBUG sgd.py:120 -- 15 {'allreduce_latency': 0.0, 'cur_kl_coeff': 0.0006591796875, 'cur_lr': 4.2800000000000004e-05, 'total_loss': 0.011636141828741089, 'policy_loss': -0.002262922398971789, 'vf_loss': 0.02795337598460416, 'vf_explained_var': -0.28308505, 'kl': 1.733764650618303e-05, 'entropy': 0.007763770426567079, 'entropy_coeff': 0.01}\n",
      "\u001b[2m\u001b[36m(pid=21034)\u001b[0m 2021-07-16 11:58:30,722\tDEBUG sgd.py:120 -- 16 {'allreduce_latency': 0.0, 'cur_kl_coeff': 0.0006591796875, 'cur_lr': 4.2800000000000004e-05, 'total_loss': 0.011611123526976868, 'policy_loss': -0.002340579574758356, 'vf_loss': 0.028059128830632704, 'vf_explained_var': -0.103692256, 'kl': 1.9341853224184227e-05, 'entropy': 0.007787438114808703, 'entropy_coeff': 0.01}\n",
      "\u001b[2m\u001b[36m(pid=21034)\u001b[0m 2021-07-16 11:58:30,877\tDEBUG sgd.py:120 -- 17 {'allreduce_latency': 0.0, 'cur_kl_coeff': 0.0006591796875, 'cur_lr': 4.2800000000000004e-05, 'total_loss': 0.010790356967569978, 'policy_loss': -0.0031473697163164616, 'vf_loss': 0.02802971754025555, 'vf_explained_var': -0.3032618, 'kl': 4.4301034854539246e-05, 'entropy': 0.007716405677814636, 'entropy_coeff': 0.01}\n",
      "\u001b[2m\u001b[36m(pid=21034)\u001b[0m 2021-07-16 11:58:31,042\tDEBUG sgd.py:120 -- 18 {'allreduce_latency': 0.0, 'cur_kl_coeff': 0.0006591796875, 'cur_lr': 4.2800000000000004e-05, 'total_loss': 0.010784380984577265, 'policy_loss': -0.003049591245750586, 'vf_loss': 0.02782251860127982, 'vf_explained_var': -0.18672861, 'kl': 4.0574870318075476e-05, 'entropy': 0.007731191384443788, 'entropy_coeff': 0.01}\n",
      "\u001b[2m\u001b[36m(pid=21034)\u001b[0m 2021-07-16 11:58:31,210\tDEBUG sgd.py:120 -- 19 {'allreduce_latency': 0.0, 'cur_kl_coeff': 0.0006591796875, 'cur_lr': 4.2800000000000004e-05, 'total_loss': 0.011907884681766684, 'policy_loss': -0.0021029494731037907, 'vf_loss': 0.028175639842326444, 'vf_explained_var': -0.20450474, 'kl': 0.0001060667646084546, 'entropy': 0.007705824820070781, 'entropy_coeff': 0.01}\n"
     ]
    },
    {
     "name": "stderr",
     "output_type": "stream",
     "text": [
      "\u001b[2m\u001b[36m(pid=21034)\u001b[0m 2021-07-16 11:58:31,366\tDEBUG sgd.py:120 -- 20 {'allreduce_latency': 0.0, 'cur_kl_coeff': 0.0006591796875, 'cur_lr': 4.2800000000000004e-05, 'total_loss': 0.010553847814938335, 'policy_loss': -0.0033054847524247384, 'vf_loss': 0.0278716366455862, 'vf_explained_var': -0.12823144, 'kl': 4.2001468472969435e-05, 'entropy': 0.007651559535809087, 'entropy_coeff': 0.01}\n",
      "\u001b[2m\u001b[36m(pid=21034)\u001b[0m 2021-07-16 11:58:31,559\tDEBUG sgd.py:120 -- 21 {'allreduce_latency': 0.0, 'cur_kl_coeff': 0.0006591796875, 'cur_lr': 4.2800000000000004e-05, 'total_loss': 0.009537854768110044, 'policy_loss': -0.004220690064936538, 'vf_loss': 0.027669781053467006, 'vf_explained_var': -0.2659889, 'kl': 3.395535634698524e-05, 'entropy': 0.007636963299856606, 'entropy_coeff': 0.01}\n",
      "\u001b[2m\u001b[36m(pid=21034)\u001b[0m 2021-07-16 11:58:31,723\tDEBUG sgd.py:120 -- 22 {'allreduce_latency': 0.0, 'cur_kl_coeff': 0.0006591796875, 'cur_lr': 4.2800000000000004e-05, 'total_loss': 0.010047018584428411, 'policy_loss': -0.0037010902200232854, 'vf_loss': 0.027648554081238355, 'vf_explained_var': -0.11156359, 'kl': 4.76934012843258e-05, 'entropy': 0.007619961993965042, 'entropy_coeff': 0.01}\n",
      "\u001b[2m\u001b[36m(pid=21034)\u001b[0m 2021-07-16 11:58:31,884\tDEBUG sgd.py:120 -- 23 {'allreduce_latency': 0.0, 'cur_kl_coeff': 0.0006591796875, 'cur_lr': 4.2800000000000004e-05, 'total_loss': 0.009420481312907103, 'policy_loss': -0.004423826848241416, 'vf_loss': 0.027840214511591264, 'vf_explained_var': -0.13250826, 'kl': 4.510593404313223e-05, 'entropy': 0.007583223455268043, 'entropy_coeff': 0.01}\n",
      "\u001b[2m\u001b[36m(pid=21034)\u001b[0m 2021-07-16 11:58:32,037\tDEBUG sgd.py:120 -- 24 {'allreduce_latency': 0.0, 'cur_kl_coeff': 0.0006591796875, 'cur_lr': 4.2800000000000004e-05, 'total_loss': 0.00972906511389848, 'policy_loss': -0.0040098633617162704, 'vf_loss': 0.027629286669914356, 'vf_explained_var': -0.17706311, 'kl': 2.768825489014985e-05, 'entropy': 0.007573301646378682, 'entropy_coeff': 0.01}\n",
      "\u001b[2m\u001b[36m(pid=21034)\u001b[0m 2021-07-16 11:58:32,225\tDEBUG sgd.py:120 -- 25 {'allreduce_latency': 0.0, 'cur_kl_coeff': 0.0006591796875, 'cur_lr': 4.2800000000000004e-05, 'total_loss': 0.009529011098272873, 'policy_loss': -0.004220416515388272, 'vf_loss': 0.027650481310433173, 'vf_explained_var': -0.22674066, 'kl': 2.702298235479964e-05, 'entropy': 0.007582920741587066, 'entropy_coeff': 0.01}\n",
      "\u001b[2m\u001b[36m(pid=21034)\u001b[0m 2021-07-16 11:58:32,402\tDEBUG sgd.py:120 -- 26 {'allreduce_latency': 0.0, 'cur_kl_coeff': 0.0006591796875, 'cur_lr': 4.2800000000000004e-05, 'total_loss': 0.0107012718464389, 'policy_loss': -0.0032727435852090516, 'vf_loss': 0.02809899962845851, 'vf_explained_var': -0.26747036, 'kl': 7.385036773291975e-05, 'entropy': 0.0075537159458635315, 'entropy_coeff': 0.01}\n",
      "\u001b[2m\u001b[36m(pid=21034)\u001b[0m 2021-07-16 11:58:32,562\tDEBUG sgd.py:120 -- 27 {'allreduce_latency': 0.0, 'cur_kl_coeff': 0.0006591796875, 'cur_lr': 4.2800000000000004e-05, 'total_loss': 0.009912088033602093, 'policy_loss': -0.003924921154975891, 'vf_loss': 0.02782477953852239, 'vf_explained_var': -0.2299782, 'kl': 3.1875885325103866e-05, 'entropy': 0.00754017558321004, 'entropy_coeff': 0.01}\n"
     ]
    },
    {
     "name": "stdout",
     "output_type": "stream",
     "text": [
      "Result for PPO_TradingEnv_d625d_00000:\n",
      "  custom_metrics: {}\n",
      "  date: 2021-07-16_11-58-32\n",
      "  done: false\n",
      "  episode_len_mean: 902.7142857142857\n",
      "  episode_reward_max: 558.5853737431826\n",
      "  episode_reward_mean: 462.8237453415066\n",
      "  episode_reward_min: -23.913504331878357\n",
      "  episodes_this_iter: 7\n",
      "  episodes_total: 77\n",
      "  experiment_id: e6369b7d95d74c47a2c2141b4142c2c5\n",
      "  experiment_tag: '0'\n",
      "  hostname: localadmin-ECA-FX44E4C\n",
      "  info:\n",
      "    learner:\n",
      "      default_policy:\n",
      "        allreduce_latency: 0.0\n",
      "        cur_kl_coeff: 0.0006591796875\n",
      "        cur_lr: 4.2800000000000004e-05\n",
      "        entropy: 0.00745695909779787\n",
      "        entropy_coeff: 0.01\n",
      "        kl: 3.731651382264373e-05\n",
      "        policy_loss: -0.00558854772173094\n",
      "        total_loss: 0.00817597991871563\n",
      "        vf_explained_var: -0.21746496856212616\n",
      "        vf_loss: 0.02767814277798276\n",
      "    num_steps_sampled: 71400\n",
      "    num_steps_trained: 71400\n",
      "  iterations_since_restore: 17\n",
      "  node_ip: 192.168.0.202\n",
      "  num_healthy_workers: 7\n",
      "  off_policy_estimator: {}\n",
      "  perf:\n",
      "    cpu_util_percent: 30.77777777777778\n",
      "    ram_util_percent: 44.25555555555556\n",
      "  pid: 21034\n",
      "  policy_reward_max: {}\n",
      "  policy_reward_mean: {}\n",
      "  policy_reward_min: {}\n",
      "  sampler_perf:\n",
      "    mean_env_wait_ms: 0.5998802691558324\n",
      "    mean_inference_ms: 1.175292829653138\n",
      "    mean_processing_ms: 0.20837137353918678\n",
      "  time_since_restore: 105.70541834831238\n",
      "  time_this_iter_s: 6.03097128868103\n",
      "  time_total_s: 105.70541834831238\n",
      "  timers:\n",
      "    learn_throughput: 863.269\n",
      "    learn_time_ms: 4865.225\n",
      "    sample_throughput: 3708.149\n",
      "    sample_time_ms: 1132.641\n",
      "    update_time_ms: 1.456\n",
      "  timestamp: 1626407912\n",
      "  timesteps_since_restore: 0\n",
      "  timesteps_total: 71400\n",
      "  training_iteration: 17\n",
      "  trial_id: d625d_00000\n",
      "  \n"
     ]
    },
    {
     "name": "stderr",
     "output_type": "stream",
     "text": [
      "\u001b[2m\u001b[36m(pid=21034)\u001b[0m 2021-07-16 11:58:32,720\tDEBUG sgd.py:120 -- 28 {'allreduce_latency': 0.0, 'cur_kl_coeff': 0.0006591796875, 'cur_lr': 4.2800000000000004e-05, 'total_loss': 0.00938699645639369, 'policy_loss': -0.004454691894352436, 'vf_loss': 0.02783422089520503, 'vf_explained_var': -0.18565033, 'kl': 4.6101988339091115e-05, 'entropy': 0.007545294126347554, 'entropy_coeff': 0.01}\n",
      "\u001b[2m\u001b[36m(pid=21034)\u001b[0m 2021-07-16 11:58:32,889\tDEBUG sgd.py:120 -- 29 {'allreduce_latency': 0.0, 'cur_kl_coeff': 0.0006591796875, 'cur_lr': 4.2800000000000004e-05, 'total_loss': 0.00817597991871563, 'policy_loss': -0.00558854772173094, 'vf_loss': 0.02767814277798276, 'vf_explained_var': -0.21746497, 'kl': 3.731651382264373e-05, 'entropy': 0.00745695909779787, 'entropy_coeff': 0.01}\n",
      "\u001b[2m\u001b[36m(pid=21034)\u001b[0m 2021-07-16 11:58:32,899\tDEBUG trainer.py:547 -- synchronized filters: {'default_policy': MeanStdFilter((25, 2), True, True, None, (n=71484, mean_mean=-0.3453180344034088, mean_std=3.841542886931894), (n=0, mean_mean=0.0, mean_std=0.0))}\n"
     ]
    },
    {
     "data": {
      "text/html": [
       "== Status ==<br>Memory usage on this node: 6.4/14.5 GiB<br>Using FIFO scheduling algorithm.<br>Resources requested: 8/8 CPUs, 0/0 GPUs, 0.0/6.74 GiB heap, 0.0/2.29 GiB objects<br>Result logdir: /home/localadmin/ray_results/PPO<br>Number of trials: 1 (1 RUNNING)<br><table>\n",
       "<thead>\n",
       "<tr><th>Trial name                </th><th>status  </th><th>loc                </th><th style=\"text-align: right;\">  iter</th><th style=\"text-align: right;\">  total time (s)</th><th style=\"text-align: right;\">   ts</th><th style=\"text-align: right;\">  reward</th></tr>\n",
       "</thead>\n",
       "<tbody>\n",
       "<tr><td>PPO_TradingEnv_d625d_00000</td><td>RUNNING </td><td>192.168.0.202:21034</td><td style=\"text-align: right;\">    17</td><td style=\"text-align: right;\">         105.705</td><td style=\"text-align: right;\">71400</td><td style=\"text-align: right;\"> 462.824</td></tr>\n",
       "</tbody>\n",
       "</table><br><br>"
      ],
      "text/plain": [
       "<IPython.core.display.HTML object>"
      ]
     },
     "metadata": {},
     "output_type": "display_data"
    },
    {
     "name": "stderr",
     "output_type": "stream",
     "text": [
      "\u001b[2m\u001b[36m(pid=21034)\u001b[0m 2021-07-16 11:58:34,327\tDEBUG sgd.py:120 -- 0 {'allreduce_latency': 0.0, 'cur_kl_coeff': 0.00032958984375, 'cur_lr': 3.86e-05, 'total_loss': 0.005689325897643964, 'policy_loss': -0.00038448176487828744, 'vf_loss': 0.01230220233397135, 'vf_explained_var': -0.6630346, 'kl': 4.852544720350951e-06, 'entropy': 0.007729339764354694, 'entropy_coeff': 0.01}\n",
      "\u001b[2m\u001b[36m(pid=21034)\u001b[0m 2021-07-16 11:58:34,494\tDEBUG sgd.py:120 -- 1 {'allreduce_latency': 0.0, 'cur_kl_coeff': 0.00032958984375, 'cur_lr': 3.86e-05, 'total_loss': 0.0031584365236939807, 'policy_loss': -0.0029003990136764264, 'vf_loss': 0.012269532687214174, 'vf_explained_var': -0.58016455, 'kl': 5.0282378343567735e-05, 'entropy': 0.007594890219589808, 'entropy_coeff': 0.01}\n",
      "\u001b[2m\u001b[36m(pid=21034)\u001b[0m 2021-07-16 11:58:34,656\tDEBUG sgd.py:120 -- 2 {'allreduce_latency': 0.0, 'cur_kl_coeff': 0.00032958984375, 'cur_lr': 3.86e-05, 'total_loss': 0.002603407892765421, 'policy_loss': -0.00345585664564913, 'vf_loss': 0.012268876654244113, 'vf_explained_var': -0.5939161, 'kl': 0.00021417802850010048, 'entropy': 0.0075247106742057385, 'entropy_coeff': 0.01}\n",
      "\u001b[2m\u001b[36m(pid=21034)\u001b[0m 2021-07-16 11:58:34,839\tDEBUG sgd.py:120 -- 3 {'allreduce_latency': 0.0, 'cur_kl_coeff': 0.00032958984375, 'cur_lr': 3.86e-05, 'total_loss': 0.002720075236125426, 'policy_loss': -0.003327261092084827, 'vf_loss': 0.012246494352549427, 'vf_explained_var': -0.6283013, 'kl': 0.00011052696785637553, 'entropy': 0.007594462529981904, 'entropy_coeff': 0.01}\n",
      "\u001b[2m\u001b[36m(pid=21034)\u001b[0m 2021-07-16 11:58:35,023\tDEBUG sgd.py:120 -- 4 {'allreduce_latency': 0.0, 'cur_kl_coeff': 0.00032958984375, 'cur_lr': 3.86e-05, 'total_loss': 0.0018544319918322744, 'policy_loss': -0.0042122325112083645, 'vf_loss': 0.012282109826408101, 'vf_explained_var': -0.5453752, 'kl': 0.00016266294252456206, 'entropy': 0.007444216642011959, 'entropy_coeff': 0.01}\n",
      "\u001b[2m\u001b[36m(pid=21034)\u001b[0m 2021-07-16 11:58:35,194\tDEBUG sgd.py:120 -- 5 {'allreduce_latency': 0.0, 'cur_kl_coeff': 0.00032958984375, 'cur_lr': 3.86e-05, 'total_loss': 0.0021920661357316103, 'policy_loss': -0.003852838170573567, 'vf_loss': 0.012238072695309353, 'vf_explained_var': -0.5664171, 'kl': 0.00018382919484766393, 'entropy': 0.0074192768607286835, 'entropy_coeff': 0.01}\n",
      "\u001b[2m\u001b[36m(pid=21034)\u001b[0m 2021-07-16 11:58:35,372\tDEBUG sgd.py:120 -- 6 {'allreduce_latency': 0.0, 'cur_kl_coeff': 0.00032958984375, 'cur_lr': 3.86e-05, 'total_loss': 0.00194427196049329, 'policy_loss': -0.00421984177647215, 'vf_loss': 0.012476297848589831, 'vf_explained_var': -0.6146893, 'kl': 0.00018891563212264373, 'entropy': 0.007409727104293945, 'entropy_coeff': 0.01}\n",
      "\u001b[2m\u001b[36m(pid=21034)\u001b[0m 2021-07-16 11:58:35,529\tDEBUG sgd.py:120 -- 7 {'allreduce_latency': 0.0, 'cur_kl_coeff': 0.00032958984375, 'cur_lr': 3.86e-05, 'total_loss': 0.001543742689219388, 'policy_loss': -0.00449600127158743, 'vf_loss': 0.012226824496985611, 'vf_explained_var': -0.5782735, 'kl': 8.256596041609086e-05, 'entropy': 0.0073696769685546205, 'entropy_coeff': 0.01}\n",
      "\u001b[2m\u001b[36m(pid=21034)\u001b[0m 2021-07-16 11:58:35,685\tDEBUG sgd.py:120 -- 8 {'allreduce_latency': 0.0, 'cur_kl_coeff': 0.00032958984375, 'cur_lr': 3.86e-05, 'total_loss': 0.0013920239906645183, 'policy_loss': -0.00477656318495671, 'vf_loss': 0.012483255286387055, 'vf_explained_var': -0.53336895, 'kl': 0.0001921096325326854, 'entropy': 0.007310365003804415, 'entropy_coeff': 0.01}\n",
      "\u001b[2m\u001b[36m(pid=21034)\u001b[0m 2021-07-16 11:58:35,842\tDEBUG sgd.py:120 -- 9 {'allreduce_latency': 0.0, 'cur_kl_coeff': 0.00032958984375, 'cur_lr': 3.86e-05, 'total_loss': 0.0008637434097402023, 'policy_loss': -0.005299999209290201, 'vf_loss': 0.012474597884151577, 'vf_explained_var': -0.5829163, 'kl': 0.00010983205308520789, 'entropy': 0.007359287823254073, 'entropy_coeff': 0.01}\n",
      "\u001b[2m\u001b[36m(pid=21034)\u001b[0m 2021-07-16 11:58:35,997\tDEBUG sgd.py:120 -- 10 {'allreduce_latency': 0.0, 'cur_kl_coeff': 0.00032958984375, 'cur_lr': 3.86e-05, 'total_loss': -0.00022111212213834128, 'policy_loss': -0.00627999013346253, 'vf_loss': 0.012263717368389762, 'vf_explained_var': -0.5464831, 'kl': 9.706201112783563e-05, 'entropy': 0.007301051749230034, 'entropy_coeff': 0.01}\n",
      "\u001b[2m\u001b[36m(pid=21034)\u001b[0m 2021-07-16 11:58:36,154\tDEBUG sgd.py:120 -- 11 {'allreduce_latency': 0.0, 'cur_kl_coeff': 0.00032958984375, 'cur_lr': 3.86e-05, 'total_loss': -0.0005234335972504182, 'policy_loss': -0.00659209755108212, 'vf_loss': 0.012282144896523801, 'vf_explained_var': -0.5166706, 'kl': 0.0001514067738526137, 'entropy': 0.00724604317755703, 'entropy_coeff': 0.01}\n",
      "\u001b[2m\u001b[36m(pid=21034)\u001b[0m 2021-07-16 11:58:36,314\tDEBUG sgd.py:120 -- 12 {'allreduce_latency': 0.0, 'cur_kl_coeff': 0.00032958984375, 'cur_lr': 3.86e-05, 'total_loss': -0.0005221428970495859, 'policy_loss': -0.006567233242094517, 'vf_loss': 0.01223473911611081, 'vf_explained_var': -0.57527083, 'kl': 0.0001402970405523995, 'entropy': 0.007232588355140196, 'entropy_coeff': 0.01}\n",
      "\u001b[2m\u001b[36m(pid=21034)\u001b[0m 2021-07-16 11:58:36,478\tDEBUG sgd.py:120 -- 13 {'allreduce_latency': 0.0, 'cur_kl_coeff': 0.00032958984375, 'cur_lr': 3.86e-05, 'total_loss': -0.0006341036324473945, 'policy_loss': -0.006701318504796786, 'vf_loss': 0.012277642615090095, 'vf_explained_var': -0.5964801, 'kl': 0.0002783543997559195, 'entropy': 0.007169901922514493, 'entropy_coeff': 0.01}\n",
      "\u001b[2m\u001b[36m(pid=21034)\u001b[0m 2021-07-16 11:58:36,633\tDEBUG sgd.py:120 -- 14 {'allreduce_latency': 0.0, 'cur_kl_coeff': 0.00032958984375, 'cur_lr': 3.86e-05, 'total_loss': -0.001668930843924031, 'policy_loss': -0.007750719136586695, 'vf_loss': 0.012306995403240293, 'vf_explained_var': -0.5664258, 'kl': 0.00010937121337726488, 'entropy': 0.00717460718993662, 'entropy_coeff': 0.01}\n",
      "\u001b[2m\u001b[36m(pid=21034)\u001b[0m 2021-07-16 11:58:36,792\tDEBUG sgd.py:120 -- 15 {'allreduce_latency': 0.0, 'cur_kl_coeff': 0.00032958984375, 'cur_lr': 3.86e-05, 'total_loss': -0.001099239569157362, 'policy_loss': -0.007164132865992459, 'vf_loss': 0.012273360431815187, 'vf_explained_var': -0.57092273, 'kl': 0.00011874537795213682, 'entropy': 0.007182558472832721, 'entropy_coeff': 0.01}\n",
      "\u001b[2m\u001b[36m(pid=21034)\u001b[0m 2021-07-16 11:58:36,945\tDEBUG sgd.py:120 -- 16 {'allreduce_latency': 0.0, 'cur_kl_coeff': 0.00032958984375, 'cur_lr': 3.86e-05, 'total_loss': -0.0025380579472491236, 'policy_loss': -0.008596880982319513, 'vf_loss': 0.012259190065158306, 'vf_explained_var': -0.6581728, 'kl': 0.00013105972155961243, 'entropy': 0.007081761046279236, 'entropy_coeff': 0.01}\n",
      "\u001b[2m\u001b[36m(pid=21034)\u001b[0m 2021-07-16 11:58:37,102\tDEBUG sgd.py:120 -- 17 {'allreduce_latency': 0.0, 'cur_kl_coeff': 0.00032958984375, 'cur_lr': 3.86e-05, 'total_loss': -0.0007940388256401727, 'policy_loss': -0.00685276034654993, 'vf_loss': 0.012260124911060275, 'vf_explained_var': -0.60738015, 'kl': 0.00021341739860266293, 'entropy': 0.00714095844269843, 'entropy_coeff': 0.01}\n",
      "\u001b[2m\u001b[36m(pid=21034)\u001b[0m 2021-07-16 11:58:37,259\tDEBUG sgd.py:120 -- 18 {'allreduce_latency': 0.0, 'cur_kl_coeff': 0.00032958984375, 'cur_lr': 3.86e-05, 'total_loss': -0.0010488942039735389, 'policy_loss': -0.007082729572148034, 'vf_loss': 0.012208860786455316, 'vf_explained_var': -0.5640186, 'kl': 7.151055596102995e-05, 'entropy': 0.007061836636046682, 'entropy_coeff': 0.01}\n",
      "\u001b[2m\u001b[36m(pid=21034)\u001b[0m 2021-07-16 11:58:37,420\tDEBUG sgd.py:120 -- 19 {'allreduce_latency': 0.0, 'cur_kl_coeff': 0.00032958984375, 'cur_lr': 3.86e-05, 'total_loss': -0.0013785245263892593, 'policy_loss': -0.007532903938695337, 'vf_loss': 0.012449025094445626, 'vf_explained_var': -0.5956869, 'kl': 0.00023266817551316444, 'entropy': 0.007021077025318377, 'entropy_coeff': 0.01}\n",
      "\u001b[2m\u001b[36m(pid=21034)\u001b[0m 2021-07-16 11:58:37,579\tDEBUG sgd.py:120 -- 20 {'allreduce_latency': 0.0, 'cur_kl_coeff': 0.00032958984375, 'cur_lr': 3.86e-05, 'total_loss': -0.001978379928252914, 'policy_loss': -0.00812580216337334, 'vf_loss': 0.012435032142093405, 'vf_explained_var': -0.5656945, 'kl': 0.0001611803101496028, 'entropy': 0.0070145118745241425, 'entropy_coeff': 0.01}\n",
      "\u001b[2m\u001b[36m(pid=21034)\u001b[0m 2021-07-16 11:58:37,744\tDEBUG sgd.py:120 -- 21 {'allreduce_latency': 0.0, 'cur_kl_coeff': 0.00032958984375, 'cur_lr': 3.86e-05, 'total_loss': 0.0021116471934047613, 'policy_loss': -0.004242575840290749, 'vf_loss': 0.01284776452600702, 'vf_explained_var': -0.5755497, 'kl': 0.00023527476719338708, 'entropy': 0.00697371937573018, 'entropy_coeff': 0.01}\n"
     ]
    },
    {
     "name": "stderr",
     "output_type": "stream",
     "text": [
      "\u001b[2m\u001b[36m(pid=21034)\u001b[0m 2021-07-16 11:58:37,904\tDEBUG sgd.py:120 -- 22 {'allreduce_latency': 0.0, 'cur_kl_coeff': 0.00032958984375, 'cur_lr': 3.86e-05, 'total_loss': -0.002159672478834788, 'policy_loss': -0.008192002829728704, 'vf_loss': 0.012204183459592363, 'vf_explained_var': -0.5943303, 'kl': 0.00010083813614266657, 'entropy': 0.006979319782024531, 'entropy_coeff': 0.01}\n",
      "\u001b[2m\u001b[36m(pid=21034)\u001b[0m 2021-07-16 11:58:38,056\tDEBUG sgd.py:120 -- 23 {'allreduce_latency': 0.0, 'cur_kl_coeff': 0.00032958984375, 'cur_lr': 3.86e-05, 'total_loss': -0.004302990397043301, 'policy_loss': -0.010389483025805517, 'vf_loss': 0.012311031667967185, 'vf_explained_var': -0.6099408, 'kl': 0.000155301780847422, 'entropy': 0.006907656408381599, 'entropy_coeff': 0.01}\n",
      "\u001b[2m\u001b[36m(pid=21034)\u001b[0m 2021-07-16 11:58:38,219\tDEBUG sgd.py:120 -- 24 {'allreduce_latency': 0.0, 'cur_kl_coeff': 0.00032958984375, 'cur_lr': 3.86e-05, 'total_loss': -0.0037315688801534247, 'policy_loss': -0.009782954006258286, 'vf_loss': 0.0122407254609491, 'vf_explained_var': -0.5961945, 'kl': 0.00026884571698384673, 'entropy': 0.006906699041461583, 'entropy_coeff': 0.01}\n",
      "\u001b[2m\u001b[36m(pid=21034)\u001b[0m 2021-07-16 11:58:38,387\tDEBUG sgd.py:120 -- 25 {'allreduce_latency': 0.0, 'cur_kl_coeff': 0.00032958984375, 'cur_lr': 3.86e-05, 'total_loss': -0.004186787614316651, 'policy_loss': -0.010237957661350569, 'vf_loss': 0.012239976094640566, 'vf_explained_var': -0.6287183, 'kl': 0.00014211375090863757, 'entropy': 0.006886393687278597, 'entropy_coeff': 0.01}\n",
      "\u001b[2m\u001b[36m(pid=21034)\u001b[0m 2021-07-16 11:58:38,545\tDEBUG sgd.py:120 -- 26 {'allreduce_latency': 0.0, 'cur_kl_coeff': 0.00032958984375, 'cur_lr': 3.86e-05, 'total_loss': -0.0041183007203719835, 'policy_loss': -0.010181704197417606, 'vf_loss': 0.012263307410511046, 'vf_explained_var': -0.5758911, 'kl': 0.00013558809714733357, 'entropy': 0.006829485151918176, 'entropy_coeff': 0.01}\n",
      "\u001b[2m\u001b[36m(pid=21034)\u001b[0m 2021-07-16 11:58:38,702\tDEBUG sgd.py:120 -- 27 {'allreduce_latency': 0.0, 'cur_kl_coeff': 0.00032958984375, 'cur_lr': 3.86e-05, 'total_loss': -0.004446483471176841, 'policy_loss': -0.010483811524781313, 'vf_loss': 0.012211737461091781, 'vf_explained_var': -0.5945085, 'kl': 0.00014132496588017878, 'entropy': 0.0068587582279702256, 'entropy_coeff': 0.01}\n"
     ]
    },
    {
     "name": "stdout",
     "output_type": "stream",
     "text": [
      "Result for PPO_TradingEnv_d625d_00000:\n",
      "  custom_metrics: {}\n",
      "  date: 2021-07-16_11-58-39\n",
      "  done: false\n",
      "  episode_len_mean: 903.9367088607595\n",
      "  episode_reward_max: 558.5853737431826\n",
      "  episode_reward_mean: 465.24685605312504\n",
      "  episode_reward_min: -23.913504331878357\n",
      "  episodes_this_iter: 2\n",
      "  episodes_total: 79\n",
      "  experiment_id: e6369b7d95d74c47a2c2141b4142c2c5\n",
      "  experiment_tag: '0'\n",
      "  hostname: localadmin-ECA-FX44E4C\n",
      "  info:\n",
      "    learner:\n",
      "      default_policy:\n",
      "        allreduce_latency: 0.0\n",
      "        cur_kl_coeff: 0.00032958984375\n",
      "        cur_lr: 3.86e-05\n",
      "        entropy: 0.006838382795897566\n",
      "        entropy_coeff: 0.01\n",
      "        kl: 0.000140361686383337\n",
      "        policy_loss: -0.010999619424568884\n",
      "        total_loss: -0.004946714634019317\n",
      "        vf_explained_var: -0.6009823679924011\n",
      "        vf_loss: 0.012242484398567203\n",
      "    num_steps_sampled: 75600\n",
      "    num_steps_trained: 75600\n",
      "  iterations_since_restore: 18\n",
      "  node_ip: 192.168.0.202\n",
      "  num_healthy_workers: 7\n",
      "  off_policy_estimator: {}\n",
      "  perf:\n",
      "    cpu_util_percent: 33.400000000000006\n",
      "    ram_util_percent: 44.3\n",
      "  pid: 21034\n",
      "  policy_reward_max: {}\n",
      "  policy_reward_mean: {}\n",
      "  policy_reward_min: {}\n",
      "  sampler_perf:\n",
      "    mean_env_wait_ms: 0.5966592614065019\n",
      "    mean_inference_ms: 1.1747423326496444\n",
      "    mean_processing_ms: 0.20830645791566793\n",
      "  time_since_restore: 111.81095743179321\n",
      "  time_this_iter_s: 6.105539083480835\n",
      "  time_total_s: 111.81095743179321\n",
      "  timers:\n",
      "    learn_throughput: 860.507\n",
      "    learn_time_ms: 4880.843\n",
      "    sample_throughput: 3661.494\n",
      "    sample_time_ms: 1147.073\n",
      "    update_time_ms: 1.446\n",
      "  timestamp: 1626407919\n",
      "  timesteps_since_restore: 0\n",
      "  timesteps_total: 75600\n",
      "  training_iteration: 18\n",
      "  trial_id: d625d_00000\n",
      "  \n"
     ]
    },
    {
     "name": "stderr",
     "output_type": "stream",
     "text": [
      "\u001b[2m\u001b[36m(pid=21034)\u001b[0m 2021-07-16 11:58:38,867\tDEBUG sgd.py:120 -- 28 {'allreduce_latency': 0.0, 'cur_kl_coeff': 0.00032958984375, 'cur_lr': 3.86e-05, 'total_loss': -0.004789632491090081, 'policy_loss': -0.010815463593286095, 'vf_loss': 0.012188199299006637, 'vf_explained_var': -0.5446086, 'kl': 0.0002072689810506056, 'entropy': 0.006833733551144233, 'entropy_coeff': 0.01}\n"
     ]
    },
    {
     "data": {
      "text/html": [
       "== Status ==<br>Memory usage on this node: 6.4/14.5 GiB<br>Using FIFO scheduling algorithm.<br>Resources requested: 8/8 CPUs, 0/0 GPUs, 0.0/6.74 GiB heap, 0.0/2.29 GiB objects<br>Result logdir: /home/localadmin/ray_results/PPO<br>Number of trials: 1 (1 RUNNING)<br><table>\n",
       "<thead>\n",
       "<tr><th>Trial name                </th><th>status  </th><th>loc                </th><th style=\"text-align: right;\">  iter</th><th style=\"text-align: right;\">  total time (s)</th><th style=\"text-align: right;\">   ts</th><th style=\"text-align: right;\">  reward</th></tr>\n",
       "</thead>\n",
       "<tbody>\n",
       "<tr><td>PPO_TradingEnv_d625d_00000</td><td>RUNNING </td><td>192.168.0.202:21034</td><td style=\"text-align: right;\">    18</td><td style=\"text-align: right;\">         111.811</td><td style=\"text-align: right;\">75600</td><td style=\"text-align: right;\"> 465.247</td></tr>\n",
       "</tbody>\n",
       "</table><br><br>"
      ],
      "text/plain": [
       "<IPython.core.display.HTML object>"
      ]
     },
     "metadata": {},
     "output_type": "display_data"
    },
    {
     "name": "stderr",
     "output_type": "stream",
     "text": [
      "\u001b[2m\u001b[36m(pid=21034)\u001b[0m 2021-07-16 11:58:39,023\tDEBUG sgd.py:120 -- 29 {'allreduce_latency': 0.0, 'cur_kl_coeff': 0.00032958984375, 'cur_lr': 3.86e-05, 'total_loss': -0.004946714634019317, 'policy_loss': -0.010999619424568884, 'vf_loss': 0.012242484398567203, 'vf_explained_var': -0.60098237, 'kl': 0.000140361686383337, 'entropy': 0.006838382795897566, 'entropy_coeff': 0.01}\n",
      "\u001b[2m\u001b[36m(pid=21034)\u001b[0m 2021-07-16 11:58:39,032\tDEBUG trainer.py:547 -- synchronized filters: {'default_policy': MeanStdFilter((25, 2), True, True, None, (n=75686, mean_mean=-0.3288363005795306, mean_std=3.8472845176292276), (n=0, mean_mean=0.0, mean_std=0.0))}\n",
      "\u001b[2m\u001b[36m(pid=21034)\u001b[0m 2021-07-16 11:58:40,300\tDEBUG sgd.py:120 -- 0 {'allreduce_latency': 0.0, 'cur_kl_coeff': 0.000164794921875, 'cur_lr': 3.4399999999999996e-05, 'total_loss': 0.012162933295423334, 'policy_loss': 0.001078650468226635, 'vf_loss': 0.022311811167817337, 'vf_explained_var': -0.33964747, 'kl': 1.2733909989557233e-05, 'entropy': 0.007162260044203846, 'entropy_coeff': 0.01}\n",
      "\u001b[2m\u001b[36m(pid=21034)\u001b[0m 2021-07-16 11:58:40,454\tDEBUG sgd.py:120 -- 1 {'allreduce_latency': 0.0, 'cur_kl_coeff': 0.000164794921875, 'cur_lr': 3.4399999999999996e-05, 'total_loss': 0.010694913001674595, 'policy_loss': -0.0003156221584614479, 'vf_loss': 0.02216381195378772, 'vf_explained_var': -0.39640054, 'kl': 5.724173552221297e-06, 'entropy': 0.007137126537627685, 'entropy_coeff': 0.01}\n",
      "\u001b[2m\u001b[36m(pid=21034)\u001b[0m 2021-07-16 11:58:40,638\tDEBUG sgd.py:120 -- 2 {'allreduce_latency': 0.0, 'cur_kl_coeff': 0.000164794921875, 'cur_lr': 3.4399999999999996e-05, 'total_loss': 0.010502539490434256, 'policy_loss': -0.000524335399721608, 'vf_loss': 0.022197100905362855, 'vf_explained_var': -0.37787452, 'kl': 1.3200220247667996e-05, 'entropy': 0.007168092540902735, 'entropy_coeff': 0.01}\n",
      "\u001b[2m\u001b[36m(pid=21034)\u001b[0m 2021-07-16 11:58:40,791\tDEBUG sgd.py:120 -- 3 {'allreduce_latency': 0.0, 'cur_kl_coeff': 0.000164794921875, 'cur_lr': 3.4399999999999996e-05, 'total_loss': 0.010964230944712957, 'policy_loss': 2.560420244029074e-05, 'vf_loss': 0.02201958921222919, 'vf_explained_var': -0.33455825, 'kl': 6.920120254094046e-06, 'entropy': 0.007116839546308091, 'entropy_coeff': 0.01}\n",
      "\u001b[2m\u001b[36m(pid=21034)\u001b[0m 2021-07-16 11:58:40,949\tDEBUG sgd.py:120 -- 4 {'allreduce_latency': 0.0, 'cur_kl_coeff': 0.000164794921875, 'cur_lr': 3.4399999999999996e-05, 'total_loss': 0.010518999205845776, 'policy_loss': -0.00046019098072340995, 'vf_loss': 0.022101021802165742, 'vf_explained_var': -0.26997933, 'kl': 1.6327236500821776e-05, 'entropy': 0.007132498655030786, 'entropy_coeff': 0.01}\n",
      "\u001b[2m\u001b[36m(pid=21034)\u001b[0m 2021-07-16 11:58:41,099\tDEBUG sgd.py:120 -- 5 {'allreduce_latency': 0.0, 'cur_kl_coeff': 0.000164794921875, 'cur_lr': 3.4399999999999996e-05, 'total_loss': 0.012246494548338833, 'policy_loss': 0.0010945539582859385, 'vf_loss': 0.022447108478059596, 'vf_explained_var': -0.22151981, 'kl': 7.79865900219854e-05, 'entropy': 0.007162666954999705, 'entropy_coeff': 0.01}\n",
      "\u001b[2m\u001b[36m(pid=21034)\u001b[0m 2021-07-16 11:58:41,254\tDEBUG sgd.py:120 -- 6 {'allreduce_latency': 0.0, 'cur_kl_coeff': 0.000164794921875, 'cur_lr': 3.4399999999999996e-05, 'total_loss': 0.009590701058958515, 'policy_loss': -0.0013701536862010305, 'vf_loss': 0.022062606121780293, 'vf_explained_var': -0.16804299, 'kl': 1.2663793359970612e-05, 'entropy': 0.007044869419504804, 'entropy_coeff': 0.01}\n",
      "\u001b[2m\u001b[36m(pid=21034)\u001b[0m 2021-07-16 11:58:41,409\tDEBUG sgd.py:120 -- 7 {'allreduce_latency': 0.0, 'cur_kl_coeff': 0.000164794921875, 'cur_lr': 3.4399999999999996e-05, 'total_loss': 0.009733686618732683, 'policy_loss': -0.0012186034159226851, 'vf_loss': 0.022045767800811904, 'vf_explained_var': -0.3295026, 'kl': 6.758139571839582e-06, 'entropy': 0.0070597367159665955, 'entropy_coeff': 0.01}\n",
      "\u001b[2m\u001b[36m(pid=21034)\u001b[0m 2021-07-16 11:58:41,567\tDEBUG sgd.py:120 -- 8 {'allreduce_latency': 0.0, 'cur_kl_coeff': 0.000164794921875, 'cur_lr': 3.4399999999999996e-05, 'total_loss': 0.010637492844552704, 'policy_loss': -0.00031523282329241437, 'vf_loss': 0.022045864631901637, 'vf_explained_var': -0.30560955, 'kl': 5.085110829623552e-05, 'entropy': 0.007021612721666425, 'entropy_coeff': 0.01}\n",
      "\u001b[2m\u001b[36m(pid=21034)\u001b[0m 2021-07-16 11:58:41,722\tDEBUG sgd.py:120 -- 9 {'allreduce_latency': 0.0, 'cur_kl_coeff': 0.000164794921875, 'cur_lr': 3.4399999999999996e-05, 'total_loss': 0.012150176518568487, 'policy_loss': 0.001049482517621734, 'vf_loss': 0.022342032468948288, 'vf_explained_var': -0.32774803, 'kl': 1.640519043503859e-05, 'entropy': 0.007032608004837212, 'entropy_coeff': 0.01}\n",
      "\u001b[2m\u001b[36m(pid=21034)\u001b[0m 2021-07-16 11:58:41,879\tDEBUG sgd.py:120 -- 10 {'allreduce_latency': 0.0, 'cur_kl_coeff': 0.000164794921875, 'cur_lr': 3.4399999999999996e-05, 'total_loss': 0.009641470274690426, 'policy_loss': -0.001432942170085329, 'vf_loss': 0.02228913347194479, 'vf_explained_var': -0.31911469, 'kl': 1.6711064363782885e-05, 'entropy': 0.007015775181846975, 'entropy_coeff': 0.01}\n",
      "\u001b[2m\u001b[36m(pid=21034)\u001b[0m 2021-07-16 11:58:42,032\tDEBUG sgd.py:120 -- 11 {'allreduce_latency': 0.0, 'cur_kl_coeff': 0.000164794921875, 'cur_lr': 3.4399999999999996e-05, 'total_loss': 0.010093978013504635, 'policy_loss': -0.001000642945820635, 'vf_loss': 0.02232951586748558, 'vf_explained_var': -0.24294229, 'kl': 1.177781474966237e-05, 'entropy': 0.007013594729042697, 'entropy_coeff': 0.01}\n",
      "\u001b[2m\u001b[36m(pid=21034)\u001b[0m 2021-07-16 11:58:42,188\tDEBUG sgd.py:120 -- 12 {'allreduce_latency': 0.0, 'cur_kl_coeff': 0.000164794921875, 'cur_lr': 3.4399999999999996e-05, 'total_loss': 0.008896120344147537, 'policy_loss': -0.0020526083129825015, 'vf_loss': 0.02203725405552453, 'vf_explained_var': -0.2912917, 'kl': 3.608739245940955e-05, 'entropy': 0.006990693154379683, 'entropy_coeff': 0.01}\n",
      "\u001b[2m\u001b[36m(pid=21034)\u001b[0m 2021-07-16 11:58:42,341\tDEBUG sgd.py:120 -- 13 {'allreduce_latency': 0.0, 'cur_kl_coeff': 0.000164794921875, 'cur_lr': 3.4399999999999996e-05, 'total_loss': 0.00928510454567996, 'policy_loss': -0.001674238747606675, 'vf_loss': 0.022057515417338545, 'vf_explained_var': -0.3571333, 'kl': 8.307470463313415e-06, 'entropy': 0.006941442841710196, 'entropy_coeff': 0.01}\n",
      "\u001b[2m\u001b[36m(pid=21034)\u001b[0m 2021-07-16 11:58:42,499\tDEBUG sgd.py:120 -- 14 {'allreduce_latency': 0.0, 'cur_kl_coeff': 0.000164794921875, 'cur_lr': 3.4399999999999996e-05, 'total_loss': 0.009398111424437075, 'policy_loss': -0.0015896719626405022, 'vf_loss': 0.022114177604883233, 'vf_explained_var': -0.40533188, 'kl': 5.5015072968506665e-05, 'entropy': 0.0069315540308845375, 'entropy_coeff': 0.01}\n",
      "\u001b[2m\u001b[36m(pid=21034)\u001b[0m 2021-07-16 11:58:42,650\tDEBUG sgd.py:120 -- 15 {'allreduce_latency': 0.0, 'cur_kl_coeff': 0.000164794921875, 'cur_lr': 3.4399999999999996e-05, 'total_loss': 0.008925755592909727, 'policy_loss': -0.002051819891979297, 'vf_loss': 0.022094181913416833, 'vf_explained_var': -0.30339468, 'kl': 3.4011302637602306e-05, 'entropy': 0.006952122475426718, 'entropy_coeff': 0.01}\n",
      "\u001b[2m\u001b[36m(pid=21034)\u001b[0m 2021-07-16 11:58:42,807\tDEBUG sgd.py:120 -- 16 {'allreduce_latency': 0.0, 'cur_kl_coeff': 0.000164794921875, 'cur_lr': 3.4399999999999996e-05, 'total_loss': 0.009047633770740393, 'policy_loss': -0.0019462079825726423, 'vf_loss': 0.0221258754591514, 'vf_explained_var': -0.35432932, 'kl': 4.9736023222315204e-05, 'entropy': 0.006910311876598633, 'entropy_coeff': 0.01}\n",
      "\u001b[2m\u001b[36m(pid=21034)\u001b[0m 2021-07-16 11:58:42,961\tDEBUG sgd.py:120 -- 17 {'allreduce_latency': 0.0, 'cur_kl_coeff': 0.000164794921875, 'cur_lr': 3.4399999999999996e-05, 'total_loss': 0.008071652303139368, 'policy_loss': -0.002885987502381657, 'vf_loss': 0.02205387564114944, 'vf_explained_var': -0.24814923, 'kl': 2.262147239920606e-05, 'entropy': 0.006929947664585515, 'entropy_coeff': 0.01}\n",
      "\u001b[2m\u001b[36m(pid=21034)\u001b[0m 2021-07-16 11:58:43,118\tDEBUG sgd.py:120 -- 18 {'allreduce_latency': 0.0, 'cur_kl_coeff': 0.000164794921875, 'cur_lr': 3.4399999999999996e-05, 'total_loss': 0.008022973370371443, 'policy_loss': -0.002910925160077485, 'vf_loss': 0.02200529109474949, 'vf_explained_var': -0.28669882, 'kl': 1.7513352730702536e-05, 'entropy': 0.0068750248780512875, 'entropy_coeff': 0.01}\n",
      "\u001b[2m\u001b[36m(pid=21034)\u001b[0m 2021-07-16 11:58:43,270\tDEBUG sgd.py:120 -- 19 {'allreduce_latency': 0.0, 'cur_kl_coeff': 0.000164794921875, 'cur_lr': 3.4399999999999996e-05, 'total_loss': 0.00836622037670829, 'policy_loss': -0.002556224071392507, 'vf_loss': 0.0219819713666132, 'vf_explained_var': -0.352259, 'kl': 4.664036723707928e-05, 'entropy': 0.00685491122650009, 'entropy_coeff': 0.01}\n"
     ]
    },
    {
     "name": "stderr",
     "output_type": "stream",
     "text": [
      "\u001b[2m\u001b[36m(pid=21034)\u001b[0m 2021-07-16 11:58:43,430\tDEBUG sgd.py:120 -- 20 {'allreduce_latency': 0.0, 'cur_kl_coeff': 0.000164794921875, 'cur_lr': 3.4399999999999996e-05, 'total_loss': 0.009764917335952774, 'policy_loss': -0.001288480774471254, 'vf_loss': 0.02224438959930205, 'vf_explained_var': -0.22257733, 'kl': 1.622894985998893e-05, 'entropy': 0.006879925426002239, 'entropy_coeff': 0.01}\n",
      "\u001b[2m\u001b[36m(pid=21034)\u001b[0m 2021-07-16 11:58:43,583\tDEBUG sgd.py:120 -- 21 {'allreduce_latency': 0.0, 'cur_kl_coeff': 0.000164794921875, 'cur_lr': 3.4399999999999996e-05, 'total_loss': 0.008013646400561838, 'policy_loss': -0.0030084819053158617, 'vf_loss': 0.022182126825844698, 'vf_explained_var': -0.3132395, 'kl': 2.8185885002351302e-05, 'entropy': 0.00689367642873108, 'entropy_coeff': 0.01}\n",
      "\u001b[2m\u001b[36m(pid=21034)\u001b[0m 2021-07-16 11:58:43,740\tDEBUG sgd.py:120 -- 22 {'allreduce_latency': 0.0, 'cur_kl_coeff': 0.000164794921875, 'cur_lr': 3.4399999999999996e-05, 'total_loss': 0.007821981484691301, 'policy_loss': -0.003135699863460931, 'vf_loss': 0.022052975394410278, 'vf_explained_var': -0.19741897, 'kl': 6.122050034250468e-05, 'entropy': 0.006881843072319912, 'entropy_coeff': 0.01}\n",
      "\u001b[2m\u001b[36m(pid=21034)\u001b[0m 2021-07-16 11:58:43,893\tDEBUG sgd.py:120 -- 23 {'allreduce_latency': 0.0, 'cur_kl_coeff': 0.000164794921875, 'cur_lr': 3.4399999999999996e-05, 'total_loss': 0.007411825555292043, 'policy_loss': -0.0036067338942578344, 'vf_loss': 0.02217286426192996, 'vf_explained_var': -0.34086365, 'kl': 4.825763996267817e-05, 'entropy': 0.006788171962508579, 'entropy_coeff': 0.01}\n",
      "\u001b[2m\u001b[36m(pid=21034)\u001b[0m 2021-07-16 11:58:44,048\tDEBUG sgd.py:120 -- 24 {'allreduce_latency': 0.0, 'cur_kl_coeff': 0.000164794921875, 'cur_lr': 3.4399999999999996e-05, 'total_loss': 0.00803271827824188, 'policy_loss': -0.0030050150146990113, 'vf_loss': 0.022211677273982346, 'vf_explained_var': -0.36010027, 'kl': 2.4055841663539468e-05, 'entropy': 0.006811130883623705, 'entropy_coeff': 0.01}\n",
      "\u001b[2m\u001b[36m(pid=21034)\u001b[0m 2021-07-16 11:58:44,199\tDEBUG sgd.py:120 -- 25 {'allreduce_latency': 0.0, 'cur_kl_coeff': 0.000164794921875, 'cur_lr': 3.4399999999999996e-05, 'total_loss': 0.007383372295986523, 'policy_loss': -0.0035501916779938974, 'vf_loss': 0.02200267802585255, 'vf_explained_var': -0.32326978, 'kl': 6.852152053700895e-05, 'entropy': 0.006778513410774229, 'entropy_coeff': 0.01}\n",
      "\u001b[2m\u001b[36m(pid=21034)\u001b[0m 2021-07-16 11:58:44,357\tDEBUG sgd.py:120 -- 26 {'allreduce_latency': 0.0, 'cur_kl_coeff': 0.000164794921875, 'cur_lr': 3.4399999999999996e-05, 'total_loss': 0.007370630222739595, 'policy_loss': -0.0036602628163316035, 'vf_loss': 0.02219687113679494, 'vf_explained_var': -0.40390036, 'kl': 3.284659962076938e-05, 'entropy': 0.006755011638023406, 'entropy_coeff': 0.01}\n",
      "\u001b[2m\u001b[36m(pid=21034)\u001b[0m 2021-07-16 11:58:44,511\tDEBUG sgd.py:120 -- 27 {'allreduce_latency': 0.0, 'cur_kl_coeff': 0.000164794921875, 'cur_lr': 3.4399999999999996e-05, 'total_loss': 0.006824289759000142, 'policy_loss': -0.004105460068041628, 'vf_loss': 0.021994515265705006, 'vf_explained_var': -0.26979968, 'kl': 3.13396308091328e-05, 'entropy': 0.006751344842610486, 'entropy_coeff': 0.01}\n"
     ]
    },
    {
     "name": "stdout",
     "output_type": "stream",
     "text": [
      "Result for PPO_TradingEnv_d625d_00000:\n",
      "  custom_metrics: {}\n",
      "  date: 2021-07-16_11-58-44\n",
      "  done: false\n",
      "  episode_len_mean: 906.7380952380952\n",
      "  episode_reward_max: 558.5853737431826\n",
      "  episode_reward_mean: 470.79958978827153\n",
      "  episode_reward_min: -23.913504331878357\n",
      "  episodes_this_iter: 5\n",
      "  episodes_total: 84\n",
      "  experiment_id: e6369b7d95d74c47a2c2141b4142c2c5\n",
      "  experiment_tag: '0'\n",
      "  hostname: localadmin-ECA-FX44E4C\n",
      "  info:\n",
      "    learner:\n",
      "      default_policy:\n",
      "        allreduce_latency: 0.0\n",
      "        cur_kl_coeff: 0.000164794921875\n",
      "        cur_lr: 3.4399999999999996e-05\n",
      "        entropy: 0.006747679033486003\n",
      "        entropy_coeff: 0.01\n",
      "        kl: 4.152761775775148e-05\n",
      "        policy_loss: -0.0033222502803034854\n",
      "        total_loss: 0.007803015185124947\n",
      "        vf_explained_var: -0.3053879737854004\n",
      "        vf_loss: 0.022385477471151247\n",
      "    num_steps_sampled: 79800\n",
      "    num_steps_trained: 79800\n",
      "  iterations_since_restore: 19\n",
      "  node_ip: 192.168.0.202\n",
      "  num_healthy_workers: 7\n",
      "  off_policy_estimator: {}\n",
      "  perf:\n",
      "    cpu_util_percent: 31.474999999999998\n",
      "    ram_util_percent: 44.25\n",
      "  pid: 21034\n",
      "  policy_reward_max: {}\n",
      "  policy_reward_mean: {}\n",
      "  policy_reward_min: {}\n",
      "  sampler_perf:\n",
      "    mean_env_wait_ms: 0.5882185312327141\n",
      "    mean_inference_ms: 1.1741076865858484\n",
      "    mean_processing_ms: 0.20817324867488518\n",
      "  time_since_restore: 117.58370089530945\n",
      "  time_this_iter_s: 5.772743463516235\n",
      "  time_total_s: 117.58370089530945\n",
      "  timers:\n",
      "    learn_throughput: 862.925\n",
      "    learn_time_ms: 4867.165\n",
      "    sample_throughput: 3656.332\n",
      "    sample_time_ms: 1148.692\n",
      "    update_time_ms: 1.435\n",
      "  timestamp: 1626407924\n",
      "  timesteps_since_restore: 0\n",
      "  timesteps_total: 79800\n",
      "  training_iteration: 19\n",
      "  trial_id: d625d_00000\n",
      "  \n"
     ]
    },
    {
     "name": "stderr",
     "output_type": "stream",
     "text": [
      "\u001b[2m\u001b[36m(pid=21034)\u001b[0m 2021-07-16 11:58:44,669\tDEBUG sgd.py:120 -- 28 {'allreduce_latency': 0.0, 'cur_kl_coeff': 0.000164794921875, 'cur_lr': 3.4399999999999996e-05, 'total_loss': 0.007576279003511776, 'policy_loss': -0.003350772132927721, 'vf_loss': 0.021988353242208672, 'vf_explained_var': -0.4642879, 'kl': 5.699382995427379e-05, 'entropy': 0.006713623873303842, 'entropy_coeff': 0.01}\n",
      "\u001b[2m\u001b[36m(pid=21034)\u001b[0m 2021-07-16 11:58:44,821\tDEBUG sgd.py:120 -- 29 {'allreduce_latency': 0.0, 'cur_kl_coeff': 0.000164794921875, 'cur_lr': 3.4399999999999996e-05, 'total_loss': 0.007803015185124947, 'policy_loss': -0.0033222502803034854, 'vf_loss': 0.022385477471151247, 'vf_explained_var': -0.30538797, 'kl': 4.152761775775148e-05, 'entropy': 0.006747679033486003, 'entropy_coeff': 0.01}\n",
      "\u001b[2m\u001b[36m(pid=21034)\u001b[0m 2021-07-16 11:58:44,829\tDEBUG trainer.py:547 -- synchronized filters: {'default_policy': MeanStdFilter((25, 2), True, True, None, (n=79891, mean_mean=-0.3398530630388176, mean_std=3.843242349047893), (n=0, mean_mean=0.0, mean_std=0.0))}\n"
     ]
    },
    {
     "data": {
      "text/html": [
       "== Status ==<br>Memory usage on this node: 6.4/14.5 GiB<br>Using FIFO scheduling algorithm.<br>Resources requested: 8/8 CPUs, 0/0 GPUs, 0.0/6.74 GiB heap, 0.0/2.29 GiB objects<br>Result logdir: /home/localadmin/ray_results/PPO<br>Number of trials: 1 (1 RUNNING)<br><table>\n",
       "<thead>\n",
       "<tr><th>Trial name                </th><th>status  </th><th>loc                </th><th style=\"text-align: right;\">  iter</th><th style=\"text-align: right;\">  total time (s)</th><th style=\"text-align: right;\">   ts</th><th style=\"text-align: right;\">  reward</th></tr>\n",
       "</thead>\n",
       "<tbody>\n",
       "<tr><td>PPO_TradingEnv_d625d_00000</td><td>RUNNING </td><td>192.168.0.202:21034</td><td style=\"text-align: right;\">    19</td><td style=\"text-align: right;\">         117.584</td><td style=\"text-align: right;\">79800</td><td style=\"text-align: right;\">   470.8</td></tr>\n",
       "</tbody>\n",
       "</table><br><br>"
      ],
      "text/plain": [
       "<IPython.core.display.HTML object>"
      ]
     },
     "metadata": {},
     "output_type": "display_data"
    },
    {
     "name": "stderr",
     "output_type": "stream",
     "text": [
      "\u001b[2m\u001b[36m(pid=21034)\u001b[0m 2021-07-16 11:58:46,084\tDEBUG sgd.py:120 -- 0 {'allreduce_latency': 0.0, 'cur_kl_coeff': 8.23974609375e-05, 'cur_lr': 3.0200000000000002e-05, 'total_loss': 0.010026588753768892, 'policy_loss': 0.0002755484628406438, 'vf_loss': 0.019631627010477878, 'vf_explained_var': -0.20260224, 'kl': 3.1971465350064204e-05, 'entropy': 0.0064774022596821215, 'entropy_coeff': 0.01}\n",
      "\u001b[2m\u001b[36m(pid=21034)\u001b[0m 2021-07-16 11:58:46,237\tDEBUG sgd.py:120 -- 1 {'allreduce_latency': 0.0, 'cur_kl_coeff': 8.23974609375e-05, 'cur_lr': 3.0200000000000002e-05, 'total_loss': 0.010017886306300308, 'policy_loss': 0.0002550735335909959, 'vf_loss': 0.01965462581332152, 'vf_explained_var': -0.37981042, 'kl': 0.00014227498143313792, 'entropy': 0.006451316153536688, 'entropy_coeff': 0.01}\n",
      "\u001b[2m\u001b[36m(pid=21034)\u001b[0m 2021-07-16 11:58:46,393\tDEBUG sgd.py:120 -- 2 {'allreduce_latency': 0.0, 'cur_kl_coeff': 8.23974609375e-05, 'cur_lr': 3.0200000000000002e-05, 'total_loss': 0.008282433673174995, 'policy_loss': -0.0015609596545497577, 'vf_loss': 0.01981567714370392, 'vf_explained_var': -0.36624837, 'kl': 0.00011536705730388476, 'entropy': 0.006445313415139081, 'entropy_coeff': 0.01}\n",
      "\u001b[2m\u001b[36m(pid=21034)\u001b[0m 2021-07-16 11:58:46,553\tDEBUG sgd.py:120 -- 3 {'allreduce_latency': 0.0, 'cur_kl_coeff': 8.23974609375e-05, 'cur_lr': 3.0200000000000002e-05, 'total_loss': 0.009407984516160055, 'policy_loss': -0.00036585285808100844, 'vf_loss': 0.019678535133910675, 'vf_explained_var': -0.25297165, 'kl': 1.4216814106889201e-05, 'entropy': 0.006543351255734733, 'entropy_coeff': 0.01}\n",
      "\u001b[2m\u001b[36m(pid=21034)\u001b[0m 2021-07-16 11:58:46,710\tDEBUG sgd.py:120 -- 4 {'allreduce_latency': 0.0, 'cur_kl_coeff': 8.23974609375e-05, 'cur_lr': 3.0200000000000002e-05, 'total_loss': 0.009007631264852755, 'policy_loss': -0.0008555515810395732, 'vf_loss': 0.019856804600832136, 'vf_explained_var': -0.39775366, 'kl': 2.9507654526190148e-05, 'entropy': 0.0065216953142115735, 'entropy_coeff': 0.01}\n",
      "\u001b[2m\u001b[36m(pid=21034)\u001b[0m 2021-07-16 11:58:46,863\tDEBUG sgd.py:120 -- 5 {'allreduce_latency': 0.0, 'cur_kl_coeff': 8.23974609375e-05, 'cur_lr': 3.0200000000000002e-05, 'total_loss': 0.008882522329010746, 'policy_loss': -0.0009317944729418466, 'vf_loss': 0.01975699519618612, 'vf_explained_var': -0.3452509, 'kl': 0.00013635548204106408, 'entropy': 0.00641926465146808, 'entropy_coeff': 0.01}\n",
      "\u001b[2m\u001b[36m(pid=21034)\u001b[0m 2021-07-16 11:58:47,024\tDEBUG sgd.py:120 -- 6 {'allreduce_latency': 0.0, 'cur_kl_coeff': 8.23974609375e-05, 'cur_lr': 3.0200000000000002e-05, 'total_loss': 0.00787701333562533, 'policy_loss': -0.0018394158193559358, 'vf_loss': 0.01956099275302029, 'vf_explained_var': -0.2854843, 'kl': 0.0001279983390807529, 'entropy': 0.006407423807435076, 'entropy_coeff': 0.01}\n",
      "\u001b[2m\u001b[36m(pid=21034)\u001b[0m 2021-07-16 11:58:47,177\tDEBUG sgd.py:120 -- 7 {'allreduce_latency': 0.0, 'cur_kl_coeff': 8.23974609375e-05, 'cur_lr': 3.0200000000000002e-05, 'total_loss': 0.009098665055000421, 'policy_loss': -0.0007645250439192309, 'vf_loss': 0.019855081567639543, 'vf_explained_var': -0.30101874, 'kl': 0.00011242003575065692, 'entropy': 0.00643591570405988, 'entropy_coeff': 0.01}\n",
      "\u001b[2m\u001b[36m(pid=21034)\u001b[0m 2021-07-16 11:58:47,336\tDEBUG sgd.py:120 -- 8 {'allreduce_latency': 0.0, 'cur_kl_coeff': 8.23974609375e-05, 'cur_lr': 3.0200000000000002e-05, 'total_loss': 0.008601259750624498, 'policy_loss': -0.0011090905772465649, 'vf_loss': 0.019548807573631744, 'vf_explained_var': -0.24162465, 'kl': 0.0001463532518019578, 'entropy': 0.006406434219322612, 'entropy_coeff': 0.01}\n",
      "\u001b[2m\u001b[36m(pid=21034)\u001b[0m 2021-07-16 11:58:47,501\tDEBUG sgd.py:120 -- 9 {'allreduce_latency': 0.0, 'cur_kl_coeff': 8.23974609375e-05, 'cur_lr': 3.0200000000000002e-05, 'total_loss': 0.008271308841578888, 'policy_loss': -0.0014738252273563182, 'vf_loss': 0.019620709378752068, 'vf_explained_var': -0.2817255, 'kl': 4.8444419961068626e-05, 'entropy': 0.006522415649724831, 'entropy_coeff': 0.01}\n",
      "\u001b[2m\u001b[36m(pid=21034)\u001b[0m 2021-07-16 11:58:47,655\tDEBUG sgd.py:120 -- 10 {'allreduce_latency': 0.0, 'cur_kl_coeff': 8.23974609375e-05, 'cur_lr': 3.0200000000000002e-05, 'total_loss': 0.008137831915960167, 'policy_loss': -0.0016047303762399788, 'vf_loss': 0.019613559729116263, 'vf_explained_var': -0.28681752, 'kl': 8.031706355788602e-05, 'entropy': 0.0064224182265620175, 'entropy_coeff': 0.01}\n",
      "\u001b[2m\u001b[36m(pid=21034)\u001b[0m 2021-07-16 11:58:47,813\tDEBUG sgd.py:120 -- 11 {'allreduce_latency': 0.0, 'cur_kl_coeff': 8.23974609375e-05, 'cur_lr': 3.0200000000000002e-05, 'total_loss': 0.008678283034400507, 'policy_loss': -0.0010782610977802312, 'vf_loss': 0.019641401103316723, 'vf_explained_var': -0.30725047, 'kl': 0.00019174165335927694, 'entropy': 0.00641698631104439, 'entropy_coeff': 0.01}\n",
      "\u001b[2m\u001b[36m(pid=21034)\u001b[0m 2021-07-16 11:58:47,967\tDEBUG sgd.py:120 -- 12 {'allreduce_latency': 0.0, 'cur_kl_coeff': 8.23974609375e-05, 'cur_lr': 3.0200000000000002e-05, 'total_loss': 0.008049217363198599, 'policy_loss': -0.00167924247569207, 'vf_loss': 0.019585249225863, 'vf_explained_var': -0.41585404, 'kl': 6.043222161911783e-05, 'entropy': 0.006416754087405769, 'entropy_coeff': 0.01}\n",
      "\u001b[2m\u001b[36m(pid=21034)\u001b[0m 2021-07-16 11:58:48,132\tDEBUG sgd.py:120 -- 13 {'allreduce_latency': 0.0, 'cur_kl_coeff': 8.23974609375e-05, 'cur_lr': 3.0200000000000002e-05, 'total_loss': 0.00798089395869862, 'policy_loss': -0.001759277938893347, 'vf_loss': 0.019608630123195435, 'vf_explained_var': -0.36129057, 'kl': 0.00010416154506742714, 'entropy': 0.006415289438860562, 'entropy_coeff': 0.01}\n",
      "\u001b[2m\u001b[36m(pid=21034)\u001b[0m 2021-07-16 11:58:48,286\tDEBUG sgd.py:120 -- 14 {'allreduce_latency': 0.0, 'cur_kl_coeff': 8.23974609375e-05, 'cur_lr': 3.0200000000000002e-05, 'total_loss': 0.00901173022716786, 'policy_loss': -0.0007903689631458485, 'vf_loss': 0.01973230599171736, 'vf_explained_var': -0.2939052, 'kl': 0.0001318360057401454, 'entropy': 0.00640624298356477, 'entropy_coeff': 0.01}\n",
      "\u001b[2m\u001b[36m(pid=21034)\u001b[0m 2021-07-16 11:58:48,459\tDEBUG sgd.py:120 -- 15 {'allreduce_latency': 0.0, 'cur_kl_coeff': 8.23974609375e-05, 'cur_lr': 3.0200000000000002e-05, 'total_loss': 0.00940339199521325, 'policy_loss': -0.00042543382468548686, 'vf_loss': 0.019784581852780484, 'vf_explained_var': -0.21637902, 'kl': 0.00022595390444821257, 'entropy': 0.0063483828231586485, 'entropy_coeff': 0.01}\n",
      "\u001b[2m\u001b[36m(pid=21034)\u001b[0m 2021-07-16 11:58:48,617\tDEBUG sgd.py:120 -- 16 {'allreduce_latency': 0.0, 'cur_kl_coeff': 8.23974609375e-05, 'cur_lr': 3.0200000000000002e-05, 'total_loss': 0.0075057606692567015, 'policy_loss': -0.0022348060526631093, 'vf_loss': 0.019609930090761434, 'vf_explained_var': -0.29694253, 'kl': 6.156289049558285e-05, 'entropy': 0.006440466625270236, 'entropy_coeff': 0.01}\n",
      "\u001b[2m\u001b[36m(pid=21034)\u001b[0m 2021-07-16 11:58:48,778\tDEBUG sgd.py:120 -- 17 {'allreduce_latency': 0.0, 'cur_kl_coeff': 8.23974609375e-05, 'cur_lr': 3.0200000000000002e-05, 'total_loss': 0.008085910456650185, 'policy_loss': -0.0016530785483844352, 'vf_loss': 0.019604576173040903, 'vf_explained_var': -0.40959913, 'kl': 0.00015767420665146017, 'entropy': 0.006331225843027685, 'entropy_coeff': 0.01}\n",
      "\u001b[2m\u001b[36m(pid=21034)\u001b[0m 2021-07-16 11:58:48,940\tDEBUG sgd.py:120 -- 18 {'allreduce_latency': 0.0, 'cur_kl_coeff': 8.23974609375e-05, 'cur_lr': 3.0200000000000002e-05, 'total_loss': 0.0072359862088254, 'policy_loss': -0.0025343105592059365, 'vf_loss': 0.01966827271936574, 'vf_explained_var': -0.238714, 'kl': 6.163164480555882e-05, 'entropy': 0.006384398067452959, 'entropy_coeff': 0.01}\n",
      "\u001b[2m\u001b[36m(pid=21034)\u001b[0m 2021-07-16 11:58:49,099\tDEBUG sgd.py:120 -- 19 {'allreduce_latency': 0.0, 'cur_kl_coeff': 8.23974609375e-05, 'cur_lr': 3.0200000000000002e-05, 'total_loss': 0.007562412231257467, 'policy_loss': -0.0021371651708966856, 'vf_loss': 0.019527467403377435, 'vf_explained_var': -0.30317426, 'kl': 4.361710409480938e-05, 'entropy': 0.006415963391963019, 'entropy_coeff': 0.01}\n",
      "\u001b[2m\u001b[36m(pid=21034)\u001b[0m 2021-07-16 11:58:49,256\tDEBUG sgd.py:120 -- 20 {'allreduce_latency': 0.0, 'cur_kl_coeff': 8.23974609375e-05, 'cur_lr': 3.0200000000000002e-05, 'total_loss': 0.00849934486728726, 'policy_loss': -0.0012527753062772028, 'vf_loss': 0.019631026051656314, 'vf_explained_var': -0.2959396, 'kl': 0.00011744068223399384, 'entropy': 0.0063402974590258745, 'entropy_coeff': 0.01}\n",
      "\u001b[2m\u001b[36m(pid=21034)\u001b[0m 2021-07-16 11:58:49,412\tDEBUG sgd.py:120 -- 21 {'allreduce_latency': 0.0, 'cur_kl_coeff': 8.23974609375e-05, 'cur_lr': 3.0200000000000002e-05, 'total_loss': 0.007830484996013569, 'policy_loss': -0.0018918948022253585, 'vf_loss': 0.01957187838817128, 'vf_explained_var': -0.4005602, 'kl': 7.548414878992087e-05, 'entropy': 0.0063563715878196736, 'entropy_coeff': 0.01}\n"
     ]
    },
    {
     "name": "stderr",
     "output_type": "stream",
     "text": [
      "\u001b[2m\u001b[36m(pid=21034)\u001b[0m 2021-07-16 11:58:49,586\tDEBUG sgd.py:120 -- 22 {'allreduce_latency': 0.0, 'cur_kl_coeff': 8.23974609375e-05, 'cur_lr': 3.0200000000000002e-05, 'total_loss': 0.008067897831400236, 'policy_loss': -0.0017214393186749835, 'vf_loss': 0.019705246918778303, 'vf_explained_var': -0.19385311, 'kl': 0.00013742856454386626, 'entropy': 0.006329598437966497, 'entropy_coeff': 0.01}\n",
      "\u001b[2m\u001b[36m(pid=21034)\u001b[0m 2021-07-16 11:58:49,784\tDEBUG sgd.py:120 -- 23 {'allreduce_latency': 0.0, 'cur_kl_coeff': 8.23974609375e-05, 'cur_lr': 3.0200000000000002e-05, 'total_loss': 0.007675341104693485, 'policy_loss': -0.0020002002517382302, 'vf_loss': 0.019476932673679778, 'vf_explained_var': -0.31585002, 'kl': 0.00010732547270674398, 'entropy': 0.006293394887231416, 'entropy_coeff': 0.01}\n",
      "\u001b[2m\u001b[36m(pid=21034)\u001b[0m 2021-07-16 11:58:49,951\tDEBUG sgd.py:120 -- 24 {'allreduce_latency': 0.0, 'cur_kl_coeff': 8.23974609375e-05, 'cur_lr': 3.0200000000000002e-05, 'total_loss': 0.006955917755311186, 'policy_loss': -0.0027488654930934763, 'vf_loss': 0.019535062691747127, 'vf_explained_var': -0.3467165, 'kl': 0.0001306164680892669, 'entropy': 0.0062757313237604894, 'entropy_coeff': 0.01}\n",
      "\u001b[2m\u001b[36m(pid=21034)\u001b[0m 2021-07-16 11:58:50,122\tDEBUG sgd.py:120 -- 25 {'allreduce_latency': 0.0, 'cur_kl_coeff': 8.23974609375e-05, 'cur_lr': 3.0200000000000002e-05, 'total_loss': 0.008137692894899485, 'policy_loss': -0.001639741783340772, 'vf_loss': 0.019682278519736206, 'vf_explained_var': -0.2771799, 'kl': 4.6791799153028833e-05, 'entropy': 0.006370787085071435, 'entropy_coeff': 0.01}\n",
      "\u001b[2m\u001b[36m(pid=21034)\u001b[0m 2021-07-16 11:58:50,305\tDEBUG sgd.py:120 -- 26 {'allreduce_latency': 0.0, 'cur_kl_coeff': 8.23974609375e-05, 'cur_lr': 3.0200000000000002e-05, 'total_loss': 0.008036447096277367, 'policy_loss': -0.0017497697562882395, 'vf_loss': 0.019698416455260787, 'vf_explained_var': -0.29122674, 'kl': 0.00012677244473272597, 'entropy': 0.006300108802117227, 'entropy_coeff': 0.01}\n",
      "\u001b[2m\u001b[36m(pid=21034)\u001b[0m 2021-07-16 11:58:50,460\tDEBUG sgd.py:120 -- 27 {'allreduce_latency': 0.0, 'cur_kl_coeff': 8.23974609375e-05, 'cur_lr': 3.0200000000000002e-05, 'total_loss': 0.007005140128912348, 'policy_loss': -0.0027024726750272694, 'vf_loss': 0.019542488802196174, 'vf_explained_var': -0.3441934, 'kl': 8.037039125349222e-05, 'entropy': 0.006363950494260555, 'entropy_coeff': 0.01}\n"
     ]
    },
    {
     "name": "stdout",
     "output_type": "stream",
     "text": [
      "Result for PPO_TradingEnv_d625d_00000:\n",
      "  custom_metrics: {}\n",
      "  date: 2021-07-16_11-58-50\n",
      "  done: false\n",
      "  episode_len_mean: 910.1428571428571\n",
      "  episode_reward_max: 558.5942363018767\n",
      "  episode_reward_mean: 477.54831624995876\n",
      "  episode_reward_min: -23.913504331878357\n",
      "  episodes_this_iter: 7\n",
      "  episodes_total: 91\n",
      "  experiment_id: e6369b7d95d74c47a2c2141b4142c2c5\n",
      "  experiment_tag: '0'\n",
      "  hostname: localadmin-ECA-FX44E4C\n",
      "  info:\n",
      "    learner:\n",
      "      default_policy:\n",
      "        allreduce_latency: 0.0\n",
      "        cur_kl_coeff: 8.23974609375e-05\n",
      "        cur_lr: 3.0200000000000002e-05\n",
      "        entropy: 0.006304450488338868\n",
      "        entropy_coeff: 0.01\n",
      "        kl: 5.0308911116906416e-05\n",
      "        policy_loss: -0.0027512471106919375\n",
      "        total_loss: 0.006919742209103071\n",
      "        vf_explained_var: -0.2338089793920517\n",
      "        vf_loss: 0.01946805911068099\n",
      "    num_steps_sampled: 84000\n",
      "    num_steps_trained: 84000\n",
      "  iterations_since_restore: 20\n",
      "  node_ip: 192.168.0.202\n",
      "  num_healthy_workers: 7\n",
      "  off_policy_estimator: {}\n",
      "  perf:\n",
      "    cpu_util_percent: 31.83333333333333\n",
      "    ram_util_percent: 44.32222222222222\n",
      "  pid: 21034\n",
      "  policy_reward_max: {}\n",
      "  policy_reward_mean: {}\n",
      "  policy_reward_min: {}\n",
      "  sampler_perf:\n",
      "    mean_env_wait_ms: 0.5778584522230967\n",
      "    mean_inference_ms: 1.1728738277380562\n",
      "    mean_processing_ms: 0.20796224273404298\n",
      "  time_since_restore: 123.57591986656189\n",
      "  time_this_iter_s: 5.992218971252441\n",
      "  time_total_s: 123.57591986656189\n",
      "  timers:\n",
      "    learn_throughput: 861.153\n",
      "    learn_time_ms: 4877.183\n",
      "    sample_throughput: 3657.459\n",
      "    sample_time_ms: 1148.338\n",
      "    update_time_ms: 1.405\n",
      "  timestamp: 1626407930\n",
      "  timesteps_since_restore: 0\n",
      "  timesteps_total: 84000\n",
      "  training_iteration: 20\n",
      "  trial_id: d625d_00000\n",
      "  \n"
     ]
    },
    {
     "name": "stderr",
     "output_type": "stream",
     "text": [
      "\u001b[2m\u001b[36m(pid=21034)\u001b[0m 2021-07-16 11:58:50,638\tDEBUG sgd.py:120 -- 28 {'allreduce_latency': 0.0, 'cur_kl_coeff': 8.23974609375e-05, 'cur_lr': 3.0200000000000002e-05, 'total_loss': 0.008362491699782286, 'policy_loss': -0.0014056622643362391, 'vf_loss': 0.019662882241942552, 'vf_explained_var': -0.280469, 'kl': 2.940768618303781e-05, 'entropy': 0.0063292865485416105, 'entropy_coeff': 0.01}\n"
     ]
    },
    {
     "data": {
      "text/html": [
       "== Status ==<br>Memory usage on this node: 6.4/14.5 GiB<br>Using FIFO scheduling algorithm.<br>Resources requested: 8/8 CPUs, 0/0 GPUs, 0.0/6.74 GiB heap, 0.0/2.29 GiB objects<br>Result logdir: /home/localadmin/ray_results/PPO<br>Number of trials: 1 (1 RUNNING)<br><table>\n",
       "<thead>\n",
       "<tr><th>Trial name                </th><th>status  </th><th>loc                </th><th style=\"text-align: right;\">  iter</th><th style=\"text-align: right;\">  total time (s)</th><th style=\"text-align: right;\">   ts</th><th style=\"text-align: right;\">  reward</th></tr>\n",
       "</thead>\n",
       "<tbody>\n",
       "<tr><td>PPO_TradingEnv_d625d_00000</td><td>RUNNING </td><td>192.168.0.202:21034</td><td style=\"text-align: right;\">    20</td><td style=\"text-align: right;\">         123.576</td><td style=\"text-align: right;\">84000</td><td style=\"text-align: right;\"> 477.548</td></tr>\n",
       "</tbody>\n",
       "</table><br><br>"
      ],
      "text/plain": [
       "<IPython.core.display.HTML object>"
      ]
     },
     "metadata": {},
     "output_type": "display_data"
    },
    {
     "name": "stderr",
     "output_type": "stream",
     "text": [
      "\u001b[2m\u001b[36m(pid=21034)\u001b[0m 2021-07-16 11:58:50,834\tDEBUG sgd.py:120 -- 29 {'allreduce_latency': 0.0, 'cur_kl_coeff': 8.23974609375e-05, 'cur_lr': 3.0200000000000002e-05, 'total_loss': 0.006919742209103071, 'policy_loss': -0.0027512471106919375, 'vf_loss': 0.01946805911068099, 'vf_explained_var': -0.23380898, 'kl': 5.0308911116906416e-05, 'entropy': 0.006304450488338868, 'entropy_coeff': 0.01}\n",
      "\u001b[2m\u001b[36m(pid=21034)\u001b[0m 2021-07-16 11:58:50,847\tDEBUG trainer.py:547 -- synchronized filters: {'default_policy': MeanStdFilter((25, 2), True, True, None, (n=84098, mean_mean=-0.35002539411993966, mean_std=3.8395112620902605), (n=0, mean_mean=0.0, mean_std=0.0))}\n",
      "\u001b[2m\u001b[36m(pid=21047)\u001b[0m 2021-07-16 11:58:50,871\tINFO sampler.py:881 -- Inputs to compute_actions():\n",
      "\u001b[2m\u001b[36m(pid=21047)\u001b[0m \n",
      "\u001b[2m\u001b[36m(pid=21047)\u001b[0m { 'default_policy': [ { 'data': { 'agent_id': 'agent0',\n",
      "\u001b[2m\u001b[36m(pid=21047)\u001b[0m                                   'env_id': 0,\n",
      "\u001b[2m\u001b[36m(pid=21047)\u001b[0m                                   'info': { 'net_worth': 994.34,\n",
      "\u001b[2m\u001b[36m(pid=21047)\u001b[0m                                             'step': 47},\n",
      "\u001b[2m\u001b[36m(pid=21047)\u001b[0m                                   'obs': np.ndarray((25, 2), dtype=float64, min=-0.255, max=1.091, mean=0.482),\n",
      "\u001b[2m\u001b[36m(pid=21047)\u001b[0m                                   'prev_action': 0,\n",
      "\u001b[2m\u001b[36m(pid=21047)\u001b[0m                                   'prev_reward': 0.21238823449311894,\n",
      "\u001b[2m\u001b[36m(pid=21047)\u001b[0m                                   'rnn_state': []},\n",
      "\u001b[2m\u001b[36m(pid=21047)\u001b[0m                         'type': 'PolicyEvalData'}]}\n",
      "\u001b[2m\u001b[36m(pid=21047)\u001b[0m \n",
      "\u001b[2m\u001b[36m(pid=21047)\u001b[0m 2021-07-16 11:58:50,874\tINFO sampler.py:925 -- Outputs of compute_actions():\n",
      "\u001b[2m\u001b[36m(pid=21047)\u001b[0m \n",
      "\u001b[2m\u001b[36m(pid=21047)\u001b[0m { 'default_policy': ( np.ndarray((1,), dtype=int64, min=0.0, max=0.0, mean=0.0),\n",
      "\u001b[2m\u001b[36m(pid=21047)\u001b[0m                       [],\n",
      "\u001b[2m\u001b[36m(pid=21047)\u001b[0m                       { 'action_dist_inputs': np.ndarray((1, 2), dtype=float32, min=-11.651, max=11.667, mean=0.008),\n",
      "\u001b[2m\u001b[36m(pid=21047)\u001b[0m                         'action_logp': np.ndarray((1,), dtype=float32, min=0.0, max=0.0, mean=0.0),\n",
      "\u001b[2m\u001b[36m(pid=21047)\u001b[0m                         'action_prob': np.ndarray((1,), dtype=float32, min=1.0, max=1.0, mean=1.0),\n",
      "\u001b[2m\u001b[36m(pid=21047)\u001b[0m                         'vf_preds': np.ndarray((1,), dtype=float32, min=0.946, max=0.946, mean=0.946)})}\n",
      "\u001b[2m\u001b[36m(pid=21047)\u001b[0m \n",
      "\u001b[2m\u001b[36m(pid=21047)\u001b[0m 2021-07-16 11:58:50,876\tINFO sampler.py:509 -- Raw obs from env: { 0: { 'agent0': np.ndarray((25, 2), dtype=float32, min=-0.23, max=6.854, mean=2.703)}}\n",
      "\u001b[2m\u001b[36m(pid=21047)\u001b[0m 2021-07-16 11:58:50,876\tINFO sampler.py:511 -- Info return from env: {0: {'agent0': {'net_worth': 994.34, 'step': 48}}}\n",
      "\u001b[2m\u001b[36m(pid=21047)\u001b[0m 2021-07-16 11:58:50,876\tINFO sampler.py:714 -- Preprocessed obs: np.ndarray((25, 2), dtype=float32, min=-0.23, max=6.854, mean=2.703)\n",
      "\u001b[2m\u001b[36m(pid=21047)\u001b[0m 2021-07-16 11:58:50,876\tINFO sampler.py:719 -- Filtered obs: np.ndarray((25, 2), dtype=float64, min=-0.28, max=1.082, mean=0.462)\n",
      "\u001b[2m\u001b[36m(pid=21047)\u001b[0m 2021-07-16 11:58:51,249\tINFO sample_batch_builder.py:202 -- Trajectory fragment after postprocess_trajectory():\n",
      "\u001b[2m\u001b[36m(pid=21047)\u001b[0m \n",
      "\u001b[2m\u001b[36m(pid=21047)\u001b[0m { 'agent0': { 'data': { 'action_dist_inputs': np.ndarray((200, 2), dtype=float32, min=-12.585, max=12.6, mean=0.004),\n",
      "\u001b[2m\u001b[36m(pid=21047)\u001b[0m                         'action_logp': np.ndarray((200,), dtype=float32, min=-0.478, max=0.0, mean=-0.003),\n",
      "\u001b[2m\u001b[36m(pid=21047)\u001b[0m                         'action_prob': np.ndarray((200,), dtype=float32, min=0.62, max=1.0, mean=0.998),\n",
      "\u001b[2m\u001b[36m(pid=21047)\u001b[0m                         'actions': np.ndarray((200,), dtype=int64, min=0.0, max=1.0, mean=0.23),\n",
      "\u001b[2m\u001b[36m(pid=21047)\u001b[0m                         'advantages': np.ndarray((200,), dtype=float32, min=-0.018, max=0.054, mean=0.003),\n",
      "\u001b[2m\u001b[36m(pid=21047)\u001b[0m                         'agent_index': np.ndarray((200,), dtype=int64, min=0.0, max=0.0, mean=0.0),\n",
      "\u001b[2m\u001b[36m(pid=21047)\u001b[0m                         'dones': np.ndarray((200,), dtype=bool, min=0.0, max=0.0, mean=0.0),\n",
      "\u001b[2m\u001b[36m(pid=21047)\u001b[0m                         'eps_id': np.ndarray((200,), dtype=int64, min=1476651399.0, max=1476651399.0, mean=1476651399.0),\n",
      "\u001b[2m\u001b[36m(pid=21047)\u001b[0m                         'infos': np.ndarray((200,), dtype=object, head={'step': 48, 'net_worth': 994.34}),\n",
      "\u001b[2m\u001b[36m(pid=21047)\u001b[0m                         'new_obs': np.ndarray((200, 25, 2), dtype=float32, min=-1.383, max=1.158, mean=-0.611),\n",
      "\u001b[2m\u001b[36m(pid=21047)\u001b[0m                         'obs': np.ndarray((200, 25, 2), dtype=float32, min=-1.383, max=1.14, mean=-0.611),\n",
      "\u001b[2m\u001b[36m(pid=21047)\u001b[0m                         'prev_actions': np.ndarray((200,), dtype=int64, min=0.0, max=1.0, mean=0.225),\n",
      "\u001b[2m\u001b[36m(pid=21047)\u001b[0m                         'prev_rewards': np.ndarray((200,), dtype=float32, min=0.004, max=0.942, mean=0.578),\n",
      "\u001b[2m\u001b[36m(pid=21047)\u001b[0m                         'rewards': np.ndarray((200,), dtype=float32, min=1.0, max=1.0, mean=1.0),\n",
      "\u001b[2m\u001b[36m(pid=21047)\u001b[0m                         't': np.ndarray((200,), dtype=int64, min=47.0, max=246.0, mean=146.5),\n",
      "\u001b[2m\u001b[36m(pid=21047)\u001b[0m                         'unroll_id': np.ndarray((200,), dtype=int64, min=73.0, max=73.0, mean=73.0),\n",
      "\u001b[2m\u001b[36m(pid=21047)\u001b[0m                         'value_targets': np.ndarray((200,), dtype=float32, min=1.0, max=1.0, mean=1.0),\n",
      "\u001b[2m\u001b[36m(pid=21047)\u001b[0m                         'vf_preds': np.ndarray((200,), dtype=float32, min=0.946, max=1.018, mean=0.997)},\n",
      "\u001b[2m\u001b[36m(pid=21047)\u001b[0m               'type': 'SampleBatch'}}\n",
      "\u001b[2m\u001b[36m(pid=21047)\u001b[0m \n",
      "\u001b[2m\u001b[36m(pid=21047)\u001b[0m 2021-07-16 11:58:51,253\tINFO rollout_worker.py:594 -- Completed sample batch:\n",
      "\u001b[2m\u001b[36m(pid=21047)\u001b[0m \n",
      "\u001b[2m\u001b[36m(pid=21047)\u001b[0m { 'data': { 'action_dist_inputs': np.ndarray((200, 2), dtype=float32, min=-12.585, max=12.6, mean=0.004),\n",
      "\u001b[2m\u001b[36m(pid=21047)\u001b[0m             'action_logp': np.ndarray((200,), dtype=float32, min=-0.478, max=0.0, mean=-0.003),\n",
      "\u001b[2m\u001b[36m(pid=21047)\u001b[0m             'action_prob': np.ndarray((200,), dtype=float32, min=0.62, max=1.0, mean=0.998),\n",
      "\u001b[2m\u001b[36m(pid=21047)\u001b[0m             'actions': np.ndarray((200,), dtype=int64, min=0.0, max=1.0, mean=0.23),\n",
      "\u001b[2m\u001b[36m(pid=21047)\u001b[0m             'advantages': np.ndarray((200,), dtype=float32, min=-0.018, max=0.054, mean=0.003),\n",
      "\u001b[2m\u001b[36m(pid=21047)\u001b[0m             'agent_index': np.ndarray((200,), dtype=int64, min=0.0, max=0.0, mean=0.0),\n",
      "\u001b[2m\u001b[36m(pid=21047)\u001b[0m             'dones': np.ndarray((200,), dtype=bool, min=0.0, max=0.0, mean=0.0),\n",
      "\u001b[2m\u001b[36m(pid=21047)\u001b[0m             'eps_id': np.ndarray((200,), dtype=int64, min=1476651399.0, max=1476651399.0, mean=1476651399.0),\n",
      "\u001b[2m\u001b[36m(pid=21047)\u001b[0m             'infos': np.ndarray((200,), dtype=object, head={'step': 48, 'net_worth': 994.34}),\n",
      "\u001b[2m\u001b[36m(pid=21047)\u001b[0m             'new_obs': np.ndarray((200, 25, 2), dtype=float32, min=-1.383, max=1.158, mean=-0.611),\n",
      "\u001b[2m\u001b[36m(pid=21047)\u001b[0m             'obs': np.ndarray((200, 25, 2), dtype=float32, min=-1.383, max=1.14, mean=-0.611),\n",
      "\u001b[2m\u001b[36m(pid=21047)\u001b[0m             'prev_actions': np.ndarray((200,), dtype=int64, min=0.0, max=1.0, mean=0.225),\n",
      "\u001b[2m\u001b[36m(pid=21047)\u001b[0m             'prev_rewards': np.ndarray((200,), dtype=float32, min=0.004, max=0.942, mean=0.578),\n",
      "\u001b[2m\u001b[36m(pid=21047)\u001b[0m             'rewards': np.ndarray((200,), dtype=float32, min=1.0, max=1.0, mean=1.0),\n",
      "\u001b[2m\u001b[36m(pid=21047)\u001b[0m             't': np.ndarray((200,), dtype=int64, min=47.0, max=246.0, mean=146.5),\n",
      "\u001b[2m\u001b[36m(pid=21047)\u001b[0m             'unroll_id': np.ndarray((200,), dtype=int64, min=73.0, max=73.0, mean=73.0),\n",
      "\u001b[2m\u001b[36m(pid=21047)\u001b[0m             'value_targets': np.ndarray((200,), dtype=float32, min=1.0, max=1.0, mean=1.0),\n",
      "\u001b[2m\u001b[36m(pid=21047)\u001b[0m             'vf_preds': np.ndarray((200,), dtype=float32, min=0.946, max=1.018, mean=0.997)},\n",
      "\u001b[2m\u001b[36m(pid=21047)\u001b[0m   'type': 'SampleBatch'}\n",
      "\u001b[2m\u001b[36m(pid=21047)\u001b[0m \n",
      "\u001b[2m\u001b[36m(pid=21047)\u001b[0m 2021-07-16 11:58:51,315\tINFO rollout_worker.py:560 -- Generating sample batch of size 200\n",
      "\u001b[2m\u001b[36m(pid=21034)\u001b[0m 2021-07-16 11:58:52,306\tDEBUG rollout_worker.py:760 -- Training out:\n",
      "\u001b[2m\u001b[36m(pid=21034)\u001b[0m \n",
      "\u001b[2m\u001b[36m(pid=21034)\u001b[0m { 'default_policy': { 'learner_stats': { 'allreduce_latency': 0.0,\n",
      "\u001b[2m\u001b[36m(pid=21034)\u001b[0m                                          'cur_kl_coeff': 4.119873046875e-05,\n",
      "\u001b[2m\u001b[36m(pid=21034)\u001b[0m                                          'cur_lr': 2.600000000000001e-05,\n",
      "\u001b[2m\u001b[36m(pid=21034)\u001b[0m                                          'entropy': 0.003064804244786501,\n",
      "\u001b[2m\u001b[36m(pid=21034)\u001b[0m                                          'entropy_coeff': 0.01,\n",
      "\u001b[2m\u001b[36m(pid=21034)\u001b[0m                                          'kl': 4.2753722784283354e-10,\n",
      "\u001b[2m\u001b[36m(pid=21034)\u001b[0m                                          'policy_loss': -0.0020767361856997013,\n",
      "\u001b[2m\u001b[36m(pid=21034)\u001b[0m                                          'total_loss': -0.001968675758689642,\n",
      "\u001b[2m\u001b[36m(pid=21034)\u001b[0m                                          'vf_explained_var': np.ndarray((1,), dtype=float32, min=-1.0, max=-1.0, mean=-1.0),\n",
      "\u001b[2m\u001b[36m(pid=21034)\u001b[0m                                          'vf_loss': 0.00027741017402149737}}}\n",
      "\u001b[2m\u001b[36m(pid=21034)\u001b[0m \n",
      "\u001b[2m\u001b[36m(pid=21034)\u001b[0m 2021-07-16 11:58:52,308\tINFO rollout_worker.py:734 -- Training on concatenated sample batches:\n",
      "\u001b[2m\u001b[36m(pid=21034)\u001b[0m \n",
      "\u001b[2m\u001b[36m(pid=21034)\u001b[0m { 'count': 128,\n",
      "\u001b[2m\u001b[36m(pid=21034)\u001b[0m   'policy_batches': { 'default_policy': { 'data': { 'action_dist_inputs': np.ndarray((128, 2), dtype=float32, min=-12.585, max=12.6, mean=-0.0),\n",
      "\u001b[2m\u001b[36m(pid=21034)\u001b[0m                                                     'action_logp': np.ndarray((128,), dtype=float32, min=-0.044, max=0.0, mean=-0.001),\n",
      "\u001b[2m\u001b[36m(pid=21034)\u001b[0m                                                     'action_prob': np.ndarray((128,), dtype=float32, min=0.957, max=1.0, mean=0.999),\n",
      "\u001b[2m\u001b[36m(pid=21034)\u001b[0m                                                     'actions': np.ndarray((128,), dtype=int64, min=0.0, max=1.0, mean=0.508),\n",
      "\u001b[2m\u001b[36m(pid=21034)\u001b[0m                                                     'advantages': np.ndarray((128,), dtype=float32, min=-0.44, max=1.107, mean=0.044),\n",
      "\u001b[2m\u001b[36m(pid=21034)\u001b[0m                                                     'agent_index': np.ndarray((128,), dtype=int64, min=0.0, max=0.0, mean=0.0),\n",
      "\u001b[2m\u001b[36m(pid=21034)\u001b[0m                                                     'dones': np.ndarray((128,), dtype=bool, min=0.0, max=0.0, mean=0.0),\n",
      "\u001b[2m\u001b[36m(pid=21034)\u001b[0m                                                     'eps_id': np.ndarray((128,), dtype=int64, min=83404526.0, max=1867878139.0, mean=1005234718.758),\n",
      "\u001b[2m\u001b[36m(pid=21034)\u001b[0m                                                     'infos': np.ndarray((128,), dtype=object, head={'step': 283, 'net_worth': 992.9630663250535}),\n",
      "\u001b[2m\u001b[36m(pid=21034)\u001b[0m                                                     'new_obs': np.ndarray((128, 25, 2), dtype=float32, min=-1.383, max=1.581, mean=-0.001),\n",
      "\u001b[2m\u001b[36m(pid=21034)\u001b[0m                                                     'obs': np.ndarray((128, 25, 2), dtype=float32, min=-1.383, max=1.58, mean=-0.004),\n",
      "\u001b[2m\u001b[36m(pid=21034)\u001b[0m                                                     'prev_actions': np.ndarray((128,), dtype=int64, min=0.0, max=1.0, mean=0.508),\n",
      "\u001b[2m\u001b[36m(pid=21034)\u001b[0m                                                     'prev_rewards': np.ndarray((128,), dtype=float32, min=0.031, max=0.942, mean=0.615),\n",
      "\u001b[2m\u001b[36m(pid=21034)\u001b[0m                                                     'rewards': np.ndarray((128,), dtype=float32, min=1.0, max=1.0, mean=1.0),\n",
      "\u001b[2m\u001b[36m(pid=21034)\u001b[0m                                                     't': np.ndarray((128,), dtype=int64, min=85.0, max=858.0, mean=445.156),\n",
      "\u001b[2m\u001b[36m(pid=21034)\u001b[0m                                                     'unroll_id': np.ndarray((128,), dtype=int64, min=73.0, max=75.0, mean=73.922),\n",
      "\u001b[2m\u001b[36m(pid=21034)\u001b[0m                                                     'value_targets': np.ndarray((128,), dtype=float32, min=1.0, max=1.0, mean=1.0),\n",
      "\u001b[2m\u001b[36m(pid=21034)\u001b[0m                                                     'vf_preds': np.ndarray((128,), dtype=float32, min=0.945, max=1.015, mean=0.993)},\n",
      "\u001b[2m\u001b[36m(pid=21034)\u001b[0m                                           'type': 'SampleBatch'}},\n",
      "\u001b[2m\u001b[36m(pid=21034)\u001b[0m   'type': 'MultiAgentBatch'}\n",
      "\u001b[2m\u001b[36m(pid=21034)\u001b[0m \n",
      "\u001b[2m\u001b[36m(pid=21034)\u001b[0m 2021-07-16 11:58:52,466\tDEBUG sgd.py:120 -- 0 {'allreduce_latency': 0.0, 'cur_kl_coeff': 4.119873046875e-05, 'cur_lr': 2.600000000000001e-05, 'total_loss': -0.0029423859563063493, 'policy_loss': -0.003934652283505508, 'vf_loss': 0.0020856162511997604, 'vf_explained_var': -0.93702793, 'kl': 3.6551961123177664e-05, 'entropy': 0.005054393522379652, 'entropy_coeff': 0.01}\n"
     ]
    },
    {
     "name": "stderr",
     "output_type": "stream",
     "text": [
      "\u001b[2m\u001b[36m(pid=21034)\u001b[0m 2021-07-16 11:58:52,636\tDEBUG sgd.py:120 -- 1 {'allreduce_latency': 0.0, 'cur_kl_coeff': 4.119873046875e-05, 'cur_lr': 2.600000000000001e-05, 'total_loss': -0.004878646468348576, 'policy_loss': -0.005862490104680712, 'vf_loss': 0.0020691799343859948, 'vf_explained_var': -0.93702435, 'kl': 0.0001620994148545696, 'entropy': 0.005075320309109002, 'entropy_coeff': 0.01}\n",
      "\u001b[2m\u001b[36m(pid=21034)\u001b[0m 2021-07-16 11:58:52,816\tDEBUG sgd.py:120 -- 2 {'allreduce_latency': 0.0, 'cur_kl_coeff': 4.119873046875e-05, 'cur_lr': 2.600000000000001e-05, 'total_loss': -0.004490216827076493, 'policy_loss': -0.005467992910945957, 'vf_loss': 0.002057305870094393, 'vf_explained_var': -0.9371596, 'kl': 0.00016568013128860594, 'entropy': 0.005088270357026142, 'entropy_coeff': 0.01}\n",
      "\u001b[2m\u001b[36m(pid=21034)\u001b[0m 2021-07-16 11:58:52,997\tDEBUG sgd.py:120 -- 3 {'allreduce_latency': 0.0, 'cur_kl_coeff': 4.119873046875e-05, 'cur_lr': 2.600000000000001e-05, 'total_loss': -0.004857166218712475, 'policy_loss': -0.005831055611259107, 'vf_loss': 0.0020488725505966804, 'vf_explained_var': -0.9373164, 'kl': 0.00014424157192149956, 'entropy': 0.0050553442042724295, 'entropy_coeff': 0.01}\n",
      "\u001b[2m\u001b[36m(pid=21034)\u001b[0m 2021-07-16 11:58:53,182\tDEBUG sgd.py:120 -- 4 {'allreduce_latency': 0.0, 'cur_kl_coeff': 4.119873046875e-05, 'cur_lr': 2.600000000000001e-05, 'total_loss': -0.005144871587893276, 'policy_loss': -0.0061119692117878885, 'vf_loss': 0.002036283466044221, 'vf_explained_var': -0.93718266, 'kl': 0.00013136742114738809, 'entropy': 0.005105035659873851, 'entropy_coeff': 0.01}\n",
      "\u001b[2m\u001b[36m(pid=21034)\u001b[0m 2021-07-16 11:58:53,360\tDEBUG sgd.py:120 -- 5 {'allreduce_latency': 0.0, 'cur_kl_coeff': 4.119873046875e-05, 'cur_lr': 2.600000000000001e-05, 'total_loss': -0.005293336809810364, 'policy_loss': -0.006262104295081262, 'vf_loss': 0.002038785342433998, 'vf_explained_var': -0.9371471, 'kl': 0.00011834165005130227, 'entropy': 0.005063027722054826, 'entropy_coeff': 0.01}\n",
      "\u001b[2m\u001b[36m(pid=21034)\u001b[0m 2021-07-16 11:58:53,522\tDEBUG sgd.py:120 -- 6 {'allreduce_latency': 0.0, 'cur_kl_coeff': 4.119873046875e-05, 'cur_lr': 2.600000000000001e-05, 'total_loss': -0.00511619338596409, 'policy_loss': -0.006081843635801113, 'vf_loss': 0.0020321891841542147, 'vf_explained_var': -0.9371425, 'kl': 0.00010788487276460218, 'entropy': 0.00504486970737961, 'entropy_coeff': 0.01}\n",
      "\u001b[2m\u001b[36m(pid=21034)\u001b[0m 2021-07-16 11:58:53,720\tDEBUG sgd.py:120 -- 7 {'allreduce_latency': 0.0, 'cur_kl_coeff': 4.119873046875e-05, 'cur_lr': 2.600000000000001e-05, 'total_loss': -0.005035000911448151, 'policy_loss': -0.006003866549828231, 'vf_loss': 0.0020387749858800266, 'vf_explained_var': -0.93721867, 'kl': 9.266353744994943e-05, 'entropy': 0.0050527758321274605, 'entropy_coeff': 0.01}\n",
      "\u001b[2m\u001b[36m(pid=21034)\u001b[0m 2021-07-16 11:58:53,904\tDEBUG sgd.py:120 -- 8 {'allreduce_latency': 0.0, 'cur_kl_coeff': 4.119873046875e-05, 'cur_lr': 2.600000000000001e-05, 'total_loss': -0.005249983010192712, 'policy_loss': -0.0062088014162851105, 'vf_loss': 0.0020187323446434952, 'vf_explained_var': -0.93763644, 'kl': 0.0002219536835619868, 'entropy': 0.005055681701571412, 'entropy_coeff': 0.01}\n",
      "\u001b[2m\u001b[36m(pid=21034)\u001b[0m 2021-07-16 11:58:54,076\tDEBUG sgd.py:120 -- 9 {'allreduce_latency': 0.0, 'cur_kl_coeff': 4.119873046875e-05, 'cur_lr': 2.600000000000001e-05, 'total_loss': -0.00496820727306785, 'policy_loss': -0.005923726595938206, 'vf_loss': 0.0020130311922085557, 'vf_explained_var': -0.93746537, 'kl': 0.0003132148167551057, 'entropy': 0.005100923497950175, 'entropy_coeff': 0.01}\n",
      "\u001b[2m\u001b[36m(pid=21034)\u001b[0m 2021-07-16 11:58:54,254\tDEBUG sgd.py:120 -- 10 {'allreduce_latency': 0.0, 'cur_kl_coeff': 4.119873046875e-05, 'cur_lr': 2.600000000000001e-05, 'total_loss': -0.0051476636224172334, 'policy_loss': -0.0061006011638903256, 'vf_loss': 0.0020086200930756713, 'vf_explained_var': -0.93735677, 'kl': 0.00028948756520485335, 'entropy': 0.005138364013184786, 'entropy_coeff': 0.01}\n",
      "\u001b[2m\u001b[36m(pid=21034)\u001b[0m 2021-07-16 11:58:54,447\tDEBUG sgd.py:120 -- 11 {'allreduce_latency': 0.0, 'cur_kl_coeff': 4.119873046875e-05, 'cur_lr': 2.600000000000001e-05, 'total_loss': -0.005172990079066067, 'policy_loss': -0.006123667244206776, 'vf_loss': 0.0020027749507624485, 'vf_explained_var': -0.9373953, 'kl': 0.00025579160135759014, 'entropy': 0.005072139529257776, 'entropy_coeff': 0.01}\n",
      "\u001b[2m\u001b[36m(pid=21034)\u001b[0m 2021-07-16 11:58:54,625\tDEBUG sgd.py:120 -- 12 {'allreduce_latency': 0.0, 'cur_kl_coeff': 4.119873046875e-05, 'cur_lr': 2.600000000000001e-05, 'total_loss': -0.005464079366488891, 'policy_loss': -0.006414200983602892, 'vf_loss': 0.002001259502845421, 'vf_explained_var': -0.93746, 'kl': 0.00022290143343205887, 'entropy': 0.005051742349719875, 'entropy_coeff': 0.01}\n",
      "\u001b[2m\u001b[36m(pid=21034)\u001b[0m 2021-07-16 11:58:54,823\tDEBUG sgd.py:120 -- 13 {'allreduce_latency': 0.0, 'cur_kl_coeff': 4.119873046875e-05, 'cur_lr': 2.600000000000001e-05, 'total_loss': -0.0046020970595153895, 'policy_loss': -0.005549456472649719, 'vf_loss': 0.001996117946515424, 'vf_explained_var': -0.93752056, 'kl': 0.00020562863004201836, 'entropy': 0.005070829030459704, 'entropy_coeff': 0.01}\n",
      "\u001b[2m\u001b[36m(pid=21034)\u001b[0m 2021-07-16 11:58:55,022\tDEBUG sgd.py:120 -- 14 {'allreduce_latency': 0.0, 'cur_kl_coeff': 4.119873046875e-05, 'cur_lr': 2.600000000000001e-05, 'total_loss': -0.005055717178479288, 'policy_loss': -0.006004396572031758, 'vf_loss': 0.0019984436027395227, 'vf_explained_var': -0.93719935, 'kl': 0.00017644831970165943, 'entropy': 0.005054890674581994, 'entropy_coeff': 0.01}\n",
      "\u001b[2m\u001b[36m(pid=21034)\u001b[0m 2021-07-16 11:58:55,215\tDEBUG sgd.py:120 -- 15 {'allreduce_latency': 0.0, 'cur_kl_coeff': 4.119873046875e-05, 'cur_lr': 2.600000000000001e-05, 'total_loss': -0.004922441051652034, 'policy_loss': -0.0058674534331216955, 'vf_loss': 0.0019916575058067047, 'vf_explained_var': -0.93718827, 'kl': 0.00015766475861637858, 'entropy': 0.005082347813048259, 'entropy_coeff': 0.01}\n",
      "\u001b[2m\u001b[36m(pid=21034)\u001b[0m 2021-07-16 11:58:55,398\tDEBUG sgd.py:120 -- 16 {'allreduce_latency': 0.0, 'cur_kl_coeff': 4.119873046875e-05, 'cur_lr': 2.600000000000001e-05, 'total_loss': -0.004884303561552908, 'policy_loss': -0.005825483769347722, 'vf_loss': 0.001983032927400376, 'vf_explained_var': -0.9374631, 'kl': 0.00014201013008288604, 'entropy': 0.005034136485095807, 'entropy_coeff': 0.01}\n",
      "\u001b[2m\u001b[36m(pid=21034)\u001b[0m 2021-07-16 11:58:55,561\tDEBUG sgd.py:120 -- 17 {'allreduce_latency': 0.0, 'cur_kl_coeff': 4.119873046875e-05, 'cur_lr': 2.600000000000001e-05, 'total_loss': -0.005363268213290156, 'policy_loss': -0.00631242815518018, 'vf_loss': 0.001999540454231795, 'vf_explained_var': -0.9374036, 'kl': 0.0001276069861822207, 'entropy': 0.005061548696947725, 'entropy_coeff': 0.01}\n",
      "\u001b[2m\u001b[36m(pid=21034)\u001b[0m 2021-07-16 11:58:55,744\tDEBUG sgd.py:120 -- 18 {'allreduce_latency': 0.0, 'cur_kl_coeff': 4.119873046875e-05, 'cur_lr': 2.600000000000001e-05, 'total_loss': -0.005596354265104641, 'policy_loss': -0.006538118983647137, 'vf_loss': 0.0019843827983343294, 'vf_explained_var': -0.9374554, 'kl': 0.00011085234462735789, 'entropy': 0.005042912161145301, 'entropy_coeff': 0.01}\n",
      "\u001b[2m\u001b[36m(pid=21034)\u001b[0m 2021-07-16 11:58:55,942\tDEBUG sgd.py:120 -- 19 {'allreduce_latency': 0.0, 'cur_kl_coeff': 4.119873046875e-05, 'cur_lr': 2.600000000000001e-05, 'total_loss': -0.005197491214582415, 'policy_loss': -0.0061348557302897625, 'vf_loss': 0.0019755618374223227, 'vf_explained_var': -0.9375855, 'kl': 9.826782409284147e-05, 'entropy': 0.005042015470363284, 'entropy_coeff': 0.01}\n",
      "\u001b[2m\u001b[36m(pid=21034)\u001b[0m 2021-07-16 11:58:56,141\tDEBUG sgd.py:120 -- 20 {'allreduce_latency': 0.0, 'cur_kl_coeff': 4.119873046875e-05, 'cur_lr': 2.600000000000001e-05, 'total_loss': -0.005443293812938712, 'policy_loss': -0.006375670108492627, 'vf_loss': 0.001965781218710948, 'vf_explained_var': -0.9373873, 'kl': 8.56129236939522e-05, 'entropy': 0.005051838436587145, 'entropy_coeff': 0.01}\n",
      "\u001b[2m\u001b[36m(pid=21034)\u001b[0m 2021-07-16 11:58:56,346\tDEBUG sgd.py:120 -- 21 {'allreduce_latency': 0.0, 'cur_kl_coeff': 4.119873046875e-05, 'cur_lr': 2.600000000000001e-05, 'total_loss': -0.00529387401360454, 'policy_loss': -0.006237845105881041, 'vf_loss': 0.001988515043525364, 'vf_explained_var': -0.937459, 'kl': 0.0002123297670410142, 'entropy': 0.005029283968786496, 'entropy_coeff': 0.01}\n",
      "\u001b[2m\u001b[36m(pid=21034)\u001b[0m 2021-07-16 11:58:56,517\tDEBUG sgd.py:120 -- 22 {'allreduce_latency': 0.0, 'cur_kl_coeff': 4.119873046875e-05, 'cur_lr': 2.600000000000001e-05, 'total_loss': -0.004665603889434627, 'policy_loss': -0.005599771033633839, 'vf_loss': 0.0019691713634088183, 'vf_explained_var': -0.9374541, 'kl': 0.0003518471629531184, 'entropy': 0.0050431773478053265, 'entropy_coeff': 0.01}\n"
     ]
    },
    {
     "name": "stderr",
     "output_type": "stream",
     "text": [
      "\u001b[2m\u001b[36m(pid=21034)\u001b[0m 2021-07-16 11:58:56,708\tDEBUG sgd.py:120 -- 23 {'allreduce_latency': 0.0, 'cur_kl_coeff': 4.119873046875e-05, 'cur_lr': 2.600000000000001e-05, 'total_loss': -0.0049713059949378175, 'policy_loss': -0.005903537639162757, 'vf_loss': 0.001965470696494308, 'vf_explained_var': -0.93749976, 'kl': 0.00031538683468611316, 'entropy': 0.005051835617808992, 'entropy_coeff': 0.01}\n",
      "\u001b[2m\u001b[36m(pid=21034)\u001b[0m 2021-07-16 11:58:56,874\tDEBUG sgd.py:120 -- 24 {'allreduce_latency': 0.0, 'cur_kl_coeff': 4.119873046875e-05, 'cur_lr': 2.600000000000001e-05, 'total_loss': -0.0050742799543182955, 'policy_loss': -0.00600435143816426, 'vf_loss': 0.0019624434633332194, 'vf_explained_var': -0.93772864, 'kl': 0.00027662804490134795, 'entropy': 0.005116096358533744, 'entropy_coeff': 0.01}\n",
      "\u001b[2m\u001b[36m(pid=21034)\u001b[0m 2021-07-16 11:58:57,036\tDEBUG sgd.py:120 -- 25 {'allreduce_latency': 0.0, 'cur_kl_coeff': 4.119873046875e-05, 'cur_lr': 2.600000000000001e-05, 'total_loss': -0.004832179934689493, 'policy_loss': -0.005771952568355835, 'vf_loss': 0.0019801462183364274, 'vf_explained_var': -0.937368, 'kl': 0.00023501507257515299, 'entropy': 0.005031038258164718, 'entropy_coeff': 0.01}\n",
      "\u001b[2m\u001b[36m(pid=21034)\u001b[0m 2021-07-16 11:58:57,214\tDEBUG sgd.py:120 -- 26 {'allreduce_latency': 0.0, 'cur_kl_coeff': 4.119873046875e-05, 'cur_lr': 2.600000000000001e-05, 'total_loss': -0.005527532052700267, 'policy_loss': -0.006458603424217665, 'vf_loss': 0.001963255157258545, 'vf_explained_var': -0.9375452, 'kl': 0.00020422550241075, 'entropy': 0.005056368913012027, 'entropy_coeff': 0.01}\n",
      "\u001b[2m\u001b[36m(pid=21034)\u001b[0m 2021-07-16 11:58:57,379\tDEBUG sgd.py:120 -- 27 {'allreduce_latency': 0.0, 'cur_kl_coeff': 4.119873046875e-05, 'cur_lr': 2.600000000000001e-05, 'total_loss': -0.005291740833358331, 'policy_loss': -0.006223534318533811, 'vf_loss': 0.001963979777153299, 'vf_explained_var': -0.9376561, 'kl': 0.00017720079509503552, 'entropy': 0.0050204245408443085, 'entropy_coeff': 0.01}\n"
     ]
    },
    {
     "name": "stdout",
     "output_type": "stream",
     "text": [
      "Result for PPO_TradingEnv_d625d_00000:\n",
      "  custom_metrics: {}\n",
      "  date: 2021-07-16_11-58-57\n",
      "  done: false\n",
      "  episode_len_mean: 910.1428571428571\n",
      "  episode_reward_max: 558.5942363018767\n",
      "  episode_reward_mean: 477.54831624995876\n",
      "  episode_reward_min: -23.913504331878357\n",
      "  episodes_this_iter: 0\n",
      "  episodes_total: 91\n",
      "  experiment_id: e6369b7d95d74c47a2c2141b4142c2c5\n",
      "  experiment_tag: '0'\n",
      "  hostname: localadmin-ECA-FX44E4C\n",
      "  info:\n",
      "    learner:\n",
      "      default_policy:\n",
      "        allreduce_latency: 0.0\n",
      "        cur_kl_coeff: 4.119873046875e-05\n",
      "        cur_lr: 2.600000000000001e-05\n",
      "        entropy: 0.005008175919956006\n",
      "        entropy_coeff: 0.01\n",
      "        kl: 0.000130698246027116\n",
      "        policy_loss: -0.006032111327812979\n",
      "        total_loss: -0.005099908166536779\n",
      "        vf_explained_var: -0.9377143383026123\n",
      "        vf_loss: 0.0019645533201665703\n",
      "    num_steps_sampled: 88200\n",
      "    num_steps_trained: 88200\n",
      "  iterations_since_restore: 21\n",
      "  node_ip: 192.168.0.202\n",
      "  num_healthy_workers: 7\n",
      "  off_policy_estimator: {}\n",
      "  perf:\n",
      "    cpu_util_percent: 42.68888888888889\n",
      "    ram_util_percent: 44.833333333333336\n",
      "  pid: 21034\n",
      "  policy_reward_max: {}\n",
      "  policy_reward_mean: {}\n",
      "  policy_reward_min: {}\n",
      "  sampler_perf:\n",
      "    mean_env_wait_ms: 0.5778584522230967\n",
      "    mean_inference_ms: 1.1728738277380562\n",
      "    mean_processing_ms: 0.207962242734043\n",
      "  time_since_restore: 130.4112286567688\n",
      "  time_this_iter_s: 6.835308790206909\n",
      "  time_total_s: 130.4112286567688\n",
      "  timers:\n",
      "    learn_throughput: 854.756\n",
      "    learn_time_ms: 4913.684\n",
      "    sample_throughput: 3582.105\n",
      "    sample_time_ms: 1172.495\n",
      "    update_time_ms: 1.408\n",
      "  timestamp: 1626407937\n",
      "  timesteps_since_restore: 0\n",
      "  timesteps_total: 88200\n",
      "  training_iteration: 21\n",
      "  trial_id: d625d_00000\n",
      "  \n"
     ]
    },
    {
     "name": "stderr",
     "output_type": "stream",
     "text": [
      "\u001b[2m\u001b[36m(pid=21034)\u001b[0m 2021-07-16 11:58:57,542\tDEBUG sgd.py:120 -- 28 {'allreduce_latency': 0.0, 'cur_kl_coeff': 4.119873046875e-05, 'cur_lr': 2.600000000000001e-05, 'total_loss': -0.005160343522826831, 'policy_loss': -0.006095116704025052, 'vf_loss': 0.0019704888525831684, 'vf_explained_var': -0.9373734, 'kl': 0.00015218308769776758, 'entropy': 0.005047412137194194, 'entropy_coeff': 0.01}\n",
      "\u001b[2m\u001b[36m(pid=21034)\u001b[0m 2021-07-16 11:58:57,698\tDEBUG sgd.py:120 -- 29 {'allreduce_latency': 0.0, 'cur_kl_coeff': 4.119873046875e-05, 'cur_lr': 2.600000000000001e-05, 'total_loss': -0.005099908166536779, 'policy_loss': -0.006032111327812979, 'vf_loss': 0.0019645533201665703, 'vf_explained_var': -0.93771434, 'kl': 0.000130698246027116, 'entropy': 0.005008175919956006, 'entropy_coeff': 0.01}\n"
     ]
    },
    {
     "data": {
      "text/html": [
       "== Status ==<br>Memory usage on this node: 6.6/14.5 GiB<br>Using FIFO scheduling algorithm.<br>Resources requested: 8/8 CPUs, 0/0 GPUs, 0.0/6.74 GiB heap, 0.0/2.29 GiB objects<br>Result logdir: /home/localadmin/ray_results/PPO<br>Number of trials: 1 (1 RUNNING)<br><table>\n",
       "<thead>\n",
       "<tr><th>Trial name                </th><th>status  </th><th>loc                </th><th style=\"text-align: right;\">  iter</th><th style=\"text-align: right;\">  total time (s)</th><th style=\"text-align: right;\">   ts</th><th style=\"text-align: right;\">  reward</th></tr>\n",
       "</thead>\n",
       "<tbody>\n",
       "<tr><td>PPO_TradingEnv_d625d_00000</td><td>RUNNING </td><td>192.168.0.202:21034</td><td style=\"text-align: right;\">    21</td><td style=\"text-align: right;\">         130.411</td><td style=\"text-align: right;\">88200</td><td style=\"text-align: right;\"> 477.548</td></tr>\n",
       "</tbody>\n",
       "</table><br><br>"
      ],
      "text/plain": [
       "<IPython.core.display.HTML object>"
      ]
     },
     "metadata": {},
     "output_type": "display_data"
    },
    {
     "name": "stderr",
     "output_type": "stream",
     "text": [
      "\u001b[2m\u001b[36m(pid=21034)\u001b[0m 2021-07-16 11:58:57,708\tDEBUG trainer.py:547 -- synchronized filters: {'default_policy': MeanStdFilter((25, 2), True, True, None, (n=88298, mean_mean=-0.3286843171190249, mean_std=3.849044765972867), (n=0, mean_mean=0.0, mean_std=0.0))}\n",
      "\u001b[2m\u001b[36m(pid=21034)\u001b[0m 2021-07-16 11:58:58,997\tDEBUG sgd.py:120 -- 0 {'allreduce_latency': 0.0, 'cur_kl_coeff': 2.0599365234375e-05, 'cur_lr': 2.18e-05, 'total_loss': 0.0067375289897123975, 'policy_loss': 0.00010443272802865866, 'vf_loss': 0.01339216143771244, 'vf_explained_var': -0.38608944, 'kl': 3.690680985565393e-05, 'entropy': 0.006298649941830566, 'entropy_coeff': 0.01}\n",
      "\u001b[2m\u001b[36m(pid=21034)\u001b[0m 2021-07-16 11:58:59,151\tDEBUG sgd.py:120 -- 1 {'allreduce_latency': 0.0, 'cur_kl_coeff': 2.0599365234375e-05, 'cur_lr': 2.18e-05, 'total_loss': 0.0037733681048407698, 'policy_loss': -0.002864601824319724, 'vf_loss': 0.013402974512604433, 'vf_explained_var': -0.44683027, 'kl': 0.0004815538008063992, 'entropy': 0.006352472924955884, 'entropy_coeff': 0.01}\n",
      "\u001b[2m\u001b[36m(pid=21034)\u001b[0m 2021-07-16 11:58:59,307\tDEBUG sgd.py:120 -- 2 {'allreduce_latency': 0.0, 'cur_kl_coeff': 2.0599365234375e-05, 'cur_lr': 2.18e-05, 'total_loss': 0.0012509811838919466, 'policy_loss': -0.0052920178453804865, 'vf_loss': 0.013214142707786805, 'vf_explained_var': -0.38559717, 'kl': 0.0006086519910668082, 'entropy': 0.006408723677326854, 'entropy_coeff': 0.01}\n",
      "\u001b[2m\u001b[36m(pid=21034)\u001b[0m 2021-07-16 11:58:59,461\tDEBUG sgd.py:120 -- 3 {'allreduce_latency': 0.0, 'cur_kl_coeff': 2.0599365234375e-05, 'cur_lr': 2.18e-05, 'total_loss': 0.0015692944271546421, 'policy_loss': -0.004985543842794317, 'vf_loss': 0.0132372471817882, 'vf_explained_var': -0.28481016, 'kl': 0.0006484182403889436, 'entropy': 0.006379788486590383, 'entropy_coeff': 0.01}\n",
      "\u001b[2m\u001b[36m(pid=21034)\u001b[0m 2021-07-16 11:58:59,623\tDEBUG sgd.py:120 -- 4 {'allreduce_latency': 0.0, 'cur_kl_coeff': 2.0599365234375e-05, 'cur_lr': 2.18e-05, 'total_loss': 0.002494696753494667, 'policy_loss': -0.004022081580125924, 'vf_loss': 0.0131610732888944, 'vf_explained_var': -0.38009736, 'kl': 0.0003877294338963111, 'entropy': 0.006376429470644022, 'entropy_coeff': 0.01}\n",
      "\u001b[2m\u001b[36m(pid=21034)\u001b[0m 2021-07-16 11:58:59,782\tDEBUG sgd.py:120 -- 5 {'allreduce_latency': 0.0, 'cur_kl_coeff': 2.0599365234375e-05, 'cur_lr': 2.18e-05, 'total_loss': 0.002732774270980647, 'policy_loss': -0.003882730661919623, 'vf_loss': 0.013359269738430157, 'vf_explained_var': -0.38087904, 'kl': 0.0008726108234610007, 'entropy': 0.0064148735057118975, 'entropy_coeff': 0.01}\n",
      "\u001b[2m\u001b[36m(pid=21034)\u001b[0m 2021-07-16 11:58:59,940\tDEBUG sgd.py:120 -- 6 {'allreduce_latency': 0.0, 'cur_kl_coeff': 2.0599365234375e-05, 'cur_lr': 2.18e-05, 'total_loss': 0.002275236106167237, 'policy_loss': -0.004369143798778003, 'vf_loss': 0.01341787164600453, 'vf_explained_var': -0.40278497, 'kl': 0.0007521441034303721, 'entropy': 0.006457168508363379, 'entropy_coeff': 0.01}\n",
      "\u001b[2m\u001b[36m(pid=21034)\u001b[0m 2021-07-16 11:59:00,096\tDEBUG sgd.py:120 -- 7 {'allreduce_latency': 0.0, 'cur_kl_coeff': 2.0599365234375e-05, 'cur_lr': 2.18e-05, 'total_loss': 0.0016224375276854544, 'policy_loss': -0.004921120901902516, 'vf_loss': 0.013214271322464232, 'vf_explained_var': -0.34752974, 'kl': 0.0005205436902708939, 'entropy': 0.006358821313783251, 'entropy_coeff': 0.01}\n",
      "\u001b[2m\u001b[36m(pid=21034)\u001b[0m 2021-07-16 11:59:00,250\tDEBUG sgd.py:120 -- 8 {'allreduce_latency': 0.0, 'cur_kl_coeff': 2.0599365234375e-05, 'cur_lr': 2.18e-05, 'total_loss': 0.0009077700475851694, 'policy_loss': -0.0056667268332658395, 'vf_loss': 0.013276781669860198, 'vf_explained_var': -0.5011799, 'kl': 0.0005884756040692516, 'entropy': 0.006390434033081957, 'entropy_coeff': 0.01}\n",
      "\u001b[2m\u001b[36m(pid=21034)\u001b[0m 2021-07-16 11:59:00,404\tDEBUG sgd.py:120 -- 9 {'allreduce_latency': 0.0, 'cur_kl_coeff': 2.0599365234375e-05, 'cur_lr': 2.18e-05, 'total_loss': 0.002459853153788682, 'policy_loss': -0.004129665734415705, 'vf_loss': 0.013307205095329802, 'vf_explained_var': -0.3303969, 'kl': 0.0009043404657156564, 'entropy': 0.006410417253033357, 'entropy_coeff': 0.01}\n",
      "\u001b[2m\u001b[36m(pid=21034)\u001b[0m 2021-07-16 11:59:00,559\tDEBUG sgd.py:120 -- 10 {'allreduce_latency': 0.0, 'cur_kl_coeff': 2.0599365234375e-05, 'cur_lr': 2.18e-05, 'total_loss': 0.0016487761767524662, 'policy_loss': -0.0048498417617696705, 'vf_loss': 0.01312467156535466, 'vf_explained_var': -0.30564767, 'kl': 0.0005613931760198091, 'entropy': 0.006372700817530241, 'entropy_coeff': 0.01}\n",
      "\u001b[2m\u001b[36m(pid=21034)\u001b[0m 2021-07-16 11:59:00,713\tDEBUG sgd.py:120 -- 11 {'allreduce_latency': 0.0, 'cur_kl_coeff': 2.0599365234375e-05, 'cur_lr': 2.18e-05, 'total_loss': 0.001431605637525067, 'policy_loss': -0.0050535287820931635, 'vf_loss': 0.013098722411968716, 'vf_explained_var': -0.44682822, 'kl': 0.00068024237777112, 'entropy': 0.006423966679600805, 'entropy_coeff': 0.01}\n",
      "\u001b[2m\u001b[36m(pid=21034)\u001b[0m 2021-07-16 11:59:00,869\tDEBUG sgd.py:120 -- 12 {'allreduce_latency': 0.0, 'cur_kl_coeff': 2.0599365234375e-05, 'cur_lr': 2.18e-05, 'total_loss': 0.0010746474180257683, 'policy_loss': -0.005420376179796277, 'vf_loss': 0.013118284457243246, 'vf_explained_var': -0.4363281, 'kl': 0.0006253536874189856, 'entropy': 0.006412860128572599, 'entropy_coeff': 0.01}\n",
      "\u001b[2m\u001b[36m(pid=21034)\u001b[0m 2021-07-16 11:59:01,023\tDEBUG sgd.py:120 -- 13 {'allreduce_latency': 0.0, 'cur_kl_coeff': 2.0599365234375e-05, 'cur_lr': 2.18e-05, 'total_loss': 0.003289931651317712, 'policy_loss': -0.003465663641691208, 'vf_loss': 0.013639957739294252, 'vf_explained_var': -0.36580002, 'kl': 0.000616964604218269, 'entropy': 0.006439571559467643, 'entropy_coeff': 0.01}\n",
      "\u001b[2m\u001b[36m(pid=21034)\u001b[0m 2021-07-16 11:59:01,177\tDEBUG sgd.py:120 -- 14 {'allreduce_latency': 0.0, 'cur_kl_coeff': 2.0599365234375e-05, 'cur_lr': 2.18e-05, 'total_loss': 0.0023288720880042424, 'policy_loss': -0.004287704698402773, 'vf_loss': 0.013360869065350429, 'vf_explained_var': -0.43061495, 'kl': 0.0006680193041988373, 'entropy': 0.006387250732090747, 'entropy_coeff': 0.01}\n",
      "\u001b[2m\u001b[36m(pid=21034)\u001b[0m 2021-07-16 11:59:01,331\tDEBUG sgd.py:120 -- 15 {'allreduce_latency': 0.0, 'cur_kl_coeff': 2.0599365234375e-05, 'cur_lr': 2.18e-05, 'total_loss': 0.0021658415031252484, 'policy_loss': -0.004419308889544372, 'vf_loss': 0.013299333343501061, 'vf_explained_var': -0.32540342, 'kl': 0.000641153808883797, 'entropy': 0.00645310942005987, 'entropy_coeff': 0.01}\n",
      "\u001b[2m\u001b[36m(pid=21034)\u001b[0m 2021-07-16 11:59:01,483\tDEBUG sgd.py:120 -- 16 {'allreduce_latency': 0.0, 'cur_kl_coeff': 2.0599365234375e-05, 'cur_lr': 2.18e-05, 'total_loss': 0.002046567980538715, 'policy_loss': -0.004540185528722676, 'vf_loss': 0.013301909548428022, 'vf_explained_var': -0.36518675, 'kl': 0.0005551256103244943, 'entropy': 0.00642109521381964, 'entropy_coeff': 0.01}\n",
      "\u001b[2m\u001b[36m(pid=21034)\u001b[0m 2021-07-16 11:59:01,636\tDEBUG sgd.py:120 -- 17 {'allreduce_latency': 0.0, 'cur_kl_coeff': 2.0599365234375e-05, 'cur_lr': 2.18e-05, 'total_loss': 0.0024825980548154225, 'policy_loss': -0.004161862317811359, 'vf_loss': 0.013418470253589365, 'vf_explained_var': -0.33367777, 'kl': 0.0006524579723852432, 'entropy': 0.006479086333208464, 'entropy_coeff': 0.01}\n",
      "\u001b[2m\u001b[36m(pid=21034)\u001b[0m 2021-07-16 11:59:01,801\tDEBUG sgd.py:120 -- 18 {'allreduce_latency': 0.0, 'cur_kl_coeff': 2.0599365234375e-05, 'cur_lr': 2.18e-05, 'total_loss': 0.0012487970207902517, 'policy_loss': -0.005259205615430167, 'vf_loss': 0.013144263772339786, 'vf_explained_var': -0.4791865, 'kl': 0.0006221951065402787, 'entropy': 0.006414098513205042, 'entropy_coeff': 0.01}\n",
      "\u001b[2m\u001b[36m(pid=21034)\u001b[0m 2021-07-16 11:59:01,956\tDEBUG sgd.py:120 -- 19 {'allreduce_latency': 0.0, 'cur_kl_coeff': 2.0599365234375e-05, 'cur_lr': 2.18e-05, 'total_loss': 0.0010919410340262182, 'policy_loss': -0.00539501632253329, 'vf_loss': 0.01310182346390899, 'vf_explained_var': -0.33271438, 'kl': 0.000513951168696539, 'entropy': 0.006396786764856766, 'entropy_coeff': 0.01}\n",
      "\u001b[2m\u001b[36m(pid=21034)\u001b[0m 2021-07-16 11:59:02,111\tDEBUG sgd.py:120 -- 20 {'allreduce_latency': 0.0, 'cur_kl_coeff': 2.0599365234375e-05, 'cur_lr': 2.18e-05, 'total_loss': 0.0015686902528007824, 'policy_loss': -0.0049692934774088135, 'vf_loss': 0.013204292929554922, 'vf_explained_var': -0.36335325, 'kl': 0.0008238899557716539, 'entropy': 0.0064179221318971195, 'entropy_coeff': 0.01}\n",
      "\u001b[2m\u001b[36m(pid=21034)\u001b[0m 2021-07-16 11:59:02,268\tDEBUG sgd.py:120 -- 21 {'allreduce_latency': 0.0, 'cur_kl_coeff': 2.0599365234375e-05, 'cur_lr': 2.18e-05, 'total_loss': 0.0012613206988934314, 'policy_loss': -0.005212985402481122, 'vf_loss': 0.013077544980633043, 'vf_explained_var': -0.4214008, 'kl': 0.0005936845112900659, 'entropy': 0.006447773192176652, 'entropy_coeff': 0.01}\n"
     ]
    },
    {
     "name": "stderr",
     "output_type": "stream",
     "text": [
      "\u001b[2m\u001b[36m(pid=21034)\u001b[0m 2021-07-16 11:59:02,423\tDEBUG sgd.py:120 -- 22 {'allreduce_latency': 0.0, 'cur_kl_coeff': 2.0599365234375e-05, 'cur_lr': 2.18e-05, 'total_loss': 0.0019963197974544582, 'policy_loss': -0.004569188155459635, 'vf_loss': 0.013259987939487804, 'vf_explained_var': -0.39194536, 'kl': 0.0005531192343617229, 'entropy': 0.006449698158328168, 'entropy_coeff': 0.01}\n",
      "\u001b[2m\u001b[36m(pid=21034)\u001b[0m 2021-07-16 11:59:02,579\tDEBUG sgd.py:120 -- 23 {'allreduce_latency': 0.0, 'cur_kl_coeff': 2.0599365234375e-05, 'cur_lr': 2.18e-05, 'total_loss': 0.0025353944211295157, 'policy_loss': -0.004071520980108868, 'vf_loss': 0.013342761401101157, 'vf_explained_var': -0.46819735, 'kl': 0.0008229042092132273, 'entropy': 0.006448372184395063, 'entropy_coeff': 0.01}\n",
      "\u001b[2m\u001b[36m(pid=21034)\u001b[0m 2021-07-16 11:59:02,734\tDEBUG sgd.py:120 -- 24 {'allreduce_latency': 0.0, 'cur_kl_coeff': 2.0599365234375e-05, 'cur_lr': 2.18e-05, 'total_loss': 0.002794785255735571, 'policy_loss': -0.0038284486103238482, 'vf_loss': 0.013375117195678424, 'vf_explained_var': -0.46353087, 'kl': 0.0005825310607482, 'entropy': 0.006433625248257268, 'entropy_coeff': 0.01}\n",
      "\u001b[2m\u001b[36m(pid=21034)\u001b[0m 2021-07-16 11:59:02,891\tDEBUG sgd.py:120 -- 25 {'allreduce_latency': 0.0, 'cur_kl_coeff': 2.0599365234375e-05, 'cur_lr': 2.18e-05, 'total_loss': 0.0010721403258767996, 'policy_loss': -0.005446016986035939, 'vf_loss': 0.01316642753204867, 'vf_explained_var': -0.3600697, 'kl': 0.0006938905577512879, 'entropy': 0.006507043324139279, 'entropy_coeff': 0.01}\n",
      "\u001b[2m\u001b[36m(pid=21034)\u001b[0m 2021-07-16 11:59:03,048\tDEBUG sgd.py:120 -- 26 {'allreduce_latency': 0.0, 'cur_kl_coeff': 2.0599365234375e-05, 'cur_lr': 2.18e-05, 'total_loss': 0.0012023036622188308, 'policy_loss': -0.005289410833608021, 'vf_loss': 0.01311283463005428, 'vf_explained_var': -0.4125143, 'kl': 0.0007031800949293524, 'entropy': 0.006471724964891716, 'entropy_coeff': 0.01}\n",
      "\u001b[2m\u001b[36m(pid=21034)\u001b[0m 2021-07-16 11:59:03,202\tDEBUG sgd.py:120 -- 27 {'allreduce_latency': 0.0, 'cur_kl_coeff': 2.0599365234375e-05, 'cur_lr': 2.18e-05, 'total_loss': 0.0012206824665719812, 'policy_loss': -0.0052986820933945255, 'vf_loss': 0.013168533332645893, 'vf_explained_var': -0.31310418, 'kl': 0.0005038536978447335, 'entropy': 0.006491165508426396, 'entropy_coeff': 0.01}\n"
     ]
    },
    {
     "name": "stdout",
     "output_type": "stream",
     "text": [
      "Result for PPO_TradingEnv_d625d_00000:\n",
      "  custom_metrics: {}\n",
      "  date: 2021-07-16_11-59-03\n",
      "  done: false\n",
      "  episode_len_mean: 913.0612244897959\n",
      "  episode_reward_max: 558.6237851008555\n",
      "  episode_reward_mean: 483.33764227327816\n",
      "  episode_reward_min: -23.913504331878357\n",
      "  episodes_this_iter: 7\n",
      "  episodes_total: 98\n",
      "  experiment_id: e6369b7d95d74c47a2c2141b4142c2c5\n",
      "  experiment_tag: '0'\n",
      "  hostname: localadmin-ECA-FX44E4C\n",
      "  info:\n",
      "    learner:\n",
      "      default_policy:\n",
      "        allreduce_latency: 0.0\n",
      "        cur_kl_coeff: 2.0599365234375e-05\n",
      "        cur_lr: 2.18e-05\n",
      "        entropy: 0.00644614975698749\n",
      "        entropy_coeff: 0.01\n",
      "        kl: 0.0005376970397201618\n",
      "        policy_loss: -0.005545946402531682\n",
      "        total_loss: 0.0009828088522860498\n",
      "        vf_explained_var: -0.40546345710754395\n",
      "        vf_loss: 0.013186413442864168\n",
      "    num_steps_sampled: 92400\n",
      "    num_steps_trained: 92400\n",
      "  iterations_since_restore: 22\n",
      "  node_ip: 192.168.0.202\n",
      "  num_healthy_workers: 7\n",
      "  off_policy_estimator: {}\n",
      "  perf:\n",
      "    cpu_util_percent: 30.977777777777774\n",
      "    ram_util_percent: 45.077777777777776\n",
      "  pid: 21034\n",
      "  policy_reward_max: {}\n",
      "  policy_reward_mean: {}\n",
      "  policy_reward_min: {}\n",
      "  sampler_perf:\n",
      "    mean_env_wait_ms: 0.5687484907288679\n",
      "    mean_inference_ms: 1.1726929885049169\n",
      "    mean_processing_ms: 0.20791758958213788\n",
      "  time_since_restore: 136.20116758346558\n",
      "  time_this_iter_s: 5.789938926696777\n",
      "  time_total_s: 136.20116758346558\n",
      "  timers:\n",
      "    learn_throughput: 857.671\n",
      "    learn_time_ms: 4896.981\n",
      "    sample_throughput: 3613.338\n",
      "    sample_time_ms: 1162.36\n",
      "    update_time_ms: 1.412\n",
      "  timestamp: 1626407943\n",
      "  timesteps_since_restore: 0\n",
      "  timesteps_total: 92400\n",
      "  training_iteration: 22\n",
      "  trial_id: d625d_00000\n",
      "  \n"
     ]
    },
    {
     "name": "stderr",
     "output_type": "stream",
     "text": [
      "\u001b[2m\u001b[36m(pid=21034)\u001b[0m 2021-07-16 11:59:03,358\tDEBUG sgd.py:120 -- 28 {'allreduce_latency': 0.0, 'cur_kl_coeff': 2.0599365234375e-05, 'cur_lr': 2.18e-05, 'total_loss': 0.0020291377423387585, 'policy_loss': -0.004543867526632367, 'vf_loss': 0.01327507741569372, 'vf_explained_var': -0.24912868, 'kl': 0.0007192358531359456, 'entropy': 0.006454763979876809, 'entropy_coeff': 0.01}\n",
      "\u001b[2m\u001b[36m(pid=21034)\u001b[0m 2021-07-16 11:59:03,512\tDEBUG sgd.py:120 -- 29 {'allreduce_latency': 0.0, 'cur_kl_coeff': 2.0599365234375e-05, 'cur_lr': 2.18e-05, 'total_loss': 0.0009828088522860498, 'policy_loss': -0.005545946402531682, 'vf_loss': 0.013186413442864168, 'vf_explained_var': -0.40546346, 'kl': 0.0005376970397201618, 'entropy': 0.00644614975698749, 'entropy_coeff': 0.01}\n",
      "\u001b[2m\u001b[36m(pid=21034)\u001b[0m 2021-07-16 11:59:03,522\tDEBUG trainer.py:547 -- synchronized filters: {'default_policy': MeanStdFilter((25, 2), True, True, None, (n=92505, mean_mean=-0.338583211963275, mean_std=3.8432486562883628), (n=0, mean_mean=0.0, mean_std=0.0))}\n"
     ]
    },
    {
     "data": {
      "text/html": [
       "== Status ==<br>Memory usage on this node: 6.5/14.5 GiB<br>Using FIFO scheduling algorithm.<br>Resources requested: 8/8 CPUs, 0/0 GPUs, 0.0/6.74 GiB heap, 0.0/2.29 GiB objects<br>Result logdir: /home/localadmin/ray_results/PPO<br>Number of trials: 1 (1 RUNNING)<br><table>\n",
       "<thead>\n",
       "<tr><th>Trial name                </th><th>status  </th><th>loc                </th><th style=\"text-align: right;\">  iter</th><th style=\"text-align: right;\">  total time (s)</th><th style=\"text-align: right;\">   ts</th><th style=\"text-align: right;\">  reward</th></tr>\n",
       "</thead>\n",
       "<tbody>\n",
       "<tr><td>PPO_TradingEnv_d625d_00000</td><td>RUNNING </td><td>192.168.0.202:21034</td><td style=\"text-align: right;\">    22</td><td style=\"text-align: right;\">         136.201</td><td style=\"text-align: right;\">92400</td><td style=\"text-align: right;\"> 483.338</td></tr>\n",
       "</tbody>\n",
       "</table><br><br>"
      ],
      "text/plain": [
       "<IPython.core.display.HTML object>"
      ]
     },
     "metadata": {},
     "output_type": "display_data"
    },
    {
     "name": "stderr",
     "output_type": "stream",
     "text": [
      "\u001b[2m\u001b[36m(pid=21034)\u001b[0m 2021-07-16 11:59:04,816\tDEBUG sgd.py:120 -- 0 {'allreduce_latency': 0.0, 'cur_kl_coeff': 1.02996826171875e-05, 'cur_lr': 1.7599999999999994e-05, 'total_loss': 0.002892179922624068, 'policy_loss': -0.0049412230199033565, 'vf_loss': 0.015795163715886178, 'vf_explained_var': -0.40748182, 'kl': 0.0002194341645564121, 'entropy': 0.0064182254540024915, 'entropy_coeff': 0.01}\n",
      "\u001b[2m\u001b[36m(pid=21034)\u001b[0m 2021-07-16 11:59:04,970\tDEBUG sgd.py:120 -- 1 {'allreduce_latency': 0.0, 'cur_kl_coeff': 1.02996826171875e-05, 'cur_lr': 1.7599999999999994e-05, 'total_loss': -0.0011510313347433553, 'policy_loss': -0.008989534086801788, 'vf_loss': 0.015803800128086357, 'vf_explained_var': -0.30740705, 'kl': 0.0007566860118789588, 'entropy': 0.006340728020542442, 'entropy_coeff': 0.01}\n",
      "\u001b[2m\u001b[36m(pid=21034)\u001b[0m 2021-07-16 11:59:05,125\tDEBUG sgd.py:120 -- 2 {'allreduce_latency': 0.0, 'cur_kl_coeff': 1.02996826171875e-05, 'cur_lr': 1.7599999999999994e-05, 'total_loss': -0.0014389534904198213, 'policy_loss': -0.009299453545474646, 'vf_loss': 0.015848055085922224, 'vf_explained_var': -0.407487, 'kl': 0.0004272283143442813, 'entropy': 0.006353175184082802, 'entropy_coeff': 0.01}\n",
      "\u001b[2m\u001b[36m(pid=21034)\u001b[0m 2021-07-16 11:59:05,278\tDEBUG sgd.py:120 -- 3 {'allreduce_latency': 0.0, 'cur_kl_coeff': 1.02996826171875e-05, 'cur_lr': 1.7599999999999994e-05, 'total_loss': -0.0015828042488658066, 'policy_loss': -0.009503774909359036, 'vf_loss': 0.015969539536551263, 'vf_explained_var': -0.3998736, 'kl': 0.00034480310910801177, 'entropy': 0.006380175702471399, 'entropy_coeff': 0.01}\n",
      "\u001b[2m\u001b[36m(pid=21034)\u001b[0m 2021-07-16 11:59:05,435\tDEBUG sgd.py:120 -- 4 {'allreduce_latency': 0.0, 'cur_kl_coeff': 1.02996826171875e-05, 'cur_lr': 1.7599999999999994e-05, 'total_loss': -0.002004304759655938, 'policy_loss': -0.009798193985426968, 'vf_loss': 0.015715884604353712, 'vf_explained_var': -0.5207557, 'kl': 0.0002623396316762823, 'entropy': 0.006405420315180284, 'entropy_coeff': 0.01}\n",
      "\u001b[2m\u001b[36m(pid=21034)\u001b[0m 2021-07-16 11:59:05,591\tDEBUG sgd.py:120 -- 5 {'allreduce_latency': 0.0, 'cur_kl_coeff': 1.02996826171875e-05, 'cur_lr': 1.7599999999999994e-05, 'total_loss': -0.0014748228431651087, 'policy_loss': -0.009322000780340397, 'vf_loss': 0.01582167379886166, 'vf_explained_var': -0.3875397, 'kl': 0.0006719414072284218, 'entropy': 0.006366478181779244, 'entropy_coeff': 0.01}\n",
      "\u001b[2m\u001b[36m(pid=21034)\u001b[0m 2021-07-16 11:59:05,747\tDEBUG sgd.py:120 -- 6 {'allreduce_latency': 0.0, 'cur_kl_coeff': 1.02996826171875e-05, 'cur_lr': 1.7599999999999994e-05, 'total_loss': -0.0021920238028873096, 'policy_loss': -0.01002839281026161, 'vf_loss': 0.015799530910567915, 'vf_explained_var': -0.39137128, 'kl': 0.0005184920782236683, 'entropy': 0.006340277173215079, 'entropy_coeff': 0.01}\n",
      "\u001b[2m\u001b[36m(pid=21034)\u001b[0m 2021-07-16 11:59:05,902\tDEBUG sgd.py:120 -- 7 {'allreduce_latency': 0.0, 'cur_kl_coeff': 1.02996826171875e-05, 'cur_lr': 1.7599999999999994e-05, 'total_loss': -0.0021296357453772516, 'policy_loss': -0.010009420358321884, 'vf_loss': 0.01588697167145173, 'vf_explained_var': -0.40739787, 'kl': 0.00031197004870426264, 'entropy': 0.006370187616443162, 'entropy_coeff': 0.01}\n",
      "\u001b[2m\u001b[36m(pid=21034)\u001b[0m 2021-07-16 11:59:06,061\tDEBUG sgd.py:120 -- 8 {'allreduce_latency': 0.0, 'cur_kl_coeff': 1.02996826171875e-05, 'cur_lr': 1.7599999999999994e-05, 'total_loss': -0.0013142049764141891, 'policy_loss': -0.00928262835650733, 'vf_loss': 0.016066126077379467, 'vf_explained_var': -0.42153642, 'kl': 0.00026032716433678786, 'entropy': 0.006464127321433724, 'entropy_coeff': 0.01}\n",
      "\u001b[2m\u001b[36m(pid=21034)\u001b[0m 2021-07-16 11:59:06,219\tDEBUG sgd.py:120 -- 9 {'allreduce_latency': 0.0, 'cur_kl_coeff': 1.02996826171875e-05, 'cur_lr': 1.7599999999999994e-05, 'total_loss': -0.0017086956650018692, 'policy_loss': -0.009611959964262716, 'vf_loss': 0.015935872422150252, 'vf_explained_var': -0.42910445, 'kl': 0.00040807886753927136, 'entropy': 0.006467845656020058, 'entropy_coeff': 0.01}\n",
      "\u001b[2m\u001b[36m(pid=21034)\u001b[0m 2021-07-16 11:59:06,377\tDEBUG sgd.py:120 -- 10 {'allreduce_latency': 0.0, 'cur_kl_coeff': 1.02996826171875e-05, 'cur_lr': 1.7599999999999994e-05, 'total_loss': -0.0013120418104032676, 'policy_loss': -0.009208254967675064, 'vf_loss': 0.015920425266923496, 'vf_explained_var': -0.37513903, 'kl': 0.0004013194398573956, 'entropy': 0.006400325214737236, 'entropy_coeff': 0.01}\n",
      "\u001b[2m\u001b[36m(pid=21034)\u001b[0m 2021-07-16 11:59:06,531\tDEBUG sgd.py:120 -- 11 {'allreduce_latency': 0.0, 'cur_kl_coeff': 1.02996826171875e-05, 'cur_lr': 1.7599999999999994e-05, 'total_loss': -0.002597567822897073, 'policy_loss': -0.010451777273732605, 'vf_loss': 0.015837313445059186, 'vf_explained_var': -0.42233318, 'kl': 0.0003969457583424986, 'entropy': 0.006444837881700192, 'entropy_coeff': 0.01}\n",
      "\u001b[2m\u001b[36m(pid=21034)\u001b[0m 2021-07-16 11:59:06,690\tDEBUG sgd.py:120 -- 12 {'allreduce_latency': 0.0, 'cur_kl_coeff': 1.02996826171875e-05, 'cur_lr': 1.7599999999999994e-05, 'total_loss': -0.000866730556343541, 'policy_loss': -0.008816579469677174, 'vf_loss': 0.01602797091067204, 'vf_explained_var': -0.40475637, 'kl': 0.0004462496508357149, 'entropy': 0.0064136760249146555, 'entropy_coeff': 0.01}\n",
      "\u001b[2m\u001b[36m(pid=21034)\u001b[0m 2021-07-16 11:59:06,853\tDEBUG sgd.py:120 -- 13 {'allreduce_latency': 0.0, 'cur_kl_coeff': 1.02996826171875e-05, 'cur_lr': 1.7599999999999994e-05, 'total_loss': -0.0020294729055780353, 'policy_loss': -0.009851126564723072, 'vf_loss': 0.01577156694750584, 'vf_explained_var': -0.5106062, 'kl': 0.000331850009615664, 'entropy': 0.006413204948220289, 'entropy_coeff': 0.01}\n",
      "\u001b[2m\u001b[36m(pid=21034)\u001b[0m 2021-07-16 11:59:07,005\tDEBUG sgd.py:120 -- 14 {'allreduce_latency': 0.0, 'cur_kl_coeff': 1.02996826171875e-05, 'cur_lr': 1.7599999999999994e-05, 'total_loss': -0.002230903190193754, 'policy_loss': -0.010050170123577118, 'vf_loss': 0.015765986000505192, 'vf_explained_var': -0.41476446, 'kl': 0.00047657463441778833, 'entropy': 0.006373102291642378, 'entropy_coeff': 0.01}\n",
      "\u001b[2m\u001b[36m(pid=21034)\u001b[0m 2021-07-16 11:59:07,162\tDEBUG sgd.py:120 -- 15 {'allreduce_latency': 0.0, 'cur_kl_coeff': 1.02996826171875e-05, 'cur_lr': 1.7599999999999994e-05, 'total_loss': -0.0021711534848718934, 'policy_loss': -0.009993168299622608, 'vf_loss': 0.015772054781502284, 'vf_explained_var': -0.36634585, 'kl': 0.0003594235175469431, 'entropy': 0.006401872819630874, 'entropy_coeff': 0.01}\n",
      "\u001b[2m\u001b[36m(pid=21034)\u001b[0m 2021-07-16 11:59:07,316\tDEBUG sgd.py:120 -- 16 {'allreduce_latency': 0.0, 'cur_kl_coeff': 1.02996826171875e-05, 'cur_lr': 1.7599999999999994e-05, 'total_loss': -0.0006359010709054543, 'policy_loss': -0.00852895053950223, 'vf_loss': 0.015914728184174182, 'vf_explained_var': -0.47743675, 'kl': 0.0004480368909259947, 'entropy': 0.006432218189343765, 'entropy_coeff': 0.01}\n",
      "\u001b[2m\u001b[36m(pid=21034)\u001b[0m 2021-07-16 11:59:07,472\tDEBUG sgd.py:120 -- 17 {'allreduce_latency': 0.0, 'cur_kl_coeff': 1.02996826171875e-05, 'cur_lr': 1.7599999999999994e-05, 'total_loss': -0.0012808612011598818, 'policy_loss': -0.009202283778876968, 'vf_loss': 0.015972418272268085, 'vf_explained_var': -0.30738616, 'kl': 0.00039000477362008314, 'entropy': 0.006479174495394325, 'entropy_coeff': 0.01}\n",
      "\u001b[2m\u001b[36m(pid=21034)\u001b[0m 2021-07-16 11:59:07,626\tDEBUG sgd.py:120 -- 18 {'allreduce_latency': 0.0, 'cur_kl_coeff': 1.02996826171875e-05, 'cur_lr': 1.7599999999999994e-05, 'total_loss': -0.001537195152857087, 'policy_loss': -0.009477961554446003, 'vf_loss': 0.01601083078386375, 'vf_explained_var': -0.32524326, 'kl': 0.00034729271939079007, 'entropy': 0.006465092001511066, 'entropy_coeff': 0.01}\n",
      "\u001b[2m\u001b[36m(pid=21034)\u001b[0m 2021-07-16 11:59:07,778\tDEBUG sgd.py:120 -- 19 {'allreduce_latency': 0.0, 'cur_kl_coeff': 1.02996826171875e-05, 'cur_lr': 1.7599999999999994e-05, 'total_loss': -0.0014686622289997158, 'policy_loss': -0.009380437574829117, 'vf_loss': 0.01595239693327158, 'vf_explained_var': -0.37794465, 'kl': 0.0005388540228619659, 'entropy': 0.006442701122675014, 'entropy_coeff': 0.01}\n",
      "\u001b[2m\u001b[36m(pid=21034)\u001b[0m 2021-07-16 11:59:07,941\tDEBUG sgd.py:120 -- 20 {'allreduce_latency': 0.0, 'cur_kl_coeff': 1.02996826171875e-05, 'cur_lr': 1.7599999999999994e-05, 'total_loss': -0.002463228633683739, 'policy_loss': -0.010329226314118414, 'vf_loss': 0.015860845016449632, 'vf_explained_var': -0.27569327, 'kl': 0.0002909452737598754, 'entropy': 0.006442658591285263, 'entropy_coeff': 0.01}\n",
      "\u001b[2m\u001b[36m(pid=21034)\u001b[0m 2021-07-16 11:59:08,094\tDEBUG sgd.py:120 -- 21 {'allreduce_latency': 0.0, 'cur_kl_coeff': 1.02996826171875e-05, 'cur_lr': 1.7599999999999994e-05, 'total_loss': -0.0014112414792180061, 'policy_loss': -0.009229719723490152, 'vf_loss': 0.015765053276537044, 'vf_explained_var': -0.4932056, 'kl': 0.0004397294308573967, 'entropy': 0.006405236740564843, 'entropy_coeff': 0.01}\n"
     ]
    },
    {
     "name": "stderr",
     "output_type": "stream",
     "text": [
      "\u001b[2m\u001b[36m(pid=21034)\u001b[0m 2021-07-16 11:59:08,256\tDEBUG sgd.py:120 -- 22 {'allreduce_latency': 0.0, 'cur_kl_coeff': 1.02996826171875e-05, 'cur_lr': 1.7599999999999994e-05, 'total_loss': -0.0001438751139424064, 'policy_loss': -0.00814930908381939, 'vf_loss': 0.01614077258273028, 'vf_explained_var': -0.38084587, 'kl': 0.00037515218230744335, 'entropy': 0.0064953069873312915, 'entropy_coeff': 0.01}\n",
      "\u001b[2m\u001b[36m(pid=21034)\u001b[0m 2021-07-16 11:59:08,413\tDEBUG sgd.py:120 -- 23 {'allreduce_latency': 0.0, 'cur_kl_coeff': 1.02996826171875e-05, 'cur_lr': 1.7599999999999994e-05, 'total_loss': -0.0016155945645137267, 'policy_loss': -0.00954973604530096, 'vf_loss': 0.015997299126342335, 'vf_explained_var': -0.3424537, 'kl': 0.00048792426232561564, 'entropy': 0.006451221999613512, 'entropy_coeff': 0.01}\n",
      "\u001b[2m\u001b[36m(pid=21034)\u001b[0m 2021-07-16 11:59:08,569\tDEBUG sgd.py:120 -- 24 {'allreduce_latency': 0.0, 'cur_kl_coeff': 1.02996826171875e-05, 'cur_lr': 1.7599999999999994e-05, 'total_loss': -0.0019452727089325588, 'policy_loss': -0.009857634675096382, 'vf_loss': 0.015953515108170297, 'vf_explained_var': -0.27545843, 'kl': 0.0003389424763361493, 'entropy': 0.006439838980220498, 'entropy_coeff': 0.01}\n",
      "\u001b[2m\u001b[36m(pid=21034)\u001b[0m 2021-07-16 11:59:08,727\tDEBUG sgd.py:120 -- 25 {'allreduce_latency': 0.0, 'cur_kl_coeff': 1.02996826171875e-05, 'cur_lr': 1.7599999999999994e-05, 'total_loss': -0.002373102487939777, 'policy_loss': -0.010214558604991797, 'vf_loss': 0.015811302737071826, 'vf_explained_var': -0.546307, 'kl': 0.00038249352253908836, 'entropy': 0.006419983074934091, 'entropy_coeff': 0.01}\n",
      "\u001b[2m\u001b[36m(pid=21034)\u001b[0m 2021-07-16 11:59:08,882\tDEBUG sgd.py:120 -- 26 {'allreduce_latency': 0.0, 'cur_kl_coeff': 1.02996826171875e-05, 'cur_lr': 1.7599999999999994e-05, 'total_loss': -0.0022567346917860436, 'policy_loss': -0.010086983442306519, 'vf_loss': 0.01578864298679753, 'vf_explained_var': -0.3960702, 'kl': 0.0004045131141731073, 'entropy': 0.006407598725645309, 'entropy_coeff': 0.01}\n",
      "\u001b[2m\u001b[36m(pid=21034)\u001b[0m 2021-07-16 11:59:09,034\tDEBUG sgd.py:120 -- 27 {'allreduce_latency': 0.0, 'cur_kl_coeff': 1.02996826171875e-05, 'cur_lr': 1.7599999999999994e-05, 'total_loss': -0.002488765216460734, 'policy_loss': -0.010296104983849958, 'vf_loss': 0.015744399933310255, 'vf_explained_var': -0.37453118, 'kl': 0.0003998443904840838, 'entropy': 0.006486344542391827, 'entropy_coeff': 0.01}\n"
     ]
    },
    {
     "name": "stdout",
     "output_type": "stream",
     "text": [
      "Result for PPO_TradingEnv_d625d_00000:\n",
      "  custom_metrics: {}\n",
      "  date: 2021-07-16_11-59-09\n",
      "  done: true\n",
      "  episode_len_mean: 924.7\n",
      "  episode_reward_max: 558.6237851008555\n",
      "  episode_reward_mean: 501.91310612444323\n",
      "  episode_reward_min: -3.2972946600348223\n",
      "  episodes_this_iter: 5\n",
      "  episodes_total: 103\n",
      "  experiment_id: e6369b7d95d74c47a2c2141b4142c2c5\n",
      "  experiment_tag: '0'\n",
      "  hostname: localadmin-ECA-FX44E4C\n",
      "  info:\n",
      "    learner:\n",
      "      default_policy:\n",
      "        allreduce_latency: 0.0\n",
      "        cur_kl_coeff: 1.02996826171875e-05\n",
      "        cur_lr: 1.7599999999999994e-05\n",
      "        entropy: 0.00646920584679747\n",
      "        entropy_coeff: 0.01\n",
      "        kl: 0.00035873321303111794\n",
      "        policy_loss: -0.009957903967888065\n",
      "        total_loss: -0.0021624272181229157\n",
      "        vf_explained_var: -0.43044501543045044\n",
      "        vf_loss: 0.015720328369008548\n",
      "    num_steps_sampled: 96600\n",
      "    num_steps_trained: 96600\n",
      "  iterations_since_restore: 23\n",
      "  node_ip: 192.168.0.202\n",
      "  num_healthy_workers: 7\n",
      "  off_policy_estimator: {}\n",
      "  perf:\n",
      "    cpu_util_percent: 31.725\n",
      "    ram_util_percent: 45.0\n",
      "  pid: 21034\n",
      "  policy_reward_max: {}\n",
      "  policy_reward_mean: {}\n",
      "  policy_reward_min: {}\n",
      "  sampler_perf:\n",
      "    mean_env_wait_ms: 0.5505492895481495\n",
      "    mean_inference_ms: 1.1638294747953064\n",
      "    mean_processing_ms: 0.20707800001467716\n",
      "  time_since_restore: 142.0070288181305\n",
      "  time_this_iter_s: 5.805861234664917\n",
      "  time_total_s: 142.0070288181305\n",
      "  timers:\n",
      "    learn_throughput: 864.562\n",
      "    learn_time_ms: 4857.953\n",
      "    sample_throughput: 3627.337\n",
      "    sample_time_ms: 1157.874\n",
      "    update_time_ms: 1.407\n",
      "  timestamp: 1626407949\n",
      "  timesteps_since_restore: 0\n",
      "  timesteps_total: 96600\n",
      "  training_iteration: 23\n",
      "  trial_id: d625d_00000\n",
      "  \n"
     ]
    },
    {
     "name": "stderr",
     "output_type": "stream",
     "text": [
      "\u001b[2m\u001b[36m(pid=21034)\u001b[0m 2021-07-16 11:59:09,187\tDEBUG sgd.py:120 -- 28 {'allreduce_latency': 0.0, 'cur_kl_coeff': 1.02996826171875e-05, 'cur_lr': 1.7599999999999994e-05, 'total_loss': -0.0016923221110394506, 'policy_loss': -0.0095914565873417, 'vf_loss': 0.015927084874199478, 'vf_explained_var': -0.4792997, 'kl': 0.0005805914425819179, 'entropy': 0.006441254605747279, 'entropy_coeff': 0.01}\n",
      "\u001b[2m\u001b[36m(pid=21034)\u001b[0m 2021-07-16 11:59:09,341\tDEBUG sgd.py:120 -- 29 {'allreduce_latency': 0.0, 'cur_kl_coeff': 1.02996826171875e-05, 'cur_lr': 1.7599999999999994e-05, 'total_loss': -0.0021624272181229157, 'policy_loss': -0.009957903967888065, 'vf_loss': 0.015720328369008548, 'vf_explained_var': -0.43044502, 'kl': 0.00035873321303111794, 'entropy': 0.00646920584679747, 'entropy_coeff': 0.01}\n",
      "\u001b[2m\u001b[36m(pid=21034)\u001b[0m 2021-07-16 11:59:09,351\tDEBUG trainer.py:547 -- synchronized filters: {'default_policy': MeanStdFilter((25, 2), True, True, None, (n=96710, mean_mean=-0.34307771228840145, mean_std=3.8421532050861718), (n=0, mean_mean=0.0, mean_std=0.0))}\n"
     ]
    },
    {
     "data": {
      "text/html": [
       "== Status ==<br>Memory usage on this node: 6.5/14.5 GiB<br>Using FIFO scheduling algorithm.<br>Resources requested: 8/8 CPUs, 0/0 GPUs, 0.0/6.74 GiB heap, 0.0/2.29 GiB objects<br>Result logdir: /home/localadmin/ray_results/PPO<br>Number of trials: 1 (1 RUNNING)<br><table>\n",
       "<thead>\n",
       "<tr><th>Trial name                </th><th>status  </th><th>loc                </th><th style=\"text-align: right;\">  iter</th><th style=\"text-align: right;\">  total time (s)</th><th style=\"text-align: right;\">   ts</th><th style=\"text-align: right;\">  reward</th></tr>\n",
       "</thead>\n",
       "<tbody>\n",
       "<tr><td>PPO_TradingEnv_d625d_00000</td><td>RUNNING </td><td>192.168.0.202:21034</td><td style=\"text-align: right;\">    23</td><td style=\"text-align: right;\">         142.007</td><td style=\"text-align: right;\">96600</td><td style=\"text-align: right;\"> 501.913</td></tr>\n",
       "</tbody>\n",
       "</table><br><br>"
      ],
      "text/plain": [
       "<IPython.core.display.HTML object>"
      ]
     },
     "metadata": {},
     "output_type": "display_data"
    },
    {
     "data": {
      "text/html": [
       "== Status ==<br>Memory usage on this node: 6.5/14.5 GiB<br>Using FIFO scheduling algorithm.<br>Resources requested: 0/8 CPUs, 0/0 GPUs, 0.0/6.74 GiB heap, 0.0/2.29 GiB objects<br>Result logdir: /home/localadmin/ray_results/PPO<br>Number of trials: 1 (1 TERMINATED)<br><table>\n",
       "<thead>\n",
       "<tr><th>Trial name                </th><th>status    </th><th>loc  </th><th style=\"text-align: right;\">  iter</th><th style=\"text-align: right;\">  total time (s)</th><th style=\"text-align: right;\">   ts</th><th style=\"text-align: right;\">  reward</th></tr>\n",
       "</thead>\n",
       "<tbody>\n",
       "<tr><td>PPO_TradingEnv_d625d_00000</td><td>TERMINATED</td><td>     </td><td style=\"text-align: right;\">    23</td><td style=\"text-align: right;\">         142.007</td><td style=\"text-align: right;\">96600</td><td style=\"text-align: right;\"> 501.913</td></tr>\n",
       "</tbody>\n",
       "</table><br><br>"
      ],
      "text/plain": [
       "<IPython.core.display.HTML object>"
      ]
     },
     "metadata": {},
     "output_type": "display_data"
    }
   ],
   "source": [
    "import os\n",
    "import ray\n",
    "from ray import tune\n",
    "from ray.tune.registry import register_env\n",
    "\n",
    "register_env(\"TradingEnv\", create_env)\n",
    "\n",
    "analysis = tune.run(\n",
    "    \"PPO\",\n",
    "    stop={\n",
    "      \"episode_reward_mean\": 500\n",
    "    },\n",
    "    config={\n",
    "        \"env\": \"TradingEnv\",\n",
    "        \"env_config\": {\n",
    "            \"window_size\": 25,\n",
    "            \"df\": df\n",
    "        },\n",
    "        \"log_level\": \"DEBUG\",\n",
    "        \"framework\": \"torch\",\n",
    "        \"ignore_worker_failures\": True,\n",
    "        \"num_workers\": os.cpu_count()-1,\n",
    "        \"num_gpus\": gpu_count,\n",
    "        \"clip_rewards\": True,\n",
    "        \"lr\": 8e-6,\n",
    "        \"lr_schedule\": [\n",
    "            [0, 1e-1],\n",
    "            [int(1e2), 1e-2],\n",
    "            [int(1e3), 1e-3],\n",
    "            [int(1e4), 1e-4],\n",
    "            [int(1e5), 1e-5],\n",
    "            [int(1e6), 1e-6],\n",
    "            [int(1e7), 1e-7]\n",
    "        ],\n",
    "        \"gamma\": 0,\n",
    "        \"observation_filter\": \"MeanStdFilter\",\n",
    "        \"lambda\": 0.72,\n",
    "        \"vf_loss_coeff\": 0.5,\n",
    "        \"entropy_coeff\": 0.01\n",
    "    },\n",
    "    checkpoint_at_end=True\n",
    ")\n"
   ]
  },
  {
   "cell_type": "markdown",
   "metadata": {},
   "source": [
    "# Restore Agent"
   ]
  },
  {
   "cell_type": "code",
   "execution_count": 48,
   "metadata": {},
   "outputs": [
    {
     "name": "stderr",
     "output_type": "stream",
     "text": [
      "2021-07-16 11:59:09,445\tDEBUG rollout_worker.py:957 -- Creating policy for default_policy\n",
      "2021-07-16 11:59:09,450\tDEBUG catalog.py:470 -- Created preprocessor <ray.rllib.models.preprocessors.NoPreprocessor object at 0x7fa6f49436d0>: Box(-inf, inf, (25, 2), float32) -> (25, 2)\n",
      "2021-07-16 11:59:09,481\tINFO rollout_worker.py:990 -- Built policy map: {'default_policy': <ray.rllib.policy.torch_policy_template.PPOTorchPolicy object at 0x7fa6f409c2b0>}\n",
      "2021-07-16 11:59:09,482\tINFO rollout_worker.py:991 -- Built preprocessor map: {'default_policy': <ray.rllib.models.preprocessors.NoPreprocessor object at 0x7fa6f49436d0>}\n",
      "2021-07-16 11:59:09,482\tDEBUG rollout_worker.py:412 -- Creating policy evaluation worker 0 on CPU (please ignore any CUDA init errors)\n",
      "2021-07-16 11:59:09,483\tINFO rollout_worker.py:446 -- Built filter map: {'default_policy': MeanStdFilter((25, 2), True, True, None, (n=0, mean_mean=0.0, mean_std=0.0), (n=0, mean_mean=0.0, mean_std=0.0))}\n",
      "2021-07-16 11:59:09,484\tDEBUG rollout_worker.py:538 -- Created rollout worker with env <ray.rllib.env.base_env._VectorEnvToBaseEnv object at 0x7fa6f4051e20> (<TradingEnv instance>), policies {'default_policy': <ray.rllib.policy.torch_policy_template.PPOTorchPolicy object at 0x7fa6f409c2b0>}\n",
      "2021-07-16 11:59:09,517\tWARNING util.py:37 -- Install gputil for GPU system monitoring.\n",
      "2021-07-16 11:59:09,528\tINFO trainable.py:472 -- Restored on 192.168.0.202 from checkpoint: /home/localadmin/ray_results/PPO/PPO_TradingEnv_0_2021-07-16_11-56-44fvumu0q7/checkpoint_23/checkpoint-23\n",
      "2021-07-16 11:59:09,529\tINFO trainable.py:480 -- Current state after restoring: {'_iteration': 23, '_timesteps_total': None, '_time_total': 142.0070288181305, '_episodes_total': 103}\n"
     ]
    }
   ],
   "source": [
    "import ray.rllib.agents.ppo as ppo\n",
    "\n",
    "# Get checkpoint\n",
    "checkpoints = analysis.get_trial_checkpoints_paths(\n",
    "    trial=analysis.get_best_trial(\"episode_reward_mean\"),\n",
    "    metric=\"episode_reward_mean\"\n",
    ")\n",
    "checkpoint_path = checkpoints[0][0]\n",
    "\n",
    "# Restore agent\n",
    "agent = ppo.PPOTrainer(\n",
    "    env=\"TradingEnv\",\n",
    "    config={\n",
    "        \"env_config\": {\n",
    "            \"window_size\": 25,\n",
    "            \"df\": df\n",
    "        },\n",
    "        \"framework\": \"torch\",\n",
    "        \"log_level\": \"DEBUG\",\n",
    "        \"ignore_worker_failures\": True,\n",
    "        \"num_workers\": 1,\n",
    "        \"num_gpus\": 0,\n",
    "        \"clip_rewards\": True,\n",
    "        \"lr\": 8e-6,\n",
    "        \"lr_schedule\": [\n",
    "            [0, 1e-1],\n",
    "            [int(1e2), 1e-2],\n",
    "            [int(1e3), 1e-3],\n",
    "            [int(1e4), 1e-4],\n",
    "            [int(1e5), 1e-5],\n",
    "            [int(1e6), 1e-6],\n",
    "            [int(1e7), 1e-7]\n",
    "        ],\n",
    "        \"gamma\": 0,\n",
    "        \"observation_filter\": \"MeanStdFilter\",\n",
    "        \"lambda\": 0.72,\n",
    "        \"vf_loss_coeff\": 0.5,\n",
    "        \"entropy_coeff\": 0.01\n",
    "    }\n",
    ")\n",
    "agent.restore(checkpoint_path)"
   ]
  },
  {
   "cell_type": "markdown",
   "metadata": {},
   "source": [
    "# Evaluate Agent"
   ]
  },
  {
   "cell_type": "code",
   "execution_count": 49,
   "metadata": {},
   "outputs": [
    {
     "ename": "AttributeError",
     "evalue": "'PathCollection' object has no property 'legend'",
     "output_type": "error",
     "traceback": [
      "\u001b[0;31m---------------------------------------------------------------------------\u001b[0m",
      "\u001b[0;31mAttributeError\u001b[0m                            Traceback (most recent call last)",
      "\u001b[0;32m/tmp/ipykernel_20947/4114348354.py\u001b[0m in \u001b[0;36m<module>\u001b[0;34m\u001b[0m\n\u001b[1;32m     15\u001b[0m     \u001b[0mepisode_reward\u001b[0m \u001b[0;34m+=\u001b[0m \u001b[0mreward\u001b[0m\u001b[0;34m\u001b[0m\u001b[0;34m\u001b[0m\u001b[0m\n\u001b[1;32m     16\u001b[0m \u001b[0;34m\u001b[0m\u001b[0m\n\u001b[0;32m---> 17\u001b[0;31m \u001b[0menv\u001b[0m\u001b[0;34m.\u001b[0m\u001b[0mrender\u001b[0m\u001b[0;34m(\u001b[0m\u001b[0;34m)\u001b[0m\u001b[0;34m\u001b[0m\u001b[0;34m\u001b[0m\u001b[0m\n\u001b[0m",
      "\u001b[0;32m~/tensortrade-train/venv/lib/python3.8/site-packages/tensortrade/env/generic/environment.py\u001b[0m in \u001b[0;36mrender\u001b[0;34m(self, **kwargs)\u001b[0m\n\u001b[1;32m    153\u001b[0m     \u001b[0;32mdef\u001b[0m \u001b[0mrender\u001b[0m\u001b[0;34m(\u001b[0m\u001b[0mself\u001b[0m\u001b[0;34m,\u001b[0m \u001b[0;34m**\u001b[0m\u001b[0mkwargs\u001b[0m\u001b[0;34m)\u001b[0m \u001b[0;34m->\u001b[0m \u001b[0;32mNone\u001b[0m\u001b[0;34m:\u001b[0m\u001b[0;34m\u001b[0m\u001b[0;34m\u001b[0m\u001b[0m\n\u001b[1;32m    154\u001b[0m         \u001b[0;34m\"\"\"Renders the environment.\"\"\"\u001b[0m\u001b[0;34m\u001b[0m\u001b[0;34m\u001b[0m\u001b[0m\n\u001b[0;32m--> 155\u001b[0;31m         \u001b[0mself\u001b[0m\u001b[0;34m.\u001b[0m\u001b[0mrenderer\u001b[0m\u001b[0;34m.\u001b[0m\u001b[0mrender\u001b[0m\u001b[0;34m(\u001b[0m\u001b[0mself\u001b[0m\u001b[0;34m,\u001b[0m \u001b[0;34m**\u001b[0m\u001b[0mkwargs\u001b[0m\u001b[0;34m)\u001b[0m\u001b[0;34m\u001b[0m\u001b[0;34m\u001b[0m\u001b[0m\n\u001b[0m\u001b[1;32m    156\u001b[0m \u001b[0;34m\u001b[0m\u001b[0m\n\u001b[1;32m    157\u001b[0m     \u001b[0;32mdef\u001b[0m \u001b[0msave\u001b[0m\u001b[0;34m(\u001b[0m\u001b[0mself\u001b[0m\u001b[0;34m)\u001b[0m \u001b[0;34m->\u001b[0m \u001b[0;32mNone\u001b[0m\u001b[0;34m:\u001b[0m\u001b[0;34m\u001b[0m\u001b[0;34m\u001b[0m\u001b[0m\n",
      "\u001b[0;32m~/tensortrade-train/PositionChangeChart.py\u001b[0m in \u001b[0;36mrender\u001b[0;34m(self, env, **kwargs)\u001b[0m\n\u001b[1;32m     38\u001b[0m \u001b[0;34m\u001b[0m\u001b[0m\n\u001b[1;32m     39\u001b[0m         \u001b[0maxs\u001b[0m\u001b[0;34m[\u001b[0m\u001b[0;36m0\u001b[0m\u001b[0;34m]\u001b[0m\u001b[0;34m.\u001b[0m\u001b[0mplot\u001b[0m\u001b[0;34m(\u001b[0m\u001b[0mnp\u001b[0m\u001b[0;34m.\u001b[0m\u001b[0marange\u001b[0m\u001b[0;34m(\u001b[0m\u001b[0mlen\u001b[0m\u001b[0;34m(\u001b[0m\u001b[0mp\u001b[0m\u001b[0;34m)\u001b[0m\u001b[0;34m)\u001b[0m\u001b[0;34m,\u001b[0m \u001b[0mp\u001b[0m\u001b[0;34m,\u001b[0m \u001b[0mlabel\u001b[0m\u001b[0;34m=\u001b[0m\u001b[0;34m\"price\"\u001b[0m\u001b[0;34m,\u001b[0m \u001b[0mcolor\u001b[0m\u001b[0;34m=\u001b[0m\u001b[0mself\u001b[0m\u001b[0;34m.\u001b[0m\u001b[0mcolor\u001b[0m\u001b[0;34m)\u001b[0m\u001b[0;34m\u001b[0m\u001b[0;34m\u001b[0m\u001b[0m\n\u001b[0;32m---> 40\u001b[0;31m         \u001b[0maxs\u001b[0m\u001b[0;34m[\u001b[0m\u001b[0;36m0\u001b[0m\u001b[0;34m]\u001b[0m\u001b[0;34m.\u001b[0m\u001b[0mscatter\u001b[0m\u001b[0;34m(\u001b[0m\u001b[0mbuy\u001b[0m\u001b[0;34m.\u001b[0m\u001b[0mindex\u001b[0m\u001b[0;34m,\u001b[0m \u001b[0mbuy\u001b[0m\u001b[0;34m.\u001b[0m\u001b[0mvalues\u001b[0m\u001b[0;34m,\u001b[0m \u001b[0mmarker\u001b[0m\u001b[0;34m=\u001b[0m\u001b[0;34m\"^\"\u001b[0m\u001b[0;34m,\u001b[0m \u001b[0mcolor\u001b[0m\u001b[0;34m=\u001b[0m\u001b[0;34m\"green\"\u001b[0m\u001b[0;34m,\u001b[0m \u001b[0mlegend\u001b[0m\u001b[0;34m=\u001b[0m\u001b[0;32mTrue\u001b[0m\u001b[0;34m)\u001b[0m\u001b[0;34m\u001b[0m\u001b[0;34m\u001b[0m\u001b[0m\n\u001b[0m\u001b[1;32m     41\u001b[0m         \u001b[0maxs\u001b[0m\u001b[0;34m[\u001b[0m\u001b[0;36m0\u001b[0m\u001b[0;34m]\u001b[0m\u001b[0;34m.\u001b[0m\u001b[0mscatter\u001b[0m\u001b[0;34m(\u001b[0m\u001b[0msell\u001b[0m\u001b[0;34m.\u001b[0m\u001b[0mindex\u001b[0m\u001b[0;34m,\u001b[0m \u001b[0msell\u001b[0m\u001b[0;34m.\u001b[0m\u001b[0mvalues\u001b[0m\u001b[0;34m,\u001b[0m \u001b[0mmarker\u001b[0m\u001b[0;34m=\u001b[0m\u001b[0;34m\"^\"\u001b[0m\u001b[0;34m,\u001b[0m \u001b[0mcolor\u001b[0m\u001b[0;34m=\u001b[0m\u001b[0;34m\"red\"\u001b[0m\u001b[0;34m,\u001b[0m \u001b[0mlegend\u001b[0m\u001b[0;34m=\u001b[0m\u001b[0;32mTrue\u001b[0m\u001b[0;34m)\u001b[0m\u001b[0;34m\u001b[0m\u001b[0;34m\u001b[0m\u001b[0m\n\u001b[1;32m     42\u001b[0m         \u001b[0maxs\u001b[0m\u001b[0;34m[\u001b[0m\u001b[0;36m0\u001b[0m\u001b[0;34m]\u001b[0m\u001b[0;34m.\u001b[0m\u001b[0mset_title\u001b[0m\u001b[0;34m(\u001b[0m\u001b[0;34m\"Trading Chart\"\u001b[0m\u001b[0;34m)\u001b[0m\u001b[0;34m\u001b[0m\u001b[0;34m\u001b[0m\u001b[0m\n",
      "\u001b[0;32m~/tensortrade-train/venv/lib/python3.8/site-packages/matplotlib/__init__.py\u001b[0m in \u001b[0;36minner\u001b[0;34m(ax, data, *args, **kwargs)\u001b[0m\n\u001b[1;32m   1359\u001b[0m     \u001b[0;32mdef\u001b[0m \u001b[0minner\u001b[0m\u001b[0;34m(\u001b[0m\u001b[0max\u001b[0m\u001b[0;34m,\u001b[0m \u001b[0;34m*\u001b[0m\u001b[0margs\u001b[0m\u001b[0;34m,\u001b[0m \u001b[0mdata\u001b[0m\u001b[0;34m=\u001b[0m\u001b[0;32mNone\u001b[0m\u001b[0;34m,\u001b[0m \u001b[0;34m**\u001b[0m\u001b[0mkwargs\u001b[0m\u001b[0;34m)\u001b[0m\u001b[0;34m:\u001b[0m\u001b[0;34m\u001b[0m\u001b[0;34m\u001b[0m\u001b[0m\n\u001b[1;32m   1360\u001b[0m         \u001b[0;32mif\u001b[0m \u001b[0mdata\u001b[0m \u001b[0;32mis\u001b[0m \u001b[0;32mNone\u001b[0m\u001b[0;34m:\u001b[0m\u001b[0;34m\u001b[0m\u001b[0;34m\u001b[0m\u001b[0m\n\u001b[0;32m-> 1361\u001b[0;31m             \u001b[0;32mreturn\u001b[0m \u001b[0mfunc\u001b[0m\u001b[0;34m(\u001b[0m\u001b[0max\u001b[0m\u001b[0;34m,\u001b[0m \u001b[0;34m*\u001b[0m\u001b[0mmap\u001b[0m\u001b[0;34m(\u001b[0m\u001b[0msanitize_sequence\u001b[0m\u001b[0;34m,\u001b[0m \u001b[0margs\u001b[0m\u001b[0;34m)\u001b[0m\u001b[0;34m,\u001b[0m \u001b[0;34m**\u001b[0m\u001b[0mkwargs\u001b[0m\u001b[0;34m)\u001b[0m\u001b[0;34m\u001b[0m\u001b[0;34m\u001b[0m\u001b[0m\n\u001b[0m\u001b[1;32m   1362\u001b[0m \u001b[0;34m\u001b[0m\u001b[0m\n\u001b[1;32m   1363\u001b[0m         \u001b[0mbound\u001b[0m \u001b[0;34m=\u001b[0m \u001b[0mnew_sig\u001b[0m\u001b[0;34m.\u001b[0m\u001b[0mbind\u001b[0m\u001b[0;34m(\u001b[0m\u001b[0max\u001b[0m\u001b[0;34m,\u001b[0m \u001b[0;34m*\u001b[0m\u001b[0margs\u001b[0m\u001b[0;34m,\u001b[0m \u001b[0;34m**\u001b[0m\u001b[0mkwargs\u001b[0m\u001b[0;34m)\u001b[0m\u001b[0;34m\u001b[0m\u001b[0;34m\u001b[0m\u001b[0m\n",
      "\u001b[0;32m~/tensortrade-train/venv/lib/python3.8/site-packages/matplotlib/axes/_axes.py\u001b[0m in \u001b[0;36mscatter\u001b[0;34m(self, x, y, s, c, marker, cmap, norm, vmin, vmax, alpha, linewidths, edgecolors, plotnonfinite, **kwargs)\u001b[0m\n\u001b[1;32m   4595\u001b[0m                 )\n\u001b[1;32m   4596\u001b[0m         \u001b[0mcollection\u001b[0m\u001b[0;34m.\u001b[0m\u001b[0mset_transform\u001b[0m\u001b[0;34m(\u001b[0m\u001b[0mmtransforms\u001b[0m\u001b[0;34m.\u001b[0m\u001b[0mIdentityTransform\u001b[0m\u001b[0;34m(\u001b[0m\u001b[0;34m)\u001b[0m\u001b[0;34m)\u001b[0m\u001b[0;34m\u001b[0m\u001b[0;34m\u001b[0m\u001b[0m\n\u001b[0;32m-> 4597\u001b[0;31m         \u001b[0mcollection\u001b[0m\u001b[0;34m.\u001b[0m\u001b[0mupdate\u001b[0m\u001b[0;34m(\u001b[0m\u001b[0mkwargs\u001b[0m\u001b[0;34m)\u001b[0m\u001b[0;34m\u001b[0m\u001b[0;34m\u001b[0m\u001b[0m\n\u001b[0m\u001b[1;32m   4598\u001b[0m \u001b[0;34m\u001b[0m\u001b[0m\n\u001b[1;32m   4599\u001b[0m         \u001b[0;32mif\u001b[0m \u001b[0mcolors\u001b[0m \u001b[0;32mis\u001b[0m \u001b[0;32mNone\u001b[0m\u001b[0;34m:\u001b[0m\u001b[0;34m\u001b[0m\u001b[0;34m\u001b[0m\u001b[0m\n",
      "\u001b[0;32m~/tensortrade-train/venv/lib/python3.8/site-packages/matplotlib/artist.py\u001b[0m in \u001b[0;36mupdate\u001b[0;34m(self, props)\u001b[0m\n\u001b[1;32m   1060\u001b[0m                     \u001b[0mfunc\u001b[0m \u001b[0;34m=\u001b[0m \u001b[0mgetattr\u001b[0m\u001b[0;34m(\u001b[0m\u001b[0mself\u001b[0m\u001b[0;34m,\u001b[0m \u001b[0;34mf\"set_{k}\"\u001b[0m\u001b[0;34m,\u001b[0m \u001b[0;32mNone\u001b[0m\u001b[0;34m)\u001b[0m\u001b[0;34m\u001b[0m\u001b[0;34m\u001b[0m\u001b[0m\n\u001b[1;32m   1061\u001b[0m                     \u001b[0;32mif\u001b[0m \u001b[0;32mnot\u001b[0m \u001b[0mcallable\u001b[0m\u001b[0;34m(\u001b[0m\u001b[0mfunc\u001b[0m\u001b[0;34m)\u001b[0m\u001b[0;34m:\u001b[0m\u001b[0;34m\u001b[0m\u001b[0;34m\u001b[0m\u001b[0m\n\u001b[0;32m-> 1062\u001b[0;31m                         raise AttributeError(f\"{type(self).__name__!r} object \"\n\u001b[0m\u001b[1;32m   1063\u001b[0m                                              f\"has no property {k!r}\")\n\u001b[1;32m   1064\u001b[0m                     \u001b[0mret\u001b[0m\u001b[0;34m.\u001b[0m\u001b[0mappend\u001b[0m\u001b[0;34m(\u001b[0m\u001b[0mfunc\u001b[0m\u001b[0;34m(\u001b[0m\u001b[0mv\u001b[0m\u001b[0;34m)\u001b[0m\u001b[0;34m)\u001b[0m\u001b[0;34m\u001b[0m\u001b[0;34m\u001b[0m\u001b[0m\n",
      "\u001b[0;31mAttributeError\u001b[0m: 'PathCollection' object has no property 'legend'"
     ]
    },
    {
     "name": "stderr",
     "output_type": "stream",
     "text": [
      "\u001b[2m\u001b[36m(pid=21298)\u001b[0m WARNING:tensorflow:From /home/localadmin/tensortrade-train/venv/lib/python3.8/site-packages/tensorflow/python/compat/v2_compat.py:96: disable_resource_variables (from tensorflow.python.ops.variable_scope) is deprecated and will be removed in a future version.\n",
      "\u001b[2m\u001b[36m(pid=21298)\u001b[0m Instructions for updating:\n",
      "\u001b[2m\u001b[36m(pid=21298)\u001b[0m non-resource variables are not supported in the long term\n"
     ]
    },
    {
     "data": {
      "image/png": "[encoded data removed]",
      "text/plain": [
       "<Figure size 1080x360 with 2 Axes>"
      ]
     },
     "metadata": {
      "needs_background": "light"
     },
     "output_type": "display_data"
    }
   ],
   "source": [
    "# Instantiate the environment\n",
    "env = create_env({\n",
    "    \"window_size\": 25,\n",
    "    \"df\": df\n",
    "})\n",
    "\n",
    "# Run until episode ends\n",
    "episode_reward = 0\n",
    "done = False\n",
    "obs = env.reset()\n",
    "\n",
    "while not done:\n",
    "    action = agent.compute_action(obs)\n",
    "    obs, reward, done, info = env.step(action)\n",
    "    episode_reward += reward\n",
    "\n",
    "env.render()"
   ]
  },
  {
   "cell_type": "markdown",
   "metadata": {},
   "source": [
    "## Performance and Net Worth Plotting"
   ]
  },
  {
   "cell_type": "code",
   "execution_count": null,
   "metadata": {},
   "outputs": [],
   "source": [
    "def show_performance(df, price_history):\n",
    "    fig, axs = plt.subplots(1, 2, figsize=(15, 7))\n",
    "    fig.suptitle('Performance')\n",
    "\n",
    "    df.plot(ax=axs[0], grid=True, fontsize=12)\n",
    "    df.net_worth.plot(ax=axs[1], grid=True, legend=True)\n",
    "    price_history['close'].plot(ax=axs[1], secondary_y=True, legend=True)\n",
    "\n",
    "    plt.interactive(True)\n",
    "    plt.show(block=True)"
   ]
  },
  {
   "cell_type": "code",
   "execution_count": null,
   "metadata": {},
   "outputs": [],
   "source": [
    "performance = pd.DataFrame.from_dict(env.action_scheme.portfolio.performance, orient='index')\n",
    "performance.drop(['bitfinex:/USD-TTC'], axis=1, inplace=True)\n",
    "#show_performance(performance, price_history)"
   ]
  },
  {
   "cell_type": "code",
   "execution_count": null,
   "metadata": {},
   "outputs": [],
   "source": [
    "net_worth = performance.net_worth[len(performance.net_worth)-1]\n",
    "print(f\"Net worth = {net_worth} USD\")\n",
    "\n",
    "pnl = 100*(net_worth/initial_capital - 1)\n",
    "print(f\"PNL = {pnl} %\")"
   ]
  },
  {
   "cell_type": "code",
   "execution_count": null,
   "metadata": {},
   "outputs": [
    {
     "name": "stderr",
     "output_type": "stream",
     "text": [
      "\u001b[2m\u001b[36m(pid=21298)\u001b[0m 2021-07-16 11:59:12,163\tDEBUG rollout_worker.py:957 -- Creating policy for default_policy\n",
      "\u001b[2m\u001b[36m(pid=21298)\u001b[0m 2021-07-16 11:59:12,163\tDEBUG catalog.py:470 -- Created preprocessor <ray.rllib.models.preprocessors.NoPreprocessor object at 0x7febb7228730>: Box(-inf, inf, (25, 2), float32) -> (25, 2)\n",
      "\u001b[2m\u001b[36m(pid=21298)\u001b[0m 2021-07-16 11:59:12,168\tDEBUG rollout_worker.py:412 -- Creating policy evaluation worker 1 on CPU (please ignore any CUDA init errors)\n",
      "\u001b[2m\u001b[36m(pid=21298)\u001b[0m 2021-07-16 11:59:12,169\tDEBUG rollout_worker.py:538 -- Created rollout worker with env <ray.rllib.env.base_env._VectorEnvToBaseEnv object at 0x7febb71e4550> (<TradingEnv instance>), policies {'default_policy': <ray.rllib.policy.torch_policy_template.PPOTorchPolicy object at 0x7febb71e4580>}\n",
      "\u001b[2m\u001b[36m(pid=21298)\u001b[0m /home/localadmin/tensortrade-train/venv/lib/python3.8/site-packages/ray/rllib/utils/torch_ops.py:149: UserWarning: The given NumPy array is not writeable, and PyTorch does not support non-writeable tensors. This means you can write to the underlying (supposedly non-writeable) NumPy array using the tensor. You may want to copy the array to protect its data or make it writeable before converting it to a tensor. This type of warning will be suppressed for the rest of this program. (Triggered internally at  /pytorch/torch/csrc/utils/tensor_numpy.cpp:141.)\n",
      "\u001b[2m\u001b[36m(pid=21298)\u001b[0m   tensor = torch.from_numpy(np.asarray(item))\n"
     ]
    }
   ],
   "source": [
    "#env.action_scheme.portfolio.performance"
   ]
  },
  {
   "cell_type": "code",
   "execution_count": null,
   "metadata": {},
   "outputs": [],
   "source": []
  }
 ],
 "metadata": {
  "kernelspec": {
   "display_name": "Python 3 (ipykernel)",
   "language": "python",
   "name": "python3"
  },
  "language_info": {
   "codemirror_mode": {
    "name": "ipython",
    "version": 3
   },
   "file_extension": ".py",
   "mimetype": "text/x-python",
   "name": "python",
   "nbconvert_exporter": "python",
   "pygments_lexer": "ipython3",
   "version": "3.8.10"
  }
 },
 "nbformat": 4,
 "nbformat_minor": 4
}
